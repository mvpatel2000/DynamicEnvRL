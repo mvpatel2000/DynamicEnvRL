{
 "cells": [
  {
   "cell_type": "code",
   "execution_count": 1,
   "metadata": {},
   "outputs": [
    {
     "name": "stderr",
     "output_type": "stream",
     "text": [
      "WARNING (theano.configdefaults): install mkl with `conda install mkl-service`: No module named 'mkl'\n"
     ]
    }
   ],
   "source": [
    "from rllab.algos.trpo import TRPO\n",
    "from rllab.baselines.linear_feature_baseline import LinearFeatureBaseline\n",
    "from rllab.envs.gym_env import GymEnv\n",
    "from rllab.envs.normalized_env import normalize\n",
    "from rllab.policies.gaussian_mlp_policy import GaussianMLPPolicy\n",
    "from rllab.policies.constant_control_policy import ConstantControlPolicy\n",
    "import rllab.misc.logger as logger\n",
    "from rllab.sampler import parallel_sampler\n",
    "import matplotlib.pyplot as plt\n",
    "import numpy as np\n",
    "from test import test_const_adv, test_rand_adv, test_learnt_adv, test_rand_step_adv, test_step_adv\n",
    "import pickle\n",
    "import argparse\n",
    "import os\n",
    "import gym\n",
    "import random"
   ]
  },
  {
   "cell_type": "markdown",
   "metadata": {},
   "source": [
    "### Default Parameters"
   ]
  },
  {
   "cell_type": "code",
   "execution_count": 2,
   "metadata": {
    "collapsed": true
   },
   "outputs": [],
   "source": [
    "env_name = None                     #Name of adversarial environment\n",
    "path_length = 1000                  #Maximum episode length\n",
    "layer_size = tuple([100,100,100])   #Layer definition\n",
    "ifRender = False                    #Should we render?\n",
    "afterRender = 100                   #After how many to animate\n",
    "n_exps = 1                          #Number of training instances to run\n",
    "n_itr = 25                          #Number of iterations of the alternating optimization\n",
    "n_pro_itr = 1                       #Number of iterations for the protaginist\n",
    "n_adv_itr = 1                       #Number of interations for the adversary\n",
    "batch_size = 4000                   #Number of training samples for each iteration\n",
    "save_every = 100                    #Save checkpoint every save_every iterations\n",
    "n_process = 1                       #Number of parallel threads for sampling environment\n",
    "adv_fraction = 0.25                 #Fraction of maximum adversarial force to be applied\n",
    "step_size = 0.01                    #kl step size for TRPO\n",
    "gae_lambda = 0.97                   #gae_lambda for learner\n",
    "save_dir = './results'              #folder to save result in"
   ]
  },
  {
   "cell_type": "markdown",
   "metadata": {},
   "source": [
    "### Variables for Experiment"
   ]
  },
  {
   "cell_type": "code",
   "execution_count": 7,
   "metadata": {},
   "outputs": [],
   "source": [
    "env_name = 'Walker2dAdv-v1'\n",
    "\n",
    "layer_size = tuple([64,64])\n",
    "step_size = 0.01\n",
    "gae_lambda = 0.97\n",
    "batch_size = 25000\n",
    "\n",
    "n_itr = 500\n",
    "save_every = 20\n",
    "n_process = 4\n",
    "\n",
    "save_dir = '../initial_results/Walker' "
   ]
  },
  {
   "cell_type": "code",
   "execution_count": 8,
   "metadata": {
    "collapsed": true
   },
   "outputs": [],
   "source": [
    "args = [env_name, path_length, layer_size, ifRender, afterRender, n_exps, n_itr, n_pro_itr, n_adv_itr, \n",
    "        batch_size, save_every, n_process, adv_fraction, step_size, gae_lambda, save_dir]"
   ]
  },
  {
   "cell_type": "markdown",
   "metadata": {},
   "source": [
    "### Train Loop"
   ]
  },
  {
   "cell_type": "code",
   "execution_count": 9,
   "metadata": {},
   "outputs": [
    {
     "name": "stdout",
     "output_type": "stream",
     "text": [
      "2018-03-19 10:27:37.642535 EDT | Warning: skipping Gym environment monitoring since snapshot_dir not configured.\n"
     ]
    },
    {
     "name": "stderr",
     "output_type": "stream",
     "text": [
      "[2018-03-19 10:27:37,644] Making new env: Walker2dAdv-v1\n"
     ]
    },
    {
     "name": "stdout",
     "output_type": "stream",
     "text": [
      "2018-03-19 10:27:37.652000 EDT | Warning: skipping Gym environment monitoring since snapshot_dir not configured.\n"
     ]
    },
    {
     "name": "stderr",
     "output_type": "stream",
     "text": [
      "[2018-03-19 10:27:37,653] Making new env: Walker2dAdv-v1\n"
     ]
    },
    {
     "name": "stdout",
     "output_type": "stream",
     "text": [
      "Warning: terminating existing pool\n",
      "2018-03-19 10:27:38.343204 EDT | Populating workers...\n",
      "2018-03-19 10:27:38.357357 EDT | Warning: skipping Gym environment monitoring since snapshot_dir not configured.\n",
      "2018-03-19 10:27:38.357564 EDT | Warning: skipping Gym environment monitoring since snapshot_dir not configured.\n",
      "2018-03-19 10:27:38.357488 EDT | Warning: skipping Gym environment monitoring since snapshot_dir not configured.\n",
      "2018-03-19 10:27:38.357564 EDT | Warning: skipping Gym environment monitoring since snapshot_dir not configured.\n"
     ]
    },
    {
     "name": "stderr",
     "output_type": "stream",
     "text": [
      "[2018-03-19 10:27:38,361] Making new env: Walker2dAdv-v1\n",
      "[2018-03-19 10:27:38,362] Making new env: Walker2dAdv-v1\n",
      "[2018-03-19 10:27:38,362] Making new env: Walker2dAdv-v1\n",
      "[2018-03-19 10:27:38,363] Making new env: Walker2dAdv-v1\n"
     ]
    },
    {
     "name": "stdout",
     "output_type": "stream",
     "text": [
      "2018-03-19 10:27:39.375991 EDT | Populated\n",
      "2018-03-19 10:27:39.712268 EDT | Populating workers...\n",
      "2018-03-19 10:27:39.715066 EDT | Warning: skipping Gym environment monitoring since snapshot_dir not configured.\n",
      "2018-03-19 10:27:39.715020 EDT | Warning: skipping Gym environment monitoring since snapshot_dir not configured.\n",
      "2018-03-19 10:27:39.715020 EDT | Warning: skipping Gym environment monitoring since snapshot_dir not configured.\n",
      "2018-03-19 10:27:39.715093 EDT | Warning: skipping Gym environment monitoring since snapshot_dir not configured.\n"
     ]
    },
    {
     "name": "stderr",
     "output_type": "stream",
     "text": [
      "[2018-03-19 10:27:39,716] Making new env: Walker2dAdv-v1\n",
      "[2018-03-19 10:27:39,716] Making new env: Walker2dAdv-v1\n",
      "[2018-03-19 10:27:39,716] Making new env: Walker2dAdv-v1\n",
      "[2018-03-19 10:27:39,717] Making new env: Walker2dAdv-v1\n"
     ]
    },
    {
     "name": "stdout",
     "output_type": "stream",
     "text": [
      "2018-03-19 10:27:40.179530 EDT | Populated\n",
      "2018-03-19 10:27:40.595954 EDT | \n",
      "\n",
      "Experiment: 0 Iteration: 0\n",
      "\n",
      "2018-03-19 10:27:40.596816 EDT | itr #0 | \n"
     ]
    },
    {
     "name": "stderr",
     "output_type": "stream",
     "text": [
      "0% [##############################] 100% | ETA: 00:00:00\n",
      "Total time elapsed: 00:00:06\n"
     ]
    },
    {
     "name": "stdout",
     "output_type": "stream",
     "text": [
      "2018-03-19 10:27:47.286915 EDT | fitting baseline...\n",
      "2018-03-19 10:27:47.370004 EDT | fitted\n",
      "\u001b[35m=: Compiling function f_loss\u001b[0m\n",
      "\u001b[35mdone in 0.260 seconds\u001b[0m\n",
      "\u001b[35m=: Compiling function constraint\u001b[0m\n",
      "\u001b[35mdone in 0.173 seconds\u001b[0m\n",
      "2018-03-19 10:27:48.102465 EDT | computing loss before\n",
      "2018-03-19 10:27:48.263972 EDT | performing update\n",
      "2018-03-19 10:27:48.266724 EDT | computing descent direction\n",
      "\u001b[35m=: Compiling function f_grad\u001b[0m\n",
      "\u001b[35mdone in 0.502 seconds\u001b[0m\n",
      "\u001b[35m=: Compiling function f_Hx_plain\u001b[0m\n",
      "\u001b[35mdone in 1.092 seconds\u001b[0m\n",
      "2018-03-19 10:27:53.475715 EDT | descent direction computed\n",
      "\u001b[35m=: Compiling function f_loss_constraint\u001b[0m\n",
      "\u001b[35mdone in 0.350 seconds\u001b[0m\n",
      "2018-03-19 10:27:54.128874 EDT | backtrack iters: 1\n",
      "2018-03-19 10:27:54.129951 EDT | computing loss after\n",
      "2018-03-19 10:27:54.130880 EDT | optimization finished\n",
      "2018-03-19 10:27:54.502834 EDT | Protag Reward: -2.4365215430533387\n",
      "2018-03-19 10:27:54.504173 EDT | itr #0 | \n"
     ]
    },
    {
     "name": "stderr",
     "output_type": "stream",
     "text": [
      "0% [##############################] 100% | ETA: 00:00:00\n",
      "Total time elapsed: 00:00:11\n"
     ]
    },
    {
     "name": "stdout",
     "output_type": "stream",
     "text": [
      "2018-03-19 10:28:07.192048 EDT | fitting baseline...\n",
      "2018-03-19 10:28:07.260612 EDT | fitted\n",
      "\u001b[35m=: Compiling function f_loss\u001b[0m\n",
      "\u001b[35mdone in 0.457 seconds\u001b[0m\n",
      "\u001b[35m=: Compiling function constraint\u001b[0m\n",
      "\u001b[35mdone in 0.143 seconds\u001b[0m\n",
      "2018-03-19 10:28:08.125977 EDT | computing loss before\n",
      "2018-03-19 10:28:08.286773 EDT | performing update\n",
      "2018-03-19 10:28:08.289523 EDT | computing descent direction\n",
      "\u001b[35m=: Compiling function f_grad\u001b[0m\n",
      "\u001b[35mdone in 0.432 seconds\u001b[0m\n",
      "\u001b[35m=: Compiling function f_Hx_plain\u001b[0m\n",
      "\u001b[35mdone in 1.340 seconds\u001b[0m\n",
      "2018-03-19 10:28:13.190407 EDT | descent direction computed\n",
      "\u001b[35m=: Compiling function f_loss_constraint\u001b[0m\n",
      "\u001b[35mdone in 0.250 seconds\u001b[0m\n",
      "2018-03-19 10:28:13.752469 EDT | backtrack iters: 1\n",
      "2018-03-19 10:28:13.755044 EDT | computing loss after\n",
      "2018-03-19 10:28:13.757492 EDT | optimization finished\n",
      "2018-03-19 10:28:14.071482 EDT | Advers Reward: 1.2625427121465609\n",
      "2018-03-19 10:28:14.266999 EDT | \n",
      "\n",
      "Experiment: 0 Iteration: 1\n",
      "\n",
      "2018-03-19 10:28:14.268308 EDT | itr #0 | \n"
     ]
    },
    {
     "name": "stderr",
     "output_type": "stream",
     "text": [
      "0% [##############################] 100% | ETA: 00:00:00\n",
      "Total time elapsed: 00:00:08\n"
     ]
    },
    {
     "name": "stdout",
     "output_type": "stream",
     "text": [
      "2018-03-19 10:28:23.127267 EDT | fitting baseline...\n",
      "2018-03-19 10:28:23.228136 EDT | fitted\n",
      "2018-03-19 10:28:23.579297 EDT | computing loss before\n",
      "2018-03-19 10:28:23.739790 EDT | performing update\n",
      "2018-03-19 10:28:23.742580 EDT | computing descent direction\n",
      "2018-03-19 10:28:28.009445 EDT | descent direction computed\n",
      "2018-03-19 10:28:28.315686 EDT | backtrack iters: 1\n",
      "2018-03-19 10:28:28.318575 EDT | computing loss after\n",
      "2018-03-19 10:28:28.320997 EDT | optimization finished\n",
      "2018-03-19 10:28:28.729703 EDT | Protag Reward: -1.3936188268432645\n",
      "2018-03-19 10:28:28.730892 EDT | itr #0 | \n"
     ]
    },
    {
     "name": "stderr",
     "output_type": "stream",
     "text": [
      "0% [##############################] 100% | ETA: 00:00:00\n",
      "Total time elapsed: 00:00:05\n"
     ]
    },
    {
     "name": "stdout",
     "output_type": "stream",
     "text": [
      "2018-03-19 10:28:34.930301 EDT | fitting baseline...\n",
      "2018-03-19 10:28:34.988418 EDT | fitted\n",
      "2018-03-19 10:28:35.301040 EDT | computing loss before\n",
      "2018-03-19 10:28:35.451237 EDT | performing update\n",
      "2018-03-19 10:28:35.452327 EDT | computing descent direction\n",
      "2018-03-19 10:28:38.360833 EDT | descent direction computed\n",
      "2018-03-19 10:28:38.511173 EDT | backtrack iters: 0\n",
      "2018-03-19 10:28:38.513950 EDT | computing loss after\n",
      "2018-03-19 10:28:38.516298 EDT | optimization finished\n",
      "2018-03-19 10:28:38.829633 EDT | Advers Reward: 0.28798893694057914\n",
      "2018-03-19 10:28:39.071531 EDT | \n",
      "\n",
      "Experiment: 0 Iteration: 2\n",
      "\n",
      "2018-03-19 10:28:39.072471 EDT | itr #0 | \n"
     ]
    },
    {
     "name": "stderr",
     "output_type": "stream",
     "text": [
      "0% [##############################] 100% | ETA: 00:00:00\n",
      "Total time elapsed: 00:00:07\n"
     ]
    },
    {
     "name": "stdout",
     "output_type": "stream",
     "text": [
      "2018-03-19 10:28:46.864571 EDT | fitting baseline...\n",
      "2018-03-19 10:28:46.928552 EDT | fitted\n",
      "2018-03-19 10:28:47.306857 EDT | computing loss before\n",
      "2018-03-19 10:28:47.480517 EDT | performing update\n",
      "2018-03-19 10:28:47.487625 EDT | computing descent direction\n",
      "2018-03-19 10:28:51.139409 EDT | descent direction computed\n",
      "2018-03-19 10:28:51.448037 EDT | backtrack iters: 1\n",
      "2018-03-19 10:28:51.449173 EDT | computing loss after\n",
      "2018-03-19 10:28:51.450060 EDT | optimization finished\n",
      "2018-03-19 10:28:51.777660 EDT | Protag Reward: -0.452188004953225\n",
      "2018-03-19 10:28:51.779062 EDT | itr #0 | \n"
     ]
    },
    {
     "name": "stderr",
     "output_type": "stream",
     "text": [
      "0% [##############################] 100% | ETA: 00:00:00\n",
      "Total time elapsed: 00:00:05\n"
     ]
    },
    {
     "name": "stdout",
     "output_type": "stream",
     "text": [
      "2018-03-19 10:28:57.426418 EDT | fitting baseline...\n",
      "2018-03-19 10:28:57.476910 EDT | fitted\n",
      "2018-03-19 10:28:57.789751 EDT | computing loss before\n",
      "2018-03-19 10:28:57.933189 EDT | performing update\n",
      "2018-03-19 10:28:57.936037 EDT | computing descent direction\n",
      "2018-03-19 10:29:00.962504 EDT | descent direction computed\n",
      "2018-03-19 10:29:01.111446 EDT | backtrack iters: 0\n",
      "2018-03-19 10:29:01.114307 EDT | computing loss after\n",
      "2018-03-19 10:29:01.116742 EDT | optimization finished\n",
      "2018-03-19 10:29:01.426310 EDT | Advers Reward: -0.6572540750342172\n",
      "2018-03-19 10:29:01.630383 EDT | \n",
      "\n",
      "Experiment: 0 Iteration: 3\n",
      "\n",
      "2018-03-19 10:29:01.631890 EDT | itr #0 | \n"
     ]
    },
    {
     "name": "stderr",
     "output_type": "stream",
     "text": [
      "0% [##############################] 100% | ETA: 00:00:00\n",
      "Total time elapsed: 00:00:04\n"
     ]
    },
    {
     "name": "stdout",
     "output_type": "stream",
     "text": [
      "2018-03-19 10:29:06.812064 EDT | fitting baseline...\n",
      "2018-03-19 10:29:06.864244 EDT | fitted\n",
      "2018-03-19 10:29:07.189387 EDT | computing loss before\n",
      "2018-03-19 10:29:07.344360 EDT | performing update\n",
      "2018-03-19 10:29:07.347200 EDT | computing descent direction\n",
      "2018-03-19 10:29:10.420156 EDT | descent direction computed\n",
      "2018-03-19 10:29:10.725629 EDT | backtrack iters: 1\n",
      "2018-03-19 10:29:10.726794 EDT | computing loss after\n",
      "2018-03-19 10:29:10.727882 EDT | optimization finished\n",
      "2018-03-19 10:29:11.064041 EDT | Protag Reward: 0.865463657280502\n",
      "2018-03-19 10:29:11.067185 EDT | itr #0 | \n"
     ]
    },
    {
     "name": "stderr",
     "output_type": "stream",
     "text": [
      "0% [##############################] 100% | ETA: 00:00:00\n",
      "Total time elapsed: 00:00:04\n"
     ]
    },
    {
     "name": "stdout",
     "output_type": "stream",
     "text": [
      "2018-03-19 10:29:16.172039 EDT | fitting baseline...\n",
      "2018-03-19 10:29:16.219601 EDT | fitted\n",
      "2018-03-19 10:29:16.541332 EDT | computing loss before\n",
      "2018-03-19 10:29:16.687965 EDT | performing update\n",
      "2018-03-19 10:29:16.690804 EDT | computing descent direction\n",
      "2018-03-19 10:29:20.159843 EDT | descent direction computed\n",
      "2018-03-19 10:29:20.360012 EDT | backtrack iters: 0\n",
      "2018-03-19 10:29:20.373016 EDT | computing loss after\n",
      "2018-03-19 10:29:20.380578 EDT | optimization finished\n",
      "2018-03-19 10:29:20.842768 EDT | Advers Reward: -2.1307656715491827\n",
      "2018-03-19 10:29:21.870868 EDT | \n",
      "\n",
      "Experiment: 0 Iteration: 4\n",
      "\n",
      "2018-03-19 10:29:21.874625 EDT | itr #0 | \n"
     ]
    },
    {
     "name": "stderr",
     "output_type": "stream",
     "text": [
      "0% [##############################] 100% | ETA: 00:00:00\n",
      "Total time elapsed: 00:00:07\n"
     ]
    },
    {
     "name": "stdout",
     "output_type": "stream",
     "text": [
      "2018-03-19 10:29:30.200894 EDT | fitting baseline...\n",
      "2018-03-19 10:29:30.252653 EDT | fitted\n",
      "2018-03-19 10:29:30.589585 EDT | computing loss before\n",
      "2018-03-19 10:29:30.743755 EDT | performing update\n",
      "2018-03-19 10:29:30.747531 EDT | computing descent direction\n",
      "2018-03-19 10:29:34.767154 EDT | descent direction computed\n",
      "2018-03-19 10:29:35.136197 EDT | backtrack iters: 1\n",
      "2018-03-19 10:29:35.137343 EDT | computing loss after\n",
      "2018-03-19 10:29:35.138364 EDT | optimization finished\n",
      "2018-03-19 10:29:35.476005 EDT | Protag Reward: 2.0960412668206048\n",
      "2018-03-19 10:29:35.477670 EDT | itr #0 | \n"
     ]
    },
    {
     "name": "stderr",
     "output_type": "stream",
     "text": [
      "0% [##############################] 100% | ETA: 00:00:00\n",
      "Total time elapsed: 00:00:05\n"
     ]
    },
    {
     "name": "stdout",
     "output_type": "stream",
     "text": [
      "2018-03-19 10:29:41.751392 EDT | fitting baseline...\n",
      "2018-03-19 10:29:41.838283 EDT | fitted\n",
      "2018-03-19 10:29:42.241110 EDT | computing loss before\n",
      "2018-03-19 10:29:42.419635 EDT | performing update\n",
      "2018-03-19 10:29:42.424010 EDT | computing descent direction\n",
      "2018-03-19 10:29:47.676164 EDT | descent direction computed\n",
      "2018-03-19 10:29:48.154497 EDT | backtrack iters: 1\n",
      "2018-03-19 10:29:48.156862 EDT | computing loss after\n",
      "2018-03-19 10:29:48.160850 EDT | optimization finished\n",
      "2018-03-19 10:29:48.620994 EDT | Advers Reward: -3.810266205334294\n",
      "2018-03-19 10:29:49.576242 EDT | \n",
      "\n",
      "Experiment: 0 Iteration: 5\n",
      "\n",
      "2018-03-19 10:29:49.577618 EDT | itr #0 | \n"
     ]
    },
    {
     "name": "stderr",
     "output_type": "stream",
     "text": [
      "0% [##############################] 100% | ETA: 00:00:00\n",
      "Total time elapsed: 00:00:07\n"
     ]
    },
    {
     "name": "stdout",
     "output_type": "stream",
     "text": [
      "2018-03-19 10:29:57.178056 EDT | fitting baseline...\n",
      "2018-03-19 10:29:57.245012 EDT | fitted\n",
      "2018-03-19 10:29:57.603029 EDT | computing loss before\n",
      "2018-03-19 10:29:57.760365 EDT | performing update\n",
      "2018-03-19 10:29:57.763480 EDT | computing descent direction\n",
      "2018-03-19 10:30:01.737453 EDT | descent direction computed\n",
      "2018-03-19 10:30:02.142935 EDT | backtrack iters: 1\n",
      "2018-03-19 10:30:02.144054 EDT | computing loss after\n",
      "2018-03-19 10:30:02.145101 EDT | optimization finished\n",
      "2018-03-19 10:30:02.492798 EDT | Protag Reward: 4.304667464020846\n",
      "2018-03-19 10:30:02.494424 EDT | itr #0 | \n"
     ]
    },
    {
     "name": "stderr",
     "output_type": "stream",
     "text": [
      "0% [##############################] 100% | ETA: 00:00:00\n",
      "Total time elapsed: 00:00:06\n"
     ]
    },
    {
     "name": "stdout",
     "output_type": "stream",
     "text": [
      "2018-03-19 10:30:09.445960 EDT | fitting baseline...\n",
      "2018-03-19 10:30:09.498536 EDT | fitted\n",
      "2018-03-19 10:30:09.879553 EDT | computing loss before\n",
      "2018-03-19 10:30:10.050420 EDT | performing update\n",
      "2018-03-19 10:30:10.054192 EDT | computing descent direction\n",
      "2018-03-19 10:30:13.478787 EDT | descent direction computed\n",
      "2018-03-19 10:30:13.856573 EDT | backtrack iters: 1\n",
      "2018-03-19 10:30:13.857768 EDT | computing loss after\n",
      "2018-03-19 10:30:13.858739 EDT | optimization finished\n",
      "2018-03-19 10:30:14.306128 EDT | Advers Reward: -6.075095194603047\n",
      "2018-03-19 10:30:14.975906 EDT | \n",
      "\n",
      "Experiment: 0 Iteration: 6\n",
      "\n",
      "2018-03-19 10:30:14.976957 EDT | itr #0 | \n"
     ]
    },
    {
     "name": "stderr",
     "output_type": "stream",
     "text": [
      "0% [##############################] 100% | ETA: 00:00:00\n",
      "Total time elapsed: 00:00:07\n"
     ]
    },
    {
     "name": "stdout",
     "output_type": "stream",
     "text": [
      "2018-03-19 10:30:22.748154 EDT | fitting baseline...\n",
      "2018-03-19 10:30:22.800718 EDT | fitted\n",
      "2018-03-19 10:30:23.160157 EDT | computing loss before\n",
      "2018-03-19 10:30:23.327864 EDT | performing update\n",
      "2018-03-19 10:30:23.330855 EDT | computing descent direction\n",
      "2018-03-19 10:30:28.056010 EDT | descent direction computed\n",
      "2018-03-19 10:30:28.421405 EDT | backtrack iters: 1\n",
      "2018-03-19 10:30:28.425067 EDT | computing loss after\n",
      "2018-03-19 10:30:28.434014 EDT | optimization finished\n",
      "2018-03-19 10:30:28.876466 EDT | Protag Reward: 5.91934574612893\n",
      "2018-03-19 10:30:28.877879 EDT | itr #0 | \n"
     ]
    },
    {
     "name": "stderr",
     "output_type": "stream",
     "text": [
      "0% [##############################] 100% | ETA: 00:00:00\n",
      "Total time elapsed: 00:00:08\n"
     ]
    },
    {
     "name": "stdout",
     "output_type": "stream",
     "text": [
      "2018-03-19 10:30:37.412425 EDT | fitting baseline...\n",
      "2018-03-19 10:30:37.481263 EDT | fitted\n",
      "2018-03-19 10:30:37.818443 EDT | computing loss before\n",
      "2018-03-19 10:30:37.982729 EDT | performing update\n",
      "2018-03-19 10:30:37.985716 EDT | computing descent direction\n",
      "2018-03-19 10:30:42.671664 EDT | descent direction computed\n",
      "2018-03-19 10:30:42.869361 EDT | backtrack iters: 0\n",
      "2018-03-19 10:30:42.873889 EDT | computing loss after\n",
      "2018-03-19 10:30:42.882000 EDT | optimization finished\n",
      "2018-03-19 10:30:43.327158 EDT | Advers Reward: -8.633784837475666\n",
      "2018-03-19 10:30:44.169535 EDT | \n",
      "\n",
      "Experiment: 0 Iteration: 7\n",
      "\n",
      "2018-03-19 10:30:44.170615 EDT | itr #0 | \n"
     ]
    },
    {
     "name": "stderr",
     "output_type": "stream",
     "text": [
      "0% [##############################] 100% | ETA: 00:00:00\n",
      "Total time elapsed: 00:00:05\n"
     ]
    },
    {
     "name": "stdout",
     "output_type": "stream",
     "text": [
      "2018-03-19 10:30:49.765252 EDT | fitting baseline...\n",
      "2018-03-19 10:30:49.821349 EDT | fitted\n",
      "2018-03-19 10:30:50.207613 EDT | computing loss before\n",
      "2018-03-19 10:30:50.370520 EDT | performing update\n",
      "2018-03-19 10:30:50.373458 EDT | computing descent direction\n",
      "2018-03-19 10:30:53.942777 EDT | descent direction computed\n",
      "2018-03-19 10:30:54.266241 EDT | backtrack iters: 1\n",
      "2018-03-19 10:30:54.270062 EDT | computing loss after\n",
      "2018-03-19 10:30:54.273268 EDT | optimization finished\n",
      "2018-03-19 10:30:54.611966 EDT | Protag Reward: 8.498533761799465\n",
      "2018-03-19 10:30:54.613784 EDT | itr #0 | \n"
     ]
    },
    {
     "name": "stderr",
     "output_type": "stream",
     "text": [
      "0% [##############################] 100% | ETA: 00:00:00\n",
      "Total time elapsed: 00:00:08\n"
     ]
    },
    {
     "name": "stdout",
     "output_type": "stream",
     "text": [
      "2018-03-19 10:31:03.712693 EDT | fitting baseline...\n",
      "2018-03-19 10:31:03.769799 EDT | fitted\n",
      "2018-03-19 10:31:04.087704 EDT | computing loss before\n",
      "2018-03-19 10:31:04.242660 EDT | performing update\n",
      "2018-03-19 10:31:04.245502 EDT | computing descent direction\n",
      "2018-03-19 10:31:08.109118 EDT | descent direction computed\n",
      "2018-03-19 10:31:08.302371 EDT | backtrack iters: 0\n",
      "2018-03-19 10:31:08.307900 EDT | computing loss after\n",
      "2018-03-19 10:31:08.313901 EDT | optimization finished\n",
      "2018-03-19 10:31:08.641329 EDT | Advers Reward: -10.532934992276369\n",
      "2018-03-19 10:31:09.769976 EDT | \n",
      "\n",
      "Experiment: 0 Iteration: 8\n",
      "\n",
      "2018-03-19 10:31:09.770903 EDT | itr #0 | \n"
     ]
    },
    {
     "name": "stderr",
     "output_type": "stream",
     "text": [
      "0% [##############################] 100% | ETA: 00:00:00\n",
      "Total time elapsed: 00:00:06\n"
     ]
    },
    {
     "name": "stdout",
     "output_type": "stream",
     "text": [
      "2018-03-19 10:31:16.520058 EDT | fitting baseline...\n",
      "2018-03-19 10:31:16.561288 EDT | fitted\n",
      "2018-03-19 10:31:16.915784 EDT | computing loss before\n",
      "2018-03-19 10:31:17.070106 EDT | performing update\n",
      "2018-03-19 10:31:17.073778 EDT | computing descent direction\n",
      "2018-03-19 10:31:24.005693 EDT | descent direction computed\n",
      "2018-03-19 10:31:24.355906 EDT | backtrack iters: 1\n",
      "2018-03-19 10:31:24.357104 EDT | computing loss after\n",
      "2018-03-19 10:31:24.362925 EDT | optimization finished\n",
      "2018-03-19 10:31:24.713395 EDT | Protag Reward: 10.892381312418808\n",
      "2018-03-19 10:31:24.716774 EDT | itr #0 | \n"
     ]
    },
    {
     "name": "stderr",
     "output_type": "stream",
     "text": [
      "0% [##############################] 100% | ETA: 00:00:00\n",
      "Total time elapsed: 00:00:10\n"
     ]
    },
    {
     "name": "stdout",
     "output_type": "stream",
     "text": [
      "2018-03-19 10:31:35.443681 EDT | fitting baseline...\n",
      "2018-03-19 10:31:35.485883 EDT | fitted\n",
      "2018-03-19 10:31:35.844198 EDT | computing loss before\n",
      "2018-03-19 10:31:36.007212 EDT | performing update\n",
      "2018-03-19 10:31:36.009443 EDT | computing descent direction\n",
      "2018-03-19 10:31:40.040492 EDT | descent direction computed\n",
      "2018-03-19 10:31:40.195766 EDT | backtrack iters: 0\n",
      "2018-03-19 10:31:40.198583 EDT | computing loss after\n",
      "2018-03-19 10:31:40.202243 EDT | optimization finished\n",
      "2018-03-19 10:31:40.521997 EDT | Advers Reward: -14.264040209929652\n",
      "2018-03-19 10:31:41.823927 EDT | \n",
      "\n",
      "Experiment: 0 Iteration: 9\n",
      "\n",
      "2018-03-19 10:31:41.824779 EDT | itr #0 | \n"
     ]
    },
    {
     "name": "stderr",
     "output_type": "stream",
     "text": [
      "0% [##############################] 100% | ETA: 00:00:00\n",
      "Total time elapsed: 00:00:06\n"
     ]
    },
    {
     "name": "stdout",
     "output_type": "stream",
     "text": [
      "2018-03-19 10:31:48.097218 EDT | fitting baseline...\n",
      "2018-03-19 10:31:48.133541 EDT | fitted\n",
      "2018-03-19 10:31:48.473292 EDT | computing loss before\n",
      "2018-03-19 10:31:48.628300 EDT | performing update\n",
      "2018-03-19 10:31:48.631364 EDT | computing descent direction\n",
      "2018-03-19 10:31:53.545089 EDT | descent direction computed\n",
      "2018-03-19 10:31:53.857418 EDT | backtrack iters: 1\n",
      "2018-03-19 10:31:53.861162 EDT | computing loss after\n",
      "2018-03-19 10:31:53.864198 EDT | optimization finished\n",
      "2018-03-19 10:31:54.195906 EDT | Protag Reward: 13.340419691839971\n",
      "2018-03-19 10:31:54.199514 EDT | itr #0 | \n"
     ]
    },
    {
     "name": "stderr",
     "output_type": "stream",
     "text": [
      "0% [##############################] 100% | ETA: 00:00:00\n",
      "Total time elapsed: 00:00:05\n"
     ]
    },
    {
     "name": "stdout",
     "output_type": "stream",
     "text": [
      "2018-03-19 10:32:00.360508 EDT | fitting baseline...\n",
      "2018-03-19 10:32:00.392119 EDT | fitted\n",
      "2018-03-19 10:32:00.706138 EDT | computing loss before\n",
      "2018-03-19 10:32:00.854421 EDT | performing update\n",
      "2018-03-19 10:32:00.857319 EDT | computing descent direction\n",
      "2018-03-19 10:32:05.171752 EDT | descent direction computed\n",
      "2018-03-19 10:32:05.468104 EDT | backtrack iters: 1\n",
      "2018-03-19 10:32:05.469249 EDT | computing loss after\n",
      "2018-03-19 10:32:05.470334 EDT | optimization finished\n",
      "2018-03-19 10:32:05.772828 EDT | Advers Reward: -19.199390497029643\n",
      "2018-03-19 10:32:08.320863 EDT | \n",
      "\n",
      "Experiment: 0 Iteration: 10\n",
      "\n",
      "2018-03-19 10:32:08.321896 EDT | itr #0 | \n"
     ]
    },
    {
     "name": "stderr",
     "output_type": "stream",
     "text": [
      "0% [##############################] 100% | ETA: 00:00:00\n",
      "Total time elapsed: 00:00:05\n"
     ]
    },
    {
     "name": "stdout",
     "output_type": "stream",
     "text": [
      "2018-03-19 10:32:14.340932 EDT | fitting baseline...\n",
      "2018-03-19 10:32:14.372375 EDT | fitted\n",
      "2018-03-19 10:32:14.705330 EDT | computing loss before\n",
      "2018-03-19 10:32:14.859047 EDT | performing update\n",
      "2018-03-19 10:32:14.860213 EDT | computing descent direction\n",
      "2018-03-19 10:32:18.243669 EDT | descent direction computed\n",
      "2018-03-19 10:32:19.198674 EDT | backtrack iters: 1\n",
      "2018-03-19 10:32:19.202216 EDT | computing loss after\n",
      "2018-03-19 10:32:19.204632 EDT | optimization finished\n",
      "2018-03-19 10:32:19.915078 EDT | Protag Reward: 17.852110778091575\n",
      "2018-03-19 10:32:19.916486 EDT | itr #0 | \n"
     ]
    },
    {
     "name": "stderr",
     "output_type": "stream",
     "text": [
      "0% [##############################] 100% | ETA: 00:00:00\n",
      "Total time elapsed: 00:00:05\n"
     ]
    },
    {
     "name": "stdout",
     "output_type": "stream",
     "text": [
      "2018-03-19 10:32:25.550161 EDT | fitting baseline...\n",
      "2018-03-19 10:32:25.581210 EDT | fitted\n",
      "2018-03-19 10:32:25.910238 EDT | computing loss before\n",
      "2018-03-19 10:32:26.058914 EDT | performing update\n",
      "2018-03-19 10:32:26.061839 EDT | computing descent direction\n",
      "2018-03-19 10:32:30.322411 EDT | descent direction computed\n",
      "2018-03-19 10:32:30.619721 EDT | backtrack iters: 1\n",
      "2018-03-19 10:32:30.620876 EDT | computing loss after\n",
      "2018-03-19 10:32:30.621949 EDT | optimization finished\n",
      "2018-03-19 10:32:30.932293 EDT | Advers Reward: -26.046107265434628\n",
      "2018-03-19 10:32:34.834089 EDT | \n",
      "\n",
      "Experiment: 0 Iteration: 11\n",
      "\n",
      "2018-03-19 10:32:34.835118 EDT | itr #0 | \n"
     ]
    },
    {
     "name": "stderr",
     "output_type": "stream",
     "text": [
      "0% [##############################] 100% | ETA: 00:00:00\n",
      "Total time elapsed: 00:00:04\n"
     ]
    },
    {
     "name": "stdout",
     "output_type": "stream",
     "text": [
      "2018-03-19 10:32:39.296362 EDT | fitting baseline...\n",
      "2018-03-19 10:32:39.336500 EDT | fitted\n",
      "2018-03-19 10:32:40.372766 EDT | computing loss before\n",
      "2018-03-19 10:32:40.655500 EDT | performing update\n",
      "2018-03-19 10:32:40.656657 EDT | computing descent direction\n",
      "2018-03-19 10:32:46.259147 EDT | descent direction computed\n",
      "2018-03-19 10:32:46.593309 EDT | backtrack iters: 1\n",
      "2018-03-19 10:32:46.596989 EDT | computing loss after\n",
      "2018-03-19 10:32:46.599476 EDT | optimization finished\n",
      "2018-03-19 10:32:46.923854 EDT | Protag Reward: 25.693616941328855\n",
      "2018-03-19 10:32:46.925390 EDT | itr #0 | \n"
     ]
    },
    {
     "name": "stderr",
     "output_type": "stream",
     "text": [
      "0% [##############################] 100% | ETA: 00:00:00"
     ]
    },
    {
     "name": "stdout",
     "output_type": "stream",
     "text": [
      "2018-03-19 10:32:53.184919 EDT | fitting baseline...\n",
      "2018-03-19 10:32:53.210304 EDT | fitted\n"
     ]
    },
    {
     "name": "stderr",
     "output_type": "stream",
     "text": [
      "\n",
      "Total time elapsed: 00:00:06\n"
     ]
    },
    {
     "name": "stdout",
     "output_type": "stream",
     "text": [
      "2018-03-19 10:32:53.588705 EDT | computing loss before\n",
      "2018-03-19 10:32:53.776684 EDT | performing update\n",
      "2018-03-19 10:32:53.780013 EDT | computing descent direction\n",
      "2018-03-19 10:32:57.513341 EDT | descent direction computed\n",
      "2018-03-19 10:32:57.863662 EDT | backtrack iters: 1\n",
      "2018-03-19 10:32:57.864994 EDT | computing loss after\n",
      "2018-03-19 10:32:57.866059 EDT | optimization finished\n",
      "2018-03-19 10:32:58.214735 EDT | Advers Reward: -33.688710002402814\n",
      "2018-03-19 10:33:00.596420 EDT | \n",
      "\n",
      "Experiment: 0 Iteration: 12\n",
      "\n",
      "2018-03-19 10:33:00.597571 EDT | itr #0 | \n"
     ]
    },
    {
     "name": "stderr",
     "output_type": "stream",
     "text": [
      "0% [##############################] 100% | ETA: 00:00:00\n",
      "Total time elapsed: 00:00:06\n"
     ]
    },
    {
     "name": "stdout",
     "output_type": "stream",
     "text": [
      "2018-03-19 10:33:07.456595 EDT | fitting baseline...\n",
      "2018-03-19 10:33:07.481916 EDT | fitted\n",
      "2018-03-19 10:33:07.834500 EDT | computing loss before\n",
      "2018-03-19 10:33:07.994493 EDT | performing update\n",
      "2018-03-19 10:33:07.999974 EDT | computing descent direction\n",
      "2018-03-19 10:33:12.829748 EDT | descent direction computed\n",
      "2018-03-19 10:33:13.267470 EDT | backtrack iters: 1\n",
      "2018-03-19 10:33:13.269138 EDT | computing loss after\n",
      "2018-03-19 10:33:13.270238 EDT | optimization finished\n",
      "2018-03-19 10:33:13.718165 EDT | Protag Reward: 33.6750419068716\n",
      "2018-03-19 10:33:13.719465 EDT | itr #0 | \n"
     ]
    },
    {
     "name": "stderr",
     "output_type": "stream",
     "text": [
      "0% [##############################] 100% | ETA: 00:00:00"
     ]
    },
    {
     "name": "stdout",
     "output_type": "stream",
     "text": [
      "2018-03-19 10:33:21.402786 EDT | fitting baseline...\n",
      "2018-03-19 10:33:21.435709 EDT | fitted\n"
     ]
    },
    {
     "name": "stderr",
     "output_type": "stream",
     "text": [
      "\n",
      "Total time elapsed: 00:00:07\n"
     ]
    },
    {
     "name": "stdout",
     "output_type": "stream",
     "text": [
      "2018-03-19 10:33:21.942817 EDT | computing loss before\n",
      "2018-03-19 10:33:22.195822 EDT | performing update\n",
      "2018-03-19 10:33:22.196976 EDT | computing descent direction\n",
      "2018-03-19 10:33:27.087625 EDT | descent direction computed\n",
      "2018-03-19 10:33:27.271656 EDT | backtrack iters: 0\n",
      "2018-03-19 10:33:27.274784 EDT | computing loss after\n",
      "2018-03-19 10:33:27.277527 EDT | optimization finished\n",
      "2018-03-19 10:33:27.615034 EDT | Advers Reward: -41.66446573835936\n",
      "2018-03-19 10:33:30.269172 EDT | \n",
      "\n",
      "Experiment: 0 Iteration: 13\n",
      "\n",
      "2018-03-19 10:33:30.270373 EDT | itr #0 | \n"
     ]
    },
    {
     "name": "stderr",
     "output_type": "stream",
     "text": [
      "0% [##############################] 100% | ETA: 00:00:00"
     ]
    },
    {
     "name": "stdout",
     "output_type": "stream",
     "text": [
      "2018-03-19 10:33:35.275465 EDT | fitting baseline...\n",
      "2018-03-19 10:33:35.312399 EDT | fitted\n"
     ]
    },
    {
     "name": "stderr",
     "output_type": "stream",
     "text": [
      "\n",
      "Total time elapsed: 00:00:04\n"
     ]
    },
    {
     "name": "stdout",
     "output_type": "stream",
     "text": [
      "2018-03-19 10:33:35.666489 EDT | computing loss before\n",
      "2018-03-19 10:33:35.866353 EDT | performing update\n",
      "2018-03-19 10:33:35.870370 EDT | computing descent direction\n",
      "2018-03-19 10:33:40.163958 EDT | descent direction computed\n",
      "2018-03-19 10:33:40.539523 EDT | backtrack iters: 1\n",
      "2018-03-19 10:33:40.540925 EDT | computing loss after\n",
      "2018-03-19 10:33:40.542028 EDT | optimization finished\n",
      "2018-03-19 10:33:40.939205 EDT | Protag Reward: 38.2311319201791\n",
      "2018-03-19 10:33:40.941055 EDT | itr #0 | \n"
     ]
    },
    {
     "name": "stderr",
     "output_type": "stream",
     "text": [
      "0% [##############################] 100% | ETA: 00:00:00"
     ]
    },
    {
     "name": "stdout",
     "output_type": "stream",
     "text": [
      "2018-03-19 10:33:45.804536 EDT | fitting baseline...\n",
      "2018-03-19 10:33:45.846428 EDT | fitted\n"
     ]
    },
    {
     "name": "stderr",
     "output_type": "stream",
     "text": [
      "\n",
      "Total time elapsed: 00:00:04\n"
     ]
    },
    {
     "name": "stdout",
     "output_type": "stream",
     "text": [
      "2018-03-19 10:33:46.232093 EDT | computing loss before\n",
      "2018-03-19 10:33:46.420996 EDT | performing update\n",
      "2018-03-19 10:33:46.424287 EDT | computing descent direction\n",
      "2018-03-19 10:33:49.898596 EDT | descent direction computed\n",
      "2018-03-19 10:33:50.068743 EDT | backtrack iters: 0\n",
      "2018-03-19 10:33:50.071844 EDT | computing loss after\n",
      "2018-03-19 10:33:50.075595 EDT | optimization finished\n",
      "2018-03-19 10:33:50.409724 EDT | Advers Reward: -62.511603277849396\n",
      "2018-03-19 10:33:53.117952 EDT | \n",
      "\n",
      "Experiment: 0 Iteration: 14\n",
      "\n",
      "2018-03-19 10:33:53.119721 EDT | itr #0 | \n"
     ]
    },
    {
     "name": "stderr",
     "output_type": "stream",
     "text": [
      "0% [##############################] 100% | ETA: 00:00:00\n",
      "Total time elapsed: 00:00:06\n"
     ]
    },
    {
     "name": "stdout",
     "output_type": "stream",
     "text": [
      "2018-03-19 10:34:00.081072 EDT | fitting baseline...\n",
      "2018-03-19 10:34:00.138991 EDT | fitted\n",
      "2018-03-19 10:34:00.552725 EDT | computing loss before\n",
      "2018-03-19 10:34:00.740322 EDT | performing update\n",
      "2018-03-19 10:34:00.741254 EDT | computing descent direction\n",
      "2018-03-19 10:34:06.109409 EDT | descent direction computed\n",
      "2018-03-19 10:34:06.431295 EDT | backtrack iters: 1\n",
      "2018-03-19 10:34:06.434181 EDT | computing loss after\n",
      "2018-03-19 10:34:06.436627 EDT | optimization finished\n",
      "2018-03-19 10:34:06.768350 EDT | Protag Reward: 57.39155095068003\n",
      "2018-03-19 10:34:06.769699 EDT | itr #0 | \n"
     ]
    },
    {
     "name": "stderr",
     "output_type": "stream",
     "text": [
      "0% [##############################] 100% | ETA: 00:00:00\n",
      "Total time elapsed: 00:00:07\n"
     ]
    },
    {
     "name": "stdout",
     "output_type": "stream",
     "text": [
      "2018-03-19 10:34:13.929524 EDT | fitting baseline...\n",
      "2018-03-19 10:34:13.950827 EDT | fitted\n",
      "2018-03-19 10:34:14.273844 EDT | computing loss before\n",
      "2018-03-19 10:34:14.423758 EDT | performing update\n",
      "2018-03-19 10:34:14.426568 EDT | computing descent direction\n",
      "2018-03-19 10:34:18.890066 EDT | descent direction computed\n",
      "2018-03-19 10:34:19.044422 EDT | backtrack iters: 0\n",
      "2018-03-19 10:34:19.047320 EDT | computing loss after\n",
      "2018-03-19 10:34:19.049933 EDT | optimization finished\n",
      "2018-03-19 10:34:19.355741 EDT | Advers Reward: -80.42989827612209\n",
      "2018-03-19 10:34:21.928092 EDT | \n",
      "\n",
      "Experiment: 0 Iteration: 15\n",
      "\n",
      "2018-03-19 10:34:21.929781 EDT | itr #0 | \n"
     ]
    },
    {
     "name": "stderr",
     "output_type": "stream",
     "text": [
      "0% [##############################] 100% | ETA: 00:00:00"
     ]
    },
    {
     "name": "stdout",
     "output_type": "stream",
     "text": [
      "2018-03-19 10:34:27.810164 EDT | fitting baseline...\n",
      "2018-03-19 10:34:27.844270 EDT | fitted\n"
     ]
    },
    {
     "name": "stderr",
     "output_type": "stream",
     "text": [
      "\n",
      "Total time elapsed: 00:00:05\n"
     ]
    },
    {
     "name": "stdout",
     "output_type": "stream",
     "text": [
      "2018-03-19 10:34:28.428985 EDT | computing loss before\n",
      "2018-03-19 10:34:28.720872 EDT | performing update\n",
      "2018-03-19 10:34:28.722329 EDT | computing descent direction\n",
      "2018-03-19 10:34:32.992559 EDT | descent direction computed\n",
      "2018-03-19 10:34:33.154579 EDT | backtrack iters: 0\n",
      "2018-03-19 10:34:33.157403 EDT | computing loss after\n",
      "2018-03-19 10:34:33.159904 EDT | optimization finished\n",
      "2018-03-19 10:34:33.473112 EDT | Protag Reward: 77.07381857695263\n",
      "2018-03-19 10:34:33.474275 EDT | itr #0 | \n"
     ]
    },
    {
     "name": "stderr",
     "output_type": "stream",
     "text": [
      "0% [##############################] 100% | ETA: 00:00:00"
     ]
    },
    {
     "name": "stdout",
     "output_type": "stream",
     "text": [
      "2018-03-19 10:34:39.744113 EDT | fitting baseline...\n"
     ]
    },
    {
     "name": "stderr",
     "output_type": "stream",
     "text": [
      "\n",
      "Total time elapsed: 00:00:06\n"
     ]
    },
    {
     "name": "stdout",
     "output_type": "stream",
     "text": [
      "2018-03-19 10:34:39.767522 EDT | fitted\n",
      "2018-03-19 10:34:40.097140 EDT | computing loss before\n",
      "2018-03-19 10:34:40.249138 EDT | performing update\n",
      "2018-03-19 10:34:40.252022 EDT | computing descent direction\n",
      "2018-03-19 10:34:44.717376 EDT | descent direction computed\n",
      "2018-03-19 10:34:44.873960 EDT | backtrack iters: 0\n",
      "2018-03-19 10:34:44.877673 EDT | computing loss after\n",
      "2018-03-19 10:34:44.880703 EDT | optimization finished\n",
      "2018-03-19 10:34:45.185096 EDT | Advers Reward: -100.31579416113684\n",
      "2018-03-19 10:34:49.041550 EDT | \n",
      "\n",
      "Experiment: 0 Iteration: 16\n",
      "\n",
      "2018-03-19 10:34:49.042787 EDT | itr #0 | \n"
     ]
    },
    {
     "name": "stderr",
     "output_type": "stream",
     "text": [
      "0% [##############################] 100% | ETA: 00:00:00\n",
      "Total time elapsed: 00:00:05\n"
     ]
    },
    {
     "name": "stdout",
     "output_type": "stream",
     "text": [
      "2018-03-19 10:34:55.064550 EDT | fitting baseline...\n",
      "2018-03-19 10:34:55.089617 EDT | fitted\n",
      "2018-03-19 10:34:55.430712 EDT | computing loss before\n",
      "2018-03-19 10:34:55.588725 EDT | performing update\n",
      "2018-03-19 10:34:55.591591 EDT | computing descent direction\n",
      "2018-03-19 10:35:00.221683 EDT | descent direction computed\n",
      "2018-03-19 10:35:00.541255 EDT | backtrack iters: 1\n",
      "2018-03-19 10:35:00.542426 EDT | computing loss after\n",
      "2018-03-19 10:35:00.543316 EDT | optimization finished\n",
      "2018-03-19 10:35:00.864893 EDT | Protag Reward: 103.48746627434308\n",
      "2018-03-19 10:35:00.868016 EDT | itr #0 | \n"
     ]
    },
    {
     "name": "stderr",
     "output_type": "stream",
     "text": [
      "0% [##############################] 100% | ETA: 00:00:00\n",
      "Total time elapsed: 00:00:05\n"
     ]
    },
    {
     "name": "stdout",
     "output_type": "stream",
     "text": [
      "2018-03-19 10:35:07.019424 EDT | fitting baseline...\n",
      "2018-03-19 10:35:07.090018 EDT | fitted\n",
      "2018-03-19 10:35:08.281665 EDT | computing loss before\n",
      "2018-03-19 10:35:08.610917 EDT | performing update\n",
      "2018-03-19 10:35:08.612035 EDT | computing descent direction\n",
      "2018-03-19 10:35:14.062013 EDT | descent direction computed\n",
      "2018-03-19 10:35:14.226431 EDT | backtrack iters: 0\n",
      "2018-03-19 10:35:14.230225 EDT | computing loss after\n",
      "2018-03-19 10:35:14.233477 EDT | optimization finished\n",
      "2018-03-19 10:35:14.569625 EDT | Advers Reward: -128.75543405627465\n",
      "2018-03-19 10:35:17.477834 EDT | \n",
      "\n",
      "Experiment: 0 Iteration: 17\n",
      "\n",
      "2018-03-19 10:35:17.479515 EDT | itr #0 | \n"
     ]
    },
    {
     "name": "stderr",
     "output_type": "stream",
     "text": [
      "0% [##############################] 100% | ETA: 00:00:00\n",
      "Total time elapsed: 00:00:04\n"
     ]
    },
    {
     "name": "stdout",
     "output_type": "stream",
     "text": [
      "2018-03-19 10:35:22.340789 EDT | fitting baseline...\n",
      "2018-03-19 10:35:22.453838 EDT | fitted\n",
      "2018-03-19 10:35:23.553597 EDT | computing loss before\n",
      "2018-03-19 10:35:24.052087 EDT | performing update\n",
      "2018-03-19 10:35:24.055839 EDT | computing descent direction\n",
      "2018-03-19 10:35:28.760478 EDT | descent direction computed\n",
      "2018-03-19 10:35:29.294121 EDT | backtrack iters: 0\n",
      "2018-03-19 10:35:29.296651 EDT | computing loss after\n",
      "2018-03-19 10:35:29.299677 EDT | optimization finished\n",
      "2018-03-19 10:35:29.983616 EDT | Protag Reward: 135.5947112576114\n",
      "2018-03-19 10:35:29.985736 EDT | itr #0 | \n"
     ]
    },
    {
     "name": "stderr",
     "output_type": "stream",
     "text": [
      "0% [##############################] 100% | ETA: 00:00:00"
     ]
    },
    {
     "name": "stdout",
     "output_type": "stream",
     "text": [
      "2018-03-19 10:35:35.102982 EDT | fitting baseline...\n",
      "2018-03-19 10:35:35.125677 EDT | fitted\n"
     ]
    },
    {
     "name": "stderr",
     "output_type": "stream",
     "text": [
      "\n",
      "Total time elapsed: 00:00:04\n"
     ]
    },
    {
     "name": "stdout",
     "output_type": "stream",
     "text": [
      "2018-03-19 10:35:35.469649 EDT | computing loss before\n",
      "2018-03-19 10:35:35.634570 EDT | performing update\n",
      "2018-03-19 10:35:35.637391 EDT | computing descent direction\n",
      "2018-03-19 10:35:40.944180 EDT | descent direction computed\n",
      "2018-03-19 10:35:41.282920 EDT | backtrack iters: 1\n",
      "2018-03-19 10:35:41.288542 EDT | computing loss after\n",
      "2018-03-19 10:35:41.294116 EDT | optimization finished\n",
      "2018-03-19 10:35:41.661591 EDT | Advers Reward: -168.7910770276159\n",
      "2018-03-19 10:35:44.463481 EDT | \n",
      "\n",
      "Experiment: 0 Iteration: 18\n",
      "\n",
      "2018-03-19 10:35:44.464978 EDT | itr #0 | \n"
     ]
    },
    {
     "name": "stderr",
     "output_type": "stream",
     "text": [
      "0% [##############################] 100% | ETA: 00:00:00"
     ]
    },
    {
     "name": "stdout",
     "output_type": "stream",
     "text": [
      "2018-03-19 10:35:50.841998 EDT | fitting baseline...\n",
      "2018-03-19 10:35:50.860118 EDT | fitted\n"
     ]
    },
    {
     "name": "stderr",
     "output_type": "stream",
     "text": [
      "\n",
      "Total time elapsed: 00:00:06\n"
     ]
    },
    {
     "name": "stdout",
     "output_type": "stream",
     "text": [
      "2018-03-19 10:35:51.257738 EDT | computing loss before\n",
      "2018-03-19 10:35:51.438223 EDT | performing update\n",
      "2018-03-19 10:35:51.441160 EDT | computing descent direction\n",
      "2018-03-19 10:35:57.041865 EDT | descent direction computed\n",
      "2018-03-19 10:35:57.213702 EDT | backtrack iters: 0\n",
      "2018-03-19 10:35:57.216949 EDT | computing loss after\n",
      "2018-03-19 10:35:57.219969 EDT | optimization finished\n",
      "2018-03-19 10:35:57.562202 EDT | Protag Reward: 160.76030554705713\n",
      "2018-03-19 10:35:57.565356 EDT | itr #0 | \n"
     ]
    },
    {
     "name": "stderr",
     "output_type": "stream",
     "text": [
      "0% [##############################] 100% | ETA: 00:00:00"
     ]
    },
    {
     "name": "stdout",
     "output_type": "stream",
     "text": [
      "2018-03-19 10:36:05.712741 EDT | fitting baseline...\n",
      "2018-03-19 10:36:05.745107 EDT | fitted\n"
     ]
    },
    {
     "name": "stderr",
     "output_type": "stream",
     "text": [
      "\n",
      "Total time elapsed: 00:00:07\n"
     ]
    },
    {
     "name": "stdout",
     "output_type": "stream",
     "text": [
      "2018-03-19 10:36:06.117651 EDT | computing loss before\n",
      "2018-03-19 10:36:06.289734 EDT | performing update\n",
      "2018-03-19 10:36:06.290873 EDT | computing descent direction\n",
      "2018-03-19 10:36:11.369161 EDT | descent direction computed\n",
      "2018-03-19 10:36:11.534494 EDT | backtrack iters: 0\n",
      "2018-03-19 10:36:11.538362 EDT | computing loss after\n",
      "2018-03-19 10:36:11.542656 EDT | optimization finished\n",
      "2018-03-19 10:36:11.936301 EDT | Advers Reward: -183.92016953707525\n",
      "2018-03-19 10:36:14.540458 EDT | \n",
      "\n",
      "Experiment: 0 Iteration: 19\n",
      "\n",
      "2018-03-19 10:36:14.541702 EDT | itr #0 | \n"
     ]
    },
    {
     "name": "stderr",
     "output_type": "stream",
     "text": [
      "0% [##############################] 100% | ETA: 00:00:00\n",
      "Total time elapsed: 00:00:05\n"
     ]
    },
    {
     "name": "stdout",
     "output_type": "stream",
     "text": [
      "2018-03-19 10:36:20.097932 EDT | fitting baseline...\n",
      "2018-03-19 10:36:20.128268 EDT | fitted\n",
      "2018-03-19 10:36:20.479987 EDT | computing loss before\n",
      "2018-03-19 10:36:20.640454 EDT | performing update\n",
      "2018-03-19 10:36:20.643334 EDT | computing descent direction\n",
      "2018-03-19 10:36:25.264334 EDT | descent direction computed\n",
      "2018-03-19 10:36:25.438300 EDT | backtrack iters: 0\n",
      "2018-03-19 10:36:25.442037 EDT | computing loss after\n",
      "2018-03-19 10:36:25.445946 EDT | optimization finished\n",
      "2018-03-19 10:36:26.417424 EDT | Protag Reward: 188.23214161206303\n",
      "2018-03-19 10:36:26.420581 EDT | itr #0 | \n"
     ]
    },
    {
     "name": "stderr",
     "output_type": "stream",
     "text": [
      "0% [##############################] 100% | ETA: 00:00:00"
     ]
    },
    {
     "name": "stdout",
     "output_type": "stream",
     "text": [
      "2018-03-19 10:36:32.453495 EDT | fitting baseline...\n",
      "2018-03-19 10:36:32.475902 EDT | fitted\n"
     ]
    },
    {
     "name": "stderr",
     "output_type": "stream",
     "text": [
      "\n",
      "Total time elapsed: 00:00:05\n"
     ]
    },
    {
     "name": "stdout",
     "output_type": "stream",
     "text": [
      "2018-03-19 10:36:32.864956 EDT | computing loss before\n",
      "2018-03-19 10:36:33.025353 EDT | performing update\n",
      "2018-03-19 10:36:33.028293 EDT | computing descent direction\n",
      "2018-03-19 10:36:38.126345 EDT | descent direction computed\n",
      "2018-03-19 10:36:38.312151 EDT | backtrack iters: 0\n",
      "2018-03-19 10:36:38.315967 EDT | computing loss after\n",
      "2018-03-19 10:36:38.319468 EDT | optimization finished\n",
      "2018-03-19 10:36:38.636656 EDT | Advers Reward: -232.11355386817178\n",
      "2018-03-19 10:36:40.965688 EDT | \n",
      "\n",
      "Experiment: 0 Iteration: 20\n",
      "\n",
      "2018-03-19 10:36:40.967436 EDT | itr #0 | \n"
     ]
    },
    {
     "name": "stderr",
     "output_type": "stream",
     "text": [
      "0% [##############################] 100% | ETA: 00:00:00\n",
      "Total time elapsed: 00:00:06\n"
     ]
    },
    {
     "name": "stdout",
     "output_type": "stream",
     "text": [
      "2018-03-19 10:36:47.602851 EDT | fitting baseline...\n",
      "2018-03-19 10:36:47.635218 EDT | fitted\n",
      "2018-03-19 10:36:48.489214 EDT | computing loss before\n",
      "2018-03-19 10:36:48.992549 EDT | performing update\n",
      "2018-03-19 10:36:48.995106 EDT | computing descent direction\n",
      "2018-03-19 10:36:53.851200 EDT | descent direction computed\n",
      "2018-03-19 10:36:54.018851 EDT | backtrack iters: 0\n",
      "2018-03-19 10:36:54.021771 EDT | computing loss after\n",
      "2018-03-19 10:36:54.024935 EDT | optimization finished\n",
      "2018-03-19 10:36:54.349548 EDT | Protag Reward: 195.66060730264977\n",
      "2018-03-19 10:36:54.350865 EDT | itr #0 | \n"
     ]
    },
    {
     "name": "stderr",
     "output_type": "stream",
     "text": [
      "0% [##############################] 100% | ETA: 00:00:00\n",
      "Total time elapsed: 00:00:06\n"
     ]
    },
    {
     "name": "stdout",
     "output_type": "stream",
     "text": [
      "2018-03-19 10:37:01.547359 EDT | fitting baseline...\n",
      "2018-03-19 10:37:01.565983 EDT | fitted\n",
      "2018-03-19 10:37:01.903912 EDT | computing loss before\n",
      "2018-03-19 10:37:02.059277 EDT | performing update\n",
      "2018-03-19 10:37:02.062123 EDT | computing descent direction\n",
      "2018-03-19 10:37:06.988251 EDT | descent direction computed\n",
      "2018-03-19 10:37:07.153369 EDT | backtrack iters: 0\n",
      "2018-03-19 10:37:07.154628 EDT | computing loss after\n",
      "2018-03-19 10:37:07.155674 EDT | optimization finished\n",
      "2018-03-19 10:37:07.473254 EDT | Advers Reward: -278.55720609643987\n",
      "2018-03-19 10:37:10.461965 EDT | \n",
      "\n",
      "Experiment: 0 Iteration: 21\n",
      "\n",
      "2018-03-19 10:37:10.462819 EDT | itr #0 | \n"
     ]
    },
    {
     "name": "stderr",
     "output_type": "stream",
     "text": [
      "0% [##############################] 100% | ETA: 00:00:00\n",
      "Total time elapsed: 00:00:04\n"
     ]
    },
    {
     "name": "stdout",
     "output_type": "stream",
     "text": [
      "2018-03-19 10:37:15.243468 EDT | fitting baseline...\n",
      "2018-03-19 10:37:15.274686 EDT | fitted\n",
      "2018-03-19 10:37:15.669734 EDT | computing loss before\n",
      "2018-03-19 10:37:15.840224 EDT | performing update\n",
      "2018-03-19 10:37:15.843164 EDT | computing descent direction\n",
      "2018-03-19 10:37:22.350164 EDT | descent direction computed\n",
      "2018-03-19 10:37:22.911697 EDT | backtrack iters: 1\n",
      "2018-03-19 10:37:22.913033 EDT | computing loss after\n",
      "2018-03-19 10:37:22.913969 EDT | optimization finished\n",
      "2018-03-19 10:37:23.323776 EDT | Protag Reward: 233.0478064527889\n",
      "2018-03-19 10:37:23.325384 EDT | itr #0 | \n"
     ]
    },
    {
     "name": "stderr",
     "output_type": "stream",
     "text": [
      "0% [##############################] 100% | ETA: 00:00:00"
     ]
    },
    {
     "name": "stdout",
     "output_type": "stream",
     "text": [
      "2018-03-19 10:37:29.314796 EDT | fitting baseline...\n",
      "2018-03-19 10:37:29.338602 EDT | fitted\n"
     ]
    },
    {
     "name": "stderr",
     "output_type": "stream",
     "text": [
      "\n",
      "Total time elapsed: 00:00:05\n"
     ]
    },
    {
     "name": "stdout",
     "output_type": "stream",
     "text": [
      "2018-03-19 10:37:29.748732 EDT | computing loss before\n",
      "2018-03-19 10:37:29.936613 EDT | performing update\n",
      "2018-03-19 10:37:29.940162 EDT | computing descent direction\n",
      "2018-03-19 10:37:34.067419 EDT | descent direction computed\n",
      "2018-03-19 10:37:34.569796 EDT | backtrack iters: 1\n",
      "2018-03-19 10:37:34.574014 EDT | computing loss after\n",
      "2018-03-19 10:37:34.576161 EDT | optimization finished\n",
      "2018-03-19 10:37:35.054992 EDT | Advers Reward: -229.0290956748232\n",
      "2018-03-19 10:37:37.584651 EDT | \n",
      "\n",
      "Experiment: 0 Iteration: 22\n",
      "\n",
      "2018-03-19 10:37:37.589522 EDT | itr #0 | \n"
     ]
    },
    {
     "name": "stderr",
     "output_type": "stream",
     "text": [
      "0% [##############################] 100% | ETA: 00:00:00\n",
      "Total time elapsed: 00:00:05\n"
     ]
    },
    {
     "name": "stdout",
     "output_type": "stream",
     "text": [
      "2018-03-19 10:37:43.625050 EDT | fitting baseline...\n",
      "2018-03-19 10:37:43.691917 EDT | fitted\n",
      "2018-03-19 10:37:44.291617 EDT | computing loss before\n",
      "2018-03-19 10:37:44.563674 EDT | performing update\n",
      "2018-03-19 10:37:44.569187 EDT | computing descent direction\n",
      "2018-03-19 10:37:49.799864 EDT | descent direction computed\n",
      "2018-03-19 10:37:50.042664 EDT | backtrack iters: 0\n",
      "2018-03-19 10:37:50.043982 EDT | computing loss after\n",
      "2018-03-19 10:37:50.044884 EDT | optimization finished\n",
      "2018-03-19 10:37:50.479720 EDT | Protag Reward: 248.48812823990832\n",
      "2018-03-19 10:37:50.481273 EDT | itr #0 | \n"
     ]
    },
    {
     "name": "stderr",
     "output_type": "stream",
     "text": [
      "0% [##############################] 100% | ETA: 00:00:00\n",
      "Total time elapsed: 00:00:05\n"
     ]
    },
    {
     "name": "stdout",
     "output_type": "stream",
     "text": [
      "2018-03-19 10:37:55.856971 EDT | fitting baseline...\n",
      "2018-03-19 10:37:55.883774 EDT | fitted\n",
      "2018-03-19 10:37:56.269711 EDT | computing loss before\n",
      "2018-03-19 10:37:56.450402 EDT | performing update\n",
      "2018-03-19 10:37:56.453741 EDT | computing descent direction\n",
      "2018-03-19 10:38:00.215719 EDT | descent direction computed\n",
      "2018-03-19 10:38:00.401250 EDT | backtrack iters: 0\n",
      "2018-03-19 10:38:00.404499 EDT | computing loss after\n",
      "2018-03-19 10:38:00.408026 EDT | optimization finished\n",
      "2018-03-19 10:38:00.844003 EDT | Advers Reward: -243.05999250762818\n",
      "2018-03-19 10:38:06.586772 EDT | \n",
      "\n",
      "Experiment: 0 Iteration: 23\n",
      "\n",
      "2018-03-19 10:38:06.592384 EDT | itr #0 | \n"
     ]
    },
    {
     "name": "stderr",
     "output_type": "stream",
     "text": [
      "0% [##############################] 100% | ETA: 00:00:00\n",
      "Total time elapsed: 00:00:06\n"
     ]
    },
    {
     "name": "stdout",
     "output_type": "stream",
     "text": [
      "2018-03-19 10:38:14.061399 EDT | fitting baseline...\n",
      "2018-03-19 10:38:14.089830 EDT | fitted\n",
      "2018-03-19 10:38:14.530175 EDT | computing loss before\n",
      "2018-03-19 10:38:14.717505 EDT | performing update\n",
      "2018-03-19 10:38:14.718834 EDT | computing descent direction\n",
      "2018-03-19 10:38:21.076316 EDT | descent direction computed\n",
      "2018-03-19 10:38:21.324038 EDT | backtrack iters: 0\n",
      "2018-03-19 10:38:21.325695 EDT | computing loss after\n",
      "2018-03-19 10:38:21.327545 EDT | optimization finished\n",
      "2018-03-19 10:38:22.015959 EDT | Protag Reward: 253.4526691678429\n",
      "2018-03-19 10:38:22.021620 EDT | itr #0 | \n"
     ]
    },
    {
     "name": "stderr",
     "output_type": "stream",
     "text": [
      "0% [##############################] 100% | ETA: 00:00:00"
     ]
    },
    {
     "name": "stdout",
     "output_type": "stream",
     "text": [
      "2018-03-19 10:38:35.202409 EDT | fitting baseline...\n"
     ]
    },
    {
     "name": "stderr",
     "output_type": "stream",
     "text": [
      "\n",
      "Total time elapsed: 00:00:12\n"
     ]
    },
    {
     "name": "stdout",
     "output_type": "stream",
     "text": [
      "2018-03-19 10:38:35.222165 EDT | fitted\n",
      "2018-03-19 10:38:35.662160 EDT | computing loss before\n",
      "2018-03-19 10:38:35.872480 EDT | performing update\n",
      "2018-03-19 10:38:35.873564 EDT | computing descent direction\n",
      "2018-03-19 10:38:41.500693 EDT | descent direction computed\n",
      "2018-03-19 10:38:41.664908 EDT | backtrack iters: 0\n",
      "2018-03-19 10:38:41.669588 EDT | computing loss after\n",
      "2018-03-19 10:38:41.673449 EDT | optimization finished\n",
      "2018-03-19 10:38:42.015904 EDT | Advers Reward: -257.2796861330067\n",
      "2018-03-19 10:38:46.536492 EDT | \n",
      "\n",
      "Experiment: 0 Iteration: 24\n",
      "\n",
      "2018-03-19 10:38:46.538121 EDT | itr #0 | \n"
     ]
    },
    {
     "name": "stderr",
     "output_type": "stream",
     "text": [
      "0% [##############################] 100% | ETA: 00:00:00\n",
      "Total time elapsed: 00:00:05\n"
     ]
    },
    {
     "name": "stdout",
     "output_type": "stream",
     "text": [
      "2018-03-19 10:38:52.005377 EDT | fitting baseline...\n",
      "2018-03-19 10:38:52.028589 EDT | fitted\n",
      "2018-03-19 10:38:53.110944 EDT | computing loss before\n",
      "2018-03-19 10:38:53.707396 EDT | performing update\n",
      "2018-03-19 10:38:53.710641 EDT | computing descent direction\n",
      "2018-03-19 10:38:59.171438 EDT | descent direction computed\n",
      "2018-03-19 10:39:00.268222 EDT | backtrack iters: 1\n",
      "2018-03-19 10:39:00.273534 EDT | computing loss after\n",
      "2018-03-19 10:39:00.276807 EDT | optimization finished\n",
      "2018-03-19 10:39:00.727531 EDT | Protag Reward: 268.05730669189563\n",
      "2018-03-19 10:39:00.728871 EDT | itr #0 | \n"
     ]
    },
    {
     "name": "stderr",
     "output_type": "stream",
     "text": [
      "0% [##############################] 100% | ETA: 00:00:00"
     ]
    },
    {
     "name": "stdout",
     "output_type": "stream",
     "text": [
      "2018-03-19 10:39:07.336572 EDT | fitting baseline...\n"
     ]
    },
    {
     "name": "stderr",
     "output_type": "stream",
     "text": [
      "\n",
      "Total time elapsed: 00:00:06\n"
     ]
    },
    {
     "name": "stdout",
     "output_type": "stream",
     "text": [
      "2018-03-19 10:39:07.359853 EDT | fitted\n",
      "2018-03-19 10:39:07.711426 EDT | computing loss before\n",
      "2018-03-19 10:39:07.872025 EDT | performing update\n",
      "2018-03-19 10:39:07.874994 EDT | computing descent direction\n",
      "2018-03-19 10:39:13.233711 EDT | descent direction computed\n",
      "2018-03-19 10:39:13.389410 EDT | backtrack iters: 0\n",
      "2018-03-19 10:39:13.393092 EDT | computing loss after\n",
      "2018-03-19 10:39:13.396138 EDT | optimization finished\n",
      "2018-03-19 10:39:13.718978 EDT | Advers Reward: -263.63340549377625\n",
      "2018-03-19 10:39:16.608603 EDT | \n",
      "\n",
      "Experiment: 0 Iteration: 25\n",
      "\n",
      "2018-03-19 10:39:16.610229 EDT | itr #0 | \n"
     ]
    },
    {
     "name": "stderr",
     "output_type": "stream",
     "text": [
      "0% [##############################] 100% | ETA: 00:00:00\n",
      "Total time elapsed: 00:00:05\n"
     ]
    },
    {
     "name": "stdout",
     "output_type": "stream",
     "text": [
      "2018-03-19 10:39:22.580504 EDT | fitting baseline...\n",
      "2018-03-19 10:39:22.601040 EDT | fitted\n",
      "2018-03-19 10:39:22.995643 EDT | computing loss before\n",
      "2018-03-19 10:39:23.163713 EDT | performing update\n",
      "2018-03-19 10:39:23.166769 EDT | computing descent direction\n",
      "2018-03-19 10:39:29.517625 EDT | descent direction computed\n",
      "2018-03-19 10:39:29.823879 EDT | backtrack iters: 0\n",
      "2018-03-19 10:39:29.827966 EDT | computing loss after\n",
      "2018-03-19 10:39:29.832548 EDT | optimization finished\n",
      "2018-03-19 10:39:30.197384 EDT | Protag Reward: 261.3065957774013\n",
      "2018-03-19 10:39:30.198706 EDT | itr #0 | \n"
     ]
    },
    {
     "name": "stderr",
     "output_type": "stream",
     "text": [
      "0% [##############################] 100% | ETA: 00:00:00"
     ]
    },
    {
     "name": "stdout",
     "output_type": "stream",
     "text": [
      "2018-03-19 10:39:37.415807 EDT | fitting baseline...\n",
      "2018-03-19 10:39:37.435607 EDT | fitted\n"
     ]
    },
    {
     "name": "stderr",
     "output_type": "stream",
     "text": [
      "\n",
      "Total time elapsed: 00:00:07\n"
     ]
    },
    {
     "name": "stdout",
     "output_type": "stream",
     "text": [
      "2018-03-19 10:39:37.818570 EDT | computing loss before\n",
      "2018-03-19 10:39:38.000031 EDT | performing update\n",
      "2018-03-19 10:39:38.003898 EDT | computing descent direction\n",
      "2018-03-19 10:39:43.122850 EDT | descent direction computed\n",
      "2018-03-19 10:39:43.287507 EDT | backtrack iters: 0\n",
      "2018-03-19 10:39:43.288560 EDT | computing loss after\n",
      "2018-03-19 10:39:43.291177 EDT | optimization finished\n",
      "2018-03-19 10:39:43.790395 EDT | Advers Reward: -258.121325702667\n",
      "2018-03-19 10:39:48.330659 EDT | \n",
      "\n",
      "Experiment: 0 Iteration: 26\n",
      "\n",
      "2018-03-19 10:39:48.331808 EDT | itr #0 | \n"
     ]
    },
    {
     "name": "stderr",
     "output_type": "stream",
     "text": [
      "0% [##############################] 100% | ETA: 00:00:00"
     ]
    },
    {
     "name": "stdout",
     "output_type": "stream",
     "text": [
      "2018-03-19 10:39:56.358193 EDT | fitting baseline...\n",
      "2018-03-19 10:39:56.378057 EDT | fitted\n"
     ]
    },
    {
     "name": "stderr",
     "output_type": "stream",
     "text": [
      "\n",
      "Total time elapsed: 00:00:07\n"
     ]
    },
    {
     "name": "stdout",
     "output_type": "stream",
     "text": [
      "2018-03-19 10:39:56.744151 EDT | computing loss before\n",
      "2018-03-19 10:39:56.917174 EDT | performing update\n",
      "2018-03-19 10:39:56.920165 EDT | computing descent direction\n",
      "2018-03-19 10:40:03.413605 EDT | descent direction computed\n",
      "2018-03-19 10:40:03.694095 EDT | backtrack iters: 0\n",
      "2018-03-19 10:40:03.695046 EDT | computing loss after\n",
      "2018-03-19 10:40:03.697677 EDT | optimization finished\n",
      "2018-03-19 10:40:04.199497 EDT | Protag Reward: 264.7922381667307\n",
      "2018-03-19 10:40:04.201408 EDT | itr #0 | \n"
     ]
    },
    {
     "name": "stderr",
     "output_type": "stream",
     "text": [
      "0% [##############################] 100% | ETA: 00:00:00"
     ]
    },
    {
     "name": "stdout",
     "output_type": "stream",
     "text": [
      "2018-03-19 10:40:13.299408 EDT | fitting baseline...\n",
      "2018-03-19 10:40:13.323595 EDT | fitted\n"
     ]
    },
    {
     "name": "stderr",
     "output_type": "stream",
     "text": [
      "\n",
      "Total time elapsed: 00:00:08\n"
     ]
    },
    {
     "name": "stdout",
     "output_type": "stream",
     "text": [
      "2018-03-19 10:40:13.716060 EDT | computing loss before\n",
      "2018-03-19 10:40:13.909754 EDT | performing update\n",
      "2018-03-19 10:40:13.911140 EDT | computing descent direction\n",
      "2018-03-19 10:40:19.511869 EDT | descent direction computed\n",
      "2018-03-19 10:40:19.870011 EDT | backtrack iters: 1\n",
      "2018-03-19 10:40:19.871370 EDT | computing loss after\n",
      "2018-03-19 10:40:19.872588 EDT | optimization finished\n",
      "2018-03-19 10:40:20.213569 EDT | Advers Reward: -265.8905269216568\n",
      "2018-03-19 10:40:24.556580 EDT | \n",
      "\n",
      "Experiment: 0 Iteration: 27\n",
      "\n",
      "2018-03-19 10:40:24.557594 EDT | itr #0 | \n"
     ]
    },
    {
     "name": "stderr",
     "output_type": "stream",
     "text": [
      "0% [##############################] 100% | ETA: 00:00:00\n",
      "Total time elapsed: 00:00:09\n"
     ]
    },
    {
     "name": "stdout",
     "output_type": "stream",
     "text": [
      "2018-03-19 10:40:34.609024 EDT | fitting baseline...\n",
      "2018-03-19 10:40:34.626914 EDT | fitted\n",
      "2018-03-19 10:40:35.012851 EDT | computing loss before\n",
      "2018-03-19 10:40:35.186419 EDT | performing update\n",
      "2018-03-19 10:40:35.189419 EDT | computing descent direction\n",
      "2018-03-19 10:40:41.254821 EDT | descent direction computed\n",
      "2018-03-19 10:40:41.452387 EDT | backtrack iters: 0\n",
      "2018-03-19 10:40:41.456296 EDT | computing loss after\n",
      "2018-03-19 10:40:41.459501 EDT | optimization finished\n",
      "2018-03-19 10:40:41.806721 EDT | Protag Reward: 283.1037325386635\n",
      "2018-03-19 10:40:41.808062 EDT | itr #0 | \n"
     ]
    },
    {
     "name": "stderr",
     "output_type": "stream",
     "text": [
      "0% [##############################] 100% | ETA: 00:00:00"
     ]
    },
    {
     "name": "stdout",
     "output_type": "stream",
     "text": [
      "2018-03-19 10:40:49.060539 EDT | fitting baseline...\n",
      "2018-03-19 10:40:49.090056 EDT | fitted\n"
     ]
    },
    {
     "name": "stderr",
     "output_type": "stream",
     "text": [
      "\n",
      "Total time elapsed: 00:00:07\n"
     ]
    },
    {
     "name": "stdout",
     "output_type": "stream",
     "text": [
      "2018-03-19 10:40:49.483127 EDT | computing loss before\n",
      "2018-03-19 10:40:49.709228 EDT | performing update\n",
      "2018-03-19 10:40:49.710432 EDT | computing descent direction\n",
      "2018-03-19 10:40:54.792125 EDT | descent direction computed\n",
      "2018-03-19 10:40:54.958511 EDT | backtrack iters: 0\n",
      "2018-03-19 10:40:54.961693 EDT | computing loss after\n",
      "2018-03-19 10:40:54.964501 EDT | optimization finished\n",
      "2018-03-19 10:40:55.467711 EDT | Advers Reward: -276.4195759730731\n",
      "2018-03-19 10:40:59.891173 EDT | \n",
      "\n",
      "Experiment: 0 Iteration: 28\n",
      "\n",
      "2018-03-19 10:40:59.892219 EDT | itr #0 | \n"
     ]
    },
    {
     "name": "stderr",
     "output_type": "stream",
     "text": [
      "0% [##############################] 100% | ETA: 00:00:00"
     ]
    },
    {
     "name": "stdout",
     "output_type": "stream",
     "text": [
      "2018-03-19 10:41:05.172558 EDT | fitting baseline...\n",
      "2018-03-19 10:41:05.193634 EDT | fitted\n"
     ]
    },
    {
     "name": "stderr",
     "output_type": "stream",
     "text": [
      "\n",
      "Total time elapsed: 00:00:05\n"
     ]
    },
    {
     "name": "stdout",
     "output_type": "stream",
     "text": [
      "2018-03-19 10:41:05.563806 EDT | computing loss before\n",
      "2018-03-19 10:41:06.027252 EDT | performing update\n",
      "2018-03-19 10:41:06.029970 EDT | computing descent direction\n",
      "2018-03-19 10:41:11.940041 EDT | descent direction computed\n",
      "2018-03-19 10:41:12.121617 EDT | backtrack iters: 0\n",
      "2018-03-19 10:41:12.122826 EDT | computing loss after\n",
      "2018-03-19 10:41:12.123970 EDT | optimization finished\n",
      "2018-03-19 10:41:12.462168 EDT | Protag Reward: 280.7302854699374\n",
      "2018-03-19 10:41:12.465221 EDT | itr #0 | \n"
     ]
    },
    {
     "name": "stderr",
     "output_type": "stream",
     "text": [
      "0% [##############################] 100% | ETA: 00:00:00"
     ]
    },
    {
     "name": "stdout",
     "output_type": "stream",
     "text": [
      "2018-03-19 10:41:18.383246 EDT | fitting baseline...\n",
      "2018-03-19 10:41:18.402499 EDT | fitted\n"
     ]
    },
    {
     "name": "stderr",
     "output_type": "stream",
     "text": [
      "\n",
      "Total time elapsed: 00:00:05\n"
     ]
    },
    {
     "name": "stdout",
     "output_type": "stream",
     "text": [
      "2018-03-19 10:41:18.765543 EDT | computing loss before\n",
      "2018-03-19 10:41:18.948208 EDT | performing update\n",
      "2018-03-19 10:41:18.951233 EDT | computing descent direction\n",
      "2018-03-19 10:41:25.339739 EDT | descent direction computed\n",
      "2018-03-19 10:41:26.318529 EDT | backtrack iters: 1\n",
      "2018-03-19 10:41:26.321044 EDT | computing loss after\n",
      "2018-03-19 10:41:26.323644 EDT | optimization finished\n",
      "2018-03-19 10:41:26.700204 EDT | Advers Reward: -270.8614012753257\n",
      "2018-03-19 10:41:30.297437 EDT | \n",
      "\n",
      "Experiment: 0 Iteration: 29\n",
      "\n",
      "2018-03-19 10:41:30.298513 EDT | itr #0 | \n"
     ]
    },
    {
     "name": "stderr",
     "output_type": "stream",
     "text": [
      "0% [##############################] 100% | ETA: 00:00:00\n",
      "Total time elapsed: 00:00:06\n"
     ]
    },
    {
     "name": "stdout",
     "output_type": "stream",
     "text": [
      "2018-03-19 10:41:37.343197 EDT | fitting baseline...\n",
      "2018-03-19 10:41:37.379839 EDT | fitted\n",
      "2018-03-19 10:41:37.850563 EDT | computing loss before\n",
      "2018-03-19 10:41:38.110979 EDT | performing update\n",
      "2018-03-19 10:41:38.112192 EDT | computing descent direction\n",
      "2018-03-19 10:41:42.939701 EDT | descent direction computed\n",
      "2018-03-19 10:41:43.109557 EDT | backtrack iters: 0\n",
      "2018-03-19 10:41:43.113465 EDT | computing loss after\n",
      "2018-03-19 10:41:43.116704 EDT | optimization finished\n",
      "2018-03-19 10:41:43.453493 EDT | Protag Reward: 260.71398638901843\n",
      "2018-03-19 10:41:43.454814 EDT | itr #0 | \n"
     ]
    },
    {
     "name": "stderr",
     "output_type": "stream",
     "text": [
      "0% [##############################] 100% | ETA: 00:00:00\n",
      "Total time elapsed: 00:00:07\n"
     ]
    },
    {
     "name": "stdout",
     "output_type": "stream",
     "text": [
      "2018-03-19 10:41:51.695348 EDT | fitting baseline...\n",
      "2018-03-19 10:41:51.762831 EDT | fitted\n",
      "2018-03-19 10:41:52.765951 EDT | computing loss before\n",
      "2018-03-19 10:41:53.240701 EDT | performing update\n",
      "2018-03-19 10:41:53.243203 EDT | computing descent direction\n",
      "2018-03-19 10:41:58.020723 EDT | descent direction computed\n",
      "2018-03-19 10:41:58.178841 EDT | backtrack iters: 0\n",
      "2018-03-19 10:41:58.181642 EDT | computing loss after\n",
      "2018-03-19 10:41:58.184082 EDT | optimization finished\n",
      "2018-03-19 10:41:58.499710 EDT | Advers Reward: -281.2328157604854\n",
      "2018-03-19 10:42:00.901447 EDT | \n",
      "\n",
      "Experiment: 0 Iteration: 30\n",
      "\n",
      "2018-03-19 10:42:00.902723 EDT | itr #0 | \n"
     ]
    },
    {
     "name": "stderr",
     "output_type": "stream",
     "text": [
      "0% [##############################] 100% | ETA: 00:00:00\n",
      "Total time elapsed: 00:00:05\n"
     ]
    },
    {
     "name": "stdout",
     "output_type": "stream",
     "text": [
      "2018-03-19 10:42:06.812268 EDT | fitting baseline...\n",
      "2018-03-19 10:42:06.830494 EDT | fitted\n",
      "2018-03-19 10:42:07.487548 EDT | computing loss before\n",
      "2018-03-19 10:42:08.032491 EDT | performing update\n",
      "2018-03-19 10:42:08.036213 EDT | computing descent direction\n",
      "2018-03-19 10:42:13.936162 EDT | descent direction computed\n",
      "2018-03-19 10:42:14.146831 EDT | backtrack iters: 0\n",
      "2018-03-19 10:42:14.148034 EDT | computing loss after\n",
      "2018-03-19 10:42:14.149004 EDT | optimization finished\n",
      "2018-03-19 10:42:14.516933 EDT | Protag Reward: 268.37185717145337\n",
      "2018-03-19 10:42:14.518463 EDT | itr #0 | \n"
     ]
    },
    {
     "name": "stderr",
     "output_type": "stream",
     "text": [
      "0% [##############################] 100% | ETA: 00:00:00\n",
      "Total time elapsed: 00:00:07\n"
     ]
    },
    {
     "name": "stdout",
     "output_type": "stream",
     "text": [
      "2018-03-19 10:42:22.513110 EDT | fitting baseline...\n",
      "2018-03-19 10:42:22.560642 EDT | fitted\n",
      "2018-03-19 10:42:22.911092 EDT | computing loss before\n",
      "2018-03-19 10:42:23.068248 EDT | performing update\n",
      "2018-03-19 10:42:23.071180 EDT | computing descent direction\n",
      "2018-03-19 10:42:30.546755 EDT | descent direction computed\n",
      "2018-03-19 10:42:30.713795 EDT | backtrack iters: 0\n",
      "2018-03-19 10:42:30.716729 EDT | computing loss after\n",
      "2018-03-19 10:42:30.719392 EDT | optimization finished\n",
      "2018-03-19 10:42:31.093056 EDT | Advers Reward: -277.6646832276489\n",
      "2018-03-19 10:42:34.002060 EDT | \n",
      "\n",
      "Experiment: 0 Iteration: 31\n",
      "\n",
      "2018-03-19 10:42:34.003575 EDT | itr #0 | \n"
     ]
    },
    {
     "name": "stderr",
     "output_type": "stream",
     "text": [
      "0% [##############################] 100% | ETA: 00:00:00\n",
      "Total time elapsed: 00:00:05\n"
     ]
    },
    {
     "name": "stdout",
     "output_type": "stream",
     "text": [
      "2018-03-19 10:42:39.992970 EDT | fitting baseline...\n",
      "2018-03-19 10:42:40.020029 EDT | fitted\n",
      "2018-03-19 10:42:40.477491 EDT | computing loss before\n",
      "2018-03-19 10:42:40.749111 EDT | performing update\n",
      "2018-03-19 10:42:40.752126 EDT | computing descent direction\n",
      "2018-03-19 10:42:45.930109 EDT | descent direction computed\n",
      "2018-03-19 10:42:46.354853 EDT | backtrack iters: 0\n",
      "2018-03-19 10:42:46.357504 EDT | computing loss after\n",
      "2018-03-19 10:42:46.360346 EDT | optimization finished\n",
      "2018-03-19 10:42:47.412018 EDT | Protag Reward: 277.47374401231303\n",
      "2018-03-19 10:42:47.417543 EDT | itr #0 | \n"
     ]
    },
    {
     "name": "stderr",
     "output_type": "stream",
     "text": [
      "0% [##############################] 100% | ETA: 00:00:00\n",
      "Total time elapsed: 00:00:06\n"
     ]
    },
    {
     "name": "stdout",
     "output_type": "stream",
     "text": [
      "2018-03-19 10:42:54.147424 EDT | fitting baseline...\n",
      "2018-03-19 10:42:54.169974 EDT | fitted\n",
      "2018-03-19 10:42:54.517445 EDT | computing loss before\n",
      "2018-03-19 10:42:54.679339 EDT | performing update\n",
      "2018-03-19 10:42:54.683157 EDT | computing descent direction\n",
      "2018-03-19 10:42:59.339401 EDT | descent direction computed\n",
      "2018-03-19 10:43:00.050578 EDT | backtrack iters: 1\n",
      "2018-03-19 10:43:00.053637 EDT | computing loss after\n",
      "2018-03-19 10:43:00.056720 EDT | optimization finished\n",
      "2018-03-19 10:43:01.039691 EDT | Advers Reward: -292.8521765915914\n",
      "2018-03-19 10:43:04.183451 EDT | \n",
      "\n",
      "Experiment: 0 Iteration: 32\n",
      "\n",
      "2018-03-19 10:43:04.185608 EDT | itr #0 | \n"
     ]
    },
    {
     "name": "stderr",
     "output_type": "stream",
     "text": [
      "0% [##############################] 100% | ETA: 00:00:00"
     ]
    },
    {
     "name": "stdout",
     "output_type": "stream",
     "text": [
      "2018-03-19 10:43:10.572059 EDT | fitting baseline...\n",
      "2018-03-19 10:43:10.594691 EDT | fitted\n"
     ]
    },
    {
     "name": "stderr",
     "output_type": "stream",
     "text": [
      "\n",
      "Total time elapsed: 00:00:06\n"
     ]
    },
    {
     "name": "stdout",
     "output_type": "stream",
     "text": [
      "2018-03-19 10:43:11.015764 EDT | computing loss before\n",
      "2018-03-19 10:43:11.217522 EDT | performing update\n",
      "2018-03-19 10:43:11.220531 EDT | computing descent direction\n",
      "2018-03-19 10:43:16.713604 EDT | descent direction computed\n",
      "2018-03-19 10:43:17.059975 EDT | backtrack iters: 1\n",
      "2018-03-19 10:43:17.061918 EDT | computing loss after\n",
      "2018-03-19 10:43:17.063369 EDT | optimization finished\n",
      "2018-03-19 10:43:17.867253 EDT | Protag Reward: 276.58261073636817\n",
      "2018-03-19 10:43:17.871243 EDT | itr #0 | \n"
     ]
    },
    {
     "name": "stderr",
     "output_type": "stream",
     "text": [
      "0% [##############################] 100% | ETA: 00:00:00"
     ]
    },
    {
     "name": "stdout",
     "output_type": "stream",
     "text": [
      "2018-03-19 10:43:25.178052 EDT | fitting baseline...\n",
      "2018-03-19 10:43:25.203632 EDT | fitted\n"
     ]
    },
    {
     "name": "stderr",
     "output_type": "stream",
     "text": [
      "\n",
      "Total time elapsed: 00:00:07\n"
     ]
    },
    {
     "name": "stdout",
     "output_type": "stream",
     "text": [
      "2018-03-19 10:43:25.574721 EDT | computing loss before\n",
      "2018-03-19 10:43:25.738627 EDT | performing update\n",
      "2018-03-19 10:43:25.741640 EDT | computing descent direction\n",
      "2018-03-19 10:43:31.190150 EDT | descent direction computed\n",
      "2018-03-19 10:43:31.372978 EDT | backtrack iters: 0\n",
      "2018-03-19 10:43:31.378341 EDT | computing loss after\n",
      "2018-03-19 10:43:31.383571 EDT | optimization finished\n",
      "2018-03-19 10:43:32.079543 EDT | Advers Reward: -294.14098355048156\n",
      "2018-03-19 10:43:36.175032 EDT | \n",
      "\n",
      "Experiment: 0 Iteration: 33\n",
      "\n",
      "2018-03-19 10:43:36.176210 EDT | itr #0 | \n"
     ]
    },
    {
     "name": "stderr",
     "output_type": "stream",
     "text": [
      "0% [##############################] 100% | ETA: 00:00:00"
     ]
    },
    {
     "name": "stdout",
     "output_type": "stream",
     "text": [
      "2018-03-19 10:43:44.054453 EDT | fitting baseline...\n",
      "2018-03-19 10:43:44.079239 EDT | fitted\n"
     ]
    },
    {
     "name": "stderr",
     "output_type": "stream",
     "text": [
      "\n",
      "Total time elapsed: 00:00:07\n"
     ]
    },
    {
     "name": "stdout",
     "output_type": "stream",
     "text": [
      "2018-03-19 10:43:44.527033 EDT | computing loss before\n",
      "2018-03-19 10:43:44.790052 EDT | performing update\n",
      "2018-03-19 10:43:44.791215 EDT | computing descent direction\n",
      "2018-03-19 10:43:49.755226 EDT | descent direction computed\n",
      "2018-03-19 10:43:49.925447 EDT | backtrack iters: 0\n",
      "2018-03-19 10:43:49.929434 EDT | computing loss after\n",
      "2018-03-19 10:43:49.932903 EDT | optimization finished\n",
      "2018-03-19 10:43:50.268144 EDT | Protag Reward: 290.7500918444495\n",
      "2018-03-19 10:43:50.271750 EDT | itr #0 | \n"
     ]
    },
    {
     "name": "stderr",
     "output_type": "stream",
     "text": [
      "0% [##############################] 100% | ETA: 00:00:00\n",
      "Total time elapsed: 00:00:07\n"
     ]
    },
    {
     "name": "stdout",
     "output_type": "stream",
     "text": [
      "2018-03-19 10:43:58.276901 EDT | fitting baseline...\n",
      "2018-03-19 10:43:58.302936 EDT | fitted\n",
      "2018-03-19 10:43:58.665732 EDT | computing loss before\n",
      "2018-03-19 10:43:58.845797 EDT | performing update\n",
      "2018-03-19 10:43:58.849717 EDT | computing descent direction\n",
      "2018-03-19 10:44:03.408157 EDT | descent direction computed\n",
      "2018-03-19 10:44:03.569610 EDT | backtrack iters: 0\n",
      "2018-03-19 10:44:03.572624 EDT | computing loss after\n",
      "2018-03-19 10:44:03.575214 EDT | optimization finished\n",
      "2018-03-19 10:44:03.892102 EDT | Advers Reward: -290.2200909074255\n",
      "2018-03-19 10:44:08.174576 EDT | \n",
      "\n",
      "Experiment: 0 Iteration: 34\n",
      "\n",
      "2018-03-19 10:44:08.176024 EDT | itr #0 | \n"
     ]
    },
    {
     "name": "stderr",
     "output_type": "stream",
     "text": [
      "0% [##############################] 100% | ETA: 00:00:00\n",
      "Total time elapsed: 00:00:06\n"
     ]
    },
    {
     "name": "stdout",
     "output_type": "stream",
     "text": [
      "2018-03-19 10:44:15.263683 EDT | fitting baseline...\n",
      "2018-03-19 10:44:15.291973 EDT | fitted\n",
      "2018-03-19 10:44:15.718532 EDT | computing loss before\n",
      "2018-03-19 10:44:15.961443 EDT | performing update\n",
      "2018-03-19 10:44:15.962745 EDT | computing descent direction\n",
      "2018-03-19 10:44:21.035401 EDT | descent direction computed\n",
      "2018-03-19 10:44:21.439477 EDT | backtrack iters: 1\n",
      "2018-03-19 10:44:21.443060 EDT | computing loss after\n",
      "2018-03-19 10:44:21.446265 EDT | optimization finished\n",
      "2018-03-19 10:44:22.485043 EDT | Protag Reward: 280.85909772809026\n",
      "2018-03-19 10:44:22.488219 EDT | itr #0 | \n"
     ]
    },
    {
     "name": "stderr",
     "output_type": "stream",
     "text": [
      "0% [##############################] 100% | ETA: 00:00:00"
     ]
    },
    {
     "name": "stdout",
     "output_type": "stream",
     "text": [
      "2018-03-19 10:44:30.150662 EDT | fitting baseline...\n",
      "2018-03-19 10:44:30.172147 EDT | fitted\n"
     ]
    },
    {
     "name": "stderr",
     "output_type": "stream",
     "text": [
      "\n",
      "Total time elapsed: 00:00:07\n"
     ]
    },
    {
     "name": "stdout",
     "output_type": "stream",
     "text": [
      "2018-03-19 10:44:30.608266 EDT | computing loss before\n",
      "2018-03-19 10:44:30.797332 EDT | performing update\n",
      "2018-03-19 10:44:30.798565 EDT | computing descent direction\n",
      "2018-03-19 10:44:36.303285 EDT | descent direction computed\n",
      "2018-03-19 10:44:36.810224 EDT | backtrack iters: 1\n",
      "2018-03-19 10:44:36.813372 EDT | computing loss after\n",
      "2018-03-19 10:44:36.816416 EDT | optimization finished\n",
      "2018-03-19 10:44:37.743894 EDT | Advers Reward: -285.9128761098042\n",
      "2018-03-19 10:44:40.872053 EDT | \n",
      "\n",
      "Experiment: 0 Iteration: 35\n",
      "\n",
      "2018-03-19 10:44:40.876061 EDT | itr #0 | \n"
     ]
    },
    {
     "name": "stderr",
     "output_type": "stream",
     "text": [
      "0% [##############################] 100% | ETA: 00:00:00\n",
      "Total time elapsed: 00:00:08\n"
     ]
    },
    {
     "name": "stdout",
     "output_type": "stream",
     "text": [
      "2018-03-19 10:44:49.629210 EDT | fitting baseline...\n",
      "2018-03-19 10:44:49.652054 EDT | fitted\n",
      "2018-03-19 10:44:50.068975 EDT | computing loss before\n",
      "2018-03-19 10:44:50.266871 EDT | performing update\n",
      "2018-03-19 10:44:50.268743 EDT | computing descent direction\n",
      "2018-03-19 10:44:55.963984 EDT | descent direction computed\n",
      "2018-03-19 10:44:57.001454 EDT | backtrack iters: 1\n",
      "2018-03-19 10:44:57.004536 EDT | computing loss after\n",
      "2018-03-19 10:44:57.007789 EDT | optimization finished\n",
      "2018-03-19 10:44:57.753424 EDT | Protag Reward: 283.5159860605251\n",
      "2018-03-19 10:44:57.755594 EDT | itr #0 | \n"
     ]
    },
    {
     "name": "stderr",
     "output_type": "stream",
     "text": [
      "0% [##############################] 100% | ETA: 00:00:00"
     ]
    },
    {
     "name": "stdout",
     "output_type": "stream",
     "text": [
      "2018-03-19 10:45:04.408506 EDT | fitting baseline...\n",
      "2018-03-19 10:45:04.431008 EDT | fitted\n"
     ]
    },
    {
     "name": "stderr",
     "output_type": "stream",
     "text": [
      "\n",
      "Total time elapsed: 00:00:06\n"
     ]
    },
    {
     "name": "stdout",
     "output_type": "stream",
     "text": [
      "2018-03-19 10:45:04.942307 EDT | computing loss before\n",
      "2018-03-19 10:45:05.123184 EDT | performing update\n",
      "2018-03-19 10:45:05.124570 EDT | computing descent direction\n",
      "2018-03-19 10:45:10.566372 EDT | descent direction computed\n",
      "2018-03-19 10:45:10.900911 EDT | backtrack iters: 1\n",
      "2018-03-19 10:45:10.902158 EDT | computing loss after\n",
      "2018-03-19 10:45:10.903345 EDT | optimization finished\n",
      "2018-03-19 10:45:11.228745 EDT | Advers Reward: -301.2198574558032\n",
      "2018-03-19 10:45:15.129191 EDT | \n",
      "\n",
      "Experiment: 0 Iteration: 36\n",
      "\n",
      "2018-03-19 10:45:15.130161 EDT | itr #0 | \n"
     ]
    },
    {
     "name": "stderr",
     "output_type": "stream",
     "text": [
      "0% [##############################] 100% | ETA: 00:00:00"
     ]
    },
    {
     "name": "stdout",
     "output_type": "stream",
     "text": [
      "2018-03-19 10:45:22.904225 EDT | fitting baseline...\n",
      "2018-03-19 10:45:22.928176 EDT | fitted\n"
     ]
    },
    {
     "name": "stderr",
     "output_type": "stream",
     "text": [
      "\n",
      "Total time elapsed: 00:00:07\n"
     ]
    },
    {
     "name": "stdout",
     "output_type": "stream",
     "text": [
      "2018-03-19 10:45:23.284308 EDT | computing loss before\n",
      "2018-03-19 10:45:23.448697 EDT | performing update\n",
      "2018-03-19 10:45:23.451682 EDT | computing descent direction\n",
      "2018-03-19 10:45:28.272131 EDT | descent direction computed\n",
      "2018-03-19 10:45:28.622430 EDT | backtrack iters: 1\n",
      "2018-03-19 10:45:28.623648 EDT | computing loss after\n",
      "2018-03-19 10:45:28.624808 EDT | optimization finished\n",
      "2018-03-19 10:45:28.954585 EDT | Protag Reward: 282.2280865070722\n",
      "2018-03-19 10:45:28.957662 EDT | itr #0 | \n"
     ]
    },
    {
     "name": "stderr",
     "output_type": "stream",
     "text": [
      "0% [##############################] 100% | ETA: 00:00:00"
     ]
    },
    {
     "name": "stdout",
     "output_type": "stream",
     "text": [
      "2018-03-19 10:45:37.119958 EDT | fitting baseline...\n",
      "2018-03-19 10:45:37.143667 EDT | fitted\n"
     ]
    },
    {
     "name": "stderr",
     "output_type": "stream",
     "text": [
      "\n",
      "Total time elapsed: 00:00:08\n"
     ]
    },
    {
     "name": "stdout",
     "output_type": "stream",
     "text": [
      "2018-03-19 10:45:37.527343 EDT | computing loss before\n",
      "2018-03-19 10:45:37.715000 EDT | performing update\n",
      "2018-03-19 10:45:37.718145 EDT | computing descent direction\n",
      "2018-03-19 10:45:43.418687 EDT | descent direction computed\n",
      "2018-03-19 10:45:43.943200 EDT | backtrack iters: 0\n",
      "2018-03-19 10:45:43.946254 EDT | computing loss after\n",
      "2018-03-19 10:45:43.948747 EDT | optimization finished\n",
      "2018-03-19 10:45:44.939552 EDT | Advers Reward: -289.9777826515743\n",
      "2018-03-19 10:45:48.061955 EDT | \n",
      "\n",
      "Experiment: 0 Iteration: 37\n",
      "\n",
      "2018-03-19 10:45:48.064030 EDT | itr #0 | \n"
     ]
    },
    {
     "name": "stderr",
     "output_type": "stream",
     "text": [
      "0% [##############################] 100% | ETA: 00:00:00\n",
      "Total time elapsed: 00:00:06\n"
     ]
    },
    {
     "name": "stdout",
     "output_type": "stream",
     "text": [
      "2018-03-19 10:45:55.593061 EDT | fitting baseline...\n",
      "2018-03-19 10:45:55.675041 EDT | fitted\n",
      "2018-03-19 10:45:56.166768 EDT | computing loss before\n",
      "2018-03-19 10:45:56.336536 EDT | performing update\n",
      "2018-03-19 10:45:56.339923 EDT | computing descent direction\n",
      "2018-03-19 10:46:01.407921 EDT | descent direction computed\n",
      "2018-03-19 10:46:01.751972 EDT | backtrack iters: 1\n",
      "2018-03-19 10:46:01.755926 EDT | computing loss after\n",
      "2018-03-19 10:46:01.759218 EDT | optimization finished\n",
      "2018-03-19 10:46:02.103922 EDT | Protag Reward: 303.5647749587467\n",
      "2018-03-19 10:46:02.108021 EDT | itr #0 | \n"
     ]
    },
    {
     "name": "stderr",
     "output_type": "stream",
     "text": [
      "0% [##############################] 100% | ETA: 00:00:00\n",
      "Total time elapsed: 00:00:08\n"
     ]
    },
    {
     "name": "stdout",
     "output_type": "stream",
     "text": [
      "2018-03-19 10:46:10.305863 EDT | fitting baseline...\n",
      "2018-03-19 10:46:10.327557 EDT | fitted\n",
      "2018-03-19 10:46:10.722736 EDT | computing loss before\n",
      "2018-03-19 10:46:10.884021 EDT | performing update\n",
      "2018-03-19 10:46:10.886903 EDT | computing descent direction\n",
      "2018-03-19 10:46:15.333545 EDT | descent direction computed\n",
      "2018-03-19 10:46:15.649619 EDT | backtrack iters: 1\n",
      "2018-03-19 10:46:15.652625 EDT | computing loss after\n",
      "2018-03-19 10:46:15.655143 EDT | optimization finished\n",
      "2018-03-19 10:46:15.974117 EDT | Advers Reward: -289.57377770564506\n",
      "2018-03-19 10:46:19.659542 EDT | \n",
      "\n",
      "Experiment: 0 Iteration: 38\n",
      "\n",
      "2018-03-19 10:46:19.660515 EDT | itr #0 | \n"
     ]
    },
    {
     "name": "stderr",
     "output_type": "stream",
     "text": [
      "0% [##############################] 100% | ETA: 00:00:00\n",
      "Total time elapsed: 00:00:07\n"
     ]
    },
    {
     "name": "stdout",
     "output_type": "stream",
     "text": [
      "2018-03-19 10:46:27.461013 EDT | fitting baseline...\n",
      "2018-03-19 10:46:27.480486 EDT | fitted\n",
      "2018-03-19 10:46:27.834357 EDT | computing loss before\n",
      "2018-03-19 10:46:28.005036 EDT | performing update\n",
      "2018-03-19 10:46:28.008798 EDT | computing descent direction\n",
      "2018-03-19 10:46:32.730640 EDT | descent direction computed\n",
      "2018-03-19 10:46:33.140561 EDT | backtrack iters: 1\n",
      "2018-03-19 10:46:33.144214 EDT | computing loss after\n",
      "2018-03-19 10:46:33.147543 EDT | optimization finished\n",
      "2018-03-19 10:46:33.553304 EDT | Protag Reward: 280.0792089471204\n",
      "2018-03-19 10:46:33.554576 EDT | itr #0 | \n"
     ]
    },
    {
     "name": "stderr",
     "output_type": "stream",
     "text": [
      "0% [##############################] 100% | ETA: 00:00:00\n",
      "Total time elapsed: 00:00:07\n"
     ]
    },
    {
     "name": "stdout",
     "output_type": "stream",
     "text": [
      "2018-03-19 10:46:41.033204 EDT | fitting baseline...\n",
      "2018-03-19 10:46:41.054583 EDT | fitted\n",
      "2018-03-19 10:46:41.405724 EDT | computing loss before\n",
      "2018-03-19 10:46:41.568301 EDT | performing update\n",
      "2018-03-19 10:46:41.571276 EDT | computing descent direction\n",
      "2018-03-19 10:46:46.005826 EDT | descent direction computed\n",
      "2018-03-19 10:46:46.241343 EDT | backtrack iters: 0\n",
      "2018-03-19 10:46:46.244538 EDT | computing loss after\n",
      "2018-03-19 10:46:46.247500 EDT | optimization finished\n",
      "2018-03-19 10:46:47.197357 EDT | Advers Reward: -297.76383025406295\n",
      "2018-03-19 10:46:50.037136 EDT | \n",
      "\n",
      "Experiment: 0 Iteration: 39\n",
      "\n",
      "2018-03-19 10:46:50.038222 EDT | itr #0 | \n"
     ]
    },
    {
     "name": "stderr",
     "output_type": "stream",
     "text": [
      "0% [##############################] 100% | ETA: 00:00:00\n",
      "Total time elapsed: 00:00:06\n"
     ]
    },
    {
     "name": "stdout",
     "output_type": "stream",
     "text": [
      "2018-03-19 10:46:57.009843 EDT | fitting baseline...\n",
      "2018-03-19 10:46:57.031872 EDT | fitted\n",
      "2018-03-19 10:46:57.380278 EDT | computing loss before\n",
      "2018-03-19 10:46:57.542743 EDT | performing update\n",
      "2018-03-19 10:46:57.545673 EDT | computing descent direction\n",
      "2018-03-19 10:47:02.056060 EDT | descent direction computed\n",
      "2018-03-19 10:47:02.381035 EDT | backtrack iters: 1\n",
      "2018-03-19 10:47:02.382133 EDT | computing loss after\n",
      "2018-03-19 10:47:02.383215 EDT | optimization finished\n",
      "2018-03-19 10:47:02.710483 EDT | Protag Reward: 290.7706911153172\n",
      "2018-03-19 10:47:02.711774 EDT | itr #0 | \n"
     ]
    },
    {
     "name": "stderr",
     "output_type": "stream",
     "text": [
      "0% [##############################] 100% | ETA: 00:00:00"
     ]
    },
    {
     "name": "stdout",
     "output_type": "stream",
     "text": [
      "2018-03-19 10:47:09.761293 EDT | fitting baseline...\n"
     ]
    },
    {
     "name": "stderr",
     "output_type": "stream",
     "text": [
      "\n",
      "Total time elapsed: 00:00:06\n"
     ]
    },
    {
     "name": "stdout",
     "output_type": "stream",
     "text": [
      "2018-03-19 10:47:09.783724 EDT | fitted\n",
      "2018-03-19 10:47:10.126689 EDT | computing loss before\n",
      "2018-03-19 10:47:10.282983 EDT | performing update\n",
      "2018-03-19 10:47:10.286029 EDT | computing descent direction\n",
      "2018-03-19 10:47:14.632813 EDT | descent direction computed\n",
      "2018-03-19 10:47:14.945828 EDT | backtrack iters: 1\n",
      "2018-03-19 10:47:14.948758 EDT | computing loss after\n",
      "2018-03-19 10:47:14.951299 EDT | optimization finished\n",
      "2018-03-19 10:47:15.414169 EDT | Advers Reward: -295.6940006901935\n",
      "2018-03-19 10:47:18.945257 EDT | \n",
      "\n",
      "Experiment: 0 Iteration: 40\n",
      "\n",
      "2018-03-19 10:47:18.946259 EDT | itr #0 | \n"
     ]
    },
    {
     "name": "stderr",
     "output_type": "stream",
     "text": [
      "0% [##############################] 100% | ETA: 00:00:00"
     ]
    },
    {
     "name": "stdout",
     "output_type": "stream",
     "text": [
      "2018-03-19 10:47:26.197637 EDT | fitting baseline...\n",
      "2018-03-19 10:47:26.221502 EDT | fitted\n"
     ]
    },
    {
     "name": "stderr",
     "output_type": "stream",
     "text": [
      "\n",
      "Total time elapsed: 00:00:07\n"
     ]
    },
    {
     "name": "stdout",
     "output_type": "stream",
     "text": [
      "2018-03-19 10:47:26.577417 EDT | computing loss before\n",
      "2018-03-19 10:47:26.742833 EDT | performing update\n",
      "2018-03-19 10:47:26.746749 EDT | computing descent direction\n",
      "2018-03-19 10:47:31.291817 EDT | descent direction computed\n",
      "2018-03-19 10:47:31.459564 EDT | backtrack iters: 0\n",
      "2018-03-19 10:47:31.463381 EDT | computing loss after\n",
      "2018-03-19 10:47:31.466561 EDT | optimization finished\n",
      "2018-03-19 10:47:31.798863 EDT | Protag Reward: 281.7345722229227\n",
      "2018-03-19 10:47:31.800182 EDT | itr #0 | \n"
     ]
    },
    {
     "name": "stderr",
     "output_type": "stream",
     "text": [
      "0% [##############################] 100% | ETA: 00:00:00\n",
      "Total time elapsed: 00:00:05\n"
     ]
    },
    {
     "name": "stdout",
     "output_type": "stream",
     "text": [
      "2018-03-19 10:47:38.254826 EDT | fitting baseline...\n",
      "2018-03-19 10:47:38.321742 EDT | fitted\n",
      "2018-03-19 10:47:39.138686 EDT | computing loss before\n",
      "2018-03-19 10:47:39.292140 EDT | performing update\n",
      "2018-03-19 10:47:39.295059 EDT | computing descent direction\n",
      "2018-03-19 10:47:43.654830 EDT | descent direction computed\n",
      "2018-03-19 10:47:43.809467 EDT | backtrack iters: 0\n",
      "2018-03-19 10:47:43.812394 EDT | computing loss after\n",
      "2018-03-19 10:47:43.814967 EDT | optimization finished\n",
      "2018-03-19 10:47:44.124461 EDT | Advers Reward: -287.8972429956994\n",
      "2018-03-19 10:47:46.583480 EDT | \n",
      "\n",
      "Experiment: 0 Iteration: 41\n",
      "\n",
      "2018-03-19 10:47:46.584357 EDT | itr #0 | \n"
     ]
    },
    {
     "name": "stderr",
     "output_type": "stream",
     "text": [
      "0% [##############################] 100% | ETA: 00:00:00\n",
      "Total time elapsed: 00:00:07\n"
     ]
    },
    {
     "name": "stdout",
     "output_type": "stream",
     "text": [
      "2018-03-19 10:47:54.140120 EDT | fitting baseline...\n",
      "2018-03-19 10:47:54.158739 EDT | fitted\n",
      "2018-03-19 10:47:54.520329 EDT | computing loss before\n",
      "2018-03-19 10:47:54.685015 EDT | performing update\n",
      "2018-03-19 10:47:54.687955 EDT | computing descent direction\n",
      "2018-03-19 10:48:01.747089 EDT | descent direction computed\n",
      "2018-03-19 10:48:02.279029 EDT | backtrack iters: 0\n",
      "2018-03-19 10:48:02.281516 EDT | computing loss after\n",
      "2018-03-19 10:48:02.284745 EDT | optimization finished\n",
      "2018-03-19 10:48:03.107504 EDT | Protag Reward: 295.5997285670849\n",
      "2018-03-19 10:48:03.110711 EDT | itr #0 | \n"
     ]
    },
    {
     "name": "stderr",
     "output_type": "stream",
     "text": [
      "0% [##############################] 100% | ETA: 00:00:00\n",
      "Total time elapsed: 00:00:05\n"
     ]
    },
    {
     "name": "stdout",
     "output_type": "stream",
     "text": [
      "2018-03-19 10:48:09.340690 EDT | fitting baseline...\n",
      "2018-03-19 10:48:09.368157 EDT | fitted\n",
      "2018-03-19 10:48:09.727242 EDT | computing loss before\n",
      "2018-03-19 10:48:09.893705 EDT | performing update\n",
      "2018-03-19 10:48:09.899987 EDT | computing descent direction\n",
      "2018-03-19 10:48:15.301270 EDT | descent direction computed\n",
      "2018-03-19 10:48:15.661385 EDT | backtrack iters: 1\n",
      "2018-03-19 10:48:15.662499 EDT | computing loss after\n",
      "2018-03-19 10:48:15.663570 EDT | optimization finished\n",
      "2018-03-19 10:48:16.002954 EDT | Advers Reward: -299.48229804808955\n",
      "2018-03-19 10:48:20.503246 EDT | \n",
      "\n",
      "Experiment: 0 Iteration: 42\n",
      "\n",
      "2018-03-19 10:48:20.504336 EDT | itr #0 | \n"
     ]
    },
    {
     "name": "stderr",
     "output_type": "stream",
     "text": [
      "0% [##############################] 100% | ETA: 00:00:00\n",
      "Total time elapsed: 00:00:08\n"
     ]
    },
    {
     "name": "stdout",
     "output_type": "stream",
     "text": [
      "2018-03-19 10:48:29.979629 EDT | fitting baseline...\n",
      "2018-03-19 10:48:30.002588 EDT | fitted\n",
      "2018-03-19 10:48:30.388093 EDT | computing loss before\n",
      "2018-03-19 10:48:30.553366 EDT | performing update\n",
      "2018-03-19 10:48:30.556437 EDT | computing descent direction\n",
      "2018-03-19 10:48:36.179978 EDT | descent direction computed\n",
      "2018-03-19 10:48:36.512682 EDT | backtrack iters: 1\n",
      "2018-03-19 10:48:36.513901 EDT | computing loss after\n",
      "2018-03-19 10:48:36.514864 EDT | optimization finished\n",
      "2018-03-19 10:48:36.997466 EDT | Protag Reward: 294.64820387472287\n",
      "2018-03-19 10:48:36.998924 EDT | itr #0 | \n"
     ]
    },
    {
     "name": "stderr",
     "output_type": "stream",
     "text": [
      "0% [##############################] 100% | ETA: 00:00:00\n",
      "Total time elapsed: 00:00:07\n"
     ]
    },
    {
     "name": "stdout",
     "output_type": "stream",
     "text": [
      "2018-03-19 10:48:45.213170 EDT | fitting baseline...\n",
      "2018-03-19 10:48:45.280120 EDT | fitted\n",
      "2018-03-19 10:48:46.345327 EDT | computing loss before\n",
      "2018-03-19 10:48:46.525257 EDT | performing update\n",
      "2018-03-19 10:48:46.528873 EDT | computing descent direction\n",
      "2018-03-19 10:48:52.211166 EDT | descent direction computed\n",
      "2018-03-19 10:48:52.616921 EDT | backtrack iters: 1\n",
      "2018-03-19 10:48:52.618386 EDT | computing loss after\n",
      "2018-03-19 10:48:52.619728 EDT | optimization finished\n",
      "2018-03-19 10:48:53.045290 EDT | Advers Reward: -297.5977115729965\n",
      "2018-03-19 10:48:57.574128 EDT | \n",
      "\n",
      "Experiment: 0 Iteration: 43\n",
      "\n",
      "2018-03-19 10:48:57.575366 EDT | itr #0 | \n"
     ]
    },
    {
     "name": "stderr",
     "output_type": "stream",
     "text": [
      "0% [##############################] 100% | ETA: 00:00:00\n",
      "Total time elapsed: 00:00:07\n"
     ]
    },
    {
     "name": "stdout",
     "output_type": "stream",
     "text": [
      "2018-03-19 10:49:05.388691 EDT | fitting baseline...\n",
      "2018-03-19 10:49:05.418394 EDT | fitted\n",
      "2018-03-19 10:49:05.901721 EDT | computing loss before\n",
      "2018-03-19 10:49:06.125310 EDT | performing update\n",
      "2018-03-19 10:49:06.129555 EDT | computing descent direction\n",
      "2018-03-19 10:49:13.848668 EDT | descent direction computed\n",
      "2018-03-19 10:49:14.185012 EDT | backtrack iters: 1\n",
      "2018-03-19 10:49:14.186216 EDT | computing loss after\n",
      "2018-03-19 10:49:14.187162 EDT | optimization finished\n",
      "2018-03-19 10:49:14.544149 EDT | Protag Reward: 291.24719690575927\n",
      "2018-03-19 10:49:14.545645 EDT | itr #0 | \n"
     ]
    },
    {
     "name": "stderr",
     "output_type": "stream",
     "text": [
      "0% [##############################] 100% | ETA: 00:00:00\n",
      "Total time elapsed: 00:00:07\n"
     ]
    },
    {
     "name": "stdout",
     "output_type": "stream",
     "text": [
      "2018-03-19 10:49:22.218501 EDT | fitting baseline...\n",
      "2018-03-19 10:49:22.255022 EDT | fitted\n",
      "2018-03-19 10:49:22.646443 EDT | computing loss before\n",
      "2018-03-19 10:49:22.847600 EDT | performing update\n",
      "2018-03-19 10:49:22.852932 EDT | computing descent direction\n",
      "2018-03-19 10:49:28.381768 EDT | descent direction computed\n",
      "2018-03-19 10:49:28.548107 EDT | backtrack iters: 0\n",
      "2018-03-19 10:49:28.551229 EDT | computing loss after\n",
      "2018-03-19 10:49:28.554625 EDT | optimization finished\n",
      "2018-03-19 10:49:28.879837 EDT | Advers Reward: -299.8555074786275\n",
      "2018-03-19 10:49:32.816262 EDT | \n",
      "\n",
      "Experiment: 0 Iteration: 44\n",
      "\n",
      "2018-03-19 10:49:32.818598 EDT | itr #0 | \n"
     ]
    },
    {
     "name": "stderr",
     "output_type": "stream",
     "text": [
      "0% [##############################] 100% | ETA: 00:00:00\n",
      "Total time elapsed: 00:00:06\n"
     ]
    },
    {
     "name": "stdout",
     "output_type": "stream",
     "text": [
      "2018-03-19 10:49:40.028147 EDT | fitting baseline...\n",
      "2018-03-19 10:49:40.067104 EDT | fitted\n",
      "2018-03-19 10:49:40.484974 EDT | computing loss before\n",
      "2018-03-19 10:49:40.671672 EDT | performing update\n",
      "2018-03-19 10:49:40.676502 EDT | computing descent direction\n",
      "2018-03-19 10:49:46.054366 EDT | descent direction computed\n",
      "2018-03-19 10:49:46.387482 EDT | backtrack iters: 1\n",
      "2018-03-19 10:49:46.390499 EDT | computing loss after\n",
      "2018-03-19 10:49:46.394211 EDT | optimization finished\n",
      "2018-03-19 10:49:46.740610 EDT | Protag Reward: 290.1872513794754\n",
      "2018-03-19 10:49:46.744851 EDT | itr #0 | \n"
     ]
    },
    {
     "name": "stderr",
     "output_type": "stream",
     "text": [
      "0% [##############################] 100% | ETA: 00:00:00"
     ]
    },
    {
     "name": "stdout",
     "output_type": "stream",
     "text": [
      "2018-03-19 10:49:55.594573 EDT | fitting baseline...\n",
      "2018-03-19 10:49:55.622799 EDT | fitted\n"
     ]
    },
    {
     "name": "stderr",
     "output_type": "stream",
     "text": [
      "\n",
      "Total time elapsed: 00:00:08\n"
     ]
    },
    {
     "name": "stdout",
     "output_type": "stream",
     "text": [
      "2018-03-19 10:49:55.970506 EDT | computing loss before\n",
      "2018-03-19 10:49:56.140050 EDT | performing update\n",
      "2018-03-19 10:49:56.143030 EDT | computing descent direction\n",
      "2018-03-19 10:50:03.265595 EDT | descent direction computed\n",
      "2018-03-19 10:50:03.552681 EDT | backtrack iters: 0\n",
      "2018-03-19 10:50:03.556370 EDT | computing loss after\n",
      "2018-03-19 10:50:03.558551 EDT | optimization finished\n",
      "2018-03-19 10:50:03.927949 EDT | Advers Reward: -298.3335397577402\n",
      "2018-03-19 10:50:07.323132 EDT | \n",
      "\n",
      "Experiment: 0 Iteration: 45\n",
      "\n",
      "2018-03-19 10:50:07.324422 EDT | itr #0 | \n"
     ]
    },
    {
     "name": "stderr",
     "output_type": "stream",
     "text": [
      "0% [##############################] 100% | ETA: 00:00:00\n",
      "Total time elapsed: 00:00:06\n"
     ]
    },
    {
     "name": "stdout",
     "output_type": "stream",
     "text": [
      "2018-03-19 10:50:13.798937 EDT | fitting baseline...\n",
      "2018-03-19 10:50:13.820192 EDT | fitted\n",
      "2018-03-19 10:50:14.193021 EDT | computing loss before\n",
      "2018-03-19 10:50:14.366145 EDT | performing update\n",
      "2018-03-19 10:50:14.370124 EDT | computing descent direction\n",
      "2018-03-19 10:50:19.300998 EDT | descent direction computed\n",
      "2018-03-19 10:50:19.473591 EDT | backtrack iters: 0\n",
      "2018-03-19 10:50:19.474811 EDT | computing loss after\n",
      "2018-03-19 10:50:19.475903 EDT | optimization finished\n",
      "2018-03-19 10:50:19.818513 EDT | Protag Reward: 292.56897673199177\n",
      "2018-03-19 10:50:19.822761 EDT | itr #0 | \n"
     ]
    },
    {
     "name": "stderr",
     "output_type": "stream",
     "text": [
      "0% [##############################] 100% | ETA: 00:00:00\n",
      "Total time elapsed: 00:00:07\n"
     ]
    },
    {
     "name": "stdout",
     "output_type": "stream",
     "text": [
      "2018-03-19 10:50:27.443120 EDT | fitting baseline...\n",
      "2018-03-19 10:50:27.463033 EDT | fitted\n",
      "2018-03-19 10:50:27.811360 EDT | computing loss before\n",
      "2018-03-19 10:50:27.971811 EDT | performing update\n",
      "2018-03-19 10:50:27.974770 EDT | computing descent direction\n",
      "2018-03-19 10:50:32.954997 EDT | descent direction computed\n",
      "2018-03-19 10:50:33.941116 EDT | backtrack iters: 1\n",
      "2018-03-19 10:50:33.944136 EDT | computing loss after\n",
      "2018-03-19 10:50:33.947809 EDT | optimization finished\n",
      "2018-03-19 10:50:34.651521 EDT | Advers Reward: -318.5846454201451\n",
      "2018-03-19 10:50:38.211525 EDT | \n",
      "\n",
      "Experiment: 0 Iteration: 46\n",
      "\n",
      "2018-03-19 10:50:38.215207 EDT | itr #0 | \n"
     ]
    },
    {
     "name": "stderr",
     "output_type": "stream",
     "text": [
      "0% [##############################] 100% | ETA: 00:00:00\n",
      "Total time elapsed: 00:00:06\n"
     ]
    },
    {
     "name": "stdout",
     "output_type": "stream",
     "text": [
      "2018-03-19 10:50:44.614903 EDT | fitting baseline...\n",
      "2018-03-19 10:50:44.664325 EDT | fitted\n",
      "2018-03-19 10:50:45.139898 EDT | computing loss before\n",
      "2018-03-19 10:50:45.342393 EDT | performing update\n",
      "2018-03-19 10:50:45.343781 EDT | computing descent direction\n",
      "2018-03-19 10:50:50.949269 EDT | descent direction computed\n",
      "2018-03-19 10:50:51.547715 EDT | backtrack iters: 1\n",
      "2018-03-19 10:50:51.549400 EDT | computing loss after\n",
      "2018-03-19 10:50:51.550829 EDT | optimization finished\n",
      "2018-03-19 10:50:52.116181 EDT | Protag Reward: 288.29564726446523\n",
      "2018-03-19 10:50:52.118025 EDT | itr #0 | \n"
     ]
    },
    {
     "name": "stderr",
     "output_type": "stream",
     "text": [
      "0% [##############################] 100% | ETA: 00:00:00\n",
      "Total time elapsed: 00:00:05\n"
     ]
    },
    {
     "name": "stdout",
     "output_type": "stream",
     "text": [
      "2018-03-19 10:50:58.233652 EDT | fitting baseline...\n",
      "2018-03-19 10:50:58.253251 EDT | fitted\n",
      "2018-03-19 10:50:58.587683 EDT | computing loss before\n",
      "2018-03-19 10:50:58.750896 EDT | performing update\n",
      "2018-03-19 10:50:58.754055 EDT | computing descent direction\n",
      "2018-03-19 10:51:03.477803 EDT | descent direction computed\n",
      "2018-03-19 10:51:03.646781 EDT | backtrack iters: 0\n",
      "2018-03-19 10:51:03.649819 EDT | computing loss after\n",
      "2018-03-19 10:51:03.653241 EDT | optimization finished\n",
      "2018-03-19 10:51:03.971147 EDT | Advers Reward: -297.74817622379896\n",
      "2018-03-19 10:51:07.808573 EDT | \n",
      "\n",
      "Experiment: 0 Iteration: 47\n",
      "\n",
      "2018-03-19 10:51:07.809498 EDT | itr #0 | \n"
     ]
    },
    {
     "name": "stderr",
     "output_type": "stream",
     "text": [
      "0% [##############################] 100% | ETA: 00:00:00"
     ]
    },
    {
     "name": "stdout",
     "output_type": "stream",
     "text": [
      "2018-03-19 10:51:14.090494 EDT | fitting baseline...\n",
      "2018-03-19 10:51:14.114145 EDT | fitted\n"
     ]
    },
    {
     "name": "stderr",
     "output_type": "stream",
     "text": [
      "\n",
      "Total time elapsed: 00:00:06\n"
     ]
    },
    {
     "name": "stdout",
     "output_type": "stream",
     "text": [
      "2018-03-19 10:51:14.474413 EDT | computing loss before\n",
      "2018-03-19 10:51:14.647002 EDT | performing update\n",
      "2018-03-19 10:51:14.654605 EDT | computing descent direction\n",
      "2018-03-19 10:51:19.842403 EDT | descent direction computed\n",
      "2018-03-19 10:51:20.097235 EDT | backtrack iters: 0\n",
      "2018-03-19 10:51:20.100583 EDT | computing loss after\n",
      "2018-03-19 10:51:20.105716 EDT | optimization finished\n",
      "2018-03-19 10:51:21.142306 EDT | Protag Reward: 285.88835715708353\n",
      "2018-03-19 10:51:21.145686 EDT | itr #0 | \n"
     ]
    },
    {
     "name": "stderr",
     "output_type": "stream",
     "text": [
      "0% [##############################] 100% | ETA: 00:00:00\n",
      "Total time elapsed: 00:00:08\n"
     ]
    },
    {
     "name": "stdout",
     "output_type": "stream",
     "text": [
      "2018-03-19 10:51:30.255850 EDT | fitting baseline...\n",
      "2018-03-19 10:51:30.278762 EDT | fitted\n",
      "2018-03-19 10:51:30.858026 EDT | computing loss before\n",
      "2018-03-19 10:51:31.326402 EDT | performing update\n",
      "2018-03-19 10:51:31.329871 EDT | computing descent direction\n",
      "2018-03-19 10:51:37.633374 EDT | descent direction computed\n",
      "2018-03-19 10:51:37.944382 EDT | backtrack iters: 0\n",
      "2018-03-19 10:51:37.945506 EDT | computing loss after\n",
      "2018-03-19 10:51:37.946322 EDT | optimization finished\n",
      "2018-03-19 10:51:38.340810 EDT | Advers Reward: -299.15856112382335\n",
      "2018-03-19 10:51:41.480353 EDT | \n",
      "\n",
      "Experiment: 0 Iteration: 48\n",
      "\n",
      "2018-03-19 10:51:41.484475 EDT | itr #0 | \n"
     ]
    },
    {
     "name": "stderr",
     "output_type": "stream",
     "text": [
      "0% [##############################] 100% | ETA: 00:00:00\n",
      "Total time elapsed: 00:00:06\n"
     ]
    },
    {
     "name": "stdout",
     "output_type": "stream",
     "text": [
      "2018-03-19 10:51:48.400278 EDT | fitting baseline...\n",
      "2018-03-19 10:51:48.418830 EDT | fitted\n",
      "2018-03-19 10:51:48.785514 EDT | computing loss before\n",
      "2018-03-19 10:51:48.956021 EDT | performing update\n",
      "2018-03-19 10:51:48.963783 EDT | computing descent direction\n",
      "2018-03-19 10:51:55.516114 EDT | descent direction computed\n",
      "2018-03-19 10:51:55.690936 EDT | backtrack iters: 0\n",
      "2018-03-19 10:51:55.694053 EDT | computing loss after\n",
      "2018-03-19 10:51:55.696671 EDT | optimization finished\n",
      "2018-03-19 10:51:56.071674 EDT | Protag Reward: 307.6575316630824\n",
      "2018-03-19 10:51:56.073056 EDT | itr #0 | \n"
     ]
    },
    {
     "name": "stderr",
     "output_type": "stream",
     "text": [
      "0% [##############################] 100% | ETA: 00:00:00\n",
      "Total time elapsed: 00:00:10\n"
     ]
    },
    {
     "name": "stdout",
     "output_type": "stream",
     "text": [
      "2018-03-19 10:52:07.192529 EDT | fitting baseline...\n",
      "2018-03-19 10:52:07.228606 EDT | fitted\n",
      "2018-03-19 10:52:07.906136 EDT | computing loss before\n",
      "2018-03-19 10:52:08.181141 EDT | performing update\n",
      "2018-03-19 10:52:08.182892 EDT | computing descent direction\n",
      "2018-03-19 10:52:13.657166 EDT | descent direction computed\n",
      "2018-03-19 10:52:13.817216 EDT | backtrack iters: 0\n",
      "2018-03-19 10:52:13.818238 EDT | computing loss after\n",
      "2018-03-19 10:52:13.819044 EDT | optimization finished\n",
      "2018-03-19 10:52:14.139004 EDT | Advers Reward: -298.56152822289533\n",
      "2018-03-19 10:52:17.771045 EDT | \n",
      "\n",
      "Experiment: 0 Iteration: 49\n",
      "\n",
      "2018-03-19 10:52:17.772106 EDT | itr #0 | \n"
     ]
    },
    {
     "name": "stderr",
     "output_type": "stream",
     "text": [
      "0% [##############################] 100% | ETA: 00:00:00"
     ]
    },
    {
     "name": "stdout",
     "output_type": "stream",
     "text": [
      "2018-03-19 10:52:24.285194 EDT | fitting baseline...\n",
      "2018-03-19 10:52:24.307271 EDT | fitted\n"
     ]
    },
    {
     "name": "stderr",
     "output_type": "stream",
     "text": [
      "\n",
      "Total time elapsed: 00:00:06\n"
     ]
    },
    {
     "name": "stdout",
     "output_type": "stream",
     "text": [
      "2018-03-19 10:52:24.674972 EDT | computing loss before\n",
      "2018-03-19 10:52:24.854110 EDT | performing update\n",
      "2018-03-19 10:52:24.857984 EDT | computing descent direction\n",
      "2018-03-19 10:52:29.705413 EDT | descent direction computed\n",
      "2018-03-19 10:52:29.882882 EDT | backtrack iters: 0\n",
      "2018-03-19 10:52:29.888326 EDT | computing loss after\n",
      "2018-03-19 10:52:29.891668 EDT | optimization finished\n",
      "2018-03-19 10:52:30.236009 EDT | Protag Reward: 305.8671849002094\n",
      "2018-03-19 10:52:30.242674 EDT | itr #0 | \n"
     ]
    },
    {
     "name": "stderr",
     "output_type": "stream",
     "text": [
      "0% [##############################] 100% | ETA: 00:00:00\n",
      "Total time elapsed: 00:00:06\n"
     ]
    },
    {
     "name": "stdout",
     "output_type": "stream",
     "text": [
      "2018-03-19 10:52:36.601888 EDT | fitting baseline...\n",
      "2018-03-19 10:52:36.625339 EDT | fitted\n",
      "2018-03-19 10:52:37.008005 EDT | computing loss before\n",
      "2018-03-19 10:52:37.182646 EDT | performing update\n",
      "2018-03-19 10:52:37.184189 EDT | computing descent direction\n",
      "2018-03-19 10:52:41.795913 EDT | descent direction computed\n",
      "2018-03-19 10:52:42.362903 EDT | backtrack iters: 1\n",
      "2018-03-19 10:52:42.365426 EDT | computing loss after\n",
      "2018-03-19 10:52:42.368948 EDT | optimization finished\n",
      "2018-03-19 10:52:43.295561 EDT | Advers Reward: -299.9523772392534\n",
      "2018-03-19 10:52:46.411180 EDT | \n",
      "\n",
      "Experiment: 0 Iteration: 50\n",
      "\n",
      "2018-03-19 10:52:46.414946 EDT | itr #0 | \n"
     ]
    },
    {
     "name": "stderr",
     "output_type": "stream",
     "text": [
      "0% [##############################] 100% | ETA: 00:00:00\n",
      "Total time elapsed: 00:00:07\n"
     ]
    },
    {
     "name": "stdout",
     "output_type": "stream",
     "text": [
      "2018-03-19 10:52:54.034326 EDT | fitting baseline...\n",
      "2018-03-19 10:52:54.056346 EDT | fitted\n",
      "2018-03-19 10:52:54.421826 EDT | computing loss before\n",
      "2018-03-19 10:52:54.819400 EDT | performing update\n",
      "2018-03-19 10:52:54.821890 EDT | computing descent direction\n",
      "2018-03-19 10:53:00.782005 EDT | descent direction computed\n",
      "2018-03-19 10:53:00.950216 EDT | backtrack iters: 0\n",
      "2018-03-19 10:53:00.951407 EDT | computing loss after\n",
      "2018-03-19 10:53:00.952339 EDT | optimization finished\n",
      "2018-03-19 10:53:01.301606 EDT | Protag Reward: 311.6748751837472\n",
      "2018-03-19 10:53:01.304786 EDT | itr #0 | \n"
     ]
    },
    {
     "name": "stderr",
     "output_type": "stream",
     "text": [
      "0% [##############################] 100% | ETA: 00:00:00"
     ]
    },
    {
     "name": "stdout",
     "output_type": "stream",
     "text": [
      "2018-03-19 10:53:07.457706 EDT | fitting baseline...\n"
     ]
    },
    {
     "name": "stderr",
     "output_type": "stream",
     "text": [
      "\n",
      "Total time elapsed: 00:00:05\n"
     ]
    },
    {
     "name": "stdout",
     "output_type": "stream",
     "text": [
      "2018-03-19 10:53:07.492697 EDT | fitted\n",
      "2018-03-19 10:53:07.861206 EDT | computing loss before\n",
      "2018-03-19 10:53:08.185439 EDT | performing update\n",
      "2018-03-19 10:53:08.187968 EDT | computing descent direction\n",
      "2018-03-19 10:53:13.458240 EDT | descent direction computed\n",
      "2018-03-19 10:53:13.944417 EDT | backtrack iters: 0\n",
      "2018-03-19 10:53:13.947592 EDT | computing loss after\n",
      "2018-03-19 10:53:13.950371 EDT | optimization finished\n",
      "2018-03-19 10:53:14.422776 EDT | Advers Reward: -295.28994961879295\n",
      "2018-03-19 10:53:16.713284 EDT | \n",
      "\n",
      "Experiment: 0 Iteration: 51\n",
      "\n",
      "2018-03-19 10:53:16.714368 EDT | itr #0 | \n"
     ]
    },
    {
     "name": "stderr",
     "output_type": "stream",
     "text": [
      "0% [##############################] 100% | ETA: 00:00:00\n",
      "Total time elapsed: 00:00:07\n"
     ]
    },
    {
     "name": "stdout",
     "output_type": "stream",
     "text": [
      "2018-03-19 10:53:23.982475 EDT | fitting baseline...\n",
      "2018-03-19 10:53:24.006071 EDT | fitted\n",
      "2018-03-19 10:53:24.360321 EDT | computing loss before\n",
      "2018-03-19 10:53:24.523864 EDT | performing update\n",
      "2018-03-19 10:53:24.526840 EDT | computing descent direction\n",
      "2018-03-19 10:53:29.162507 EDT | descent direction computed\n",
      "2018-03-19 10:53:29.493505 EDT | backtrack iters: 1\n",
      "2018-03-19 10:53:29.497237 EDT | computing loss after\n",
      "2018-03-19 10:53:29.499708 EDT | optimization finished\n",
      "2018-03-19 10:53:29.978114 EDT | Protag Reward: 302.48374366013115\n",
      "2018-03-19 10:53:29.981095 EDT | itr #0 | \n"
     ]
    },
    {
     "name": "stderr",
     "output_type": "stream",
     "text": [
      "0% [##############################] 100% | ETA: 00:00:00"
     ]
    },
    {
     "name": "stdout",
     "output_type": "stream",
     "text": [
      "2018-03-19 10:53:37.199027 EDT | fitting baseline...\n",
      "2018-03-19 10:53:37.228223 EDT | fitted\n"
     ]
    },
    {
     "name": "stderr",
     "output_type": "stream",
     "text": [
      "\n",
      "Total time elapsed: 00:00:06\n"
     ]
    },
    {
     "name": "stdout",
     "output_type": "stream",
     "text": [
      "2018-03-19 10:53:37.806237 EDT | computing loss before\n",
      "2018-03-19 10:53:38.147214 EDT | performing update\n",
      "2018-03-19 10:53:38.149247 EDT | computing descent direction\n",
      "2018-03-19 10:53:44.779243 EDT | descent direction computed\n",
      "2018-03-19 10:53:44.955440 EDT | backtrack iters: 0\n",
      "2018-03-19 10:53:44.959443 EDT | computing loss after\n",
      "2018-03-19 10:53:44.962678 EDT | optimization finished\n",
      "2018-03-19 10:53:45.297373 EDT | Advers Reward: -289.3479785673107\n",
      "2018-03-19 10:53:48.162127 EDT | \n",
      "\n",
      "Experiment: 0 Iteration: 52\n",
      "\n",
      "2018-03-19 10:53:48.163219 EDT | itr #0 | \n"
     ]
    },
    {
     "name": "stderr",
     "output_type": "stream",
     "text": [
      "0% [##############################] 100% | ETA: 00:00:00"
     ]
    },
    {
     "name": "stdout",
     "output_type": "stream",
     "text": [
      "2018-03-19 10:53:55.722775 EDT | fitting baseline...\n"
     ]
    },
    {
     "name": "stderr",
     "output_type": "stream",
     "text": [
      "\n",
      "Total time elapsed: 00:00:07\n"
     ]
    },
    {
     "name": "stdout",
     "output_type": "stream",
     "text": [
      "2018-03-19 10:53:55.748385 EDT | fitted\n",
      "2018-03-19 10:53:56.141580 EDT | computing loss before\n",
      "2018-03-19 10:53:56.313663 EDT | performing update\n",
      "2018-03-19 10:53:56.316691 EDT | computing descent direction\n",
      "2018-03-19 10:54:02.714673 EDT | descent direction computed\n",
      "2018-03-19 10:54:02.988914 EDT | backtrack iters: 0\n",
      "2018-03-19 10:54:02.991836 EDT | computing loss after\n",
      "2018-03-19 10:54:02.993361 EDT | optimization finished\n",
      "2018-03-19 10:54:03.392281 EDT | Protag Reward: 297.6482462682862\n",
      "2018-03-19 10:54:03.393721 EDT | itr #0 | \n"
     ]
    },
    {
     "name": "stderr",
     "output_type": "stream",
     "text": [
      "0% [##############################] 100% | ETA: 00:00:00"
     ]
    },
    {
     "name": "stdout",
     "output_type": "stream",
     "text": [
      "2018-03-19 10:54:10.200166 EDT | fitting baseline...\n",
      "2018-03-19 10:54:10.224239 EDT | fitted\n"
     ]
    },
    {
     "name": "stderr",
     "output_type": "stream",
     "text": [
      "\n",
      "Total time elapsed: 00:00:06\n"
     ]
    },
    {
     "name": "stdout",
     "output_type": "stream",
     "text": [
      "2018-03-19 10:54:10.589825 EDT | computing loss before\n",
      "2018-03-19 10:54:10.802727 EDT | performing update\n",
      "2018-03-19 10:54:10.804229 EDT | computing descent direction\n",
      "2018-03-19 10:54:16.900957 EDT | descent direction computed\n",
      "2018-03-19 10:54:17.073791 EDT | backtrack iters: 0\n",
      "2018-03-19 10:54:17.075225 EDT | computing loss after\n",
      "2018-03-19 10:54:17.076328 EDT | optimization finished\n",
      "2018-03-19 10:54:17.397230 EDT | Advers Reward: -293.78760644470003\n",
      "2018-03-19 10:54:20.428337 EDT | \n",
      "\n",
      "Experiment: 0 Iteration: 53\n",
      "\n",
      "2018-03-19 10:54:20.429644 EDT | itr #0 | \n"
     ]
    },
    {
     "name": "stderr",
     "output_type": "stream",
     "text": [
      "0% [##############################] 100% | ETA: 00:00:00"
     ]
    },
    {
     "name": "stdout",
     "output_type": "stream",
     "text": [
      "2018-03-19 10:54:30.420808 EDT | fitting baseline...\n",
      "2018-03-19 10:54:30.443908 EDT | fitted\n"
     ]
    },
    {
     "name": "stderr",
     "output_type": "stream",
     "text": [
      "\n",
      "Total time elapsed: 00:00:09\n"
     ]
    },
    {
     "name": "stdout",
     "output_type": "stream",
     "text": [
      "2018-03-19 10:54:30.995784 EDT | computing loss before\n",
      "2018-03-19 10:54:31.215942 EDT | performing update\n",
      "2018-03-19 10:54:31.219376 EDT | computing descent direction\n",
      "2018-03-19 10:54:39.381734 EDT | descent direction computed\n",
      "2018-03-19 10:54:39.913764 EDT | backtrack iters: 0\n",
      "2018-03-19 10:54:39.919945 EDT | computing loss after\n",
      "2018-03-19 10:54:39.925827 EDT | optimization finished\n",
      "2018-03-19 10:54:40.762471 EDT | Protag Reward: 300.49738395566845\n",
      "2018-03-19 10:54:40.764451 EDT | itr #0 | \n"
     ]
    },
    {
     "name": "stderr",
     "output_type": "stream",
     "text": [
      "0% [##############################] 100% | ETA: 00:00:00"
     ]
    },
    {
     "name": "stdout",
     "output_type": "stream",
     "text": [
      "2018-03-19 10:54:50.398726 EDT | fitting baseline...\n",
      "2018-03-19 10:54:50.424292 EDT | fitted\n"
     ]
    },
    {
     "name": "stderr",
     "output_type": "stream",
     "text": [
      "\n",
      "Total time elapsed: 00:00:09\n"
     ]
    },
    {
     "name": "stdout",
     "output_type": "stream",
     "text": [
      "2018-03-19 10:54:50.951757 EDT | computing loss before\n",
      "2018-03-19 10:54:51.202893 EDT | performing update\n",
      "2018-03-19 10:54:51.204647 EDT | computing descent direction\n",
      "2018-03-19 10:54:56.613390 EDT | descent direction computed\n",
      "2018-03-19 10:54:57.088056 EDT | backtrack iters: 1\n",
      "2018-03-19 10:54:57.089380 EDT | computing loss after\n",
      "2018-03-19 10:54:57.091658 EDT | optimization finished\n",
      "2018-03-19 10:54:57.553340 EDT | Advers Reward: -294.5686497546511\n",
      "2018-03-19 10:54:59.591890 EDT | \n",
      "\n",
      "Experiment: 0 Iteration: 54\n",
      "\n",
      "2018-03-19 10:54:59.592941 EDT | itr #0 | \n"
     ]
    },
    {
     "name": "stderr",
     "output_type": "stream",
     "text": [
      "0% [##############################] 100% | ETA: 00:00:00"
     ]
    },
    {
     "name": "stdout",
     "output_type": "stream",
     "text": [
      "2018-03-19 10:55:07.352408 EDT | fitting baseline...\n",
      "2018-03-19 10:55:07.374585 EDT | fitted\n"
     ]
    },
    {
     "name": "stderr",
     "output_type": "stream",
     "text": [
      "\n",
      "Total time elapsed: 00:00:07\n"
     ]
    },
    {
     "name": "stdout",
     "output_type": "stream",
     "text": [
      "2018-03-19 10:55:07.728059 EDT | computing loss before\n",
      "2018-03-19 10:55:07.892096 EDT | performing update\n",
      "2018-03-19 10:55:07.895100 EDT | computing descent direction\n",
      "2018-03-19 10:55:12.888142 EDT | descent direction computed\n",
      "2018-03-19 10:55:13.380251 EDT | backtrack iters: 0\n",
      "2018-03-19 10:55:13.383417 EDT | computing loss after\n",
      "2018-03-19 10:55:13.385782 EDT | optimization finished\n",
      "2018-03-19 10:55:14.314009 EDT | Protag Reward: 305.1329378751689\n",
      "2018-03-19 10:55:14.315245 EDT | itr #0 | \n"
     ]
    },
    {
     "name": "stderr",
     "output_type": "stream",
     "text": [
      "0% [##############################] 100% | ETA: 00:00:00\n",
      "Total time elapsed: 00:00:05\n"
     ]
    },
    {
     "name": "stdout",
     "output_type": "stream",
     "text": [
      "2018-03-19 10:55:20.049726 EDT | fitting baseline...\n",
      "2018-03-19 10:55:20.073785 EDT | fitted\n",
      "2018-03-19 10:55:20.415048 EDT | computing loss before\n",
      "2018-03-19 10:55:20.677055 EDT | performing update\n",
      "2018-03-19 10:55:20.680008 EDT | computing descent direction\n",
      "2018-03-19 10:55:26.045287 EDT | descent direction computed\n",
      "2018-03-19 10:55:26.254095 EDT | backtrack iters: 0\n",
      "2018-03-19 10:55:26.255356 EDT | computing loss after\n",
      "2018-03-19 10:55:26.256421 EDT | optimization finished\n",
      "2018-03-19 10:55:26.765027 EDT | Advers Reward: -302.0138406194543\n",
      "2018-03-19 10:55:31.900130 EDT | \n",
      "\n",
      "Experiment: 0 Iteration: 55\n",
      "\n",
      "2018-03-19 10:55:31.901225 EDT | itr #0 | \n"
     ]
    },
    {
     "name": "stderr",
     "output_type": "stream",
     "text": [
      "0% [##############################] 100% | ETA: 00:00:00\n",
      "Total time elapsed: 00:00:08\n"
     ]
    },
    {
     "name": "stdout",
     "output_type": "stream",
     "text": [
      "2018-03-19 10:55:40.119393 EDT | fitting baseline...\n",
      "2018-03-19 10:55:40.144926 EDT | fitted\n",
      "2018-03-19 10:55:40.516184 EDT | computing loss before\n",
      "2018-03-19 10:55:40.692414 EDT | performing update\n",
      "2018-03-19 10:55:40.695386 EDT | computing descent direction\n",
      "2018-03-19 10:55:45.394327 EDT | descent direction computed\n",
      "2018-03-19 10:55:46.321813 EDT | backtrack iters: 1\n",
      "2018-03-19 10:55:46.324397 EDT | computing loss after\n",
      "2018-03-19 10:55:46.327248 EDT | optimization finished\n",
      "2018-03-19 10:55:47.283071 EDT | Protag Reward: 302.1124168512012\n",
      "2018-03-19 10:55:47.286606 EDT | itr #0 | \n"
     ]
    },
    {
     "name": "stderr",
     "output_type": "stream",
     "text": [
      "0% [##############################] 100% | ETA: 00:00:00\n",
      "Total time elapsed: 00:00:05\n"
     ]
    },
    {
     "name": "stdout",
     "output_type": "stream",
     "text": [
      "2018-03-19 10:55:53.243280 EDT | fitting baseline...\n",
      "2018-03-19 10:55:53.262866 EDT | fitted\n",
      "2018-03-19 10:55:53.671310 EDT | computing loss before\n",
      "2018-03-19 10:55:54.041794 EDT | performing update\n",
      "2018-03-19 10:55:54.045143 EDT | computing descent direction\n",
      "2018-03-19 10:55:58.579737 EDT | descent direction computed\n",
      "2018-03-19 10:55:58.804992 EDT | backtrack iters: 0\n",
      "2018-03-19 10:55:58.806424 EDT | computing loss after\n",
      "2018-03-19 10:55:58.807773 EDT | optimization finished\n",
      "2018-03-19 10:55:59.361457 EDT | Advers Reward: -306.8876328132862\n",
      "2018-03-19 10:56:02.448606 EDT | \n",
      "\n",
      "Experiment: 0 Iteration: 56\n",
      "\n",
      "2018-03-19 10:56:02.449972 EDT | itr #0 | \n"
     ]
    },
    {
     "name": "stderr",
     "output_type": "stream",
     "text": [
      "0% [##############################] 100% | ETA: 00:00:00\n",
      "Total time elapsed: 00:00:09\n"
     ]
    },
    {
     "name": "stdout",
     "output_type": "stream",
     "text": [
      "2018-03-19 10:56:12.482364 EDT | fitting baseline...\n",
      "2018-03-19 10:56:12.551146 EDT | fitted\n",
      "2018-03-19 10:56:13.198994 EDT | computing loss before\n",
      "2018-03-19 10:56:13.485805 EDT | performing update\n",
      "2018-03-19 10:56:13.487316 EDT | computing descent direction\n",
      "2018-03-19 10:56:17.962314 EDT | descent direction computed\n",
      "2018-03-19 10:56:18.130753 EDT | backtrack iters: 0\n",
      "2018-03-19 10:56:18.133672 EDT | computing loss after\n",
      "2018-03-19 10:56:18.136385 EDT | optimization finished\n",
      "2018-03-19 10:56:18.460428 EDT | Protag Reward: 305.8330642876923\n",
      "2018-03-19 10:56:18.461649 EDT | itr #0 | \n"
     ]
    },
    {
     "name": "stderr",
     "output_type": "stream",
     "text": [
      "0% [##############################] 100% | ETA: 00:00:00"
     ]
    },
    {
     "name": "stdout",
     "output_type": "stream",
     "text": [
      "2018-03-19 10:56:24.497667 EDT | fitting baseline...\n",
      "2018-03-19 10:56:24.536458 EDT | fitted\n"
     ]
    },
    {
     "name": "stderr",
     "output_type": "stream",
     "text": [
      "\n",
      "Total time elapsed: 00:00:05\n"
     ]
    },
    {
     "name": "stdout",
     "output_type": "stream",
     "text": [
      "2018-03-19 10:56:25.059550 EDT | computing loss before\n",
      "2018-03-19 10:56:25.524757 EDT | performing update\n",
      "2018-03-19 10:56:25.527938 EDT | computing descent direction\n",
      "2018-03-19 10:56:30.361851 EDT | descent direction computed\n",
      "2018-03-19 10:56:30.877118 EDT | backtrack iters: 0\n",
      "2018-03-19 10:56:30.879672 EDT | computing loss after\n",
      "2018-03-19 10:56:30.882760 EDT | optimization finished\n",
      "2018-03-19 10:56:31.319986 EDT | Advers Reward: -305.4524766273589\n",
      "2018-03-19 10:56:34.576676 EDT | \n",
      "\n",
      "Experiment: 0 Iteration: 57\n",
      "\n",
      "2018-03-19 10:56:34.582061 EDT | itr #0 | \n"
     ]
    },
    {
     "name": "stderr",
     "output_type": "stream",
     "text": [
      "0% [##############################] 100% | ETA: 00:00:00"
     ]
    },
    {
     "name": "stdout",
     "output_type": "stream",
     "text": [
      "2018-03-19 10:56:41.856803 EDT | fitting baseline...\n"
     ]
    },
    {
     "name": "stderr",
     "output_type": "stream",
     "text": [
      "\n",
      "Total time elapsed: 00:00:07\n"
     ]
    },
    {
     "name": "stdout",
     "output_type": "stream",
     "text": [
      "2018-03-19 10:56:41.881745 EDT | fitted\n",
      "2018-03-19 10:56:42.247718 EDT | computing loss before\n",
      "2018-03-19 10:56:42.411663 EDT | performing update\n",
      "2018-03-19 10:56:42.414699 EDT | computing descent direction\n",
      "2018-03-19 10:56:47.787233 EDT | descent direction computed\n",
      "2018-03-19 10:56:48.149063 EDT | backtrack iters: 1\n",
      "2018-03-19 10:56:48.152073 EDT | computing loss after\n",
      "2018-03-19 10:56:48.155392 EDT | optimization finished\n",
      "2018-03-19 10:56:48.487235 EDT | Protag Reward: 311.3238570191279\n",
      "2018-03-19 10:56:48.488484 EDT | itr #0 | \n"
     ]
    },
    {
     "name": "stderr",
     "output_type": "stream",
     "text": [
      "0% [##############################] 100% | ETA: 00:00:00\n",
      "Total time elapsed: 00:00:07\n"
     ]
    },
    {
     "name": "stdout",
     "output_type": "stream",
     "text": [
      "2018-03-19 10:56:56.595186 EDT | fitting baseline...\n",
      "2018-03-19 10:56:56.626028 EDT | fitted\n",
      "2018-03-19 10:56:57.025458 EDT | computing loss before\n",
      "2018-03-19 10:56:57.457657 EDT | performing update\n",
      "2018-03-19 10:56:57.461269 EDT | computing descent direction\n",
      "2018-03-19 10:57:04.151648 EDT | descent direction computed\n",
      "2018-03-19 10:57:04.342987 EDT | backtrack iters: 0\n",
      "2018-03-19 10:57:04.344450 EDT | computing loss after\n",
      "2018-03-19 10:57:04.345681 EDT | optimization finished\n",
      "2018-03-19 10:57:04.796843 EDT | Advers Reward: -303.8895201318794\n",
      "2018-03-19 10:57:08.520466 EDT | \n",
      "\n",
      "Experiment: 0 Iteration: 58\n",
      "\n",
      "2018-03-19 10:57:08.522677 EDT | itr #0 | \n"
     ]
    },
    {
     "name": "stderr",
     "output_type": "stream",
     "text": [
      "0% [##############################] 100% | ETA: 00:00:00\n",
      "Total time elapsed: 00:00:09\n"
     ]
    },
    {
     "name": "stdout",
     "output_type": "stream",
     "text": [
      "2018-03-19 10:57:17.888286 EDT | fitting baseline...\n",
      "2018-03-19 10:57:17.919967 EDT | fitted\n",
      "2018-03-19 10:57:18.434817 EDT | computing loss before\n",
      "2018-03-19 10:57:18.682590 EDT | performing update\n",
      "2018-03-19 10:57:18.683939 EDT | computing descent direction\n",
      "2018-03-19 10:57:25.046384 EDT | descent direction computed\n",
      "2018-03-19 10:57:25.268054 EDT | backtrack iters: 0\n",
      "2018-03-19 10:57:25.269267 EDT | computing loss after\n",
      "2018-03-19 10:57:25.270159 EDT | optimization finished\n",
      "2018-03-19 10:57:25.709655 EDT | Protag Reward: 302.68286177509185\n",
      "2018-03-19 10:57:25.711155 EDT | itr #0 | \n"
     ]
    },
    {
     "name": "stderr",
     "output_type": "stream",
     "text": [
      "0% [##############################] 100% | ETA: 00:00:00"
     ]
    },
    {
     "name": "stdout",
     "output_type": "stream",
     "text": [
      "2018-03-19 10:57:32.117969 EDT | fitting baseline...\n",
      "2018-03-19 10:57:32.145447 EDT | fitted\n"
     ]
    },
    {
     "name": "stderr",
     "output_type": "stream",
     "text": [
      "\n",
      "Total time elapsed: 00:00:06\n"
     ]
    },
    {
     "name": "stdout",
     "output_type": "stream",
     "text": [
      "2018-03-19 10:57:32.595327 EDT | computing loss before\n",
      "2018-03-19 10:57:32.790750 EDT | performing update\n",
      "2018-03-19 10:57:32.796070 EDT | computing descent direction\n",
      "2018-03-19 10:57:36.391622 EDT | descent direction computed\n",
      "2018-03-19 10:57:36.755896 EDT | backtrack iters: 1\n",
      "2018-03-19 10:57:36.757211 EDT | computing loss after\n",
      "2018-03-19 10:57:36.758488 EDT | optimization finished\n",
      "2018-03-19 10:57:37.114598 EDT | Advers Reward: -301.4762928435592\n",
      "2018-03-19 10:57:40.199976 EDT | \n",
      "\n",
      "Experiment: 0 Iteration: 59\n",
      "\n",
      "2018-03-19 10:57:40.201063 EDT | itr #0 | \n"
     ]
    },
    {
     "name": "stderr",
     "output_type": "stream",
     "text": [
      "0% [##############################] 100% | ETA: 00:00:00\n",
      "Total time elapsed: 00:00:05\n"
     ]
    },
    {
     "name": "stdout",
     "output_type": "stream",
     "text": [
      "2018-03-19 10:57:46.124921 EDT | fitting baseline...\n",
      "2018-03-19 10:57:46.156363 EDT | fitted\n",
      "2018-03-19 10:57:46.579508 EDT | computing loss before\n",
      "2018-03-19 10:57:46.818919 EDT | performing update\n",
      "2018-03-19 10:57:46.822690 EDT | computing descent direction\n",
      "2018-03-19 10:57:53.671395 EDT | descent direction computed\n",
      "2018-03-19 10:57:53.913666 EDT | backtrack iters: 0\n",
      "2018-03-19 10:57:53.919671 EDT | computing loss after\n",
      "2018-03-19 10:57:53.925020 EDT | optimization finished\n",
      "2018-03-19 10:57:54.416417 EDT | Protag Reward: 309.5234073779093\n",
      "2018-03-19 10:57:54.418649 EDT | itr #0 | \n"
     ]
    },
    {
     "name": "stderr",
     "output_type": "stream",
     "text": [
      "0% [##############################] 100% | ETA: 00:00:00\n",
      "Total time elapsed: 00:00:08\n"
     ]
    },
    {
     "name": "stdout",
     "output_type": "stream",
     "text": [
      "2018-03-19 10:58:03.357454 EDT | fitting baseline...\n",
      "2018-03-19 10:58:03.379968 EDT | fitted\n",
      "2018-03-19 10:58:03.740345 EDT | computing loss before\n",
      "2018-03-19 10:58:03.904869 EDT | performing update\n",
      "2018-03-19 10:58:03.908786 EDT | computing descent direction\n",
      "2018-03-19 10:58:09.865748 EDT | descent direction computed\n",
      "2018-03-19 10:58:10.712159 EDT | backtrack iters: 1\n",
      "2018-03-19 10:58:10.714839 EDT | computing loss after\n",
      "2018-03-19 10:58:10.717179 EDT | optimization finished\n",
      "2018-03-19 10:58:11.504971 EDT | Advers Reward: -326.7608512074517\n",
      "2018-03-19 10:58:15.851327 EDT | \n",
      "\n",
      "Experiment: 0 Iteration: 60\n",
      "\n",
      "2018-03-19 10:58:15.852689 EDT | itr #0 | \n"
     ]
    },
    {
     "name": "stderr",
     "output_type": "stream",
     "text": [
      "0% [##############################] 100% | ETA: 00:00:00"
     ]
    },
    {
     "name": "stdout",
     "output_type": "stream",
     "text": [
      "2018-03-19 10:58:25.986315 EDT | fitting baseline...\n",
      "2018-03-19 10:58:26.008709 EDT | fitted\n"
     ]
    },
    {
     "name": "stderr",
     "output_type": "stream",
     "text": [
      "\n",
      "Total time elapsed: 00:00:09\n"
     ]
    },
    {
     "name": "stdout",
     "output_type": "stream",
     "text": [
      "2018-03-19 10:58:26.503880 EDT | computing loss before\n",
      "2018-03-19 10:58:26.738419 EDT | performing update\n",
      "2018-03-19 10:58:26.739500 EDT | computing descent direction\n",
      "2018-03-19 10:58:31.730072 EDT | descent direction computed\n",
      "2018-03-19 10:58:31.952662 EDT | backtrack iters: 0\n",
      "2018-03-19 10:58:31.954891 EDT | computing loss after\n",
      "2018-03-19 10:58:31.955873 EDT | optimization finished\n",
      "2018-03-19 10:58:32.390838 EDT | Protag Reward: 312.4246873145225\n",
      "2018-03-19 10:58:32.392102 EDT | itr #0 | \n"
     ]
    },
    {
     "name": "stderr",
     "output_type": "stream",
     "text": [
      "0% [##############################] 100% | ETA: 00:00:00"
     ]
    },
    {
     "name": "stdout",
     "output_type": "stream",
     "text": [
      "2018-03-19 10:58:39.619353 EDT | fitting baseline...\n",
      "2018-03-19 10:58:39.684076 EDT | fitted\n"
     ]
    },
    {
     "name": "stderr",
     "output_type": "stream",
     "text": [
      "\n",
      "Total time elapsed: 00:00:07\n"
     ]
    },
    {
     "name": "stdout",
     "output_type": "stream",
     "text": [
      "2018-03-19 10:58:40.249658 EDT | computing loss before\n",
      "2018-03-19 10:58:40.441368 EDT | performing update\n",
      "2018-03-19 10:58:40.444816 EDT | computing descent direction\n",
      "2018-03-19 10:58:45.980409 EDT | descent direction computed\n",
      "2018-03-19 10:58:46.385028 EDT | backtrack iters: 1\n",
      "2018-03-19 10:58:46.387946 EDT | computing loss after\n",
      "2018-03-19 10:58:46.390191 EDT | optimization finished\n",
      "2018-03-19 10:58:46.869291 EDT | Advers Reward: -315.84982075771615\n",
      "2018-03-19 10:58:52.566574 EDT | \n",
      "\n",
      "Experiment: 0 Iteration: 61\n",
      "\n",
      "2018-03-19 10:58:52.569679 EDT | itr #0 | \n"
     ]
    },
    {
     "name": "stderr",
     "output_type": "stream",
     "text": [
      "0% [##############################] 100% | ETA: 00:00:00"
     ]
    },
    {
     "name": "stdout",
     "output_type": "stream",
     "text": [
      "2018-03-19 10:58:59.487559 EDT | fitting baseline...\n",
      "2018-03-19 10:58:59.509309 EDT | fitted\n"
     ]
    },
    {
     "name": "stderr",
     "output_type": "stream",
     "text": [
      "\n",
      "Total time elapsed: 00:00:06\n"
     ]
    },
    {
     "name": "stdout",
     "output_type": "stream",
     "text": [
      "2018-03-19 10:58:59.960157 EDT | computing loss before\n",
      "2018-03-19 10:59:00.195175 EDT | performing update\n",
      "2018-03-19 10:59:00.199802 EDT | computing descent direction\n",
      "2018-03-19 10:59:06.107121 EDT | descent direction computed\n",
      "2018-03-19 10:59:06.445012 EDT | backtrack iters: 1\n",
      "2018-03-19 10:59:06.446246 EDT | computing loss after\n",
      "2018-03-19 10:59:06.447231 EDT | optimization finished\n",
      "2018-03-19 10:59:06.807371 EDT | Protag Reward: 316.85268896673404\n",
      "2018-03-19 10:59:06.813036 EDT | itr #0 | \n"
     ]
    },
    {
     "name": "stderr",
     "output_type": "stream",
     "text": [
      "0% [##############################] 100% | ETA: 00:00:00\n",
      "Total time elapsed: 00:00:07\n"
     ]
    },
    {
     "name": "stdout",
     "output_type": "stream",
     "text": [
      "2018-03-19 10:59:14.252438 EDT | fitting baseline...\n",
      "2018-03-19 10:59:14.274741 EDT | fitted\n",
      "2018-03-19 10:59:14.638668 EDT | computing loss before\n",
      "2018-03-19 10:59:14.801538 EDT | performing update\n",
      "2018-03-19 10:59:14.804587 EDT | computing descent direction\n",
      "2018-03-19 10:59:20.182016 EDT | descent direction computed\n",
      "2018-03-19 10:59:20.519660 EDT | backtrack iters: 1\n",
      "2018-03-19 10:59:20.521419 EDT | computing loss after\n",
      "2018-03-19 10:59:20.522714 EDT | optimization finished\n",
      "2018-03-19 10:59:20.967838 EDT | Advers Reward: -304.7587887067505\n",
      "2018-03-19 10:59:25.463013 EDT | \n",
      "\n",
      "Experiment: 0 Iteration: 62\n",
      "\n",
      "2018-03-19 10:59:25.464638 EDT | itr #0 | \n"
     ]
    },
    {
     "name": "stderr",
     "output_type": "stream",
     "text": [
      "0% [##############################] 100% | ETA: 00:00:00"
     ]
    },
    {
     "name": "stdout",
     "output_type": "stream",
     "text": [
      "2018-03-19 10:59:35.608858 EDT | fitting baseline...\n",
      "2018-03-19 10:59:35.669772 EDT | fitted\n"
     ]
    },
    {
     "name": "stderr",
     "output_type": "stream",
     "text": [
      "\n",
      "Total time elapsed: 00:00:09\n"
     ]
    },
    {
     "name": "stdout",
     "output_type": "stream",
     "text": [
      "2018-03-19 10:59:36.166961 EDT | computing loss before\n",
      "2018-03-19 10:59:36.396131 EDT | performing update\n",
      "2018-03-19 10:59:36.398404 EDT | computing descent direction\n",
      "2018-03-19 10:59:41.498569 EDT | descent direction computed\n",
      "2018-03-19 10:59:41.688107 EDT | backtrack iters: 0\n",
      "2018-03-19 10:59:41.689484 EDT | computing loss after\n",
      "2018-03-19 10:59:41.692149 EDT | optimization finished\n",
      "2018-03-19 10:59:42.060675 EDT | Protag Reward: 306.86974968554466\n",
      "2018-03-19 10:59:42.062014 EDT | itr #0 | \n"
     ]
    },
    {
     "name": "stderr",
     "output_type": "stream",
     "text": [
      "0% [##############################] 100% | ETA: 00:00:00\n",
      "Total time elapsed: 00:00:12\n"
     ]
    },
    {
     "name": "stdout",
     "output_type": "stream",
     "text": [
      "2018-03-19 10:59:55.841604 EDT | fitting baseline...\n",
      "2018-03-19 10:59:55.928635 EDT | fitted\n",
      "2018-03-19 10:59:56.532134 EDT | computing loss before\n",
      "2018-03-19 10:59:56.718940 EDT | performing update\n",
      "2018-03-19 10:59:56.721330 EDT | computing descent direction\n",
      "2018-03-19 11:00:01.371358 EDT | descent direction computed\n",
      "2018-03-19 11:00:01.628733 EDT | backtrack iters: 0\n",
      "2018-03-19 11:00:01.629907 EDT | computing loss after\n",
      "2018-03-19 11:00:01.630799 EDT | optimization finished\n",
      "2018-03-19 11:00:02.016090 EDT | Advers Reward: -325.3892929533074\n",
      "2018-03-19 11:00:04.488244 EDT | \n",
      "\n",
      "Experiment: 0 Iteration: 63\n",
      "\n",
      "2018-03-19 11:00:04.489407 EDT | itr #0 | \n"
     ]
    },
    {
     "name": "stderr",
     "output_type": "stream",
     "text": [
      "0% [##############################] 100% | ETA: 00:00:00\n",
      "Total time elapsed: 00:00:08\n"
     ]
    },
    {
     "name": "stdout",
     "output_type": "stream",
     "text": [
      "2018-03-19 11:00:13.359969 EDT | fitting baseline...\n",
      "2018-03-19 11:00:13.378797 EDT | fitted\n",
      "2018-03-19 11:00:13.754227 EDT | computing loss before\n",
      "2018-03-19 11:00:13.926876 EDT | performing update\n",
      "2018-03-19 11:00:13.929950 EDT | computing descent direction\n",
      "2018-03-19 11:00:19.698642 EDT | descent direction computed\n",
      "2018-03-19 11:00:20.692317 EDT | backtrack iters: 1\n",
      "2018-03-19 11:00:20.694848 EDT | computing loss after\n",
      "2018-03-19 11:00:20.697751 EDT | optimization finished\n",
      "2018-03-19 11:00:21.358568 EDT | Protag Reward: 313.5119159806714\n",
      "2018-03-19 11:00:21.363072 EDT | itr #0 | \n"
     ]
    },
    {
     "name": "stderr",
     "output_type": "stream",
     "text": [
      "0% [##############################] 100% | ETA: 00:00:00\n",
      "Total time elapsed: 00:00:06\n"
     ]
    },
    {
     "name": "stdout",
     "output_type": "stream",
     "text": [
      "2018-03-19 11:00:27.688167 EDT | fitting baseline...\n",
      "2018-03-19 11:00:27.711797 EDT | fitted\n",
      "2018-03-19 11:00:28.079481 EDT | computing loss before\n",
      "2018-03-19 11:00:28.251039 EDT | performing update\n",
      "2018-03-19 11:00:28.255126 EDT | computing descent direction\n",
      "2018-03-19 11:00:33.898760 EDT | descent direction computed\n",
      "2018-03-19 11:00:34.305482 EDT | backtrack iters: 1\n",
      "2018-03-19 11:00:34.306563 EDT | computing loss after\n",
      "2018-03-19 11:00:34.307574 EDT | optimization finished\n",
      "2018-03-19 11:00:34.630967 EDT | Advers Reward: -309.3965146144201\n",
      "2018-03-19 11:00:38.574977 EDT | \n",
      "\n",
      "Experiment: 0 Iteration: 64\n",
      "\n",
      "2018-03-19 11:00:38.576122 EDT | itr #0 | \n"
     ]
    },
    {
     "name": "stderr",
     "output_type": "stream",
     "text": [
      "0% [##############################] 100% | ETA: 00:00:00\n",
      "Total time elapsed: 00:00:06\n"
     ]
    },
    {
     "name": "stdout",
     "output_type": "stream",
     "text": [
      "2018-03-19 11:00:46.126381 EDT | fitting baseline...\n",
      "2018-03-19 11:00:46.211866 EDT | fitted\n",
      "2018-03-19 11:00:47.161563 EDT | computing loss before\n",
      "2018-03-19 11:00:47.387152 EDT | performing update\n",
      "2018-03-19 11:00:47.390018 EDT | computing descent direction\n",
      "2018-03-19 11:00:52.928328 EDT | descent direction computed\n",
      "2018-03-19 11:00:53.156590 EDT | backtrack iters: 0\n",
      "2018-03-19 11:00:53.157818 EDT | computing loss after\n",
      "2018-03-19 11:00:53.158829 EDT | optimization finished\n",
      "2018-03-19 11:00:53.543282 EDT | Protag Reward: 320.7639094304403\n",
      "2018-03-19 11:00:53.544847 EDT | itr #0 | \n"
     ]
    },
    {
     "name": "stderr",
     "output_type": "stream",
     "text": [
      "0% [##############################] 100% | ETA: 00:00:00\n",
      "Total time elapsed: 00:00:08\n"
     ]
    },
    {
     "name": "stdout",
     "output_type": "stream",
     "text": [
      "2018-03-19 11:01:02.197357 EDT | fitting baseline...\n",
      "2018-03-19 11:01:02.273291 EDT | fitted\n",
      "2018-03-19 11:01:02.798944 EDT | computing loss before\n",
      "2018-03-19 11:01:03.012570 EDT | performing update\n",
      "2018-03-19 11:01:03.013614 EDT | computing descent direction\n",
      "2018-03-19 11:01:09.444761 EDT | descent direction computed\n",
      "2018-03-19 11:01:09.621873 EDT | backtrack iters: 0\n",
      "2018-03-19 11:01:09.626056 EDT | computing loss after\n",
      "2018-03-19 11:01:09.634748 EDT | optimization finished\n",
      "2018-03-19 11:01:09.979803 EDT | Advers Reward: -310.8978438270312\n",
      "2018-03-19 11:01:14.131436 EDT | \n",
      "\n",
      "Experiment: 0 Iteration: 65\n",
      "\n",
      "2018-03-19 11:01:14.132493 EDT | itr #0 | \n"
     ]
    },
    {
     "name": "stderr",
     "output_type": "stream",
     "text": [
      "0% [##############################] 100% | ETA: 00:00:00"
     ]
    },
    {
     "name": "stdout",
     "output_type": "stream",
     "text": [
      "2018-03-19 11:01:22.109733 EDT | fitting baseline...\n",
      "2018-03-19 11:01:22.131676 EDT | fitted\n"
     ]
    },
    {
     "name": "stderr",
     "output_type": "stream",
     "text": [
      "\n",
      "Total time elapsed: 00:00:07\n"
     ]
    },
    {
     "name": "stdout",
     "output_type": "stream",
     "text": [
      "2018-03-19 11:01:22.505881 EDT | computing loss before\n",
      "2018-03-19 11:01:22.678149 EDT | performing update\n",
      "2018-03-19 11:01:22.682281 EDT | computing descent direction\n",
      "2018-03-19 11:01:28.584492 EDT | descent direction computed\n",
      "2018-03-19 11:01:29.779470 EDT | backtrack iters: 1\n",
      "2018-03-19 11:01:29.784344 EDT | computing loss after\n",
      "2018-03-19 11:01:29.790096 EDT | optimization finished\n",
      "2018-03-19 11:01:30.230459 EDT | Protag Reward: 322.53763081760576\n",
      "2018-03-19 11:01:30.234531 EDT | itr #0 | \n"
     ]
    },
    {
     "name": "stderr",
     "output_type": "stream",
     "text": [
      "0% [##############################] 100% | ETA: 00:00:00"
     ]
    },
    {
     "name": "stdout",
     "output_type": "stream",
     "text": [
      "2018-03-19 11:01:37.272830 EDT | fitting baseline...\n",
      "2018-03-19 11:01:37.295315 EDT | fitted\n"
     ]
    },
    {
     "name": "stderr",
     "output_type": "stream",
     "text": [
      "\n",
      "Total time elapsed: 00:00:06\n"
     ]
    },
    {
     "name": "stdout",
     "output_type": "stream",
     "text": [
      "2018-03-19 11:01:37.667100 EDT | computing loss before\n",
      "2018-03-19 11:01:37.837954 EDT | performing update\n",
      "2018-03-19 11:01:37.844350 EDT | computing descent direction\n",
      "2018-03-19 11:01:42.949829 EDT | descent direction computed\n",
      "2018-03-19 11:01:43.923463 EDT | backtrack iters: 1\n",
      "2018-03-19 11:01:43.926897 EDT | computing loss after\n",
      "2018-03-19 11:01:43.932377 EDT | optimization finished\n",
      "2018-03-19 11:01:44.582114 EDT | Advers Reward: -316.39791626450506\n",
      "2018-03-19 11:01:48.236209 EDT | \n",
      "\n",
      "Experiment: 0 Iteration: 66\n",
      "\n",
      "2018-03-19 11:01:48.237353 EDT | itr #0 | \n"
     ]
    },
    {
     "name": "stderr",
     "output_type": "stream",
     "text": [
      "0% [##############################] 100% | ETA: 00:00:00\n",
      "Total time elapsed: 00:00:06\n"
     ]
    },
    {
     "name": "stdout",
     "output_type": "stream",
     "text": [
      "2018-03-19 11:01:55.508040 EDT | fitting baseline...\n",
      "2018-03-19 11:01:55.563804 EDT | fitted\n",
      "2018-03-19 11:01:56.279382 EDT | computing loss before\n",
      "2018-03-19 11:01:56.584954 EDT | performing update\n",
      "2018-03-19 11:01:56.587069 EDT | computing descent direction\n",
      "2018-03-19 11:02:03.458649 EDT | descent direction computed\n",
      "2018-03-19 11:02:03.945366 EDT | backtrack iters: 1\n",
      "2018-03-19 11:02:03.946599 EDT | computing loss after\n",
      "2018-03-19 11:02:03.947697 EDT | optimization finished\n",
      "2018-03-19 11:02:04.424390 EDT | Protag Reward: 312.39878480186474\n",
      "2018-03-19 11:02:04.425795 EDT | itr #0 | \n"
     ]
    },
    {
     "name": "stderr",
     "output_type": "stream",
     "text": [
      "0% [##############################] 100% | ETA: 00:00:00\n",
      "Total time elapsed: 00:00:05\n"
     ]
    },
    {
     "name": "stdout",
     "output_type": "stream",
     "text": [
      "2018-03-19 11:02:10.316203 EDT | fitting baseline...\n",
      "2018-03-19 11:02:10.344670 EDT | fitted\n",
      "2018-03-19 11:02:10.776201 EDT | computing loss before\n",
      "2018-03-19 11:02:10.982272 EDT | performing update\n",
      "2018-03-19 11:02:10.985946 EDT | computing descent direction\n",
      "2018-03-19 11:02:14.654780 EDT | descent direction computed\n",
      "2018-03-19 11:02:14.849594 EDT | backtrack iters: 0\n",
      "2018-03-19 11:02:14.852959 EDT | computing loss after\n",
      "2018-03-19 11:02:14.854160 EDT | optimization finished\n",
      "2018-03-19 11:02:15.241253 EDT | Advers Reward: -309.90546525880825\n",
      "2018-03-19 11:02:17.421045 EDT | \n",
      "\n",
      "Experiment: 0 Iteration: 67\n",
      "\n",
      "2018-03-19 11:02:17.422539 EDT | itr #0 | \n"
     ]
    },
    {
     "name": "stderr",
     "output_type": "stream",
     "text": [
      "0% [##############################] 100% | ETA: 00:00:00"
     ]
    },
    {
     "name": "stdout",
     "output_type": "stream",
     "text": [
      "2018-03-19 11:02:24.455515 EDT | fitting baseline...\n",
      "2018-03-19 11:02:24.484715 EDT | fitted\n"
     ]
    },
    {
     "name": "stderr",
     "output_type": "stream",
     "text": [
      "\n",
      "Total time elapsed: 00:00:06\n"
     ]
    },
    {
     "name": "stdout",
     "output_type": "stream",
     "text": [
      "2018-03-19 11:02:24.991140 EDT | computing loss before\n",
      "2018-03-19 11:02:25.216095 EDT | performing update\n",
      "2018-03-19 11:02:25.217170 EDT | computing descent direction\n",
      "2018-03-19 11:02:29.456775 EDT | descent direction computed\n",
      "2018-03-19 11:02:29.671576 EDT | backtrack iters: 0\n",
      "2018-03-19 11:02:29.673116 EDT | computing loss after\n",
      "2018-03-19 11:02:29.674000 EDT | optimization finished\n",
      "2018-03-19 11:02:30.097282 EDT | Protag Reward: 318.0564458151644\n",
      "2018-03-19 11:02:30.098572 EDT | itr #0 | \n"
     ]
    },
    {
     "name": "stderr",
     "output_type": "stream",
     "text": [
      "0% [##############################] 100% | ETA: 00:00:00"
     ]
    },
    {
     "name": "stdout",
     "output_type": "stream",
     "text": [
      "2018-03-19 11:02:35.421504 EDT | fitting baseline...\n",
      "2018-03-19 11:02:35.447136 EDT | fitted\n"
     ]
    },
    {
     "name": "stderr",
     "output_type": "stream",
     "text": [
      "\n",
      "Total time elapsed: 00:00:05\n"
     ]
    },
    {
     "name": "stdout",
     "output_type": "stream",
     "text": [
      "2018-03-19 11:02:35.865881 EDT | computing loss before\n",
      "2018-03-19 11:02:36.060398 EDT | performing update\n",
      "2018-03-19 11:02:36.064018 EDT | computing descent direction\n",
      "2018-03-19 11:02:39.519632 EDT | descent direction computed\n",
      "2018-03-19 11:02:39.708829 EDT | backtrack iters: 0\n",
      "2018-03-19 11:02:39.712151 EDT | computing loss after\n",
      "2018-03-19 11:02:39.715237 EDT | optimization finished\n",
      "2018-03-19 11:02:40.080731 EDT | Advers Reward: -315.6230191355929\n",
      "2018-03-19 11:02:42.228412 EDT | \n",
      "\n",
      "Experiment: 0 Iteration: 68\n",
      "\n",
      "2018-03-19 11:02:42.229519 EDT | itr #0 | \n"
     ]
    },
    {
     "name": "stderr",
     "output_type": "stream",
     "text": [
      "0% [##############################] 100% | ETA: 00:00:00\n",
      "Total time elapsed: 00:00:06\n"
     ]
    },
    {
     "name": "stdout",
     "output_type": "stream",
     "text": [
      "2018-03-19 11:02:49.281276 EDT | fitting baseline...\n",
      "2018-03-19 11:02:49.308529 EDT | fitted\n",
      "2018-03-19 11:02:49.760768 EDT | computing loss before\n",
      "2018-03-19 11:02:49.975105 EDT | performing update\n",
      "2018-03-19 11:02:49.976100 EDT | computing descent direction\n",
      "2018-03-19 11:02:54.003993 EDT | descent direction computed\n",
      "2018-03-19 11:02:54.210484 EDT | backtrack iters: 0\n",
      "2018-03-19 11:02:54.213883 EDT | computing loss after\n",
      "2018-03-19 11:02:54.216893 EDT | optimization finished\n",
      "2018-03-19 11:02:54.626044 EDT | Protag Reward: 328.23836902393964\n",
      "2018-03-19 11:02:54.627384 EDT | itr #0 | \n"
     ]
    },
    {
     "name": "stderr",
     "output_type": "stream",
     "text": [
      "0% [##############################] 100% | ETA: 00:00:00\n",
      "Total time elapsed: 00:00:04\n"
     ]
    },
    {
     "name": "stdout",
     "output_type": "stream",
     "text": [
      "2018-03-19 11:02:59.823857 EDT | fitting baseline...\n",
      "2018-03-19 11:02:59.845059 EDT | fitted\n",
      "2018-03-19 11:03:00.241882 EDT | computing loss before\n",
      "2018-03-19 11:03:00.427879 EDT | performing update\n",
      "2018-03-19 11:03:00.431237 EDT | computing descent direction\n",
      "2018-03-19 11:03:04.111686 EDT | descent direction computed\n",
      "2018-03-19 11:03:04.309599 EDT | backtrack iters: 0\n",
      "2018-03-19 11:03:04.313182 EDT | computing loss after\n",
      "2018-03-19 11:03:04.316446 EDT | optimization finished\n",
      "2018-03-19 11:03:04.706592 EDT | Advers Reward: -337.0047864511801\n",
      "2018-03-19 11:03:08.497471 EDT | \n",
      "\n",
      "Experiment: 0 Iteration: 69\n",
      "\n",
      "2018-03-19 11:03:08.498465 EDT | itr #0 | \n"
     ]
    },
    {
     "name": "stderr",
     "output_type": "stream",
     "text": [
      "0% [##############################] 100% | ETA: 00:00:00"
     ]
    },
    {
     "name": "stdout",
     "output_type": "stream",
     "text": [
      "2018-03-19 11:03:15.273048 EDT | fitting baseline...\n",
      "2018-03-19 11:03:15.303552 EDT | fitted\n"
     ]
    },
    {
     "name": "stderr",
     "output_type": "stream",
     "text": [
      "\n",
      "Total time elapsed: 00:00:06\n"
     ]
    },
    {
     "name": "stdout",
     "output_type": "stream",
     "text": [
      "2018-03-19 11:03:15.824400 EDT | computing loss before\n",
      "2018-03-19 11:03:16.062740 EDT | performing update\n",
      "2018-03-19 11:03:16.063994 EDT | computing descent direction\n",
      "2018-03-19 11:03:20.408707 EDT | descent direction computed\n",
      "2018-03-19 11:03:20.862616 EDT | backtrack iters: 1\n",
      "2018-03-19 11:03:20.864013 EDT | computing loss after\n",
      "2018-03-19 11:03:20.865037 EDT | optimization finished\n",
      "2018-03-19 11:03:21.290319 EDT | Protag Reward: 320.96902810431726\n",
      "2018-03-19 11:03:21.291570 EDT | itr #0 | \n"
     ]
    },
    {
     "name": "stderr",
     "output_type": "stream",
     "text": [
      "0% [##############################] 100% | ETA: 00:00:00\n",
      "Total time elapsed: 00:00:05\n"
     ]
    },
    {
     "name": "stdout",
     "output_type": "stream",
     "text": [
      "2018-03-19 11:03:26.874262 EDT | fitting baseline...\n",
      "2018-03-19 11:03:26.894578 EDT | fitted\n",
      "2018-03-19 11:03:27.363383 EDT | computing loss before\n",
      "2018-03-19 11:03:27.561455 EDT | performing update\n",
      "2018-03-19 11:03:27.562909 EDT | computing descent direction\n",
      "2018-03-19 11:03:31.149627 EDT | descent direction computed\n",
      "2018-03-19 11:03:31.341324 EDT | backtrack iters: 0\n",
      "2018-03-19 11:03:31.342682 EDT | computing loss after\n",
      "2018-03-19 11:03:31.344020 EDT | optimization finished\n",
      "2018-03-19 11:03:31.721084 EDT | Advers Reward: -321.00986985666555\n",
      "2018-03-19 11:03:35.423696 EDT | \n",
      "\n",
      "Experiment: 0 Iteration: 70\n",
      "\n",
      "2018-03-19 11:03:35.427369 EDT | itr #0 | \n"
     ]
    },
    {
     "name": "stderr",
     "output_type": "stream",
     "text": [
      "0% [##############################] 100% | ETA: 00:00:00"
     ]
    },
    {
     "name": "stdout",
     "output_type": "stream",
     "text": [
      "2018-03-19 11:03:41.225925 EDT | fitting baseline...\n",
      "2018-03-19 11:03:41.255570 EDT | fitted\n"
     ]
    },
    {
     "name": "stderr",
     "output_type": "stream",
     "text": [
      "\n",
      "Total time elapsed: 00:00:05\n"
     ]
    },
    {
     "name": "stdout",
     "output_type": "stream",
     "text": [
      "2018-03-19 11:03:41.705903 EDT | computing loss before\n",
      "2018-03-19 11:03:41.920339 EDT | performing update\n",
      "2018-03-19 11:03:41.921429 EDT | computing descent direction\n",
      "2018-03-19 11:03:45.875639 EDT | descent direction computed\n",
      "2018-03-19 11:03:46.077653 EDT | backtrack iters: 0\n",
      "2018-03-19 11:03:46.081269 EDT | computing loss after\n",
      "2018-03-19 11:03:46.084353 EDT | optimization finished\n",
      "2018-03-19 11:03:46.488966 EDT | Protag Reward: 313.9172894471446\n",
      "2018-03-19 11:03:46.490192 EDT | itr #0 | \n"
     ]
    },
    {
     "name": "stderr",
     "output_type": "stream",
     "text": [
      "0% [##############################] 100% | ETA: 00:00:00"
     ]
    },
    {
     "name": "stdout",
     "output_type": "stream",
     "text": [
      "2018-03-19 11:03:51.574661 EDT | fitting baseline...\n",
      "2018-03-19 11:03:51.598855 EDT | fitted\n"
     ]
    },
    {
     "name": "stderr",
     "output_type": "stream",
     "text": [
      "\n",
      "Total time elapsed: 00:00:04\n"
     ]
    },
    {
     "name": "stdout",
     "output_type": "stream",
     "text": [
      "2018-03-19 11:03:52.000840 EDT | computing loss before\n",
      "2018-03-19 11:03:52.184462 EDT | performing update\n",
      "2018-03-19 11:03:52.188968 EDT | computing descent direction\n",
      "2018-03-19 11:03:55.552578 EDT | descent direction computed\n",
      "2018-03-19 11:03:55.905629 EDT | backtrack iters: 1\n",
      "2018-03-19 11:03:55.909770 EDT | computing loss after\n",
      "2018-03-19 11:03:55.913469 EDT | optimization finished\n",
      "2018-03-19 11:03:56.266125 EDT | Advers Reward: -316.61561751954054\n",
      "2018-03-19 11:03:58.713422 EDT | \n",
      "\n",
      "Experiment: 0 Iteration: 71\n",
      "\n",
      "2018-03-19 11:03:58.716928 EDT | itr #0 | \n"
     ]
    },
    {
     "name": "stderr",
     "output_type": "stream",
     "text": [
      "0% [##############################] 100% | ETA: 00:00:00"
     ]
    },
    {
     "name": "stdout",
     "output_type": "stream",
     "text": [
      "2018-03-19 11:04:06.151004 EDT | fitting baseline...\n"
     ]
    },
    {
     "name": "stderr",
     "output_type": "stream",
     "text": [
      "\n",
      "Total time elapsed: 00:00:07\n"
     ]
    },
    {
     "name": "stdout",
     "output_type": "stream",
     "text": [
      "2018-03-19 11:04:06.185439 EDT | fitted\n",
      "2018-03-19 11:04:06.851863 EDT | computing loss before\n",
      "2018-03-19 11:04:07.322139 EDT | performing update\n",
      "2018-03-19 11:04:07.324667 EDT | computing descent direction\n",
      "2018-03-19 11:04:11.649160 EDT | descent direction computed\n",
      "2018-03-19 11:04:12.100923 EDT | backtrack iters: 1\n",
      "2018-03-19 11:04:12.102312 EDT | computing loss after\n",
      "2018-03-19 11:04:12.103209 EDT | optimization finished\n",
      "2018-03-19 11:04:12.550380 EDT | Protag Reward: 327.5704574174897\n",
      "2018-03-19 11:04:12.551877 EDT | itr #0 | \n"
     ]
    },
    {
     "name": "stderr",
     "output_type": "stream",
     "text": [
      "0% [##############################] 100% | ETA: 00:00:00\n",
      "Total time elapsed: 00:00:05\n"
     ]
    },
    {
     "name": "stdout",
     "output_type": "stream",
     "text": [
      "2018-03-19 11:04:18.684667 EDT | fitting baseline...\n",
      "2018-03-19 11:04:18.710871 EDT | fitted\n",
      "2018-03-19 11:04:19.129795 EDT | computing loss before\n",
      "2018-03-19 11:04:19.325448 EDT | performing update\n",
      "2018-03-19 11:04:19.328963 EDT | computing descent direction\n",
      "2018-03-19 11:04:22.902287 EDT | descent direction computed\n",
      "2018-03-19 11:04:23.093938 EDT | backtrack iters: 0\n",
      "2018-03-19 11:04:23.095395 EDT | computing loss after\n",
      "2018-03-19 11:04:23.096495 EDT | optimization finished\n",
      "2018-03-19 11:04:23.469461 EDT | Advers Reward: -333.20961496156497\n",
      "2018-03-19 11:04:27.338159 EDT | \n",
      "\n",
      "Experiment: 0 Iteration: 72\n",
      "\n",
      "2018-03-19 11:04:27.339219 EDT | itr #0 | \n"
     ]
    },
    {
     "name": "stderr",
     "output_type": "stream",
     "text": [
      "0% [##############################] 100% | ETA: 00:00:00\n",
      "Total time elapsed: 00:00:05\n"
     ]
    },
    {
     "name": "stdout",
     "output_type": "stream",
     "text": [
      "2018-03-19 11:04:33.076838 EDT | fitting baseline...\n",
      "2018-03-19 11:04:33.103717 EDT | fitted\n",
      "2018-03-19 11:04:33.559004 EDT | computing loss before\n",
      "2018-03-19 11:04:33.773392 EDT | performing update\n",
      "2018-03-19 11:04:33.774509 EDT | computing descent direction\n",
      "2018-03-19 11:04:37.732812 EDT | descent direction computed\n",
      "2018-03-19 11:04:38.134353 EDT | backtrack iters: 1\n",
      "2018-03-19 11:04:38.135858 EDT | computing loss after\n",
      "2018-03-19 11:04:38.137007 EDT | optimization finished\n",
      "2018-03-19 11:04:38.543143 EDT | Protag Reward: 313.10515183403817\n",
      "2018-03-19 11:04:38.544448 EDT | itr #0 | \n"
     ]
    },
    {
     "name": "stderr",
     "output_type": "stream",
     "text": [
      "0% [##############################] 100% | ETA: 00:00:00"
     ]
    },
    {
     "name": "stdout",
     "output_type": "stream",
     "text": [
      "2018-03-19 11:04:43.831452 EDT | fitting baseline...\n",
      "2018-03-19 11:04:43.857941 EDT | fitted\n"
     ]
    },
    {
     "name": "stderr",
     "output_type": "stream",
     "text": [
      "\n",
      "Total time elapsed: 00:00:05\n"
     ]
    },
    {
     "name": "stdout",
     "output_type": "stream",
     "text": [
      "2018-03-19 11:04:44.244726 EDT | computing loss before\n",
      "2018-03-19 11:04:44.428318 EDT | performing update\n",
      "2018-03-19 11:04:44.431795 EDT | computing descent direction\n",
      "2018-03-19 11:04:47.731012 EDT | descent direction computed\n",
      "2018-03-19 11:04:47.907820 EDT | backtrack iters: 0\n",
      "2018-03-19 11:04:47.911011 EDT | computing loss after\n",
      "2018-03-19 11:04:47.913861 EDT | optimization finished\n",
      "2018-03-19 11:04:48.259552 EDT | Advers Reward: -324.8976807659036\n",
      "2018-03-19 11:04:51.970123 EDT | \n",
      "\n",
      "Experiment: 0 Iteration: 73\n",
      "\n",
      "2018-03-19 11:04:51.973695 EDT | itr #0 | \n"
     ]
    },
    {
     "name": "stderr",
     "output_type": "stream",
     "text": [
      "0% [##############################] 100% | ETA: 00:00:00"
     ]
    },
    {
     "name": "stdout",
     "output_type": "stream",
     "text": [
      "2018-03-19 11:04:57.834286 EDT | fitting baseline...\n",
      "2018-03-19 11:04:57.858561 EDT | fitted\n"
     ]
    },
    {
     "name": "stderr",
     "output_type": "stream",
     "text": [
      "\n",
      "Total time elapsed: 00:00:05\n"
     ]
    },
    {
     "name": "stdout",
     "output_type": "stream",
     "text": [
      "2018-03-19 11:04:58.367474 EDT | computing loss before\n",
      "2018-03-19 11:04:58.779579 EDT | performing update\n",
      "2018-03-19 11:04:58.782718 EDT | computing descent direction\n",
      "2018-03-19 11:05:03.463558 EDT | descent direction computed\n",
      "2018-03-19 11:05:03.925355 EDT | backtrack iters: 1\n",
      "2018-03-19 11:05:03.926751 EDT | computing loss after\n",
      "2018-03-19 11:05:03.927629 EDT | optimization finished\n",
      "2018-03-19 11:05:04.379865 EDT | Protag Reward: 323.34602418248244\n",
      "2018-03-19 11:05:04.381193 EDT | itr #0 | \n"
     ]
    },
    {
     "name": "stderr",
     "output_type": "stream",
     "text": [
      "0% [##############################] 100% | ETA: 00:00:00"
     ]
    },
    {
     "name": "stdout",
     "output_type": "stream",
     "text": [
      "2018-03-19 11:05:10.028010 EDT | fitting baseline...\n",
      "2018-03-19 11:05:10.054232 EDT | fitted\n"
     ]
    },
    {
     "name": "stderr",
     "output_type": "stream",
     "text": [
      "\n",
      "Total time elapsed: 00:00:05\n"
     ]
    },
    {
     "name": "stdout",
     "output_type": "stream",
     "text": [
      "2018-03-19 11:05:10.467519 EDT | computing loss before\n",
      "2018-03-19 11:05:10.664421 EDT | performing update\n",
      "2018-03-19 11:05:10.674465 EDT | computing descent direction\n",
      "2018-03-19 11:05:14.205815 EDT | descent direction computed\n",
      "2018-03-19 11:05:14.573516 EDT | backtrack iters: 1\n",
      "2018-03-19 11:05:14.574858 EDT | computing loss after\n",
      "2018-03-19 11:05:14.576220 EDT | optimization finished\n",
      "2018-03-19 11:05:14.944384 EDT | Advers Reward: -318.6906266089274\n",
      "2018-03-19 11:05:17.816497 EDT | \n",
      "\n",
      "Experiment: 0 Iteration: 74\n",
      "\n",
      "2018-03-19 11:05:17.820006 EDT | itr #0 | \n"
     ]
    },
    {
     "name": "stderr",
     "output_type": "stream",
     "text": [
      "0% [##############################] 100% | ETA: 00:00:00\n",
      "Total time elapsed: 00:00:06\n"
     ]
    },
    {
     "name": "stdout",
     "output_type": "stream",
     "text": [
      "2018-03-19 11:05:24.603496 EDT | fitting baseline...\n",
      "2018-03-19 11:05:24.631077 EDT | fitted\n",
      "2018-03-19 11:05:25.109901 EDT | computing loss before\n",
      "2018-03-19 11:05:25.322421 EDT | performing update\n",
      "2018-03-19 11:05:25.323420 EDT | computing descent direction\n",
      "2018-03-19 11:05:29.693979 EDT | descent direction computed\n",
      "2018-03-19 11:05:30.100181 EDT | backtrack iters: 1\n",
      "2018-03-19 11:05:30.101622 EDT | computing loss after\n",
      "2018-03-19 11:05:30.102773 EDT | optimization finished\n",
      "2018-03-19 11:05:30.510939 EDT | Protag Reward: 313.8722255858261\n",
      "2018-03-19 11:05:30.512155 EDT | itr #0 | \n"
     ]
    },
    {
     "name": "stderr",
     "output_type": "stream",
     "text": [
      "0% [##############################] 100% | ETA: 00:00:00\n",
      "Total time elapsed: 00:00:05\n"
     ]
    },
    {
     "name": "stdout",
     "output_type": "stream",
     "text": [
      "2018-03-19 11:05:35.874364 EDT | fitting baseline...\n",
      "2018-03-19 11:05:35.896047 EDT | fitted\n",
      "2018-03-19 11:05:36.287116 EDT | computing loss before\n",
      "2018-03-19 11:05:36.470291 EDT | performing update\n",
      "2018-03-19 11:05:36.473656 EDT | computing descent direction\n",
      "2018-03-19 11:05:39.788399 EDT | descent direction computed\n",
      "2018-03-19 11:05:39.966475 EDT | backtrack iters: 0\n",
      "2018-03-19 11:05:39.969599 EDT | computing loss after\n",
      "2018-03-19 11:05:39.972310 EDT | optimization finished\n",
      "2018-03-19 11:05:40.323882 EDT | Advers Reward: -311.8170172265561\n",
      "2018-03-19 11:05:44.203989 EDT | \n",
      "\n",
      "Experiment: 0 Iteration: 75\n",
      "\n",
      "2018-03-19 11:05:44.204976 EDT | itr #0 | \n"
     ]
    },
    {
     "name": "stderr",
     "output_type": "stream",
     "text": [
      "0% [##############################] 100% | ETA: 00:00:00\n",
      "Total time elapsed: 00:00:05\n"
     ]
    },
    {
     "name": "stdout",
     "output_type": "stream",
     "text": [
      "2018-03-19 11:05:49.989288 EDT | fitting baseline...\n",
      "2018-03-19 11:05:50.031854 EDT | fitted\n",
      "2018-03-19 11:05:50.784994 EDT | computing loss before\n",
      "2018-03-19 11:05:51.267023 EDT | performing update\n",
      "2018-03-19 11:05:51.269975 EDT | computing descent direction\n",
      "2018-03-19 11:05:55.526726 EDT | descent direction computed\n",
      "2018-03-19 11:05:55.983347 EDT | backtrack iters: 1\n",
      "2018-03-19 11:05:55.984541 EDT | computing loss after\n",
      "2018-03-19 11:05:55.985522 EDT | optimization finished\n",
      "2018-03-19 11:05:56.430622 EDT | Protag Reward: 318.8158329110379\n",
      "2018-03-19 11:05:56.431982 EDT | itr #0 | \n"
     ]
    },
    {
     "name": "stderr",
     "output_type": "stream",
     "text": [
      "0% [##############################] 100% | ETA: 00:00:00\n",
      "Total time elapsed: 00:00:05\n"
     ]
    },
    {
     "name": "stdout",
     "output_type": "stream",
     "text": [
      "2018-03-19 11:06:02.303011 EDT | fitting baseline...\n",
      "2018-03-19 11:06:02.325059 EDT | fitted\n",
      "2018-03-19 11:06:02.745583 EDT | computing loss before\n",
      "2018-03-19 11:06:02.974516 EDT | performing update\n",
      "2018-03-19 11:06:02.975870 EDT | computing descent direction\n",
      "2018-03-19 11:06:06.592101 EDT | descent direction computed\n",
      "2018-03-19 11:06:06.785604 EDT | backtrack iters: 0\n",
      "2018-03-19 11:06:06.788974 EDT | computing loss after\n",
      "2018-03-19 11:06:06.792723 EDT | optimization finished\n",
      "2018-03-19 11:06:07.166936 EDT | Advers Reward: -327.7412285986405\n",
      "2018-03-19 11:06:10.643498 EDT | \n",
      "\n",
      "Experiment: 0 Iteration: 76\n",
      "\n",
      "2018-03-19 11:06:10.646947 EDT | itr #0 | \n"
     ]
    },
    {
     "name": "stderr",
     "output_type": "stream",
     "text": [
      "0% [##############################] 100% | ETA: 00:00:00\n",
      "Total time elapsed: 00:00:05\n"
     ]
    },
    {
     "name": "stdout",
     "output_type": "stream",
     "text": [
      "2018-03-19 11:06:16.578511 EDT | fitting baseline...\n",
      "2018-03-19 11:06:16.603388 EDT | fitted\n",
      "2018-03-19 11:06:16.966277 EDT | computing loss before\n",
      "2018-03-19 11:06:17.131801 EDT | performing update\n",
      "2018-03-19 11:06:17.135711 EDT | computing descent direction\n",
      "2018-03-19 11:06:22.241945 EDT | descent direction computed\n",
      "2018-03-19 11:06:22.735333 EDT | backtrack iters: 1\n",
      "2018-03-19 11:06:22.736449 EDT | computing loss after\n",
      "2018-03-19 11:06:22.737470 EDT | optimization finished\n",
      "2018-03-19 11:06:23.138101 EDT | Protag Reward: 332.4662518819996\n",
      "2018-03-19 11:06:23.139765 EDT | itr #0 | \n"
     ]
    },
    {
     "name": "stderr",
     "output_type": "stream",
     "text": [
      "0% [##############################] 100% | ETA: 00:00:00"
     ]
    },
    {
     "name": "stdout",
     "output_type": "stream",
     "text": [
      "2018-03-19 11:06:30.375967 EDT | fitting baseline...\n",
      "2018-03-19 11:06:30.410807 EDT | fitted\n"
     ]
    },
    {
     "name": "stderr",
     "output_type": "stream",
     "text": [
      "\n",
      "Total time elapsed: 00:00:07\n"
     ]
    },
    {
     "name": "stdout",
     "output_type": "stream",
     "text": [
      "2018-03-19 11:06:30.875103 EDT | computing loss before\n",
      "2018-03-19 11:06:31.092099 EDT | performing update\n",
      "2018-03-19 11:06:31.099725 EDT | computing descent direction\n",
      "2018-03-19 11:06:35.363306 EDT | descent direction computed\n",
      "2018-03-19 11:14:27.239336 EDT | backtrack iters: 0\n",
      "2018-03-19 11:14:27.240317 EDT | computing loss after\n",
      "2018-03-19 11:14:27.241232 EDT | optimization finished\n",
      "2018-03-19 11:14:27.615603 EDT | Advers Reward: -318.0926271604844\n",
      "2018-03-19 11:14:30.983161 EDT | \n",
      "\n",
      "Experiment: 0 Iteration: 77\n",
      "\n",
      "2018-03-19 11:14:30.984971 EDT | itr #0 | \n"
     ]
    },
    {
     "name": "stderr",
     "output_type": "stream",
     "text": [
      "0% [##############################] 100% | ETA: 00:00:00\n",
      "Total time elapsed: 00:00:07\n"
     ]
    },
    {
     "name": "stdout",
     "output_type": "stream",
     "text": [
      "2018-03-19 11:14:39.688224 EDT | fitting baseline...\n",
      "2018-03-19 11:14:39.723677 EDT | fitted\n",
      "2018-03-19 11:14:40.344365 EDT | computing loss before\n",
      "2018-03-19 11:14:40.539201 EDT | performing update\n",
      "2018-03-19 11:14:40.542794 EDT | computing descent direction\n",
      "2018-03-19 11:14:47.929241 EDT | descent direction computed\n",
      "2018-03-19 11:14:48.190527 EDT | backtrack iters: 0\n",
      "2018-03-19 11:14:48.193448 EDT | computing loss after\n",
      "2018-03-19 11:14:48.197058 EDT | optimization finished\n",
      "2018-03-19 11:14:48.708682 EDT | Protag Reward: 339.7864876768081\n",
      "2018-03-19 11:14:48.713096 EDT | itr #0 | \n"
     ]
    },
    {
     "name": "stderr",
     "output_type": "stream",
     "text": [
      "0% [##############################] 100% | ETA: 00:00:00"
     ]
    },
    {
     "name": "stdout",
     "output_type": "stream",
     "text": [
      "2018-03-19 11:15:01.871584 EDT | fitting baseline...\n",
      "2018-03-19 11:15:01.891280 EDT | fitted\n"
     ]
    },
    {
     "name": "stderr",
     "output_type": "stream",
     "text": [
      "\n",
      "Total time elapsed: 00:00:12\n"
     ]
    },
    {
     "name": "stdout",
     "output_type": "stream",
     "text": [
      "2018-03-19 11:15:02.264680 EDT | computing loss before\n",
      "2018-03-19 11:15:02.452075 EDT | performing update\n",
      "2018-03-19 11:15:02.455301 EDT | computing descent direction\n",
      "2018-03-19 11:15:06.659480 EDT | descent direction computed\n",
      "2018-03-19 11:15:07.002336 EDT | backtrack iters: 1\n",
      "2018-03-19 11:15:07.003490 EDT | computing loss after\n",
      "2018-03-19 11:15:07.004448 EDT | optimization finished\n",
      "2018-03-19 11:15:07.497505 EDT | Advers Reward: -335.9979015660322\n",
      "2018-03-19 11:15:14.006806 EDT | \n",
      "\n",
      "Experiment: 0 Iteration: 78\n",
      "\n",
      "2018-03-19 11:15:14.008491 EDT | itr #0 | \n"
     ]
    },
    {
     "name": "stderr",
     "output_type": "stream",
     "text": [
      "0% [##############################] 100% | ETA: 00:00:00\n",
      "Total time elapsed: 00:00:09\n"
     ]
    },
    {
     "name": "stdout",
     "output_type": "stream",
     "text": [
      "2018-03-19 11:15:23.555806 EDT | fitting baseline...\n",
      "2018-03-19 11:15:23.577589 EDT | fitted\n",
      "2018-03-19 11:15:23.944588 EDT | computing loss before\n",
      "2018-03-19 11:15:24.112604 EDT | performing update\n",
      "2018-03-19 11:15:24.116694 EDT | computing descent direction\n",
      "2018-03-19 11:15:27.670164 EDT | descent direction computed\n",
      "2018-03-19 11:15:27.835153 EDT | backtrack iters: 0\n",
      "2018-03-19 11:15:27.838199 EDT | computing loss after\n",
      "2018-03-19 11:15:27.841028 EDT | optimization finished\n",
      "2018-03-19 11:15:28.164739 EDT | Protag Reward: 342.19478137978274\n",
      "2018-03-19 11:15:28.167800 EDT | itr #0 | \n"
     ]
    },
    {
     "name": "stderr",
     "output_type": "stream",
     "text": [
      "0% [##############################] 100% | ETA: 00:00:00"
     ]
    },
    {
     "name": "stdout",
     "output_type": "stream",
     "text": [
      "2018-03-19 11:15:34.465226 EDT | fitting baseline...\n",
      "2018-03-19 11:15:34.489101 EDT | fitted\n"
     ]
    },
    {
     "name": "stderr",
     "output_type": "stream",
     "text": [
      "\n",
      "Total time elapsed: 00:00:06\n"
     ]
    },
    {
     "name": "stdout",
     "output_type": "stream",
     "text": [
      "2018-03-19 11:15:34.862103 EDT | computing loss before\n",
      "2018-03-19 11:15:35.040336 EDT | performing update\n",
      "2018-03-19 11:15:35.046710 EDT | computing descent direction\n",
      "2018-03-19 11:15:39.386902 EDT | descent direction computed\n",
      "2018-03-19 11:15:39.588450 EDT | backtrack iters: 0\n",
      "2018-03-19 11:15:39.589436 EDT | computing loss after\n",
      "2018-03-19 11:15:39.594644 EDT | optimization finished\n",
      "2018-03-19 11:15:39.913968 EDT | Advers Reward: -345.2351296385396\n",
      "2018-03-19 11:15:43.125686 EDT | \n",
      "\n",
      "Experiment: 0 Iteration: 79\n",
      "\n",
      "2018-03-19 11:15:43.131589 EDT | itr #0 | \n"
     ]
    },
    {
     "name": "stderr",
     "output_type": "stream",
     "text": [
      "0% [##############################] 100% | ETA: 00:00:00\n",
      "Total time elapsed: 00:00:07\n"
     ]
    },
    {
     "name": "stdout",
     "output_type": "stream",
     "text": [
      "2018-03-19 11:15:50.322201 EDT | fitting baseline...\n",
      "2018-03-19 11:15:50.344065 EDT | fitted\n",
      "2018-03-19 11:15:50.777419 EDT | computing loss before\n",
      "2018-03-19 11:15:51.017978 EDT | performing update\n",
      "2018-03-19 11:15:51.020680 EDT | computing descent direction\n",
      "2018-03-19 11:15:54.222572 EDT | descent direction computed\n",
      "2018-03-19 11:15:54.438379 EDT | backtrack iters: 0\n",
      "2018-03-19 11:15:54.440824 EDT | computing loss after\n",
      "2018-03-19 11:15:54.441694 EDT | optimization finished\n",
      "2018-03-19 11:15:54.777113 EDT | Protag Reward: 355.5113302010191\n",
      "2018-03-19 11:15:54.778488 EDT | itr #0 | \n"
     ]
    },
    {
     "name": "stderr",
     "output_type": "stream",
     "text": [
      "0% [##############################] 100% | ETA: 00:00:00"
     ]
    },
    {
     "name": "stdout",
     "output_type": "stream",
     "text": [
      "2018-03-19 11:16:02.101210 EDT | fitting baseline...\n"
     ]
    },
    {
     "name": "stderr",
     "output_type": "stream",
     "text": [
      "\n",
      "Total time elapsed: 00:00:07\n"
     ]
    },
    {
     "name": "stdout",
     "output_type": "stream",
     "text": [
      "2018-03-19 11:16:02.122292 EDT | fitted\n",
      "2018-03-19 11:16:02.522654 EDT | computing loss before\n",
      "2018-03-19 11:16:02.721882 EDT | performing update\n",
      "2018-03-19 11:16:02.729496 EDT | computing descent direction\n",
      "2018-03-19 11:16:05.785568 EDT | descent direction computed\n",
      "2018-03-19 11:16:05.943407 EDT | backtrack iters: 0\n",
      "2018-03-19 11:16:05.946267 EDT | computing loss after\n",
      "2018-03-19 11:16:05.948816 EDT | optimization finished\n",
      "2018-03-19 11:16:06.245505 EDT | Advers Reward: -333.43782510957703\n",
      "2018-03-19 11:16:09.802329 EDT | \n",
      "\n",
      "Experiment: 0 Iteration: 80\n",
      "\n",
      "2018-03-19 11:16:09.803486 EDT | itr #0 | \n"
     ]
    },
    {
     "name": "stderr",
     "output_type": "stream",
     "text": [
      "0% [##############################] 100% | ETA: 00:00:00"
     ]
    },
    {
     "name": "stdout",
     "output_type": "stream",
     "text": [
      "2018-03-19 11:16:16.864312 EDT | fitting baseline...\n",
      "2018-03-19 11:16:16.886286 EDT | fitted\n"
     ]
    },
    {
     "name": "stderr",
     "output_type": "stream",
     "text": [
      "\n",
      "Total time elapsed: 00:00:06\n"
     ]
    },
    {
     "name": "stdout",
     "output_type": "stream",
     "text": [
      "2018-03-19 11:16:17.236120 EDT | computing loss before\n",
      "2018-03-19 11:16:17.395961 EDT | performing update\n",
      "2018-03-19 11:16:17.398839 EDT | computing descent direction\n",
      "2018-03-19 11:16:20.682962 EDT | descent direction computed\n",
      "2018-03-19 11:16:20.843697 EDT | backtrack iters: 0\n",
      "2018-03-19 11:16:20.846558 EDT | computing loss after\n",
      "2018-03-19 11:16:20.849188 EDT | optimization finished\n",
      "2018-03-19 11:16:21.163676 EDT | Protag Reward: 335.1576105228344\n",
      "2018-03-19 11:16:21.164930 EDT | itr #0 | \n"
     ]
    },
    {
     "name": "stderr",
     "output_type": "stream",
     "text": [
      "0% [##############################] 100% | ETA: 00:00:00"
     ]
    },
    {
     "name": "stdout",
     "output_type": "stream",
     "text": [
      "2018-03-19 11:16:25.347110 EDT | fitting baseline...\n"
     ]
    },
    {
     "name": "stderr",
     "output_type": "stream",
     "text": [
      "\n",
      "Total time elapsed: 00:00:03\n"
     ]
    },
    {
     "name": "stdout",
     "output_type": "stream",
     "text": [
      "2018-03-19 11:16:25.368073 EDT | fitted\n",
      "2018-03-19 11:16:25.710674 EDT | computing loss before\n",
      "2018-03-19 11:16:25.868854 EDT | performing update\n",
      "2018-03-19 11:16:25.871782 EDT | computing descent direction\n",
      "2018-03-19 11:16:28.923230 EDT | descent direction computed\n",
      "2018-03-19 11:16:29.083571 EDT | backtrack iters: 0\n",
      "2018-03-19 11:16:29.086383 EDT | computing loss after\n",
      "2018-03-19 11:16:29.088704 EDT | optimization finished\n",
      "2018-03-19 11:16:29.408298 EDT | Advers Reward: -340.67684431561116\n",
      "2018-03-19 11:16:33.412877 EDT | \n",
      "\n",
      "Experiment: 0 Iteration: 81\n",
      "\n",
      "2018-03-19 11:16:33.413735 EDT | itr #0 | \n"
     ]
    },
    {
     "name": "stderr",
     "output_type": "stream",
     "text": [
      "0% [##############################] 100% | ETA: 00:00:00\n",
      "Total time elapsed: 00:00:03\n"
     ]
    },
    {
     "name": "stdout",
     "output_type": "stream",
     "text": [
      "2018-03-19 11:16:37.460667 EDT | fitting baseline...\n",
      "2018-03-19 11:16:37.482640 EDT | fitted\n",
      "2018-03-19 11:16:37.834812 EDT | computing loss before\n",
      "2018-03-19 11:16:37.994023 EDT | performing update\n",
      "2018-03-19 11:16:37.996905 EDT | computing descent direction\n",
      "2018-03-19 11:16:42.508380 EDT | descent direction computed\n",
      "2018-03-19 11:16:42.827511 EDT | backtrack iters: 1\n",
      "2018-03-19 11:16:42.828685 EDT | computing loss after\n",
      "2018-03-19 11:16:42.829579 EDT | optimization finished\n",
      "2018-03-19 11:16:43.146636 EDT | Protag Reward: 325.8746275227334\n",
      "2018-03-19 11:16:43.148018 EDT | itr #0 | \n"
     ]
    },
    {
     "name": "stderr",
     "output_type": "stream",
     "text": [
      "0% [##############################] 100% | ETA: 00:00:00\n",
      "Total time elapsed: 00:00:05\n"
     ]
    },
    {
     "name": "stdout",
     "output_type": "stream",
     "text": [
      "2018-03-19 11:16:48.787374 EDT | fitting baseline...\n",
      "2018-03-19 11:16:48.811539 EDT | fitted\n",
      "2018-03-19 11:16:49.148196 EDT | computing loss before\n",
      "2018-03-19 11:16:49.301236 EDT | performing update\n",
      "2018-03-19 11:16:49.302360 EDT | computing descent direction\n",
      "2018-03-19 11:16:52.237160 EDT | descent direction computed\n",
      "2018-03-19 11:16:52.392698 EDT | backtrack iters: 0\n",
      "2018-03-19 11:16:52.393821 EDT | computing loss after\n",
      "2018-03-19 11:16:52.394852 EDT | optimization finished\n",
      "2018-03-19 11:16:52.700180 EDT | Advers Reward: -350.77506153540304\n",
      "2018-03-19 11:16:56.667819 EDT | \n",
      "\n",
      "Experiment: 0 Iteration: 82\n",
      "\n",
      "2018-03-19 11:16:56.669543 EDT | itr #0 | \n"
     ]
    },
    {
     "name": "stderr",
     "output_type": "stream",
     "text": [
      "0% [##############################] 100% | ETA: 00:00:00\n",
      "Total time elapsed: 00:00:05\n"
     ]
    },
    {
     "name": "stdout",
     "output_type": "stream",
     "text": [
      "2018-03-19 11:17:02.251327 EDT | fitting baseline...\n",
      "2018-03-19 11:17:02.272862 EDT | fitted\n",
      "2018-03-19 11:17:02.622740 EDT | computing loss before\n",
      "2018-03-19 11:17:02.791148 EDT | performing update\n",
      "2018-03-19 11:17:02.795791 EDT | computing descent direction\n",
      "2018-03-19 11:17:05.908044 EDT | descent direction computed\n",
      "2018-03-19 11:17:06.220352 EDT | backtrack iters: 1\n",
      "2018-03-19 11:17:06.223205 EDT | computing loss after\n",
      "2018-03-19 11:17:06.225671 EDT | optimization finished\n",
      "2018-03-19 11:17:06.541955 EDT | Protag Reward: 354.4878586913979\n",
      "2018-03-19 11:17:06.545026 EDT | itr #0 | \n"
     ]
    },
    {
     "name": "stderr",
     "output_type": "stream",
     "text": [
      "0% [##############################] 100% | ETA: 00:00:00\n",
      "Total time elapsed: 00:00:05\n"
     ]
    },
    {
     "name": "stdout",
     "output_type": "stream",
     "text": [
      "2018-03-19 11:17:12.938486 EDT | fitting baseline...\n",
      "2018-03-19 11:17:13.005311 EDT | fitted\n",
      "2018-03-19 11:17:13.983852 EDT | computing loss before\n",
      "2018-03-19 11:17:14.464814 EDT | performing update\n",
      "2018-03-19 11:17:14.468870 EDT | computing descent direction\n",
      "2018-03-19 11:17:18.767834 EDT | descent direction computed\n",
      "2018-03-19 11:17:18.927142 EDT | backtrack iters: 0\n",
      "2018-03-19 11:17:18.930034 EDT | computing loss after\n",
      "2018-03-19 11:17:18.932686 EDT | optimization finished\n",
      "2018-03-19 11:17:19.246690 EDT | Advers Reward: -338.10595938976076\n",
      "2018-03-19 11:17:22.949262 EDT | \n",
      "\n",
      "Experiment: 0 Iteration: 83\n",
      "\n",
      "2018-03-19 11:17:22.950418 EDT | itr #0 | \n"
     ]
    },
    {
     "name": "stderr",
     "output_type": "stream",
     "text": [
      "0% [##############################] 100% | ETA: 00:00:00\n",
      "Total time elapsed: 00:00:06\n"
     ]
    },
    {
     "name": "stdout",
     "output_type": "stream",
     "text": [
      "2018-03-19 11:17:29.288466 EDT | fitting baseline...\n",
      "2018-03-19 11:17:29.309891 EDT | fitted\n",
      "2018-03-19 11:17:29.700810 EDT | computing loss before\n",
      "2018-03-19 11:17:29.868931 EDT | performing update\n",
      "2018-03-19 11:17:29.871842 EDT | computing descent direction\n",
      "2018-03-19 11:17:34.561014 EDT | descent direction computed\n",
      "2018-03-19 11:17:34.900996 EDT | backtrack iters: 1\n",
      "2018-03-19 11:17:34.902209 EDT | computing loss after\n",
      "2018-03-19 11:17:34.903141 EDT | optimization finished\n",
      "2018-03-19 11:17:35.251718 EDT | Protag Reward: 337.79911361460137\n",
      "2018-03-19 11:17:35.260701 EDT | itr #0 | \n"
     ]
    },
    {
     "name": "stderr",
     "output_type": "stream",
     "text": [
      "0% [##############################] 100% | ETA: 00:00:00\n",
      "Total time elapsed: 00:00:06\n"
     ]
    },
    {
     "name": "stdout",
     "output_type": "stream",
     "text": [
      "2018-03-19 11:17:41.767852 EDT | fitting baseline...\n",
      "2018-03-19 11:17:41.794586 EDT | fitted\n",
      "2018-03-19 11:17:42.151794 EDT | computing loss before\n",
      "2018-03-19 11:17:42.312056 EDT | performing update\n",
      "2018-03-19 11:17:42.315063 EDT | computing descent direction\n",
      "2018-03-19 11:17:48.736311 EDT | descent direction computed\n",
      "2018-03-19 11:17:48.925211 EDT | backtrack iters: 0\n",
      "2018-03-19 11:17:48.927285 EDT | computing loss after\n",
      "2018-03-19 11:17:48.928495 EDT | optimization finished\n",
      "2018-03-19 11:17:49.414811 EDT | Advers Reward: -355.64020579092727\n",
      "2018-03-19 11:17:56.901421 EDT | \n",
      "\n",
      "Experiment: 0 Iteration: 84\n",
      "\n",
      "2018-03-19 11:17:56.902651 EDT | itr #0 | \n"
     ]
    },
    {
     "name": "stderr",
     "output_type": "stream",
     "text": [
      "0% [##############################] 100% | ETA: 00:00:00\n",
      "Total time elapsed: 00:00:13\n"
     ]
    },
    {
     "name": "stdout",
     "output_type": "stream",
     "text": [
      "2018-03-19 11:18:11.404598 EDT | fitting baseline...\n",
      "2018-03-19 11:18:11.464738 EDT | fitted\n",
      "2018-03-19 11:18:11.970940 EDT | computing loss before\n",
      "2018-03-19 11:18:12.184047 EDT | performing update\n",
      "2018-03-19 11:18:12.186059 EDT | computing descent direction\n",
      "2018-03-19 11:18:19.468421 EDT | descent direction computed\n",
      "2018-03-19 11:18:19.943464 EDT | backtrack iters: 1\n",
      "2018-03-19 11:18:19.950516 EDT | computing loss after\n",
      "2018-03-19 11:18:19.953800 EDT | optimization finished\n",
      "2018-03-19 11:18:20.392358 EDT | Protag Reward: 346.9034262694374\n",
      "2018-03-19 11:18:20.395438 EDT | itr #0 | \n"
     ]
    },
    {
     "name": "stderr",
     "output_type": "stream",
     "text": [
      "0% [##############################] 100% | ETA: 00:00:00\n",
      "Total time elapsed: 00:00:21\n"
     ]
    },
    {
     "name": "stdout",
     "output_type": "stream",
     "text": [
      "2018-03-19 11:18:42.746060 EDT | fitting baseline...\n",
      "2018-03-19 11:18:42.810465 EDT | fitted\n",
      "2018-03-19 11:18:43.277171 EDT | computing loss before\n",
      "2018-03-19 11:18:43.519979 EDT | performing update\n",
      "2018-03-19 11:18:43.529286 EDT | computing descent direction\n",
      "2018-03-19 11:18:50.513046 EDT | descent direction computed\n",
      "2018-03-19 11:18:50.749538 EDT | backtrack iters: 0\n",
      "2018-03-19 11:18:50.755739 EDT | computing loss after\n",
      "2018-03-19 11:18:50.760729 EDT | optimization finished\n",
      "2018-03-19 11:18:51.241490 EDT | Advers Reward: -354.39038687469093\n",
      "2018-03-19 11:18:54.872939 EDT | \n",
      "\n",
      "Experiment: 0 Iteration: 85\n",
      "\n",
      "2018-03-19 11:18:54.874075 EDT | itr #0 | \n"
     ]
    },
    {
     "name": "stderr",
     "output_type": "stream",
     "text": [
      "0% [##############################] 100% | ETA: 00:00:00\n",
      "Total time elapsed: 00:00:05\n"
     ]
    },
    {
     "name": "stdout",
     "output_type": "stream",
     "text": [
      "2018-03-19 11:19:01.220996 EDT | fitting baseline...\n",
      "2018-03-19 11:19:01.290414 EDT | fitted\n",
      "2018-03-19 11:19:02.318855 EDT | computing loss before\n",
      "2018-03-19 11:19:02.807866 EDT | performing update\n",
      "2018-03-19 11:19:02.810740 EDT | computing descent direction\n",
      "2018-03-19 11:19:08.910606 EDT | descent direction computed\n",
      "2018-03-19 11:19:09.372769 EDT | backtrack iters: 1\n",
      "2018-03-19 11:19:09.376183 EDT | computing loss after\n",
      "2018-03-19 11:19:09.379353 EDT | optimization finished\n",
      "2018-03-19 11:19:09.898302 EDT | Protag Reward: 354.63538393584133\n",
      "2018-03-19 11:19:09.904794 EDT | itr #0 | \n"
     ]
    },
    {
     "name": "stderr",
     "output_type": "stream",
     "text": [
      "0% [##############################] 100% | ETA: 00:00:00\n",
      "Total time elapsed: 00:00:12\n"
     ]
    },
    {
     "name": "stdout",
     "output_type": "stream",
     "text": [
      "2018-03-19 11:19:23.489536 EDT | fitting baseline...\n",
      "2018-03-19 11:19:23.588408 EDT | fitted\n",
      "2018-03-19 11:19:24.114672 EDT | computing loss before\n",
      "2018-03-19 11:19:24.310377 EDT | performing update\n",
      "2018-03-19 11:19:24.320745 EDT | computing descent direction\n",
      "2018-03-19 11:19:28.157185 EDT | descent direction computed\n",
      "2018-03-19 11:19:28.343953 EDT | backtrack iters: 0\n",
      "2018-03-19 11:19:28.347158 EDT | computing loss after\n",
      "2018-03-19 11:19:28.349929 EDT | optimization finished\n",
      "2018-03-19 11:19:28.710344 EDT | Advers Reward: -346.1641147396297\n",
      "2018-03-19 11:19:33.689165 EDT | \n",
      "\n",
      "Experiment: 0 Iteration: 86\n",
      "\n",
      "2018-03-19 11:19:33.693014 EDT | itr #0 | \n"
     ]
    },
    {
     "name": "stderr",
     "output_type": "stream",
     "text": [
      "0% [##############################] 100% | ETA: 00:00:00\n",
      "Total time elapsed: 00:00:07\n"
     ]
    },
    {
     "name": "stdout",
     "output_type": "stream",
     "text": [
      "2018-03-19 11:19:41.435878 EDT | fitting baseline...\n",
      "2018-03-19 11:19:41.464192 EDT | fitted\n",
      "2018-03-19 11:19:41.919003 EDT | computing loss before\n",
      "2018-03-19 11:19:42.171654 EDT | performing update\n",
      "2018-03-19 11:19:42.172962 EDT | computing descent direction\n",
      "2018-03-19 11:19:47.793106 EDT | descent direction computed\n",
      "2018-03-19 11:19:48.136679 EDT | backtrack iters: 1\n",
      "2018-03-19 11:19:48.138041 EDT | computing loss after\n",
      "2018-03-19 11:19:48.139810 EDT | optimization finished\n",
      "2018-03-19 11:19:49.088729 EDT | Protag Reward: 343.51226709879694\n",
      "2018-03-19 11:19:49.091805 EDT | itr #0 | \n"
     ]
    },
    {
     "name": "stderr",
     "output_type": "stream",
     "text": [
      "0% [##############################] 100% | ETA: 00:00:00"
     ]
    },
    {
     "name": "stdout",
     "output_type": "stream",
     "text": [
      "2018-03-19 11:20:01.035552 EDT | fitting baseline...\n",
      "2018-03-19 11:20:01.068928 EDT | fitted\n"
     ]
    },
    {
     "name": "stderr",
     "output_type": "stream",
     "text": [
      "\n",
      "Total time elapsed: 00:00:11\n"
     ]
    },
    {
     "name": "stdout",
     "output_type": "stream",
     "text": [
      "2018-03-19 11:20:01.672205 EDT | computing loss before\n",
      "2018-03-19 11:20:01.918072 EDT | performing update\n",
      "2018-03-19 11:20:01.919347 EDT | computing descent direction\n",
      "2018-03-19 11:20:07.452072 EDT | descent direction computed\n",
      "2018-03-19 11:20:07.693650 EDT | backtrack iters: 0\n",
      "2018-03-19 11:20:07.694984 EDT | computing loss after\n",
      "2018-03-19 11:20:07.695896 EDT | optimization finished\n",
      "2018-03-19 11:20:08.158783 EDT | Advers Reward: -343.37278473570393\n",
      "2018-03-19 11:20:11.040494 EDT | \n",
      "\n",
      "Experiment: 0 Iteration: 87\n",
      "\n",
      "2018-03-19 11:20:11.041728 EDT | itr #0 | \n"
     ]
    },
    {
     "name": "stderr",
     "output_type": "stream",
     "text": [
      "0% [##############################] 100% | ETA: 00:00:00"
     ]
    },
    {
     "name": "stdout",
     "output_type": "stream",
     "text": [
      "2018-03-19 11:20:17.873201 EDT | fitting baseline...\n",
      "2018-03-19 11:20:17.894458 EDT | fitted\n"
     ]
    },
    {
     "name": "stderr",
     "output_type": "stream",
     "text": [
      "\n",
      "Total time elapsed: 00:00:06\n"
     ]
    },
    {
     "name": "stdout",
     "output_type": "stream",
     "text": [
      "2018-03-19 11:20:18.355841 EDT | computing loss before\n",
      "2018-03-19 11:20:18.559081 EDT | performing update\n",
      "2018-03-19 11:20:18.560279 EDT | computing descent direction\n",
      "2018-03-19 11:20:24.467561 EDT | descent direction computed\n",
      "2018-03-19 11:20:24.887208 EDT | backtrack iters: 1\n",
      "2018-03-19 11:20:24.889384 EDT | computing loss after\n",
      "2018-03-19 11:20:24.891014 EDT | optimization finished\n",
      "2018-03-19 11:20:25.310748 EDT | Protag Reward: 362.05759784296816\n",
      "2018-03-19 11:20:25.314230 EDT | itr #0 | \n"
     ]
    },
    {
     "name": "stderr",
     "output_type": "stream",
     "text": [
      "0% [##############################] 100% | ETA: 00:00:00\n",
      "Total time elapsed: 00:00:07\n"
     ]
    },
    {
     "name": "stdout",
     "output_type": "stream",
     "text": [
      "2018-03-19 11:20:33.138936 EDT | fitting baseline...\n",
      "2018-03-19 11:20:33.163226 EDT | fitted\n",
      "2018-03-19 11:20:33.570469 EDT | computing loss before\n",
      "2018-03-19 11:20:33.748494 EDT | performing update\n",
      "2018-03-19 11:20:33.749759 EDT | computing descent direction\n",
      "2018-03-19 11:20:37.272350 EDT | descent direction computed\n",
      "2018-03-19 11:20:37.463427 EDT | backtrack iters: 0\n",
      "2018-03-19 11:20:37.465324 EDT | computing loss after\n",
      "2018-03-19 11:20:37.467350 EDT | optimization finished\n",
      "2018-03-19 11:20:37.918651 EDT | Advers Reward: -362.1647827566497\n",
      "2018-03-19 11:20:42.000483 EDT | \n",
      "\n",
      "Experiment: 0 Iteration: 88\n",
      "\n",
      "2018-03-19 11:20:42.001649 EDT | itr #0 | \n"
     ]
    },
    {
     "name": "stderr",
     "output_type": "stream",
     "text": [
      "0% [##############################] 100% | ETA: 00:00:00\n",
      "Total time elapsed: 00:00:06\n"
     ]
    },
    {
     "name": "stdout",
     "output_type": "stream",
     "text": [
      "2018-03-19 11:20:48.531043 EDT | fitting baseline...\n",
      "2018-03-19 11:20:48.581776 EDT | fitted\n",
      "2018-03-19 11:20:49.097299 EDT | computing loss before\n",
      "2018-03-19 11:20:49.421491 EDT | performing update\n",
      "2018-03-19 11:20:49.422628 EDT | computing descent direction\n",
      "2018-03-19 11:20:53.568442 EDT | descent direction computed\n",
      "2018-03-19 11:20:53.774781 EDT | backtrack iters: 0\n",
      "2018-03-19 11:20:53.776141 EDT | computing loss after\n",
      "2018-03-19 11:20:53.777212 EDT | optimization finished\n",
      "2018-03-19 11:20:54.174932 EDT | Protag Reward: 378.23657403917207\n",
      "2018-03-19 11:20:54.176506 EDT | itr #0 | \n"
     ]
    },
    {
     "name": "stderr",
     "output_type": "stream",
     "text": [
      "0% [##############################] 100% | ETA: 00:00:00\n",
      "Total time elapsed: 00:00:05\n"
     ]
    },
    {
     "name": "stdout",
     "output_type": "stream",
     "text": [
      "2018-03-19 11:20:59.837131 EDT | fitting baseline...\n",
      "2018-03-19 11:20:59.878718 EDT | fitted\n",
      "2018-03-19 11:21:00.332708 EDT | computing loss before\n",
      "2018-03-19 11:21:00.553228 EDT | performing update\n",
      "2018-03-19 11:21:00.554368 EDT | computing descent direction\n",
      "2018-03-19 11:21:04.411061 EDT | descent direction computed\n",
      "2018-03-19 11:21:04.620804 EDT | backtrack iters: 0\n",
      "2018-03-19 11:21:04.632474 EDT | computing loss after\n",
      "2018-03-19 11:21:04.633653 EDT | optimization finished\n",
      "2018-03-19 11:21:05.072335 EDT | Advers Reward: -367.64306945137787\n",
      "2018-03-19 11:21:08.694930 EDT | \n",
      "\n",
      "Experiment: 0 Iteration: 89\n",
      "\n",
      "2018-03-19 11:21:08.698476 EDT | itr #0 | \n"
     ]
    },
    {
     "name": "stderr",
     "output_type": "stream",
     "text": [
      "0% [##############################] 100% | ETA: 00:00:00\n",
      "Total time elapsed: 00:00:06\n"
     ]
    },
    {
     "name": "stdout",
     "output_type": "stream",
     "text": [
      "2018-03-19 11:21:15.608444 EDT | fitting baseline...\n",
      "2018-03-19 11:21:15.680890 EDT | fitted\n",
      "2018-03-19 11:21:16.716448 EDT | computing loss before\n",
      "2018-03-19 11:21:17.199065 EDT | performing update\n",
      "2018-03-19 11:21:17.201783 EDT | computing descent direction\n",
      "2018-03-19 11:21:22.025072 EDT | descent direction computed\n",
      "2018-03-19 11:21:22.354390 EDT | backtrack iters: 1\n",
      "2018-03-19 11:21:22.357229 EDT | computing loss after\n",
      "2018-03-19 11:21:22.359884 EDT | optimization finished\n",
      "2018-03-19 11:21:22.696179 EDT | Protag Reward: 365.50081567007356\n",
      "2018-03-19 11:21:22.697490 EDT | itr #0 | \n"
     ]
    },
    {
     "name": "stderr",
     "output_type": "stream",
     "text": [
      "0% [##############################] 100% | ETA: 00:00:00"
     ]
    },
    {
     "name": "stdout",
     "output_type": "stream",
     "text": [
      "2018-03-19 11:21:29.236991 EDT | fitting baseline...\n",
      "2018-03-19 11:21:29.256707 EDT | fitted\n"
     ]
    },
    {
     "name": "stderr",
     "output_type": "stream",
     "text": [
      "\n",
      "Total time elapsed: 00:00:06\n"
     ]
    },
    {
     "name": "stdout",
     "output_type": "stream",
     "text": [
      "2018-03-19 11:21:29.620061 EDT | computing loss before\n",
      "2018-03-19 11:21:29.785177 EDT | performing update\n",
      "2018-03-19 11:21:29.788163 EDT | computing descent direction\n",
      "2018-03-19 11:21:34.263563 EDT | descent direction computed\n",
      "2018-03-19 11:21:34.693319 EDT | backtrack iters: 0\n",
      "2018-03-19 11:21:34.696451 EDT | computing loss after\n",
      "2018-03-19 11:21:34.699570 EDT | optimization finished\n",
      "2018-03-19 11:21:35.632607 EDT | Advers Reward: -361.68713364557044\n",
      "2018-03-19 11:21:39.980717 EDT | \n",
      "\n",
      "Experiment: 0 Iteration: 90\n",
      "\n",
      "2018-03-19 11:21:39.981894 EDT | itr #0 | \n"
     ]
    },
    {
     "name": "stderr",
     "output_type": "stream",
     "text": [
      "0% [##############################] 100% | ETA: 00:00:00\n",
      "Total time elapsed: 00:00:08\n"
     ]
    },
    {
     "name": "stdout",
     "output_type": "stream",
     "text": [
      "2018-03-19 11:21:49.014582 EDT | fitting baseline...\n",
      "2018-03-19 11:21:49.061294 EDT | fitted\n",
      "2018-03-19 11:21:49.445558 EDT | computing loss before\n",
      "2018-03-19 11:21:49.654906 EDT | performing update\n",
      "2018-03-19 11:21:49.655988 EDT | computing descent direction\n",
      "2018-03-19 11:21:54.372493 EDT | descent direction computed\n",
      "2018-03-19 11:21:54.551837 EDT | backtrack iters: 0\n",
      "2018-03-19 11:21:54.554858 EDT | computing loss after\n",
      "2018-03-19 11:21:54.557506 EDT | optimization finished\n",
      "2018-03-19 11:21:54.901919 EDT | Protag Reward: 359.78608542352896\n",
      "2018-03-19 11:21:54.903273 EDT | itr #0 | \n"
     ]
    },
    {
     "name": "stderr",
     "output_type": "stream",
     "text": [
      "0% [##############################] 100% | ETA: 00:00:00\n",
      "Total time elapsed: 00:00:07\n"
     ]
    },
    {
     "name": "stdout",
     "output_type": "stream",
     "text": [
      "2018-03-19 11:22:02.740444 EDT | fitting baseline...\n",
      "2018-03-19 11:22:02.762712 EDT | fitted\n",
      "2018-03-19 11:22:03.125516 EDT | computing loss before\n",
      "2018-03-19 11:22:03.304176 EDT | performing update\n",
      "2018-03-19 11:22:03.307179 EDT | computing descent direction\n",
      "2018-03-19 11:22:07.734532 EDT | descent direction computed\n",
      "2018-03-19 11:22:07.930115 EDT | backtrack iters: 0\n",
      "2018-03-19 11:22:07.931304 EDT | computing loss after\n",
      "2018-03-19 11:22:07.932423 EDT | optimization finished\n",
      "2018-03-19 11:22:08.275514 EDT | Advers Reward: -384.60750571000085\n",
      "2018-03-19 11:22:13.448395 EDT | \n",
      "\n",
      "Experiment: 0 Iteration: 91\n",
      "\n",
      "2018-03-19 11:22:13.449522 EDT | itr #0 | \n"
     ]
    },
    {
     "name": "stderr",
     "output_type": "stream",
     "text": [
      "0% [##############################] 100% | ETA: 00:00:00\n",
      "Total time elapsed: 00:00:06\n"
     ]
    },
    {
     "name": "stdout",
     "output_type": "stream",
     "text": [
      "2018-03-19 11:22:20.532114 EDT | fitting baseline...\n",
      "2018-03-19 11:22:20.566442 EDT | fitted\n",
      "2018-03-19 11:22:20.948829 EDT | computing loss before\n",
      "2018-03-19 11:22:21.411838 EDT | performing update\n",
      "2018-03-19 11:22:21.414363 EDT | computing descent direction\n",
      "2018-03-19 11:22:28.455418 EDT | descent direction computed\n",
      "2018-03-19 11:22:28.628114 EDT | backtrack iters: 0\n",
      "2018-03-19 11:22:28.631131 EDT | computing loss after\n",
      "2018-03-19 11:22:28.634285 EDT | optimization finished\n",
      "2018-03-19 11:22:28.961036 EDT | Protag Reward: 372.80690595053676\n",
      "2018-03-19 11:22:28.962315 EDT | itr #0 | \n"
     ]
    },
    {
     "name": "stderr",
     "output_type": "stream",
     "text": [
      "0% [##############################] 100% | ETA: 00:00:00\n",
      "Total time elapsed: 00:00:19\n"
     ]
    },
    {
     "name": "stdout",
     "output_type": "stream",
     "text": [
      "2018-03-19 11:22:49.614786 EDT | fitting baseline...\n",
      "2018-03-19 11:22:49.690825 EDT | fitted\n",
      "2018-03-19 11:22:50.215425 EDT | computing loss before\n",
      "2018-03-19 11:22:50.451392 EDT | performing update\n",
      "2018-03-19 11:22:50.452913 EDT | computing descent direction\n",
      "2018-03-19 11:22:57.581403 EDT | descent direction computed\n",
      "2018-03-19 11:22:58.086091 EDT | backtrack iters: 1\n",
      "2018-03-19 11:22:58.091093 EDT | computing loss after\n",
      "2018-03-19 11:22:58.094479 EDT | optimization finished\n",
      "2018-03-19 11:22:58.519506 EDT | Advers Reward: -362.42782506246976\n",
      "2018-03-19 11:23:15.054389 EDT | \n",
      "\n",
      "Experiment: 0 Iteration: 92\n",
      "\n",
      "2018-03-19 11:23:15.061265 EDT | itr #0 | \n"
     ]
    },
    {
     "name": "stderr",
     "output_type": "stream",
     "text": [
      "0% [##############################] 100% | ETA: 00:00:00\n",
      "Total time elapsed: 00:00:13\n"
     ]
    },
    {
     "name": "stdout",
     "output_type": "stream",
     "text": [
      "2018-03-19 11:23:29.900865 EDT | fitting baseline...\n",
      "2018-03-19 11:23:29.965273 EDT | fitted\n",
      "2018-03-19 11:23:30.539979 EDT | computing loss before\n",
      "2018-03-19 11:23:30.750313 EDT | performing update\n",
      "2018-03-19 11:23:30.756076 EDT | computing descent direction\n",
      "2018-03-19 11:23:38.083687 EDT | descent direction computed\n",
      "2018-03-19 11:23:38.475537 EDT | backtrack iters: 1\n",
      "2018-03-19 11:23:38.476841 EDT | computing loss after\n",
      "2018-03-19 11:23:38.477826 EDT | optimization finished\n",
      "2018-03-19 11:23:38.991893 EDT | Protag Reward: 367.10141736225575\n",
      "2018-03-19 11:23:38.995868 EDT | itr #0 | \n"
     ]
    },
    {
     "name": "stderr",
     "output_type": "stream",
     "text": [
      "0% [##############################] 100% | ETA: 00:00:00"
     ]
    },
    {
     "name": "stdout",
     "output_type": "stream",
     "text": [
      "2018-03-19 11:23:48.269755 EDT | fitting baseline...\n"
     ]
    },
    {
     "name": "stderr",
     "output_type": "stream",
     "text": [
      "\n",
      "Total time elapsed: 00:00:08\n"
     ]
    },
    {
     "name": "stdout",
     "output_type": "stream",
     "text": [
      "2018-03-19 11:23:48.298041 EDT | fitted\n",
      "2018-03-19 11:23:48.720568 EDT | computing loss before\n",
      "2018-03-19 11:23:48.933073 EDT | performing update\n",
      "2018-03-19 11:23:48.934785 EDT | computing descent direction\n",
      "2018-03-19 11:23:56.129317 EDT | descent direction computed\n",
      "2018-03-19 11:23:56.713645 EDT | backtrack iters: 1\n",
      "2018-03-19 11:23:56.714900 EDT | computing loss after\n",
      "2018-03-19 11:23:56.715869 EDT | optimization finished\n",
      "2018-03-19 11:23:57.068471 EDT | Advers Reward: -380.31147965255786\n",
      "2018-03-19 11:24:02.890814 EDT | \n",
      "\n",
      "Experiment: 0 Iteration: 93\n",
      "\n",
      "2018-03-19 11:24:02.892477 EDT | itr #0 | \n"
     ]
    },
    {
     "name": "stderr",
     "output_type": "stream",
     "text": [
      "0% [##############################] 100% | ETA: 00:00:00\n",
      "Total time elapsed: 00:00:17\n"
     ]
    },
    {
     "name": "stdout",
     "output_type": "stream",
     "text": [
      "2018-03-19 11:24:20.501513 EDT | fitting baseline...\n",
      "2018-03-19 11:24:20.573864 EDT | fitted\n",
      "2018-03-19 11:24:21.051102 EDT | computing loss before\n",
      "2018-03-19 11:24:21.291006 EDT | performing update\n",
      "2018-03-19 11:24:21.297088 EDT | computing descent direction\n",
      "2018-03-19 11:24:28.523615 EDT | descent direction computed\n",
      "2018-03-19 11:24:29.535386 EDT | backtrack iters: 1\n",
      "2018-03-19 11:24:29.538603 EDT | computing loss after\n",
      "2018-03-19 11:24:29.544802 EDT | optimization finished\n",
      "2018-03-19 11:24:30.748321 EDT | Protag Reward: 380.0050784939987\n",
      "2018-03-19 11:24:30.751729 EDT | itr #0 | \n"
     ]
    },
    {
     "name": "stderr",
     "output_type": "stream",
     "text": [
      "0% [##############################] 100% | ETA: 00:00:00"
     ]
    },
    {
     "name": "stdout",
     "output_type": "stream",
     "text": [
      "2018-03-19 11:24:39.878100 EDT | fitting baseline...\n",
      "2018-03-19 11:24:39.902151 EDT | fitted\n"
     ]
    },
    {
     "name": "stderr",
     "output_type": "stream",
     "text": [
      "\n",
      "Total time elapsed: 00:00:08\n"
     ]
    },
    {
     "name": "stdout",
     "output_type": "stream",
     "text": [
      "2018-03-19 11:24:40.690512 EDT | computing loss before\n",
      "2018-03-19 11:24:41.149423 EDT | performing update\n",
      "2018-03-19 11:24:41.152678 EDT | computing descent direction\n",
      "2018-03-19 11:24:46.469196 EDT | descent direction computed\n",
      "2018-03-19 11:24:46.812862 EDT | backtrack iters: 1\n",
      "2018-03-19 11:24:46.814107 EDT | computing loss after\n",
      "2018-03-19 11:24:46.815102 EDT | optimization finished\n",
      "2018-03-19 11:24:47.148320 EDT | Advers Reward: -376.80741757881736\n",
      "2018-03-19 11:24:51.329609 EDT | \n",
      "\n",
      "Experiment: 0 Iteration: 94\n",
      "\n",
      "2018-03-19 11:24:51.330778 EDT | itr #0 | \n"
     ]
    },
    {
     "name": "stderr",
     "output_type": "stream",
     "text": [
      "0% [##############################] 100% | ETA: 00:00:00"
     ]
    },
    {
     "name": "stdout",
     "output_type": "stream",
     "text": [
      "2018-03-19 11:24:58.247216 EDT | fitting baseline...\n",
      "2018-03-19 11:24:58.268411 EDT | fitted\n"
     ]
    },
    {
     "name": "stderr",
     "output_type": "stream",
     "text": [
      "\n",
      "Total time elapsed: 00:00:06\n"
     ]
    },
    {
     "name": "stdout",
     "output_type": "stream",
     "text": [
      "2018-03-19 11:24:58.700550 EDT | computing loss before\n",
      "2018-03-19 11:24:58.902529 EDT | performing update\n",
      "2018-03-19 11:24:58.903880 EDT | computing descent direction\n",
      "2018-03-19 11:25:04.852505 EDT | descent direction computed\n",
      "2018-03-19 11:25:05.268503 EDT | backtrack iters: 1\n",
      "2018-03-19 11:25:05.270031 EDT | computing loss after\n",
      "2018-03-19 11:25:05.271230 EDT | optimization finished\n",
      "2018-03-19 11:25:05.750479 EDT | Protag Reward: 385.5990505782409\n",
      "2018-03-19 11:25:05.752088 EDT | itr #0 | \n"
     ]
    },
    {
     "name": "stderr",
     "output_type": "stream",
     "text": [
      "0% [##############################] 100% | ETA: 00:00:00\n",
      "Total time elapsed: 00:00:13\n"
     ]
    },
    {
     "name": "stdout",
     "output_type": "stream",
     "text": [
      "2018-03-19 11:25:19.661684 EDT | fitting baseline...\n",
      "2018-03-19 11:25:19.712530 EDT | fitted\n",
      "2018-03-19 11:25:20.254473 EDT | computing loss before\n",
      "2018-03-19 11:25:20.504493 EDT | performing update\n",
      "2018-03-19 11:25:20.506317 EDT | computing descent direction\n",
      "2018-03-19 11:25:26.244054 EDT | descent direction computed\n",
      "2018-03-19 11:25:26.539344 EDT | backtrack iters: 0\n",
      "2018-03-19 11:25:26.540781 EDT | computing loss after\n",
      "2018-03-19 11:25:26.543041 EDT | optimization finished\n",
      "2018-03-19 11:25:27.059707 EDT | Advers Reward: -376.87838964532796\n",
      "2018-03-19 11:25:30.649652 EDT | \n",
      "\n",
      "Experiment: 0 Iteration: 95\n",
      "\n",
      "2018-03-19 11:25:30.653228 EDT | itr #0 | \n"
     ]
    },
    {
     "name": "stderr",
     "output_type": "stream",
     "text": [
      "0% [##############################] 100% | ETA: 00:00:00\n",
      "Total time elapsed: 00:00:11\n"
     ]
    },
    {
     "name": "stdout",
     "output_type": "stream",
     "text": [
      "2018-03-19 11:25:42.938109 EDT | fitting baseline...\n",
      "2018-03-19 11:25:42.968645 EDT | fitted\n",
      "2018-03-19 11:25:43.693843 EDT | computing loss before\n",
      "2018-03-19 11:25:44.014020 EDT | performing update\n",
      "2018-03-19 11:25:44.015678 EDT | computing descent direction\n",
      "2018-03-19 11:25:55.128096 EDT | descent direction computed\n",
      "2018-03-19 11:25:55.840559 EDT | backtrack iters: 1\n",
      "2018-03-19 11:25:55.846955 EDT | computing loss after\n",
      "2018-03-19 11:25:55.852926 EDT | optimization finished\n",
      "2018-03-19 11:25:56.485174 EDT | Protag Reward: 392.58748938289125\n",
      "2018-03-19 11:25:56.491822 EDT | itr #0 | \n"
     ]
    },
    {
     "name": "stderr",
     "output_type": "stream",
     "text": [
      "0% [##############################] 100% | ETA: 00:00:00"
     ]
    },
    {
     "name": "stdout",
     "output_type": "stream",
     "text": [
      "2018-03-19 11:26:05.991493 EDT | fitting baseline...\n",
      "2018-03-19 11:26:06.015660 EDT | fitted\n"
     ]
    },
    {
     "name": "stderr",
     "output_type": "stream",
     "text": [
      "\n",
      "Total time elapsed: 00:00:09\n"
     ]
    },
    {
     "name": "stdout",
     "output_type": "stream",
     "text": [
      "2018-03-19 11:26:06.474961 EDT | computing loss before\n",
      "2018-03-19 11:26:06.689922 EDT | performing update\n",
      "2018-03-19 11:26:06.693320 EDT | computing descent direction\n",
      "2018-03-19 11:26:12.334283 EDT | descent direction computed\n",
      "2018-03-19 11:26:12.930501 EDT | backtrack iters: 1\n",
      "2018-03-19 11:26:12.932486 EDT | computing loss after\n",
      "2018-03-19 11:26:12.937717 EDT | optimization finished\n",
      "2018-03-19 11:26:13.404343 EDT | Advers Reward: -382.70073230138263\n",
      "2018-03-19 11:26:18.902544 EDT | \n",
      "\n",
      "Experiment: 0 Iteration: 96\n",
      "\n",
      "2018-03-19 11:26:18.912720 EDT | itr #0 | \n"
     ]
    },
    {
     "name": "stderr",
     "output_type": "stream",
     "text": [
      "0% [##############################] 100% | ETA: 00:00:00\n",
      "Total time elapsed: 00:00:16\n"
     ]
    },
    {
     "name": "stdout",
     "output_type": "stream",
     "text": [
      "2018-03-19 11:26:35.732800 EDT | fitting baseline...\n",
      "2018-03-19 11:26:35.754609 EDT | fitted\n",
      "2018-03-19 11:26:36.149296 EDT | computing loss before\n",
      "2018-03-19 11:26:36.372643 EDT | performing update\n",
      "2018-03-19 11:26:36.374088 EDT | computing descent direction\n",
      "2018-03-19 11:26:42.256409 EDT | descent direction computed\n",
      "2018-03-19 11:26:42.751172 EDT | backtrack iters: 0\n",
      "2018-03-19 11:26:42.754752 EDT | computing loss after\n",
      "2018-03-19 11:26:42.758240 EDT | optimization finished\n",
      "2018-03-19 11:26:43.785237 EDT | Protag Reward: 380.39155409189897\n",
      "2018-03-19 11:26:43.790509 EDT | itr #0 | \n"
     ]
    },
    {
     "name": "stderr",
     "output_type": "stream",
     "text": [
      "0% [##############################] 100% | ETA: 00:00:00"
     ]
    },
    {
     "name": "stdout",
     "output_type": "stream",
     "text": [
      "2018-03-19 11:26:54.000650 EDT | fitting baseline...\n"
     ]
    },
    {
     "name": "stderr",
     "output_type": "stream",
     "text": [
      "\n",
      "Total time elapsed: 00:00:09\n"
     ]
    },
    {
     "name": "stdout",
     "output_type": "stream",
     "text": [
      "2018-03-19 11:26:54.071770 EDT | fitted\n",
      "2018-03-19 11:26:54.473712 EDT | computing loss before\n",
      "2018-03-19 11:26:54.658882 EDT | performing update\n",
      "2018-03-19 11:26:54.664224 EDT | computing descent direction\n",
      "2018-03-19 11:27:03.086580 EDT | descent direction computed\n",
      "2018-03-19 11:27:03.271386 EDT | backtrack iters: 0\n",
      "2018-03-19 11:27:03.275752 EDT | computing loss after\n",
      "2018-03-19 11:27:03.277658 EDT | optimization finished\n",
      "2018-03-19 11:27:03.622582 EDT | Advers Reward: -390.76823937567514\n",
      "2018-03-19 11:27:08.257043 EDT | \n",
      "\n",
      "Experiment: 0 Iteration: 97\n",
      "\n",
      "2018-03-19 11:27:08.259322 EDT | itr #0 | \n"
     ]
    },
    {
     "name": "stderr",
     "output_type": "stream",
     "text": [
      "0% [##############################] 100% | ETA: 00:00:00\n",
      "Total time elapsed: 00:00:11\n"
     ]
    },
    {
     "name": "stdout",
     "output_type": "stream",
     "text": [
      "2018-03-19 11:27:20.095561 EDT | fitting baseline...\n",
      "2018-03-19 11:27:20.151477 EDT | fitted\n",
      "2018-03-19 11:27:20.657734 EDT | computing loss before\n",
      "2018-03-19 11:27:20.859333 EDT | performing update\n",
      "2018-03-19 11:27:20.860400 EDT | computing descent direction\n",
      "2018-03-19 11:27:27.659875 EDT | descent direction computed\n",
      "2018-03-19 11:27:28.863375 EDT | backtrack iters: 1\n",
      "2018-03-19 11:27:28.868598 EDT | computing loss after\n",
      "2018-03-19 11:27:28.873509 EDT | optimization finished\n",
      "2018-03-19 11:27:29.444546 EDT | Protag Reward: 380.92047382063464\n",
      "2018-03-19 11:27:29.453068 EDT | itr #0 | \n"
     ]
    },
    {
     "name": "stderr",
     "output_type": "stream",
     "text": [
      "0% [##############################] 100% | ETA: 00:00:00\n",
      "Total time elapsed: 00:00:07\n"
     ]
    },
    {
     "name": "stdout",
     "output_type": "stream",
     "text": [
      "2018-03-19 11:27:37.509846 EDT | fitting baseline...\n",
      "2018-03-19 11:27:37.563114 EDT | fitted\n",
      "2018-03-19 11:27:38.025970 EDT | computing loss before\n",
      "2018-03-19 11:27:38.190084 EDT | performing update\n",
      "2018-03-19 11:27:38.191381 EDT | computing descent direction\n",
      "2018-03-19 11:27:42.993059 EDT | descent direction computed\n",
      "2018-03-19 11:27:43.183815 EDT | backtrack iters: 0\n",
      "2018-03-19 11:27:43.186954 EDT | computing loss after\n",
      "2018-03-19 11:27:43.189684 EDT | optimization finished\n",
      "2018-03-19 11:27:43.519920 EDT | Advers Reward: -381.93744801366256\n",
      "2018-03-19 11:27:51.570075 EDT | \n",
      "\n",
      "Experiment: 0 Iteration: 98\n",
      "\n",
      "2018-03-19 11:27:51.571410 EDT | itr #0 | \n"
     ]
    },
    {
     "name": "stderr",
     "output_type": "stream",
     "text": [
      "0% [##############################] 100% | ETA: 00:00:00\n",
      "Total time elapsed: 00:00:07\n"
     ]
    },
    {
     "name": "stdout",
     "output_type": "stream",
     "text": [
      "2018-03-19 11:27:59.505553 EDT | fitting baseline...\n",
      "2018-03-19 11:27:59.553207 EDT | fitted\n",
      "2018-03-19 11:28:00.051843 EDT | computing loss before\n",
      "2018-03-19 11:28:00.284630 EDT | performing update\n",
      "2018-03-19 11:28:00.286987 EDT | computing descent direction\n",
      "2018-03-19 11:28:07.918777 EDT | descent direction computed\n",
      "2018-03-19 11:28:08.284271 EDT | backtrack iters: 1\n",
      "2018-03-19 11:28:08.285771 EDT | computing loss after\n",
      "2018-03-19 11:28:08.287247 EDT | optimization finished\n",
      "2018-03-19 11:28:08.695141 EDT | Protag Reward: 395.88168435750254\n",
      "2018-03-19 11:28:08.699465 EDT | itr #0 | \n"
     ]
    },
    {
     "name": "stderr",
     "output_type": "stream",
     "text": [
      "0% [##############################] 100% | ETA: 00:00:00\n",
      "Total time elapsed: 00:00:12\n"
     ]
    },
    {
     "name": "stdout",
     "output_type": "stream",
     "text": [
      "2018-03-19 11:28:21.960906 EDT | fitting baseline...\n",
      "2018-03-19 11:28:22.036410 EDT | fitted\n",
      "2018-03-19 11:28:22.953174 EDT | computing loss before\n",
      "2018-03-19 11:28:23.353685 EDT | performing update\n",
      "2018-03-19 11:28:23.356390 EDT | computing descent direction\n",
      "2018-03-19 11:28:33.351411 EDT | descent direction computed\n",
      "2018-03-19 11:28:33.852464 EDT | backtrack iters: 0\n",
      "2018-03-19 11:28:33.855379 EDT | computing loss after\n",
      "2018-03-19 11:28:33.858970 EDT | optimization finished\n",
      "2018-03-19 11:28:34.778068 EDT | Advers Reward: -400.24215568866106\n",
      "2018-03-19 11:28:45.206480 EDT | \n",
      "\n",
      "Experiment: 0 Iteration: 99\n",
      "\n",
      "2018-03-19 11:28:45.209314 EDT | itr #0 | \n"
     ]
    },
    {
     "name": "stderr",
     "output_type": "stream",
     "text": [
      "0% [##############################] 100% | ETA: 00:00:00"
     ]
    },
    {
     "name": "stdout",
     "output_type": "stream",
     "text": [
      "2018-03-19 11:28:54.012491 EDT | fitting baseline...\n",
      "2018-03-19 11:28:54.034285 EDT | fitted\n"
     ]
    },
    {
     "name": "stderr",
     "output_type": "stream",
     "text": [
      "\n",
      "Total time elapsed: 00:00:08\n"
     ]
    },
    {
     "name": "stdout",
     "output_type": "stream",
     "text": [
      "2018-03-19 11:28:54.716617 EDT | computing loss before\n",
      "2018-03-19 11:28:55.207424 EDT | performing update\n",
      "2018-03-19 11:28:55.210520 EDT | computing descent direction\n",
      "2018-03-19 11:29:01.587043 EDT | descent direction computed\n",
      "2018-03-19 11:29:02.038451 EDT | backtrack iters: 1\n",
      "2018-03-19 11:29:02.041332 EDT | computing loss after\n",
      "2018-03-19 11:29:02.042418 EDT | optimization finished\n",
      "2018-03-19 11:29:02.407320 EDT | Protag Reward: 387.7151926338109\n",
      "2018-03-19 11:29:02.409734 EDT | itr #0 | \n"
     ]
    },
    {
     "name": "stderr",
     "output_type": "stream",
     "text": [
      "0% [##############################] 100% | ETA: 00:00:00\n",
      "Total time elapsed: 00:00:05\n"
     ]
    },
    {
     "name": "stdout",
     "output_type": "stream",
     "text": [
      "2018-03-19 11:29:08.455075 EDT | fitting baseline...\n",
      "2018-03-19 11:29:08.474987 EDT | fitted\n",
      "2018-03-19 11:29:09.022048 EDT | computing loss before\n",
      "2018-03-19 11:29:09.514076 EDT | performing update\n",
      "2018-03-19 11:29:09.517646 EDT | computing descent direction\n",
      "2018-03-19 11:29:14.958614 EDT | descent direction computed\n",
      "2018-03-19 11:29:15.306958 EDT | backtrack iters: 1\n",
      "2018-03-19 11:29:15.309827 EDT | computing loss after\n",
      "2018-03-19 11:29:15.311454 EDT | optimization finished\n",
      "2018-03-19 11:29:15.626105 EDT | Advers Reward: -398.65112040787375\n",
      "2018-03-19 11:29:19.302456 EDT | \n",
      "\n",
      "Experiment: 0 Iteration: 100\n",
      "\n",
      "2018-03-19 11:29:19.303530 EDT | itr #0 | \n"
     ]
    },
    {
     "name": "stderr",
     "output_type": "stream",
     "text": [
      "0% [##############################] 100% | ETA: 00:00:00"
     ]
    },
    {
     "name": "stdout",
     "output_type": "stream",
     "text": [
      "2018-03-19 11:29:28.260218 EDT | fitting baseline...\n",
      "2018-03-19 11:29:28.291561 EDT | fitted\n"
     ]
    },
    {
     "name": "stderr",
     "output_type": "stream",
     "text": [
      "\n",
      "Total time elapsed: 00:00:08\n"
     ]
    },
    {
     "name": "stdout",
     "output_type": "stream",
     "text": [
      "2018-03-19 11:29:28.712738 EDT | computing loss before\n",
      "2018-03-19 11:29:28.946536 EDT | performing update\n",
      "2018-03-19 11:29:28.950891 EDT | computing descent direction\n",
      "2018-03-19 11:29:35.283846 EDT | descent direction computed\n",
      "2018-03-19 11:29:35.666350 EDT | backtrack iters: 1\n",
      "2018-03-19 11:29:35.671335 EDT | computing loss after\n",
      "2018-03-19 11:29:35.677995 EDT | optimization finished\n",
      "2018-03-19 11:29:36.695536 EDT | Protag Reward: 376.37288420682177\n",
      "2018-03-19 11:29:36.699821 EDT | itr #0 | \n"
     ]
    },
    {
     "name": "stderr",
     "output_type": "stream",
     "text": [
      "0% [##############################] 100% | ETA: 00:00:00\n",
      "Total time elapsed: 00:00:09\n"
     ]
    },
    {
     "name": "stdout",
     "output_type": "stream",
     "text": [
      "2018-03-19 11:29:47.361385 EDT | fitting baseline...\n",
      "2018-03-19 11:29:47.444634 EDT | fitted\n",
      "2018-03-19 11:29:48.283621 EDT | computing loss before\n",
      "2018-03-19 11:29:48.437739 EDT | performing update\n",
      "2018-03-19 11:29:48.440794 EDT | computing descent direction\n",
      "2018-03-19 11:29:52.974201 EDT | descent direction computed\n",
      "2018-03-19 11:29:53.142490 EDT | backtrack iters: 0\n",
      "2018-03-19 11:29:53.146701 EDT | computing loss after\n",
      "2018-03-19 11:29:53.150273 EDT | optimization finished\n",
      "2018-03-19 11:29:53.480870 EDT | Advers Reward: -390.1126001630532\n",
      "2018-03-19 11:29:58.247952 EDT | \n",
      "\n",
      "Experiment: 0 Iteration: 101\n",
      "\n",
      "2018-03-19 11:29:58.248945 EDT | itr #0 | \n"
     ]
    },
    {
     "name": "stderr",
     "output_type": "stream",
     "text": [
      "0% [##############################] 100% | ETA: 00:00:00\n",
      "Total time elapsed: 00:00:06\n"
     ]
    },
    {
     "name": "stdout",
     "output_type": "stream",
     "text": [
      "2018-03-19 11:30:05.418451 EDT | fitting baseline...\n",
      "2018-03-19 11:30:05.486949 EDT | fitted\n",
      "2018-03-19 11:30:06.586173 EDT | computing loss before\n",
      "2018-03-19 11:30:06.951584 EDT | performing update\n",
      "2018-03-19 11:30:06.952565 EDT | computing descent direction\n",
      "2018-03-19 11:30:12.097849 EDT | descent direction computed\n",
      "2018-03-19 11:30:12.470986 EDT | backtrack iters: 1\n",
      "2018-03-19 11:30:12.472490 EDT | computing loss after\n",
      "2018-03-19 11:30:12.473502 EDT | optimization finished\n",
      "2018-03-19 11:30:12.897485 EDT | Protag Reward: 407.01743664534416\n",
      "2018-03-19 11:30:12.898983 EDT | itr #0 | \n"
     ]
    },
    {
     "name": "stderr",
     "output_type": "stream",
     "text": [
      "0% [##############################] 100% | ETA: 00:00:00\n",
      "Total time elapsed: 00:00:19\n"
     ]
    },
    {
     "name": "stdout",
     "output_type": "stream",
     "text": [
      "2018-03-19 11:30:32.583575 EDT | fitting baseline...\n",
      "2018-03-19 11:30:32.678226 EDT | fitted\n",
      "2018-03-19 11:30:33.236881 EDT | computing loss before\n",
      "2018-03-19 11:30:33.526901 EDT | performing update\n",
      "2018-03-19 11:30:33.533522 EDT | computing descent direction\n",
      "2018-03-19 11:30:40.457133 EDT | descent direction computed\n",
      "2018-03-19 11:30:40.651775 EDT | backtrack iters: 0\n",
      "2018-03-19 11:30:40.662123 EDT | computing loss after\n",
      "2018-03-19 11:30:40.668412 EDT | optimization finished\n",
      "2018-03-19 11:30:41.114505 EDT | Advers Reward: -382.974555479245\n",
      "2018-03-19 11:30:47.530867 EDT | \n",
      "\n",
      "Experiment: 0 Iteration: 102\n",
      "\n",
      "2018-03-19 11:30:47.532243 EDT | itr #0 | \n"
     ]
    },
    {
     "name": "stderr",
     "output_type": "stream",
     "text": [
      "0% [##############################] 100% | ETA: 00:00:00"
     ]
    },
    {
     "name": "stdout",
     "output_type": "stream",
     "text": [
      "2018-03-19 11:30:57.786563 EDT | fitting baseline...\n",
      "2018-03-19 11:30:57.808098 EDT | fitted\n"
     ]
    },
    {
     "name": "stderr",
     "output_type": "stream",
     "text": [
      "\n",
      "Total time elapsed: 00:00:10\n"
     ]
    },
    {
     "name": "stdout",
     "output_type": "stream",
     "text": [
      "2018-03-19 11:30:58.232616 EDT | computing loss before\n",
      "2018-03-19 11:30:58.414535 EDT | performing update\n",
      "2018-03-19 11:30:58.417772 EDT | computing descent direction\n",
      "2018-03-19 11:31:07.265228 EDT | descent direction computed\n",
      "2018-03-19 11:31:08.483129 EDT | backtrack iters: 1\n",
      "2018-03-19 11:31:08.486245 EDT | computing loss after\n",
      "2018-03-19 11:31:08.489204 EDT | optimization finished\n",
      "2018-03-19 11:31:09.358149 EDT | Protag Reward: 388.9008831681922\n",
      "2018-03-19 11:31:09.359620 EDT | itr #0 | \n"
     ]
    },
    {
     "name": "stderr",
     "output_type": "stream",
     "text": [
      "0% [##############################] 100% | ETA: 00:00:00\n",
      "Total time elapsed: 00:00:14\n"
     ]
    },
    {
     "name": "stdout",
     "output_type": "stream",
     "text": [
      "2018-03-19 11:31:24.906924 EDT | fitting baseline...\n",
      "2018-03-19 11:31:24.983103 EDT | fitted\n",
      "2018-03-19 11:31:25.501847 EDT | computing loss before\n",
      "2018-03-19 11:31:25.725687 EDT | performing update\n",
      "2018-03-19 11:31:25.727883 EDT | computing descent direction\n",
      "2018-03-19 11:31:34.455135 EDT | descent direction computed\n",
      "2018-03-19 11:31:34.693103 EDT | backtrack iters: 0\n",
      "2018-03-19 11:31:34.699579 EDT | computing loss after\n",
      "2018-03-19 11:31:34.703226 EDT | optimization finished\n",
      "2018-03-19 11:31:35.224867 EDT | Advers Reward: -391.3288000227845\n",
      "2018-03-19 11:31:51.399398 EDT | \n",
      "\n",
      "Experiment: 0 Iteration: 103\n",
      "\n",
      "2018-03-19 11:31:51.403711 EDT | itr #0 | \n"
     ]
    },
    {
     "name": "stderr",
     "output_type": "stream",
     "text": [
      "0% [##############################] 100% | ETA: 00:00:00\n",
      "Total time elapsed: 00:00:16\n"
     ]
    },
    {
     "name": "stdout",
     "output_type": "stream",
     "text": [
      "2018-03-19 11:32:08.839048 EDT | fitting baseline...\n",
      "2018-03-19 11:32:08.915230 EDT | fitted\n",
      "2018-03-19 11:32:09.469657 EDT | computing loss before\n",
      "2018-03-19 11:32:09.710250 EDT | performing update\n",
      "2018-03-19 11:32:09.714839 EDT | computing descent direction\n",
      "2018-03-19 11:32:19.278848 EDT | descent direction computed\n",
      "2018-03-19 11:32:19.798124 EDT | backtrack iters: 1\n",
      "2018-03-19 11:32:19.801317 EDT | computing loss after\n",
      "2018-03-19 11:32:19.810462 EDT | optimization finished\n",
      "2018-03-19 11:32:20.384144 EDT | Protag Reward: 399.6607387838686\n",
      "2018-03-19 11:32:20.390728 EDT | itr #0 | \n"
     ]
    },
    {
     "name": "stderr",
     "output_type": "stream",
     "text": [
      "0% [##############################] 100% | ETA: 00:00:00\n",
      "Total time elapsed: 00:00:18\n"
     ]
    },
    {
     "name": "stdout",
     "output_type": "stream",
     "text": [
      "2018-03-19 11:32:39.785263 EDT | fitting baseline...\n",
      "2018-03-19 11:32:39.881496 EDT | fitted\n",
      "2018-03-19 11:32:40.428930 EDT | computing loss before\n",
      "2018-03-19 11:32:40.718836 EDT | performing update\n",
      "2018-03-19 11:32:40.720299 EDT | computing descent direction\n",
      "2018-03-19 11:32:49.397336 EDT | descent direction computed\n",
      "2018-03-19 11:32:49.876777 EDT | backtrack iters: 1\n",
      "2018-03-19 11:32:49.881570 EDT | computing loss after\n",
      "2018-03-19 11:32:49.886669 EDT | optimization finished\n",
      "2018-03-19 11:32:51.000896 EDT | Advers Reward: -393.106497662709\n",
      "2018-03-19 11:33:05.917429 EDT | \n",
      "\n",
      "Experiment: 0 Iteration: 104\n",
      "\n",
      "2018-03-19 11:33:05.925078 EDT | itr #0 | \n"
     ]
    },
    {
     "name": "stderr",
     "output_type": "stream",
     "text": [
      "0% [##############################] 100% | ETA: 00:00:00\n",
      "Total time elapsed: 00:00:17\n"
     ]
    },
    {
     "name": "stdout",
     "output_type": "stream",
     "text": [
      "2018-03-19 11:33:23.654298 EDT | fitting baseline...\n",
      "2018-03-19 11:33:23.696386 EDT | fitted\n",
      "2018-03-19 11:33:24.264657 EDT | computing loss before\n",
      "2018-03-19 11:33:24.497003 EDT | performing update\n",
      "2018-03-19 11:33:24.501115 EDT | computing descent direction\n",
      "2018-03-19 11:33:33.134104 EDT | descent direction computed\n",
      "2018-03-19 11:33:33.791954 EDT | backtrack iters: 1\n",
      "2018-03-19 11:33:33.797244 EDT | computing loss after\n",
      "2018-03-19 11:33:33.804549 EDT | optimization finished\n",
      "2018-03-19 11:33:35.076800 EDT | Protag Reward: 393.43864082254424\n",
      "2018-03-19 11:33:35.086057 EDT | itr #0 | \n"
     ]
    },
    {
     "name": "stderr",
     "output_type": "stream",
     "text": [
      "0% [##############################] 100% | ETA: 00:00:00\n",
      "Total time elapsed: 00:00:17\n"
     ]
    },
    {
     "name": "stdout",
     "output_type": "stream",
     "text": [
      "2018-03-19 11:33:52.648291 EDT | fitting baseline...\n",
      "2018-03-19 11:33:52.720489 EDT | fitted\n",
      "2018-03-19 11:33:53.229268 EDT | computing loss before\n",
      "2018-03-19 11:33:53.442466 EDT | performing update\n",
      "2018-03-19 11:33:53.445602 EDT | computing descent direction\n",
      "2018-03-19 11:34:03.103883 EDT | descent direction computed\n",
      "2018-03-19 11:34:03.556959 EDT | backtrack iters: 0\n",
      "2018-03-19 11:34:03.559122 EDT | computing loss after\n",
      "2018-03-19 11:34:03.562943 EDT | optimization finished\n",
      "2018-03-19 11:34:04.040211 EDT | Advers Reward: -395.3433598118643\n",
      "2018-03-19 11:34:19.613811 EDT | \n",
      "\n",
      "Experiment: 0 Iteration: 105\n",
      "\n",
      "2018-03-19 11:34:19.624161 EDT | itr #0 | \n"
     ]
    },
    {
     "name": "stderr",
     "output_type": "stream",
     "text": [
      "0% [##############################] 100% | ETA: 00:00:00\n",
      "Total time elapsed: 00:00:17\n"
     ]
    },
    {
     "name": "stdout",
     "output_type": "stream",
     "text": [
      "2018-03-19 11:34:37.630520 EDT | fitting baseline...\n",
      "2018-03-19 11:34:37.698481 EDT | fitted\n",
      "2018-03-19 11:34:38.275979 EDT | computing loss before\n",
      "2018-03-19 11:34:38.560306 EDT | performing update\n",
      "2018-03-19 11:34:38.564663 EDT | computing descent direction\n",
      "2018-03-19 11:34:48.402469 EDT | descent direction computed\n",
      "2018-03-19 11:34:48.732687 EDT | backtrack iters: 0\n",
      "2018-03-19 11:34:48.737281 EDT | computing loss after\n",
      "2018-03-19 11:34:48.745901 EDT | optimization finished\n",
      "2018-03-19 11:34:49.201486 EDT | Protag Reward: 410.1247426894125\n",
      "2018-03-19 11:34:49.207624 EDT | itr #0 | \n"
     ]
    },
    {
     "name": "stderr",
     "output_type": "stream",
     "text": [
      "0% [##############################] 100% | ETA: 00:00:00\n",
      "Total time elapsed: 00:00:16\n"
     ]
    },
    {
     "name": "stdout",
     "output_type": "stream",
     "text": [
      "2018-03-19 11:35:06.946072 EDT | fitting baseline...\n",
      "2018-03-19 11:35:07.002528 EDT | fitted\n",
      "2018-03-19 11:35:07.535130 EDT | computing loss before\n",
      "2018-03-19 11:35:07.789423 EDT | performing update\n",
      "2018-03-19 11:35:07.792099 EDT | computing descent direction\n",
      "2018-03-19 11:35:16.630435 EDT | descent direction computed\n",
      "2018-03-19 11:35:16.890915 EDT | backtrack iters: 0\n",
      "2018-03-19 11:35:16.898184 EDT | computing loss after\n",
      "2018-03-19 11:35:16.905105 EDT | optimization finished\n",
      "2018-03-19 11:35:18.168641 EDT | Advers Reward: -404.1317410868012\n",
      "2018-03-19 11:35:33.975075 EDT | \n",
      "\n",
      "Experiment: 0 Iteration: 106\n",
      "\n",
      "2018-03-19 11:35:33.980214 EDT | itr #0 | \n"
     ]
    },
    {
     "name": "stderr",
     "output_type": "stream",
     "text": [
      "0% [##############################] 100% | ETA: 00:00:00"
     ]
    },
    {
     "name": "stdout",
     "output_type": "stream",
     "text": [
      "2018-03-19 11:35:45.638717 EDT | fitting baseline...\n",
      "2018-03-19 11:35:45.673246 EDT | fitted\n"
     ]
    },
    {
     "name": "stderr",
     "output_type": "stream",
     "text": [
      "\n",
      "Total time elapsed: 00:00:11\n"
     ]
    },
    {
     "name": "stdout",
     "output_type": "stream",
     "text": [
      "2018-03-19 11:35:46.075194 EDT | computing loss before\n",
      "2018-03-19 11:35:46.295378 EDT | performing update\n",
      "2018-03-19 11:35:46.297705 EDT | computing descent direction\n",
      "2018-03-19 11:35:52.759571 EDT | descent direction computed\n",
      "2018-03-19 11:35:53.148224 EDT | backtrack iters: 1\n",
      "2018-03-19 11:35:53.149468 EDT | computing loss after\n",
      "2018-03-19 11:35:53.150437 EDT | optimization finished\n",
      "2018-03-19 11:35:53.896617 EDT | Protag Reward: 416.16239889860634\n",
      "2018-03-19 11:35:53.900304 EDT | itr #0 | \n"
     ]
    },
    {
     "name": "stderr",
     "output_type": "stream",
     "text": [
      "0% [##############################] 100% | ETA: 00:00:00"
     ]
    },
    {
     "name": "stdout",
     "output_type": "stream",
     "text": [
      "2018-03-19 11:36:04.322766 EDT | fitting baseline...\n"
     ]
    },
    {
     "name": "stderr",
     "output_type": "stream",
     "text": [
      "\n",
      "Total time elapsed: 00:00:10\n"
     ]
    },
    {
     "name": "stdout",
     "output_type": "stream",
     "text": [
      "2018-03-19 11:36:04.344369 EDT | fitted\n",
      "2018-03-19 11:36:04.743999 EDT | computing loss before\n",
      "2018-03-19 11:36:04.916498 EDT | performing update\n",
      "2018-03-19 11:36:04.917866 EDT | computing descent direction\n",
      "2018-03-19 11:36:12.151066 EDT | descent direction computed\n",
      "2018-03-19 11:36:13.317972 EDT | backtrack iters: 1\n",
      "2018-03-19 11:36:13.323374 EDT | computing loss after\n",
      "2018-03-19 11:36:13.332254 EDT | optimization finished\n",
      "2018-03-19 11:36:14.333457 EDT | Advers Reward: -401.06270733569863\n",
      "2018-03-19 11:36:29.638017 EDT | \n",
      "\n",
      "Experiment: 0 Iteration: 107\n",
      "\n",
      "2018-03-19 11:36:29.641897 EDT | itr #0 | \n"
     ]
    },
    {
     "name": "stderr",
     "output_type": "stream",
     "text": [
      "0% [##############################] 100% | ETA: 00:00:00\n",
      "Total time elapsed: 00:00:15\n"
     ]
    },
    {
     "name": "stdout",
     "output_type": "stream",
     "text": [
      "2018-03-19 11:36:45.996609 EDT | fitting baseline...\n",
      "2018-03-19 11:36:46.079083 EDT | fitted\n",
      "2018-03-19 11:36:46.657719 EDT | computing loss before\n",
      "2018-03-19 11:36:46.914413 EDT | performing update\n",
      "2018-03-19 11:36:46.920409 EDT | computing descent direction\n",
      "2018-03-19 11:36:56.004685 EDT | descent direction computed\n",
      "2018-03-19 11:36:56.577645 EDT | backtrack iters: 1\n",
      "2018-03-19 11:36:56.579304 EDT | computing loss after\n",
      "2018-03-19 11:36:56.580854 EDT | optimization finished\n",
      "2018-03-19 11:36:57.042838 EDT | Protag Reward: 401.370436720248\n",
      "2018-03-19 11:36:57.046000 EDT | itr #0 | \n"
     ]
    },
    {
     "name": "stderr",
     "output_type": "stream",
     "text": [
      "0% [##############################] 100% | ETA: 00:00:00\n",
      "Total time elapsed: 00:00:16\n"
     ]
    },
    {
     "name": "stdout",
     "output_type": "stream",
     "text": [
      "2018-03-19 11:37:14.308061 EDT | fitting baseline...\n",
      "2018-03-19 11:37:14.372808 EDT | fitted\n",
      "2018-03-19 11:37:14.948404 EDT | computing loss before\n",
      "2018-03-19 11:37:15.186708 EDT | performing update\n",
      "2018-03-19 11:37:15.191021 EDT | computing descent direction\n",
      "2018-03-19 11:37:24.526793 EDT | descent direction computed\n",
      "2018-03-19 11:37:25.087070 EDT | backtrack iters: 0\n",
      "2018-03-19 11:37:25.091453 EDT | computing loss after\n",
      "2018-03-19 11:37:25.094893 EDT | optimization finished\n",
      "2018-03-19 11:37:26.299175 EDT | Advers Reward: -392.6523903929212\n",
      "2018-03-19 11:37:41.139281 EDT | \n",
      "\n",
      "Experiment: 0 Iteration: 108\n",
      "\n",
      "2018-03-19 11:37:41.149354 EDT | itr #0 | \n"
     ]
    },
    {
     "name": "stderr",
     "output_type": "stream",
     "text": [
      "0% [##############################] 100% | ETA: 00:00:00\n",
      "Total time elapsed: 00:00:19\n"
     ]
    },
    {
     "name": "stdout",
     "output_type": "stream",
     "text": [
      "2018-03-19 11:38:01.938947 EDT | fitting baseline...\n",
      "2018-03-19 11:38:02.017615 EDT | fitted\n",
      "2018-03-19 11:38:02.790363 EDT | computing loss before\n",
      "2018-03-19 11:38:03.135190 EDT | performing update\n",
      "2018-03-19 11:38:03.138016 EDT | computing descent direction\n",
      "2018-03-19 11:38:12.061192 EDT | descent direction computed\n",
      "2018-03-19 11:38:12.672515 EDT | backtrack iters: 1\n",
      "2018-03-19 11:38:12.679877 EDT | computing loss after\n",
      "2018-03-19 11:38:12.685488 EDT | optimization finished\n",
      "2018-03-19 11:38:13.333942 EDT | Protag Reward: 405.89138662427837\n",
      "2018-03-19 11:38:13.342461 EDT | itr #0 | \n"
     ]
    },
    {
     "name": "stderr",
     "output_type": "stream",
     "text": [
      "0% [##############################] 100% | ETA: 00:00:00\n",
      "Total time elapsed: 00:00:16\n"
     ]
    },
    {
     "name": "stdout",
     "output_type": "stream",
     "text": [
      "2018-03-19 11:38:30.696726 EDT | fitting baseline...\n",
      "2018-03-19 11:38:30.804627 EDT | fitted\n",
      "2018-03-19 11:38:31.342020 EDT | computing loss before\n",
      "2018-03-19 11:38:31.598426 EDT | performing update\n",
      "2018-03-19 11:38:31.604715 EDT | computing descent direction\n",
      "2018-03-19 11:38:39.773961 EDT | descent direction computed\n",
      "2018-03-19 11:38:40.158626 EDT | backtrack iters: 0\n",
      "2018-03-19 11:38:40.162770 EDT | computing loss after\n",
      "2018-03-19 11:38:40.166100 EDT | optimization finished\n",
      "2018-03-19 11:38:40.811577 EDT | Advers Reward: -399.58838038019144\n",
      "2018-03-19 11:38:55.755875 EDT | \n",
      "\n",
      "Experiment: 0 Iteration: 109\n",
      "\n",
      "2018-03-19 11:38:55.764700 EDT | itr #0 | \n"
     ]
    },
    {
     "name": "stderr",
     "output_type": "stream",
     "text": [
      "0% [##############################] 100% | ETA: 00:00:00\n",
      "Total time elapsed: 00:00:16\n"
     ]
    },
    {
     "name": "stdout",
     "output_type": "stream",
     "text": [
      "2018-03-19 11:39:13.047401 EDT | fitting baseline...\n",
      "2018-03-19 11:39:13.147537 EDT | fitted\n",
      "2018-03-19 11:39:13.844810 EDT | computing loss before\n",
      "2018-03-19 11:39:14.160833 EDT | performing update\n",
      "2018-03-19 11:39:14.162683 EDT | computing descent direction\n",
      "2018-03-19 11:39:21.936908 EDT | descent direction computed\n",
      "2018-03-19 11:39:22.476010 EDT | backtrack iters: 1\n",
      "2018-03-19 11:39:22.484175 EDT | computing loss after\n",
      "2018-03-19 11:39:22.489154 EDT | optimization finished\n",
      "2018-03-19 11:39:23.076118 EDT | Protag Reward: 397.46311245692914\n",
      "2018-03-19 11:39:23.081521 EDT | itr #0 | \n"
     ]
    },
    {
     "name": "stderr",
     "output_type": "stream",
     "text": [
      "0% [##############################] 100% | ETA: 00:00:00\n",
      "Total time elapsed: 00:00:15\n"
     ]
    },
    {
     "name": "stdout",
     "output_type": "stream",
     "text": [
      "2018-03-19 11:39:39.737617 EDT | fitting baseline...\n",
      "2018-03-19 11:39:39.806074 EDT | fitted\n",
      "2018-03-19 11:39:40.361339 EDT | computing loss before\n",
      "2018-03-19 11:39:40.643168 EDT | performing update\n",
      "2018-03-19 11:39:40.647786 EDT | computing descent direction\n",
      "2018-03-19 11:39:49.693819 EDT | descent direction computed\n",
      "2018-03-19 11:39:50.147558 EDT | backtrack iters: 0\n",
      "2018-03-19 11:39:50.155422 EDT | computing loss after\n",
      "2018-03-19 11:39:50.161023 EDT | optimization finished\n",
      "2018-03-19 11:39:51.055441 EDT | Advers Reward: -400.9828193628269\n",
      "2018-03-19 11:40:06.186120 EDT | \n",
      "\n",
      "Experiment: 0 Iteration: 110\n",
      "\n",
      "2018-03-19 11:40:06.193771 EDT | itr #0 | \n"
     ]
    },
    {
     "name": "stderr",
     "output_type": "stream",
     "text": [
      "0% [##############################] 100% | ETA: 00:00:00\n",
      "Total time elapsed: 00:00:17\n"
     ]
    },
    {
     "name": "stdout",
     "output_type": "stream",
     "text": [
      "2018-03-19 11:40:24.352199 EDT | fitting baseline...\n",
      "2018-03-19 11:40:24.420316 EDT | fitted\n",
      "2018-03-19 11:40:25.132264 EDT | computing loss before\n",
      "2018-03-19 11:40:25.477312 EDT | performing update\n",
      "2018-03-19 11:40:25.481071 EDT | computing descent direction\n",
      "2018-03-19 11:40:34.266451 EDT | descent direction computed\n",
      "2018-03-19 11:40:34.629229 EDT | backtrack iters: 0\n",
      "2018-03-19 11:40:34.635010 EDT | computing loss after\n",
      "2018-03-19 11:40:34.638615 EDT | optimization finished\n",
      "2018-03-19 11:40:35.149454 EDT | Protag Reward: 395.76763752567706\n",
      "2018-03-19 11:40:35.159977 EDT | itr #0 | \n"
     ]
    },
    {
     "name": "stderr",
     "output_type": "stream",
     "text": [
      "0% [##############################] 100% | ETA: 00:00:00\n",
      "Total time elapsed: 00:00:16\n"
     ]
    },
    {
     "name": "stdout",
     "output_type": "stream",
     "text": [
      "2018-03-19 11:40:52.520569 EDT | fitting baseline...\n",
      "2018-03-19 11:40:52.572152 EDT | fitted\n",
      "2018-03-19 11:40:53.123778 EDT | computing loss before\n",
      "2018-03-19 11:40:53.333490 EDT | performing update\n",
      "2018-03-19 11:40:53.340866 EDT | computing descent direction\n",
      "2018-03-19 11:41:02.167485 EDT | descent direction computed\n",
      "2018-03-19 11:41:02.748377 EDT | backtrack iters: 1\n",
      "2018-03-19 11:41:02.753018 EDT | computing loss after\n",
      "2018-03-19 11:41:02.757856 EDT | optimization finished\n",
      "2018-03-19 11:41:03.342843 EDT | Advers Reward: -392.2509222882256\n",
      "2018-03-19 11:41:18.505868 EDT | \n",
      "\n",
      "Experiment: 0 Iteration: 111\n",
      "\n",
      "2018-03-19 11:41:18.511990 EDT | itr #0 | \n"
     ]
    },
    {
     "name": "stderr",
     "output_type": "stream",
     "text": [
      "0% [##############################] 100% | ETA: 00:00:00\n",
      "Total time elapsed: 00:00:16\n"
     ]
    },
    {
     "name": "stdout",
     "output_type": "stream",
     "text": [
      "2018-03-19 11:41:35.381337 EDT | fitting baseline...\n",
      "2018-03-19 11:41:35.444396 EDT | fitted\n",
      "2018-03-19 11:41:35.997988 EDT | computing loss before\n",
      "2018-03-19 11:41:36.219187 EDT | performing update\n",
      "2018-03-19 11:41:36.223873 EDT | computing descent direction\n",
      "2018-03-19 11:41:46.788642 EDT | descent direction computed\n",
      "2018-03-19 11:41:47.678045 EDT | backtrack iters: 1\n",
      "2018-03-19 11:41:47.681700 EDT | computing loss after\n",
      "2018-03-19 11:41:47.688325 EDT | optimization finished\n",
      "2018-03-19 11:41:48.464292 EDT | Protag Reward: 400.614693688665\n",
      "2018-03-19 11:41:48.474229 EDT | itr #0 | \n"
     ]
    },
    {
     "name": "stderr",
     "output_type": "stream",
     "text": [
      "0% [##############################] 100% | ETA: 00:00:00\n",
      "Total time elapsed: 00:00:17\n"
     ]
    },
    {
     "name": "stdout",
     "output_type": "stream",
     "text": [
      "2018-03-19 11:42:06.267925 EDT | fitting baseline...\n",
      "2018-03-19 11:42:06.350161 EDT | fitted\n",
      "2018-03-19 11:42:06.920460 EDT | computing loss before\n",
      "2018-03-19 11:42:07.138888 EDT | performing update\n",
      "2018-03-19 11:42:07.140486 EDT | computing descent direction\n",
      "2018-03-19 11:42:15.595429 EDT | descent direction computed\n",
      "2018-03-19 11:42:15.869842 EDT | backtrack iters: 0\n",
      "2018-03-19 11:42:15.875784 EDT | computing loss after\n",
      "2018-03-19 11:42:15.882793 EDT | optimization finished\n",
      "2018-03-19 11:42:16.524590 EDT | Advers Reward: -399.8189387006309\n",
      "2018-03-19 11:42:30.336979 EDT | \n",
      "\n",
      "Experiment: 0 Iteration: 112\n",
      "\n",
      "2018-03-19 11:42:30.340020 EDT | itr #0 | \n"
     ]
    },
    {
     "name": "stderr",
     "output_type": "stream",
     "text": [
      "0% [##############################] 100% | ETA: 00:00:00\n",
      "Total time elapsed: 00:00:16\n"
     ]
    },
    {
     "name": "stdout",
     "output_type": "stream",
     "text": [
      "2018-03-19 11:42:47.216159 EDT | fitting baseline...\n",
      "2018-03-19 11:42:47.313252 EDT | fitted\n",
      "2018-03-19 11:42:47.927008 EDT | computing loss before\n",
      "2018-03-19 11:42:48.214590 EDT | performing update\n",
      "2018-03-19 11:42:48.218693 EDT | computing descent direction\n",
      "2018-03-19 11:42:57.126624 EDT | descent direction computed\n",
      "2018-03-19 11:42:57.801102 EDT | backtrack iters: 1\n",
      "2018-03-19 11:42:57.811415 EDT | computing loss after\n",
      "2018-03-19 11:42:57.818258 EDT | optimization finished\n",
      "2018-03-19 11:42:58.486665 EDT | Protag Reward: 415.14432879561093\n",
      "2018-03-19 11:42:58.490981 EDT | itr #0 | \n"
     ]
    },
    {
     "name": "stderr",
     "output_type": "stream",
     "text": [
      "0% [##############################] 100% | ETA: 00:00:00\n",
      "Total time elapsed: 00:00:17\n"
     ]
    },
    {
     "name": "stdout",
     "output_type": "stream",
     "text": [
      "2018-03-19 11:43:17.047965 EDT | fitting baseline...\n",
      "2018-03-19 11:43:17.121454 EDT | fitted\n",
      "2018-03-19 11:43:17.805313 EDT | computing loss before\n",
      "2018-03-19 11:43:18.067863 EDT | performing update\n",
      "2018-03-19 11:43:18.071712 EDT | computing descent direction\n",
      "2018-03-19 11:43:25.987703 EDT | descent direction computed\n",
      "2018-03-19 11:43:26.283243 EDT | backtrack iters: 0\n",
      "2018-03-19 11:43:26.290634 EDT | computing loss after\n",
      "2018-03-19 11:43:26.297012 EDT | optimization finished\n",
      "2018-03-19 11:43:26.913667 EDT | Advers Reward: -415.7881134929404\n",
      "2018-03-19 11:43:42.329121 EDT | \n",
      "\n",
      "Experiment: 0 Iteration: 113\n",
      "\n",
      "2018-03-19 11:43:42.333934 EDT | itr #0 | \n"
     ]
    },
    {
     "name": "stderr",
     "output_type": "stream",
     "text": [
      "0% [##############################] 100% | ETA: 00:00:00\n",
      "Total time elapsed: 00:00:17\n"
     ]
    },
    {
     "name": "stdout",
     "output_type": "stream",
     "text": [
      "2018-03-19 11:43:59.955633 EDT | fitting baseline...\n",
      "2018-03-19 11:44:00.025540 EDT | fitted\n",
      "2018-03-19 11:44:00.582621 EDT | computing loss before\n",
      "2018-03-19 11:44:00.919126 EDT | performing update\n",
      "2018-03-19 11:44:00.920357 EDT | computing descent direction\n",
      "2018-03-19 11:44:10.135695 EDT | descent direction computed\n",
      "2018-03-19 11:44:11.092662 EDT | backtrack iters: 1\n",
      "2018-03-19 11:44:11.097367 EDT | computing loss after\n",
      "2018-03-19 11:44:11.102811 EDT | optimization finished\n",
      "2018-03-19 11:44:11.774341 EDT | Protag Reward: 408.8092640836108\n",
      "2018-03-19 11:44:11.782058 EDT | itr #0 | \n"
     ]
    },
    {
     "name": "stderr",
     "output_type": "stream",
     "text": [
      "0% [##############################] 100% | ETA: 00:00:00\n",
      "Total time elapsed: 00:00:15\n"
     ]
    },
    {
     "name": "stdout",
     "output_type": "stream",
     "text": [
      "2018-03-19 11:44:27.919934 EDT | fitting baseline...\n",
      "2018-03-19 11:44:28.018258 EDT | fitted\n",
      "2018-03-19 11:44:28.648451 EDT | computing loss before\n",
      "2018-03-19 11:44:28.907629 EDT | performing update\n",
      "2018-03-19 11:44:28.912134 EDT | computing descent direction\n",
      "2018-03-19 11:44:36.625013 EDT | descent direction computed\n",
      "2018-03-19 11:44:37.221924 EDT | backtrack iters: 1\n",
      "2018-03-19 11:44:37.223894 EDT | computing loss after\n",
      "2018-03-19 11:44:37.225250 EDT | optimization finished\n",
      "2018-03-19 11:44:37.785350 EDT | Advers Reward: -408.21744863190344\n",
      "2018-03-19 11:44:52.873033 EDT | \n",
      "\n",
      "Experiment: 0 Iteration: 114\n",
      "\n",
      "2018-03-19 11:44:52.881049 EDT | itr #0 | \n"
     ]
    },
    {
     "name": "stderr",
     "output_type": "stream",
     "text": [
      "0% [##############################] 100% | ETA: 00:00:00\n",
      "Total time elapsed: 00:00:17\n"
     ]
    },
    {
     "name": "stdout",
     "output_type": "stream",
     "text": [
      "2018-03-19 11:45:11.540934 EDT | fitting baseline...\n",
      "2018-03-19 11:45:11.609891 EDT | fitted\n",
      "2018-03-19 11:45:12.308879 EDT | computing loss before\n",
      "2018-03-19 11:45:12.657322 EDT | performing update\n",
      "2018-03-19 11:45:12.664882 EDT | computing descent direction\n",
      "2018-03-19 11:45:21.078312 EDT | descent direction computed\n",
      "2018-03-19 11:45:21.699341 EDT | backtrack iters: 1\n",
      "2018-03-19 11:45:21.705040 EDT | computing loss after\n",
      "2018-03-19 11:45:21.708001 EDT | optimization finished\n",
      "2018-03-19 11:45:22.339767 EDT | Protag Reward: 407.5007533715503\n",
      "2018-03-19 11:45:22.351707 EDT | itr #0 | \n"
     ]
    },
    {
     "name": "stderr",
     "output_type": "stream",
     "text": [
      "0% [##############################] 100% | ETA: 00:00:00\n",
      "Total time elapsed: 00:00:15\n"
     ]
    },
    {
     "name": "stdout",
     "output_type": "stream",
     "text": [
      "2018-03-19 11:45:38.509685 EDT | fitting baseline...\n",
      "2018-03-19 11:45:38.581630 EDT | fitted\n",
      "2018-03-19 11:45:39.304907 EDT | computing loss before\n",
      "2018-03-19 11:45:39.595164 EDT | performing update\n",
      "2018-03-19 11:45:39.600801 EDT | computing descent direction\n",
      "2018-03-19 11:45:48.486181 EDT | descent direction computed\n",
      "2018-03-19 11:45:49.208937 EDT | backtrack iters: 1\n",
      "2018-03-19 11:45:49.212692 EDT | computing loss after\n",
      "2018-03-19 11:45:49.219183 EDT | optimization finished\n",
      "2018-03-19 11:45:49.866846 EDT | Advers Reward: -401.9730880252539\n",
      "2018-03-19 11:46:05.629149 EDT | \n",
      "\n",
      "Experiment: 0 Iteration: 115\n",
      "\n",
      "2018-03-19 11:46:05.638185 EDT | itr #0 | \n"
     ]
    },
    {
     "name": "stderr",
     "output_type": "stream",
     "text": [
      "0% [##############################] 100% | ETA: 00:00:00\n",
      "Total time elapsed: 00:00:18\n"
     ]
    },
    {
     "name": "stdout",
     "output_type": "stream",
     "text": [
      "2018-03-19 11:46:24.914085 EDT | fitting baseline...\n",
      "2018-03-19 11:46:24.975337 EDT | fitted\n",
      "2018-03-19 11:46:25.611798 EDT | computing loss before\n",
      "2018-03-19 11:46:25.938564 EDT | performing update\n",
      "2018-03-19 11:46:25.939885 EDT | computing descent direction\n",
      "2018-03-19 11:46:34.683245 EDT | descent direction computed\n",
      "2018-03-19 11:46:35.335512 EDT | backtrack iters: 1\n",
      "2018-03-19 11:46:35.342344 EDT | computing loss after\n",
      "2018-03-19 11:46:35.346080 EDT | optimization finished\n",
      "2018-03-19 11:46:35.913254 EDT | Protag Reward: 401.3799193252475\n",
      "2018-03-19 11:46:35.918362 EDT | itr #0 | \n"
     ]
    },
    {
     "name": "stderr",
     "output_type": "stream",
     "text": [
      "0% [##############################] 100% | ETA: 00:00:00\n",
      "Total time elapsed: 00:00:17\n"
     ]
    },
    {
     "name": "stdout",
     "output_type": "stream",
     "text": [
      "2018-03-19 11:46:54.045998 EDT | fitting baseline...\n",
      "2018-03-19 11:46:54.129975 EDT | fitted\n",
      "2018-03-19 11:46:54.738262 EDT | computing loss before\n",
      "2018-03-19 11:46:55.049817 EDT | performing update\n",
      "2018-03-19 11:46:55.051988 EDT | computing descent direction\n",
      "2018-03-19 11:47:03.571158 EDT | descent direction computed\n",
      "2018-03-19 11:47:03.858827 EDT | backtrack iters: 0\n",
      "2018-03-19 11:47:03.862281 EDT | computing loss after\n",
      "2018-03-19 11:47:03.865014 EDT | optimization finished\n",
      "2018-03-19 11:47:04.427076 EDT | Advers Reward: -421.99642148932304\n",
      "2018-03-19 11:47:20.839423 EDT | \n",
      "\n",
      "Experiment: 0 Iteration: 116\n",
      "\n",
      "2018-03-19 11:47:20.842594 EDT | itr #0 | \n"
     ]
    },
    {
     "name": "stderr",
     "output_type": "stream",
     "text": [
      "0% [##############################] 100% | ETA: 00:00:00\n",
      "Total time elapsed: 00:00:17\n"
     ]
    },
    {
     "name": "stdout",
     "output_type": "stream",
     "text": [
      "2018-03-19 11:47:38.580974 EDT | fitting baseline...\n",
      "2018-03-19 11:47:38.667338 EDT | fitted\n",
      "2018-03-19 11:47:39.395125 EDT | computing loss before\n",
      "2018-03-19 11:47:39.733036 EDT | performing update\n",
      "2018-03-19 11:47:39.738838 EDT | computing descent direction\n",
      "2018-03-19 11:47:48.756715 EDT | descent direction computed\n",
      "2018-03-19 11:47:49.408205 EDT | backtrack iters: 1\n",
      "2018-03-19 11:47:49.412933 EDT | computing loss after\n",
      "2018-03-19 11:47:49.417537 EDT | optimization finished\n",
      "2018-03-19 11:47:50.066456 EDT | Protag Reward: 407.42161974563123\n",
      "2018-03-19 11:47:50.075966 EDT | itr #0 | \n"
     ]
    },
    {
     "name": "stderr",
     "output_type": "stream",
     "text": [
      "0% [##############################] 100% | ETA: 00:00:00\n",
      "Total time elapsed: 00:00:15\n"
     ]
    },
    {
     "name": "stdout",
     "output_type": "stream",
     "text": [
      "2018-03-19 11:48:06.506887 EDT | fitting baseline...\n",
      "2018-03-19 11:48:06.583551 EDT | fitted\n",
      "2018-03-19 11:48:07.247680 EDT | computing loss before\n",
      "2018-03-19 11:48:07.555452 EDT | performing update\n",
      "2018-03-19 11:48:07.560942 EDT | computing descent direction\n",
      "2018-03-19 11:48:16.453450 EDT | descent direction computed\n",
      "2018-03-19 11:48:16.808282 EDT | backtrack iters: 0\n",
      "2018-03-19 11:48:16.814630 EDT | computing loss after\n",
      "2018-03-19 11:48:16.823101 EDT | optimization finished\n",
      "2018-03-19 11:48:17.492815 EDT | Advers Reward: -390.619468293217\n",
      "2018-03-19 11:48:33.286596 EDT | \n",
      "\n",
      "Experiment: 0 Iteration: 117\n",
      "\n",
      "2018-03-19 11:48:33.294012 EDT | itr #0 | \n"
     ]
    },
    {
     "name": "stderr",
     "output_type": "stream",
     "text": [
      "0% [##############################] 100% | ETA: 00:00:00\n",
      "Total time elapsed: 00:00:16\n"
     ]
    },
    {
     "name": "stdout",
     "output_type": "stream",
     "text": [
      "2018-03-19 11:48:50.277650 EDT | fitting baseline...\n",
      "2018-03-19 11:48:50.351428 EDT | fitted\n",
      "2018-03-19 11:48:51.032047 EDT | computing loss before\n",
      "2018-03-19 11:48:51.344806 EDT | performing update\n",
      "2018-03-19 11:48:51.352148 EDT | computing descent direction\n",
      "2018-03-19 11:49:00.307834 EDT | descent direction computed\n",
      "2018-03-19 11:49:00.906904 EDT | backtrack iters: 1\n",
      "2018-03-19 11:49:00.910099 EDT | computing loss after\n",
      "2018-03-19 11:49:00.911668 EDT | optimization finished\n",
      "2018-03-19 11:49:01.533587 EDT | Protag Reward: 412.9019023024878\n",
      "2018-03-19 11:49:01.539626 EDT | itr #0 | \n"
     ]
    },
    {
     "name": "stderr",
     "output_type": "stream",
     "text": [
      "0% [##############################] 100% | ETA: 00:00:00\n",
      "Total time elapsed: 00:00:14\n"
     ]
    },
    {
     "name": "stdout",
     "output_type": "stream",
     "text": [
      "2018-03-19 11:49:16.525181 EDT | fitting baseline...\n",
      "2018-03-19 11:49:16.631449 EDT | fitted\n",
      "2018-03-19 11:49:17.350011 EDT | computing loss before\n",
      "2018-03-19 11:49:17.665079 EDT | performing update\n",
      "2018-03-19 11:49:17.669904 EDT | computing descent direction\n",
      "2018-03-19 11:49:25.873923 EDT | descent direction computed\n",
      "2018-03-19 11:49:26.201746 EDT | backtrack iters: 0\n",
      "2018-03-19 11:49:26.203083 EDT | computing loss after\n",
      "2018-03-19 11:49:26.204407 EDT | optimization finished\n",
      "2018-03-19 11:49:26.763703 EDT | Advers Reward: -412.13218800770557\n",
      "2018-03-19 11:49:41.520181 EDT | \n",
      "\n",
      "Experiment: 0 Iteration: 118\n",
      "\n",
      "2018-03-19 11:49:41.524849 EDT | itr #0 | \n"
     ]
    },
    {
     "name": "stderr",
     "output_type": "stream",
     "text": [
      "0% [##############################] 100% | ETA: 00:00:00\n",
      "Total time elapsed: 00:00:16\n"
     ]
    },
    {
     "name": "stdout",
     "output_type": "stream",
     "text": [
      "2018-03-19 11:49:59.343984 EDT | fitting baseline...\n",
      "2018-03-19 11:49:59.405694 EDT | fitted\n",
      "2018-03-19 11:50:00.106189 EDT | computing loss before\n",
      "2018-03-19 11:50:00.424497 EDT | performing update\n",
      "2018-03-19 11:50:00.429107 EDT | computing descent direction\n",
      "2018-03-19 11:50:08.681491 EDT | descent direction computed\n",
      "2018-03-19 11:50:09.325643 EDT | backtrack iters: 1\n",
      "2018-03-19 11:50:09.330200 EDT | computing loss after\n",
      "2018-03-19 11:50:09.334860 EDT | optimization finished\n",
      "2018-03-19 11:50:10.027082 EDT | Protag Reward: 418.9941107836754\n",
      "2018-03-19 11:50:10.036342 EDT | itr #0 | \n"
     ]
    },
    {
     "name": "stderr",
     "output_type": "stream",
     "text": [
      "0% [##############################] 100% | ETA: 00:00:00\n",
      "Total time elapsed: 00:00:16\n"
     ]
    },
    {
     "name": "stdout",
     "output_type": "stream",
     "text": [
      "2018-03-19 11:50:27.287856 EDT | fitting baseline...\n",
      "2018-03-19 11:50:27.339950 EDT | fitted\n",
      "2018-03-19 11:50:27.991783 EDT | computing loss before\n",
      "2018-03-19 11:50:28.269109 EDT | performing update\n",
      "2018-03-19 11:50:28.275424 EDT | computing descent direction\n",
      "2018-03-19 11:50:35.613434 EDT | descent direction computed\n",
      "2018-03-19 11:50:35.869153 EDT | backtrack iters: 0\n",
      "2018-03-19 11:50:35.875427 EDT | computing loss after\n",
      "2018-03-19 11:50:35.878745 EDT | optimization finished\n",
      "2018-03-19 11:50:36.524793 EDT | Advers Reward: -399.39843852425\n",
      "2018-03-19 11:50:52.215675 EDT | \n",
      "\n",
      "Experiment: 0 Iteration: 119\n",
      "\n",
      "2018-03-19 11:50:52.222983 EDT | itr #0 | \n"
     ]
    },
    {
     "name": "stderr",
     "output_type": "stream",
     "text": [
      "0% [##############################] 100% | ETA: 00:00:00\n",
      "Total time elapsed: 00:00:17\n"
     ]
    },
    {
     "name": "stdout",
     "output_type": "stream",
     "text": [
      "2018-03-19 11:51:10.468071 EDT | fitting baseline...\n",
      "2018-03-19 11:51:10.554645 EDT | fitted\n",
      "2018-03-19 11:51:11.320517 EDT | computing loss before\n",
      "2018-03-19 11:51:11.667653 EDT | performing update\n",
      "2018-03-19 11:51:11.672115 EDT | computing descent direction\n",
      "2018-03-19 11:51:19.764560 EDT | descent direction computed\n",
      "2018-03-19 11:51:20.076239 EDT | backtrack iters: 0\n",
      "2018-03-19 11:51:20.077693 EDT | computing loss after\n",
      "2018-03-19 11:51:20.083195 EDT | optimization finished\n",
      "2018-03-19 11:51:20.716161 EDT | Protag Reward: 399.5218723234592\n",
      "2018-03-19 11:51:20.725262 EDT | itr #0 | \n"
     ]
    },
    {
     "name": "stderr",
     "output_type": "stream",
     "text": [
      "0% [##############################] 100% | ETA: 00:00:00\n",
      "Total time elapsed: 00:00:17\n"
     ]
    },
    {
     "name": "stdout",
     "output_type": "stream",
     "text": [
      "2018-03-19 11:51:39.059845 EDT | fitting baseline...\n",
      "2018-03-19 11:51:39.145402 EDT | fitted\n",
      "2018-03-19 11:51:39.795141 EDT | computing loss before\n",
      "2018-03-19 11:51:40.095364 EDT | performing update\n",
      "2018-03-19 11:51:40.103924 EDT | computing descent direction\n",
      "2018-03-19 11:51:48.311664 EDT | descent direction computed\n",
      "2018-03-19 11:51:48.644954 EDT | backtrack iters: 0\n",
      "2018-03-19 11:51:48.649439 EDT | computing loss after\n",
      "2018-03-19 11:51:48.653972 EDT | optimization finished\n",
      "2018-03-19 11:51:49.221336 EDT | Advers Reward: -404.4297442661907\n",
      "2018-03-19 11:52:03.976086 EDT | \n",
      "\n",
      "Experiment: 0 Iteration: 120\n",
      "\n",
      "2018-03-19 11:52:03.984724 EDT | itr #0 | \n"
     ]
    },
    {
     "name": "stderr",
     "output_type": "stream",
     "text": [
      "0% [##############################] 100% | ETA: 00:00:00\n",
      "Total time elapsed: 00:00:17\n"
     ]
    },
    {
     "name": "stdout",
     "output_type": "stream",
     "text": [
      "2018-03-19 11:52:22.312742 EDT | fitting baseline...\n",
      "2018-03-19 11:52:22.376200 EDT | fitted\n",
      "2018-03-19 11:52:23.059102 EDT | computing loss before\n",
      "2018-03-19 11:52:23.388016 EDT | performing update\n",
      "2018-03-19 11:52:23.390167 EDT | computing descent direction\n",
      "2018-03-19 11:52:32.563561 EDT | descent direction computed\n",
      "2018-03-19 11:52:33.273762 EDT | backtrack iters: 1\n",
      "2018-03-19 11:52:33.279233 EDT | computing loss after\n",
      "2018-03-19 11:52:33.282786 EDT | optimization finished\n",
      "2018-03-19 11:52:33.992622 EDT | Protag Reward: 404.2061840084401\n",
      "2018-03-19 11:52:33.998894 EDT | itr #0 | \n"
     ]
    },
    {
     "name": "stderr",
     "output_type": "stream",
     "text": [
      "0% [##############################] 100% | ETA: 00:00:00\n",
      "Total time elapsed: 00:00:15\n"
     ]
    },
    {
     "name": "stdout",
     "output_type": "stream",
     "text": [
      "2018-03-19 11:52:49.901406 EDT | fitting baseline...\n",
      "2018-03-19 11:52:50.004322 EDT | fitted\n",
      "2018-03-19 11:52:50.759750 EDT | computing loss before\n",
      "2018-03-19 11:52:51.085224 EDT | performing update\n",
      "2018-03-19 11:52:51.088572 EDT | computing descent direction\n",
      "2018-03-19 11:52:59.784160 EDT | descent direction computed\n",
      "2018-03-19 11:53:00.078059 EDT | backtrack iters: 0\n",
      "2018-03-19 11:53:00.080833 EDT | computing loss after\n",
      "2018-03-19 11:53:00.089651 EDT | optimization finished\n",
      "2018-03-19 11:53:00.635583 EDT | Advers Reward: -400.22007376075595\n",
      "2018-03-19 11:53:15.207097 EDT | \n",
      "\n",
      "Experiment: 0 Iteration: 121\n",
      "\n",
      "2018-03-19 11:53:15.210207 EDT | itr #0 | \n"
     ]
    },
    {
     "name": "stderr",
     "output_type": "stream",
     "text": [
      "0% [##############################] 100% | ETA: 00:00:00\n",
      "Total time elapsed: 00:00:11\n"
     ]
    },
    {
     "name": "stdout",
     "output_type": "stream",
     "text": [
      "2018-03-19 11:53:27.269995 EDT | fitting baseline...\n",
      "2018-03-19 11:53:27.348676 EDT | fitted\n",
      "2018-03-19 11:53:28.059238 EDT | computing loss before\n",
      "2018-03-19 11:53:28.381251 EDT | performing update\n",
      "2018-03-19 11:53:28.387031 EDT | computing descent direction\n",
      "2018-03-19 11:53:36.499509 EDT | descent direction computed\n",
      "2018-03-19 11:53:37.088141 EDT | backtrack iters: 1\n",
      "2018-03-19 11:53:37.091376 EDT | computing loss after\n",
      "2018-03-19 11:53:37.096931 EDT | optimization finished\n",
      "2018-03-19 11:53:37.688517 EDT | Protag Reward: 411.49585361872374\n",
      "2018-03-19 11:53:37.692225 EDT | itr #0 | \n"
     ]
    },
    {
     "name": "stderr",
     "output_type": "stream",
     "text": [
      "0% [##############################] 100% | ETA: 00:00:00\n",
      "Total time elapsed: 00:00:14\n"
     ]
    },
    {
     "name": "stdout",
     "output_type": "stream",
     "text": [
      "2018-03-19 11:53:53.036203 EDT | fitting baseline...\n",
      "2018-03-19 11:53:53.080334 EDT | fitted\n",
      "2018-03-19 11:53:53.780109 EDT | computing loss before\n",
      "2018-03-19 11:53:54.074219 EDT | performing update\n",
      "2018-03-19 11:53:54.078045 EDT | computing descent direction\n",
      "2018-03-19 11:54:02.461742 EDT | descent direction computed\n",
      "2018-03-19 11:54:02.767508 EDT | backtrack iters: 0\n",
      "2018-03-19 11:54:02.769961 EDT | computing loss after\n",
      "2018-03-19 11:54:02.775231 EDT | optimization finished\n",
      "2018-03-19 11:54:03.383069 EDT | Advers Reward: -425.5586612734171\n",
      "2018-03-19 11:54:19.520937 EDT | \n",
      "\n",
      "Experiment: 0 Iteration: 122\n",
      "\n",
      "2018-03-19 11:54:19.531000 EDT | itr #0 | \n"
     ]
    },
    {
     "name": "stderr",
     "output_type": "stream",
     "text": [
      "0% [##############################] 100% | ETA: 00:00:00\n",
      "Total time elapsed: 00:00:17\n"
     ]
    },
    {
     "name": "stdout",
     "output_type": "stream",
     "text": [
      "2018-03-19 11:54:37.890264 EDT | fitting baseline...\n",
      "2018-03-19 11:54:37.960136 EDT | fitted\n",
      "2018-03-19 11:54:38.639548 EDT | computing loss before\n",
      "2018-03-19 11:54:38.943973 EDT | performing update\n",
      "2018-03-19 11:54:38.949458 EDT | computing descent direction\n",
      "2018-03-19 11:54:47.585977 EDT | descent direction computed\n",
      "2018-03-19 11:54:48.206521 EDT | backtrack iters: 1\n",
      "2018-03-19 11:54:48.216773 EDT | computing loss after\n",
      "2018-03-19 11:54:48.221657 EDT | optimization finished\n",
      "2018-03-19 11:54:48.813122 EDT | Protag Reward: 415.3927510635272\n",
      "2018-03-19 11:54:48.819314 EDT | itr #0 | \n"
     ]
    },
    {
     "name": "stderr",
     "output_type": "stream",
     "text": [
      "0% [##############################] 100% | ETA: 00:00:00\n",
      "Total time elapsed: 00:00:16\n"
     ]
    },
    {
     "name": "stdout",
     "output_type": "stream",
     "text": [
      "2018-03-19 11:55:05.763285 EDT | fitting baseline...\n",
      "2018-03-19 11:55:05.819141 EDT | fitted\n",
      "2018-03-19 11:55:06.589305 EDT | computing loss before\n",
      "2018-03-19 11:55:06.941057 EDT | performing update\n",
      "2018-03-19 11:55:06.944014 EDT | computing descent direction\n",
      "2018-03-19 11:55:16.101191 EDT | descent direction computed\n",
      "2018-03-19 11:55:16.707530 EDT | backtrack iters: 1\n",
      "2018-03-19 11:55:16.716756 EDT | computing loss after\n",
      "2018-03-19 11:55:16.719562 EDT | optimization finished\n",
      "2018-03-19 11:55:17.313915 EDT | Advers Reward: -413.46614933190887\n",
      "2018-03-19 11:55:32.322447 EDT | \n",
      "\n",
      "Experiment: 0 Iteration: 123\n",
      "\n",
      "2018-03-19 11:55:32.329619 EDT | itr #0 | \n"
     ]
    },
    {
     "name": "stderr",
     "output_type": "stream",
     "text": [
      "0% [##############################] 100% | ETA: 00:00:00\n",
      "Total time elapsed: 00:00:17\n"
     ]
    },
    {
     "name": "stdout",
     "output_type": "stream",
     "text": [
      "2018-03-19 11:55:49.857637 EDT | fitting baseline...\n",
      "2018-03-19 11:55:49.912989 EDT | fitted\n",
      "2018-03-19 11:55:50.588141 EDT | computing loss before\n",
      "2018-03-19 11:55:50.926444 EDT | performing update\n",
      "2018-03-19 11:55:50.929746 EDT | computing descent direction\n",
      "2018-03-19 11:55:59.277628 EDT | descent direction computed\n",
      "2018-03-19 11:55:59.926563 EDT | backtrack iters: 1\n",
      "2018-03-19 11:55:59.935348 EDT | computing loss after\n",
      "2018-03-19 11:55:59.938559 EDT | optimization finished\n",
      "2018-03-19 11:56:00.579887 EDT | Protag Reward: 423.9553709765269\n",
      "2018-03-19 11:56:00.584734 EDT | itr #0 | \n"
     ]
    },
    {
     "name": "stderr",
     "output_type": "stream",
     "text": [
      "0% [##############################] 100% | ETA: 00:00:00\n",
      "Total time elapsed: 00:00:16\n"
     ]
    },
    {
     "name": "stdout",
     "output_type": "stream",
     "text": [
      "2018-03-19 11:56:18.265198 EDT | fitting baseline...\n",
      "2018-03-19 11:56:18.386618 EDT | fitted\n",
      "2018-03-19 11:56:19.093246 EDT | computing loss before\n",
      "2018-03-19 11:56:19.378198 EDT | performing update\n",
      "2018-03-19 11:56:19.380210 EDT | computing descent direction\n",
      "2018-03-19 11:56:27.443475 EDT | descent direction computed\n",
      "2018-03-19 11:56:28.095487 EDT | backtrack iters: 1\n",
      "2018-03-19 11:56:28.101186 EDT | computing loss after\n",
      "2018-03-19 11:56:28.110152 EDT | optimization finished\n",
      "2018-03-19 11:56:28.739362 EDT | Advers Reward: -412.1559912908454\n",
      "2018-03-19 11:56:46.664595 EDT | \n",
      "\n",
      "Experiment: 0 Iteration: 124\n",
      "\n",
      "2018-03-19 11:56:46.678156 EDT | itr #0 | \n"
     ]
    },
    {
     "name": "stderr",
     "output_type": "stream",
     "text": [
      "0% [##############################] 100% | ETA: 00:00:00\n",
      "Total time elapsed: 00:00:17\n"
     ]
    },
    {
     "name": "stdout",
     "output_type": "stream",
     "text": [
      "2018-03-19 11:57:04.488538 EDT | fitting baseline...\n",
      "2018-03-19 11:57:04.586639 EDT | fitted\n",
      "2018-03-19 11:57:05.336360 EDT | computing loss before\n",
      "2018-03-19 11:57:05.700282 EDT | performing update\n",
      "2018-03-19 11:57:05.702092 EDT | computing descent direction\n",
      "2018-03-19 11:57:14.658444 EDT | descent direction computed\n",
      "2018-03-19 11:57:15.234194 EDT | backtrack iters: 1\n",
      "2018-03-19 11:57:15.236051 EDT | computing loss after\n",
      "2018-03-19 11:57:15.238260 EDT | optimization finished\n",
      "2018-03-19 11:57:15.864280 EDT | Protag Reward: 411.0378241518225\n",
      "2018-03-19 11:57:15.872019 EDT | itr #0 | \n"
     ]
    },
    {
     "name": "stderr",
     "output_type": "stream",
     "text": [
      "0% [##############################] 100% | ETA: 00:00:00\n",
      "Total time elapsed: 00:00:16\n"
     ]
    },
    {
     "name": "stdout",
     "output_type": "stream",
     "text": [
      "2018-03-19 11:57:33.564924 EDT | fitting baseline...\n",
      "2018-03-19 11:57:33.621360 EDT | fitted\n",
      "2018-03-19 11:57:34.314675 EDT | computing loss before\n",
      "2018-03-19 11:57:34.621552 EDT | performing update\n",
      "2018-03-19 11:57:34.628689 EDT | computing descent direction\n",
      "2018-03-19 11:57:42.734046 EDT | descent direction computed\n",
      "2018-03-19 11:57:43.432660 EDT | backtrack iters: 1\n",
      "2018-03-19 11:57:43.436528 EDT | computing loss after\n",
      "2018-03-19 11:57:43.441389 EDT | optimization finished\n",
      "2018-03-19 11:57:44.126297 EDT | Advers Reward: -405.3268640297562\n",
      "2018-03-19 11:58:00.799683 EDT | \n",
      "\n",
      "Experiment: 0 Iteration: 125\n",
      "\n",
      "2018-03-19 11:58:00.804725 EDT | itr #0 | \n"
     ]
    },
    {
     "name": "stderr",
     "output_type": "stream",
     "text": [
      "0% [##############################] 100% | ETA: 00:00:00"
     ]
    },
    {
     "name": "stdout",
     "output_type": "stream",
     "text": [
      "2018-03-19 11:58:14.339078 EDT | fitting baseline...\n",
      "2018-03-19 11:58:14.367611 EDT | fitted\n"
     ]
    },
    {
     "name": "stderr",
     "output_type": "stream",
     "text": [
      "\n",
      "Total time elapsed: 00:00:13\n"
     ]
    },
    {
     "name": "stdout",
     "output_type": "stream",
     "text": [
      "2018-03-19 11:58:15.027607 EDT | computing loss before\n",
      "2018-03-19 11:58:15.334226 EDT | performing update\n",
      "2018-03-19 11:58:15.336422 EDT | computing descent direction\n",
      "2018-03-19 11:58:24.211532 EDT | descent direction computed\n",
      "2018-03-19 11:58:24.868109 EDT | backtrack iters: 1\n",
      "2018-03-19 11:58:24.873235 EDT | computing loss after\n",
      "2018-03-19 11:58:24.876573 EDT | optimization finished\n",
      "2018-03-19 11:58:25.613690 EDT | Protag Reward: 410.9320755072092\n",
      "2018-03-19 11:58:25.621374 EDT | itr #0 | \n"
     ]
    },
    {
     "name": "stderr",
     "output_type": "stream",
     "text": [
      "0% [##############################] 100% | ETA: 00:00:00\n",
      "Total time elapsed: 00:00:08\n"
     ]
    },
    {
     "name": "stdout",
     "output_type": "stream",
     "text": [
      "2018-03-19 11:58:34.823134 EDT | fitting baseline...\n",
      "2018-03-19 11:58:34.874494 EDT | fitted\n",
      "2018-03-19 11:58:35.393568 EDT | computing loss before\n",
      "2018-03-19 11:58:35.645488 EDT | performing update\n",
      "2018-03-19 11:58:35.646879 EDT | computing descent direction\n",
      "2018-03-19 13:39:56.578579 EDT | descent direction computed\n",
      "2018-03-19 13:39:56.931840 EDT | backtrack iters: 1\n",
      "2018-03-19 13:39:56.933112 EDT | computing loss after\n",
      "2018-03-19 13:39:56.934150 EDT | optimization finished\n",
      "2018-03-19 13:39:57.253695 EDT | Advers Reward: -413.22594558147915\n",
      "2018-03-19 13:40:00.372831 EDT | \n",
      "\n",
      "Experiment: 0 Iteration: 126\n",
      "\n",
      "2018-03-19 13:40:00.374136 EDT | itr #0 | \n"
     ]
    },
    {
     "name": "stderr",
     "output_type": "stream",
     "text": [
      "0% [##############################] 100% | ETA: 00:00:00"
     ]
    },
    {
     "name": "stdout",
     "output_type": "stream",
     "text": [
      "2018-03-19 13:40:05.905206 EDT | fitting baseline...\n",
      "2018-03-19 13:40:05.929472 EDT | fitted\n"
     ]
    },
    {
     "name": "stderr",
     "output_type": "stream",
     "text": [
      "\n",
      "Total time elapsed: 00:00:05\n"
     ]
    },
    {
     "name": "stdout",
     "output_type": "stream",
     "text": [
      "2018-03-19 13:40:06.291658 EDT | computing loss before\n",
      "2018-03-19 13:40:06.471460 EDT | performing update\n",
      "2018-03-19 13:40:06.489964 EDT | computing descent direction\n",
      "2018-03-19 13:40:09.682355 EDT | descent direction computed\n",
      "2018-03-19 13:40:10.025784 EDT | backtrack iters: 1\n",
      "2018-03-19 13:40:10.028554 EDT | computing loss after\n",
      "2018-03-19 13:40:10.031418 EDT | optimization finished\n",
      "2018-03-19 13:40:10.348994 EDT | Protag Reward: 417.1505300867934\n",
      "2018-03-19 13:40:10.350266 EDT | itr #0 | \n"
     ]
    },
    {
     "name": "stderr",
     "output_type": "stream",
     "text": [
      "0% [##############################] 100% | ETA: 00:00:00\n",
      "Total time elapsed: 00:00:05\n"
     ]
    },
    {
     "name": "stdout",
     "output_type": "stream",
     "text": [
      "2018-03-19 13:40:16.518988 EDT | fitting baseline...\n",
      "2018-03-19 13:40:16.543115 EDT | fitted\n",
      "2018-03-19 13:40:16.884934 EDT | computing loss before\n",
      "2018-03-19 13:40:17.064563 EDT | performing update\n",
      "2018-03-19 13:40:17.067761 EDT | computing descent direction\n",
      "2018-03-19 13:40:20.042582 EDT | descent direction computed\n",
      "2018-03-19 13:40:20.216376 EDT | backtrack iters: 0\n",
      "2018-03-19 13:40:20.219224 EDT | computing loss after\n",
      "2018-03-19 13:40:20.222094 EDT | optimization finished\n",
      "2018-03-19 13:40:20.541170 EDT | Advers Reward: -418.7485597851032\n",
      "2018-03-19 13:40:23.359347 EDT | \n",
      "\n",
      "Experiment: 0 Iteration: 127\n",
      "\n",
      "2018-03-19 13:40:23.361135 EDT | itr #0 | \n"
     ]
    },
    {
     "name": "stderr",
     "output_type": "stream",
     "text": [
      "0% [##############################] 100% | ETA: 00:00:00\n",
      "Total time elapsed: 00:00:07\n"
     ]
    },
    {
     "name": "stdout",
     "output_type": "stream",
     "text": [
      "2018-03-19 13:40:31.426861 EDT | fitting baseline...\n",
      "2018-03-19 13:40:31.516584 EDT | fitted\n",
      "2018-03-19 13:40:32.036469 EDT | computing loss before\n",
      "2018-03-19 13:40:32.283607 EDT | performing update\n",
      "2018-03-19 13:40:32.287364 EDT | computing descent direction\n",
      "2018-03-19 13:40:35.991452 EDT | descent direction computed\n",
      "2018-03-19 13:40:36.310770 EDT | backtrack iters: 1\n",
      "2018-03-19 13:40:36.311938 EDT | computing loss after\n",
      "2018-03-19 13:40:36.313048 EDT | optimization finished\n",
      "2018-03-19 13:40:36.631878 EDT | Protag Reward: 415.73976581270574\n",
      "2018-03-19 13:40:36.632957 EDT | itr #0 | \n"
     ]
    },
    {
     "name": "stderr",
     "output_type": "stream",
     "text": [
      "0% [##############################] 100% | ETA: 00:00:00\n",
      "Total time elapsed: 00:00:04\n"
     ]
    },
    {
     "name": "stdout",
     "output_type": "stream",
     "text": [
      "2018-03-19 13:40:41.305135 EDT | fitting baseline...\n",
      "2018-03-19 13:40:41.327466 EDT | fitted\n",
      "2018-03-19 13:40:41.658963 EDT | computing loss before\n",
      "2018-03-19 13:40:41.811072 EDT | performing update\n",
      "2018-03-19 13:40:41.813933 EDT | computing descent direction\n",
      "2018-03-19 13:40:44.789635 EDT | descent direction computed\n",
      "2018-03-19 13:40:44.943006 EDT | backtrack iters: 0\n",
      "2018-03-19 13:40:44.945804 EDT | computing loss after\n",
      "2018-03-19 13:40:44.948204 EDT | optimization finished\n",
      "2018-03-19 13:40:45.252498 EDT | Advers Reward: -424.6542182914654\n",
      "2018-03-19 13:40:48.116361 EDT | \n",
      "\n",
      "Experiment: 0 Iteration: 128\n",
      "\n",
      "2018-03-19 13:40:48.117483 EDT | itr #0 | \n"
     ]
    },
    {
     "name": "stderr",
     "output_type": "stream",
     "text": [
      "0% [##############################] 100% | ETA: 00:00:00"
     ]
    },
    {
     "name": "stdout",
     "output_type": "stream",
     "text": [
      "2018-03-19 13:40:52.202207 EDT | fitting baseline...\n"
     ]
    },
    {
     "name": "stderr",
     "output_type": "stream",
     "text": [
      "\n",
      "Total time elapsed: 00:00:03\n"
     ]
    },
    {
     "name": "stdout",
     "output_type": "stream",
     "text": [
      "2018-03-19 13:40:52.227473 EDT | fitted\n",
      "2018-03-19 13:40:52.565353 EDT | computing loss before\n",
      "2018-03-19 13:40:52.723014 EDT | performing update\n",
      "2018-03-19 13:40:52.725935 EDT | computing descent direction\n",
      "2018-03-19 13:40:55.842896 EDT | descent direction computed\n",
      "2018-03-19 13:40:56.003416 EDT | backtrack iters: 0\n",
      "2018-03-19 13:40:56.006206 EDT | computing loss after\n",
      "2018-03-19 13:40:56.008599 EDT | optimization finished\n",
      "2018-03-19 13:40:56.321729 EDT | Protag Reward: 426.35126824289154\n",
      "2018-03-19 13:40:56.322988 EDT | itr #0 | \n"
     ]
    },
    {
     "name": "stderr",
     "output_type": "stream",
     "text": [
      "0% [##############################] 100% | ETA: 00:00:00\n",
      "Total time elapsed: 00:00:04\n"
     ]
    },
    {
     "name": "stdout",
     "output_type": "stream",
     "text": [
      "2018-03-19 13:41:00.883277 EDT | fitting baseline...\n",
      "2018-03-19 13:41:00.905808 EDT | fitted\n",
      "2018-03-19 13:41:01.242282 EDT | computing loss before\n",
      "2018-03-19 13:41:01.392633 EDT | performing update\n",
      "2018-03-19 13:41:01.395520 EDT | computing descent direction\n",
      "2018-03-19 13:41:04.351345 EDT | descent direction computed\n",
      "2018-03-19 13:41:04.654226 EDT | backtrack iters: 1\n",
      "2018-03-19 13:41:04.657064 EDT | computing loss after\n",
      "2018-03-19 13:41:04.659532 EDT | optimization finished\n",
      "2018-03-19 13:41:04.963159 EDT | Advers Reward: -431.7636636798619\n",
      "2018-03-19 13:41:07.789569 EDT | \n",
      "\n",
      "Experiment: 0 Iteration: 129\n",
      "\n",
      "2018-03-19 13:41:07.790885 EDT | itr #0 | \n"
     ]
    },
    {
     "name": "stderr",
     "output_type": "stream",
     "text": [
      "0% [##############################] 100% | ETA: 00:00:00"
     ]
    },
    {
     "name": "stdout",
     "output_type": "stream",
     "text": [
      "2018-03-19 13:41:11.855816 EDT | fitting baseline...\n",
      "2018-03-19 13:41:11.876467 EDT | fitted\n"
     ]
    },
    {
     "name": "stderr",
     "output_type": "stream",
     "text": [
      "\n",
      "Total time elapsed: 00:00:03\n"
     ]
    },
    {
     "name": "stdout",
     "output_type": "stream",
     "text": [
      "2018-03-19 13:41:12.222297 EDT | computing loss before\n",
      "2018-03-19 13:41:12.376961 EDT | performing update\n",
      "2018-03-19 13:41:12.379868 EDT | computing descent direction\n",
      "2018-03-19 13:41:15.455435 EDT | descent direction computed\n",
      "2018-03-19 13:41:15.614403 EDT | backtrack iters: 0\n",
      "2018-03-19 13:41:15.617268 EDT | computing loss after\n",
      "2018-03-19 13:41:15.619848 EDT | optimization finished\n",
      "2018-03-19 13:41:15.943612 EDT | Protag Reward: 434.9655400980927\n",
      "2018-03-19 13:41:15.944868 EDT | itr #0 | \n"
     ]
    },
    {
     "name": "stderr",
     "output_type": "stream",
     "text": [
      "0% [##############################] 100% | ETA: 00:00:00"
     ]
    },
    {
     "name": "stdout",
     "output_type": "stream",
     "text": [
      "2018-03-19 13:41:20.042633 EDT | fitting baseline...\n"
     ]
    },
    {
     "name": "stderr",
     "output_type": "stream",
     "text": [
      "\n",
      "Total time elapsed: 00:00:03\n"
     ]
    },
    {
     "name": "stdout",
     "output_type": "stream",
     "text": [
      "2018-03-19 13:41:20.067123 EDT | fitted\n",
      "2018-03-19 13:41:20.402162 EDT | computing loss before\n",
      "2018-03-19 13:41:20.554962 EDT | performing update\n",
      "2018-03-19 13:41:20.557774 EDT | computing descent direction\n",
      "2018-03-19 13:41:23.535643 EDT | descent direction computed\n",
      "2018-03-19 13:41:23.853187 EDT | backtrack iters: 1\n",
      "2018-03-19 13:41:23.854239 EDT | computing loss after\n",
      "2018-03-19 13:41:23.855243 EDT | optimization finished\n",
      "2018-03-19 13:41:24.161016 EDT | Advers Reward: -426.8603352047582\n",
      "2018-03-19 13:41:27.053065 EDT | \n",
      "\n",
      "Experiment: 0 Iteration: 130\n",
      "\n",
      "2018-03-19 13:41:27.054652 EDT | itr #0 | \n"
     ]
    },
    {
     "name": "stderr",
     "output_type": "stream",
     "text": [
      "0% [##############################] 100% | ETA: 00:00:00"
     ]
    },
    {
     "name": "stdout",
     "output_type": "stream",
     "text": [
      "2018-03-19 13:41:31.458479 EDT | fitting baseline...\n",
      "2018-03-19 13:41:31.481178 EDT | fitted\n"
     ]
    },
    {
     "name": "stderr",
     "output_type": "stream",
     "text": [
      "\n",
      "Total time elapsed: 00:00:04\n"
     ]
    },
    {
     "name": "stdout",
     "output_type": "stream",
     "text": [
      "2018-03-19 13:41:31.833773 EDT | computing loss before\n",
      "2018-03-19 13:41:31.989878 EDT | performing update\n",
      "2018-03-19 13:41:31.992778 EDT | computing descent direction\n",
      "2018-03-19 13:41:35.196351 EDT | descent direction computed\n",
      "2018-03-19 13:41:35.357028 EDT | backtrack iters: 0\n",
      "2018-03-19 13:41:35.359920 EDT | computing loss after\n",
      "2018-03-19 13:41:35.362417 EDT | optimization finished\n",
      "2018-03-19 13:41:35.680711 EDT | Protag Reward: 437.9775804666186\n",
      "2018-03-19 13:41:35.681978 EDT | itr #0 | \n"
     ]
    },
    {
     "name": "stderr",
     "output_type": "stream",
     "text": [
      "0% [##############################] 100% | ETA: 00:00:00"
     ]
    },
    {
     "name": "stdout",
     "output_type": "stream",
     "text": [
      "2018-03-19 13:41:39.847782 EDT | fitting baseline...\n",
      "2018-03-19 13:41:39.867000 EDT | fitted\n"
     ]
    },
    {
     "name": "stderr",
     "output_type": "stream",
     "text": [
      "\n",
      "Total time elapsed: 00:00:04\n"
     ]
    },
    {
     "name": "stdout",
     "output_type": "stream",
     "text": [
      "2018-03-19 13:41:40.198825 EDT | computing loss before\n",
      "2018-03-19 13:41:40.348836 EDT | performing update\n",
      "2018-03-19 13:41:40.351710 EDT | computing descent direction\n",
      "2018-03-19 13:41:43.299680 EDT | descent direction computed\n",
      "2018-03-19 13:41:43.600272 EDT | backtrack iters: 1\n",
      "2018-03-19 13:41:43.603036 EDT | computing loss after\n",
      "2018-03-19 13:41:43.605461 EDT | optimization finished\n",
      "2018-03-19 13:41:43.904792 EDT | Advers Reward: -432.98594755587334\n",
      "2018-03-19 13:41:46.852589 EDT | \n",
      "\n",
      "Experiment: 0 Iteration: 131\n",
      "\n",
      "2018-03-19 13:41:46.853781 EDT | itr #0 | \n"
     ]
    },
    {
     "name": "stderr",
     "output_type": "stream",
     "text": [
      "0% [##############################] 100% | ETA: 00:00:00"
     ]
    },
    {
     "name": "stdout",
     "output_type": "stream",
     "text": [
      "2018-03-19 13:41:51.937243 EDT | fitting baseline...\n",
      "2018-03-19 13:41:51.957821 EDT | fitted\n"
     ]
    },
    {
     "name": "stderr",
     "output_type": "stream",
     "text": [
      "\n",
      "Total time elapsed: 00:00:04\n"
     ]
    },
    {
     "name": "stdout",
     "output_type": "stream",
     "text": [
      "2018-03-19 13:41:52.304112 EDT | computing loss before\n",
      "2018-03-19 13:41:52.479363 EDT | performing update\n",
      "2018-03-19 13:41:52.482325 EDT | computing descent direction\n",
      "2018-03-19 13:41:56.023973 EDT | descent direction computed\n",
      "2018-03-19 13:41:56.186585 EDT | backtrack iters: 0\n",
      "2018-03-19 13:41:56.187612 EDT | computing loss after\n",
      "2018-03-19 13:41:56.191318 EDT | optimization finished\n",
      "2018-03-19 13:41:56.508259 EDT | Protag Reward: 435.23595617210725\n",
      "2018-03-19 13:41:56.512408 EDT | itr #0 | \n"
     ]
    },
    {
     "name": "stderr",
     "output_type": "stream",
     "text": [
      "0% [##############################] 100% | ETA: 00:00:00"
     ]
    },
    {
     "name": "stdout",
     "output_type": "stream",
     "text": [
      "2018-03-19 13:42:01.440179 EDT | fitting baseline...\n",
      "2018-03-19 13:42:01.460850 EDT | fitted\n"
     ]
    },
    {
     "name": "stderr",
     "output_type": "stream",
     "text": [
      "\n",
      "Total time elapsed: 00:00:04\n"
     ]
    },
    {
     "name": "stdout",
     "output_type": "stream",
     "text": [
      "2018-03-19 13:42:01.787832 EDT | computing loss before\n",
      "2018-03-19 13:42:01.940029 EDT | performing update\n",
      "2018-03-19 13:42:01.942884 EDT | computing descent direction\n",
      "2018-03-19 13:42:04.913060 EDT | descent direction computed\n",
      "2018-03-19 13:42:05.069712 EDT | backtrack iters: 0\n",
      "2018-03-19 13:42:05.072512 EDT | computing loss after\n",
      "2018-03-19 13:42:05.075206 EDT | optimization finished\n",
      "2018-03-19 13:42:05.381076 EDT | Advers Reward: -431.77163760503527\n",
      "2018-03-19 13:42:08.512330 EDT | \n",
      "\n",
      "Experiment: 0 Iteration: 132\n",
      "\n",
      "2018-03-19 13:42:08.513440 EDT | itr #0 | \n"
     ]
    },
    {
     "name": "stderr",
     "output_type": "stream",
     "text": [
      "0% [##############################] 100% | ETA: 00:00:00\n",
      "Total time elapsed: 00:00:04\n"
     ]
    },
    {
     "name": "stdout",
     "output_type": "stream",
     "text": [
      "2018-03-19 13:42:12.855846 EDT | fitting baseline...\n",
      "2018-03-19 13:42:12.878075 EDT | fitted\n",
      "2018-03-19 13:42:13.214354 EDT | computing loss before\n",
      "2018-03-19 13:42:13.370743 EDT | performing update\n",
      "2018-03-19 13:42:13.373654 EDT | computing descent direction\n",
      "2018-03-19 13:42:16.467276 EDT | descent direction computed\n",
      "2018-03-19 13:42:16.623508 EDT | backtrack iters: 0\n",
      "2018-03-19 13:42:16.626621 EDT | computing loss after\n",
      "2018-03-19 13:42:16.629458 EDT | optimization finished\n",
      "2018-03-19 13:42:16.939840 EDT | Protag Reward: 428.0847563013943\n",
      "2018-03-19 13:42:16.941244 EDT | itr #0 | \n"
     ]
    },
    {
     "name": "stderr",
     "output_type": "stream",
     "text": [
      "0% [##############################] 100% | ETA: 00:00:00"
     ]
    },
    {
     "name": "stdout",
     "output_type": "stream",
     "text": [
      "2018-03-19 13:42:21.037525 EDT | fitting baseline...\n"
     ]
    },
    {
     "name": "stderr",
     "output_type": "stream",
     "text": [
      "\n",
      "Total time elapsed: 00:00:03\n"
     ]
    },
    {
     "name": "stdout",
     "output_type": "stream",
     "text": [
      "2018-03-19 13:42:21.061759 EDT | fitted\n",
      "2018-03-19 13:42:21.395970 EDT | computing loss before\n",
      "2018-03-19 13:42:21.548663 EDT | performing update\n",
      "2018-03-19 13:42:21.551573 EDT | computing descent direction\n",
      "2018-03-19 13:42:24.507714 EDT | descent direction computed\n",
      "2018-03-19 13:42:24.818021 EDT | backtrack iters: 1\n",
      "2018-03-19 13:42:24.822073 EDT | computing loss after\n",
      "2018-03-19 13:42:24.825636 EDT | optimization finished\n",
      "2018-03-19 13:42:25.127840 EDT | Advers Reward: -431.55903588943164\n",
      "2018-03-19 13:42:28.069141 EDT | \n",
      "\n",
      "Experiment: 0 Iteration: 133\n",
      "\n",
      "2018-03-19 13:42:28.070560 EDT | itr #0 | \n"
     ]
    },
    {
     "name": "stderr",
     "output_type": "stream",
     "text": [
      "0% [##############################] 100% | ETA: 00:00:00"
     ]
    },
    {
     "name": "stdout",
     "output_type": "stream",
     "text": [
      "2018-03-19 13:42:32.252569 EDT | fitting baseline...\n",
      "2018-03-19 13:42:32.275378 EDT | fitted\n"
     ]
    },
    {
     "name": "stderr",
     "output_type": "stream",
     "text": [
      "\n",
      "Total time elapsed: 00:00:04\n"
     ]
    },
    {
     "name": "stdout",
     "output_type": "stream",
     "text": [
      "2018-03-19 13:42:32.632186 EDT | computing loss before\n",
      "2018-03-19 13:42:32.797989 EDT | performing update\n",
      "2018-03-19 13:42:32.800727 EDT | computing descent direction\n",
      "2018-03-19 13:42:35.963410 EDT | descent direction computed\n",
      "2018-03-19 13:42:36.277251 EDT | backtrack iters: 1\n",
      "2018-03-19 13:42:36.280091 EDT | computing loss after\n",
      "2018-03-19 13:42:36.282542 EDT | optimization finished\n",
      "2018-03-19 13:42:36.595378 EDT | Protag Reward: 437.4584836491287\n",
      "2018-03-19 13:42:36.596626 EDT | itr #0 | \n"
     ]
    },
    {
     "name": "stderr",
     "output_type": "stream",
     "text": [
      "0% [##############################] 100% | ETA: 00:00:00\n",
      "Total time elapsed: 00:00:03\n"
     ]
    },
    {
     "name": "stdout",
     "output_type": "stream",
     "text": [
      "2018-03-19 13:42:40.727737 EDT | fitting baseline...\n",
      "2018-03-19 13:42:40.748580 EDT | fitted\n",
      "2018-03-19 13:42:41.080303 EDT | computing loss before\n",
      "2018-03-19 13:42:41.233033 EDT | performing update\n",
      "2018-03-19 13:42:41.235912 EDT | computing descent direction\n",
      "2018-03-19 13:42:44.221946 EDT | descent direction computed\n",
      "2018-03-19 13:42:44.376632 EDT | backtrack iters: 0\n",
      "2018-03-19 13:42:44.379408 EDT | computing loss after\n",
      "2018-03-19 13:42:44.381901 EDT | optimization finished\n",
      "2018-03-19 13:42:44.687146 EDT | Advers Reward: -435.2593214942407\n",
      "2018-03-19 13:42:47.680225 EDT | \n",
      "\n",
      "Experiment: 0 Iteration: 134\n",
      "\n",
      "2018-03-19 13:42:47.681396 EDT | itr #0 | \n"
     ]
    },
    {
     "name": "stderr",
     "output_type": "stream",
     "text": [
      "0% [##############################] 100% | ETA: 00:00:00\n",
      "Total time elapsed: 00:00:04\n"
     ]
    },
    {
     "name": "stdout",
     "output_type": "stream",
     "text": [
      "2018-03-19 13:42:51.984056 EDT | fitting baseline...\n",
      "2018-03-19 13:42:52.005113 EDT | fitted\n",
      "2018-03-19 13:42:52.383724 EDT | computing loss before\n",
      "2018-03-19 13:42:52.558732 EDT | performing update\n",
      "2018-03-19 13:42:52.561872 EDT | computing descent direction\n",
      "2018-03-19 13:42:55.859002 EDT | descent direction computed\n",
      "2018-03-19 13:42:56.194776 EDT | backtrack iters: 1\n",
      "2018-03-19 13:42:56.197706 EDT | computing loss after\n",
      "2018-03-19 13:42:56.200357 EDT | optimization finished\n",
      "2018-03-19 13:42:56.534210 EDT | Protag Reward: 446.2030784672274\n",
      "2018-03-19 13:42:56.535559 EDT | itr #0 | \n"
     ]
    },
    {
     "name": "stderr",
     "output_type": "stream",
     "text": [
      "0% [##############################] 100% | ETA: 00:00:00"
     ]
    },
    {
     "name": "stdout",
     "output_type": "stream",
     "text": [
      "2018-03-19 13:43:01.007532 EDT | fitting baseline...\n",
      "2018-03-19 13:43:01.030021 EDT | fitted\n"
     ]
    },
    {
     "name": "stderr",
     "output_type": "stream",
     "text": [
      "\n",
      "Total time elapsed: 00:00:04\n"
     ]
    },
    {
     "name": "stdout",
     "output_type": "stream",
     "text": [
      "2018-03-19 13:43:01.366640 EDT | computing loss before\n",
      "2018-03-19 13:43:01.519984 EDT | performing update\n",
      "2018-03-19 13:43:01.523002 EDT | computing descent direction\n",
      "2018-03-19 13:43:04.553290 EDT | descent direction computed\n",
      "2018-03-19 13:43:04.867352 EDT | backtrack iters: 1\n",
      "2018-03-19 13:43:04.868602 EDT | computing loss after\n",
      "2018-03-19 13:43:04.869777 EDT | optimization finished\n",
      "2018-03-19 13:43:05.187563 EDT | Advers Reward: -446.1616308841942\n",
      "2018-03-19 13:43:08.228563 EDT | \n",
      "\n",
      "Experiment: 0 Iteration: 135\n",
      "\n",
      "2018-03-19 13:43:08.229819 EDT | itr #0 | \n"
     ]
    },
    {
     "name": "stderr",
     "output_type": "stream",
     "text": [
      "0% [##############################] 100% | ETA: 00:00:00\n",
      "Total time elapsed: 00:00:04\n"
     ]
    },
    {
     "name": "stdout",
     "output_type": "stream",
     "text": [
      "2018-03-19 13:43:12.505569 EDT | fitting baseline...\n",
      "2018-03-19 13:43:12.527606 EDT | fitted\n",
      "2018-03-19 13:43:12.904552 EDT | computing loss before\n",
      "2018-03-19 13:43:13.079336 EDT | performing update\n",
      "2018-03-19 13:43:13.082213 EDT | computing descent direction\n",
      "2018-03-19 13:43:16.413198 EDT | descent direction computed\n",
      "2018-03-19 13:43:16.746198 EDT | backtrack iters: 1\n",
      "2018-03-19 13:43:16.747479 EDT | computing loss after\n",
      "2018-03-19 13:43:16.748704 EDT | optimization finished\n",
      "2018-03-19 13:43:17.077123 EDT | Protag Reward: 456.03726179040314\n",
      "2018-03-19 13:43:17.078552 EDT | itr #0 | \n"
     ]
    },
    {
     "name": "stderr",
     "output_type": "stream",
     "text": [
      "0% [##############################] 100% | ETA: 00:00:00"
     ]
    },
    {
     "name": "stdout",
     "output_type": "stream",
     "text": [
      "2018-03-19 13:43:21.467069 EDT | fitting baseline...\n"
     ]
    },
    {
     "name": "stderr",
     "output_type": "stream",
     "text": [
      "\n",
      "Total time elapsed: 00:00:04\n"
     ]
    },
    {
     "name": "stdout",
     "output_type": "stream",
     "text": [
      "2018-03-19 13:43:21.490653 EDT | fitted\n",
      "2018-03-19 13:43:21.822047 EDT | computing loss before\n",
      "2018-03-19 13:43:21.974370 EDT | performing update\n",
      "2018-03-19 13:43:21.977175 EDT | computing descent direction\n",
      "2018-03-19 13:43:24.986235 EDT | descent direction computed\n",
      "2018-03-19 13:43:25.148897 EDT | backtrack iters: 0\n",
      "2018-03-19 13:43:25.151914 EDT | computing loss after\n",
      "2018-03-19 13:43:25.154513 EDT | optimization finished\n",
      "2018-03-19 13:43:25.473906 EDT | Advers Reward: -446.65699769653077\n",
      "2018-03-19 13:43:28.440440 EDT | \n",
      "\n",
      "Experiment: 0 Iteration: 136\n",
      "\n",
      "2018-03-19 13:43:28.442115 EDT | itr #0 | \n"
     ]
    },
    {
     "name": "stderr",
     "output_type": "stream",
     "text": [
      "0% [##############################] 100% | ETA: 00:00:00\n",
      "Total time elapsed: 00:00:04\n"
     ]
    },
    {
     "name": "stdout",
     "output_type": "stream",
     "text": [
      "2018-03-19 13:43:32.752200 EDT | fitting baseline...\n",
      "2018-03-19 13:43:32.772045 EDT | fitted\n",
      "2018-03-19 13:43:33.132037 EDT | computing loss before\n",
      "2018-03-19 13:43:33.301417 EDT | performing update\n",
      "2018-03-19 13:43:33.302652 EDT | computing descent direction\n",
      "2018-03-19 13:43:36.636474 EDT | descent direction computed\n",
      "2018-03-19 13:43:36.808588 EDT | backtrack iters: 0\n",
      "2018-03-19 13:43:36.812894 EDT | computing loss after\n",
      "2018-03-19 13:43:36.816638 EDT | optimization finished\n",
      "2018-03-19 13:43:37.142924 EDT | Protag Reward: 448.2879482229291\n",
      "2018-03-19 13:43:37.144276 EDT | itr #0 | \n"
     ]
    },
    {
     "name": "stderr",
     "output_type": "stream",
     "text": [
      "0% [##############################] 100% | ETA: 00:00:00\n",
      "Total time elapsed: 00:00:04\n"
     ]
    },
    {
     "name": "stdout",
     "output_type": "stream",
     "text": [
      "2018-03-19 13:43:41.571925 EDT | fitting baseline...\n",
      "2018-03-19 13:43:41.594763 EDT | fitted\n",
      "2018-03-19 13:43:41.934190 EDT | computing loss before\n",
      "2018-03-19 13:43:42.084043 EDT | performing update\n",
      "2018-03-19 13:43:42.086938 EDT | computing descent direction\n",
      "2018-03-19 13:43:45.070185 EDT | descent direction computed\n",
      "2018-03-19 13:43:45.229872 EDT | backtrack iters: 0\n",
      "2018-03-19 13:43:45.231043 EDT | computing loss after\n",
      "2018-03-19 13:43:45.232149 EDT | optimization finished\n",
      "2018-03-19 13:43:45.550050 EDT | Advers Reward: -450.6213654262077\n",
      "2018-03-19 13:43:48.656353 EDT | \n",
      "\n",
      "Experiment: 0 Iteration: 137\n",
      "\n",
      "2018-03-19 13:43:48.658280 EDT | itr #0 | \n"
     ]
    },
    {
     "name": "stderr",
     "output_type": "stream",
     "text": [
      "0% [##############################] 100% | ETA: 00:00:00"
     ]
    },
    {
     "name": "stdout",
     "output_type": "stream",
     "text": [
      "2018-03-19 13:43:53.340684 EDT | fitting baseline...\n",
      "2018-03-19 13:43:53.358016 EDT | fitted\n"
     ]
    },
    {
     "name": "stderr",
     "output_type": "stream",
     "text": [
      "\n",
      "Total time elapsed: 00:00:04\n"
     ]
    },
    {
     "name": "stdout",
     "output_type": "stream",
     "text": [
      "2018-03-19 13:43:53.704394 EDT | computing loss before\n",
      "2018-03-19 13:43:53.862184 EDT | performing update\n",
      "2018-03-19 13:43:53.865066 EDT | computing descent direction\n",
      "2018-03-19 13:43:56.974398 EDT | descent direction computed\n",
      "2018-03-19 13:43:57.321937 EDT | backtrack iters: 1\n",
      "2018-03-19 13:43:57.325116 EDT | computing loss after\n",
      "2018-03-19 13:43:57.327961 EDT | optimization finished\n",
      "2018-03-19 13:43:57.676547 EDT | Protag Reward: 469.850338068537\n",
      "2018-03-19 13:43:57.677989 EDT | itr #0 | \n"
     ]
    },
    {
     "name": "stderr",
     "output_type": "stream",
     "text": [
      "0% [##############################] 100% | ETA: 00:00:00"
     ]
    },
    {
     "name": "stdout",
     "output_type": "stream",
     "text": [
      "2018-03-19 13:44:02.305823 EDT | fitting baseline...\n",
      "2018-03-19 13:44:02.325843 EDT | fitted\n"
     ]
    },
    {
     "name": "stderr",
     "output_type": "stream",
     "text": [
      "\n",
      "Total time elapsed: 00:00:04\n"
     ]
    },
    {
     "name": "stdout",
     "output_type": "stream",
     "text": [
      "2018-03-19 13:44:02.677601 EDT | computing loss before\n",
      "2018-03-19 13:44:02.839045 EDT | performing update\n",
      "2018-03-19 13:44:02.841977 EDT | computing descent direction\n",
      "2018-03-19 13:44:06.025074 EDT | descent direction computed\n",
      "2018-03-19 13:44:06.196254 EDT | backtrack iters: 0\n",
      "2018-03-19 13:44:06.200710 EDT | computing loss after\n",
      "2018-03-19 13:44:06.204640 EDT | optimization finished\n",
      "2018-03-19 13:44:06.539374 EDT | Advers Reward: -456.1172545289617\n",
      "2018-03-19 13:44:09.583888 EDT | \n",
      "\n",
      "Experiment: 0 Iteration: 138\n",
      "\n",
      "2018-03-19 13:44:09.585413 EDT | itr #0 | \n"
     ]
    },
    {
     "name": "stderr",
     "output_type": "stream",
     "text": [
      "0% [##############################] 100% | ETA: 00:00:00\n",
      "Total time elapsed: 00:00:04\n"
     ]
    },
    {
     "name": "stdout",
     "output_type": "stream",
     "text": [
      "2018-03-19 13:44:14.523387 EDT | fitting baseline...\n",
      "2018-03-19 13:44:14.546517 EDT | fitted\n",
      "2018-03-19 13:44:14.952461 EDT | computing loss before\n",
      "2018-03-19 13:44:15.137147 EDT | performing update\n",
      "2018-03-19 13:44:15.140356 EDT | computing descent direction\n",
      "2018-03-19 13:44:18.619011 EDT | descent direction computed\n",
      "2018-03-19 13:44:18.972102 EDT | backtrack iters: 1\n",
      "2018-03-19 13:44:18.975189 EDT | computing loss after\n",
      "2018-03-19 13:44:18.980208 EDT | optimization finished\n",
      "2018-03-19 13:44:19.335144 EDT | Protag Reward: 462.7018857613363\n",
      "2018-03-19 13:44:19.336513 EDT | itr #0 | \n"
     ]
    },
    {
     "name": "stderr",
     "output_type": "stream",
     "text": [
      "0% [##############################] 100% | ETA: 00:00:00\n",
      "Total time elapsed: 00:00:04\n"
     ]
    },
    {
     "name": "stdout",
     "output_type": "stream",
     "text": [
      "2018-03-19 13:44:24.328342 EDT | fitting baseline...\n",
      "2018-03-19 13:44:24.364279 EDT | fitted\n",
      "2018-03-19 13:44:24.751493 EDT | computing loss before\n",
      "2018-03-19 13:44:24.947689 EDT | performing update\n",
      "2018-03-19 13:44:24.950825 EDT | computing descent direction\n",
      "2018-03-19 13:44:28.947059 EDT | descent direction computed\n",
      "2018-03-19 13:44:29.147405 EDT | backtrack iters: 0\n",
      "2018-03-19 13:44:29.148430 EDT | computing loss after\n",
      "2018-03-19 13:44:29.151883 EDT | optimization finished\n",
      "2018-03-19 13:44:29.545963 EDT | Advers Reward: -465.48974952686797\n",
      "2018-03-19 13:44:33.233464 EDT | \n",
      "\n",
      "Experiment: 0 Iteration: 139\n",
      "\n",
      "2018-03-19 13:44:33.234825 EDT | itr #0 | \n"
     ]
    },
    {
     "name": "stderr",
     "output_type": "stream",
     "text": [
      "0% [##############################] 100% | ETA: 00:00:00\n",
      "Total time elapsed: 00:00:04\n"
     ]
    },
    {
     "name": "stdout",
     "output_type": "stream",
     "text": [
      "2018-03-19 13:44:38.502884 EDT | fitting baseline...\n",
      "2018-03-19 13:44:38.529589 EDT | fitted\n",
      "2018-03-19 13:44:38.888596 EDT | computing loss before\n",
      "2018-03-19 13:44:39.059217 EDT | performing update\n",
      "2018-03-19 13:44:39.062106 EDT | computing descent direction\n",
      "2018-03-19 13:44:42.370931 EDT | descent direction computed\n",
      "2018-03-19 13:44:42.736738 EDT | backtrack iters: 1\n",
      "2018-03-19 13:44:42.737967 EDT | computing loss after\n",
      "2018-03-19 13:44:42.738930 EDT | optimization finished\n",
      "2018-03-19 13:44:43.114123 EDT | Protag Reward: 467.43964165190386\n",
      "2018-03-19 13:44:43.115214 EDT | itr #0 | \n"
     ]
    },
    {
     "name": "stderr",
     "output_type": "stream",
     "text": [
      "0% [##############################] 100% | ETA: 00:00:00"
     ]
    },
    {
     "name": "stdout",
     "output_type": "stream",
     "text": [
      "2018-03-19 13:44:48.067423 EDT | fitting baseline...\n",
      "2018-03-19 13:44:48.113924 EDT | fitted\n"
     ]
    },
    {
     "name": "stderr",
     "output_type": "stream",
     "text": [
      "\n",
      "Total time elapsed: 00:00:04\n"
     ]
    },
    {
     "name": "stdout",
     "output_type": "stream",
     "text": [
      "2018-03-19 13:44:48.490821 EDT | computing loss before\n",
      "2018-03-19 13:44:48.679299 EDT | performing update\n",
      "2018-03-19 13:44:48.699296 EDT | computing descent direction\n",
      "2018-03-19 13:44:51.894563 EDT | descent direction computed\n",
      "2018-03-19 13:44:52.256061 EDT | backtrack iters: 1\n",
      "2018-03-19 13:44:52.259072 EDT | computing loss after\n",
      "2018-03-19 13:44:52.262147 EDT | optimization finished\n",
      "2018-03-19 13:44:52.600806 EDT | Advers Reward: -476.0660923682052\n",
      "2018-03-19 13:44:55.724048 EDT | \n",
      "\n",
      "Experiment: 0 Iteration: 140\n",
      "\n",
      "2018-03-19 13:44:55.725265 EDT | itr #0 | \n"
     ]
    },
    {
     "name": "stderr",
     "output_type": "stream",
     "text": [
      "0% [##############################] 100% | ETA: 00:00:00"
     ]
    },
    {
     "name": "stdout",
     "output_type": "stream",
     "text": [
      "2018-03-19 13:45:01.396468 EDT | fitting baseline...\n",
      "2018-03-19 13:45:01.427186 EDT | fitted\n"
     ]
    },
    {
     "name": "stderr",
     "output_type": "stream",
     "text": [
      "\n",
      "Total time elapsed: 00:00:05\n"
     ]
    },
    {
     "name": "stdout",
     "output_type": "stream",
     "text": [
      "2018-03-19 13:45:01.844725 EDT | computing loss before\n",
      "2018-03-19 13:45:02.053599 EDT | performing update\n",
      "2018-03-19 13:45:02.057159 EDT | computing descent direction\n",
      "2018-03-19 13:45:05.688195 EDT | descent direction computed\n",
      "2018-03-19 13:45:05.905396 EDT | backtrack iters: 0\n",
      "2018-03-19 13:45:05.906637 EDT | computing loss after\n",
      "2018-03-19 13:45:05.907885 EDT | optimization finished\n",
      "2018-03-19 13:45:06.317026 EDT | Protag Reward: 465.31697703689457\n",
      "2018-03-19 13:45:06.320403 EDT | itr #0 | \n"
     ]
    },
    {
     "name": "stderr",
     "output_type": "stream",
     "text": [
      "0% [##############################] 100% | ETA: 00:00:00"
     ]
    },
    {
     "name": "stdout",
     "output_type": "stream",
     "text": [
      "2018-03-19 13:45:11.646089 EDT | fitting baseline...\n"
     ]
    },
    {
     "name": "stderr",
     "output_type": "stream",
     "text": [
      "\n",
      "Total time elapsed: 00:00:05\n"
     ]
    },
    {
     "name": "stdout",
     "output_type": "stream",
     "text": [
      "2018-03-19 13:45:11.667361 EDT | fitted\n",
      "2018-03-19 13:45:12.052875 EDT | computing loss before\n",
      "2018-03-19 13:45:12.237672 EDT | performing update\n",
      "2018-03-19 13:45:12.240865 EDT | computing descent direction\n",
      "2018-03-19 13:45:15.463873 EDT | descent direction computed\n",
      "2018-03-19 13:45:15.660274 EDT | backtrack iters: 0\n",
      "2018-03-19 13:45:15.661574 EDT | computing loss after\n",
      "2018-03-19 13:45:15.662769 EDT | optimization finished\n",
      "2018-03-19 13:45:16.039521 EDT | Advers Reward: -485.1322322156137\n",
      "2018-03-19 13:45:19.189388 EDT | \n",
      "\n",
      "Experiment: 0 Iteration: 141\n",
      "\n",
      "2018-03-19 13:45:19.190322 EDT | itr #0 | \n"
     ]
    },
    {
     "name": "stderr",
     "output_type": "stream",
     "text": [
      "0% [##############################] 100% | ETA: 00:00:00"
     ]
    },
    {
     "name": "stdout",
     "output_type": "stream",
     "text": [
      "2018-03-19 13:45:24.374854 EDT | fitting baseline...\n",
      "2018-03-19 13:45:24.401002 EDT | fitted\n"
     ]
    },
    {
     "name": "stderr",
     "output_type": "stream",
     "text": [
      "\n",
      "Total time elapsed: 00:00:05\n"
     ]
    },
    {
     "name": "stdout",
     "output_type": "stream",
     "text": [
      "2018-03-19 13:45:24.857844 EDT | computing loss before\n",
      "2018-03-19 13:45:25.063591 EDT | performing update\n",
      "2018-03-19 13:45:25.066717 EDT | computing descent direction\n",
      "2018-03-19 13:45:28.640441 EDT | descent direction computed\n",
      "2018-03-19 13:45:28.844253 EDT | backtrack iters: 0\n",
      "2018-03-19 13:45:28.847323 EDT | computing loss after\n",
      "2018-03-19 13:45:28.848424 EDT | optimization finished\n",
      "2018-03-19 13:45:29.216629 EDT | Protag Reward: 496.3283551917466\n",
      "2018-03-19 13:45:29.218021 EDT | itr #0 | \n"
     ]
    },
    {
     "name": "stderr",
     "output_type": "stream",
     "text": [
      "0% [##############################] 100% | ETA: 00:00:00\n",
      "Total time elapsed: 00:00:05\n"
     ]
    },
    {
     "name": "stdout",
     "output_type": "stream",
     "text": [
      "2018-03-19 13:45:34.578329 EDT | fitting baseline...\n",
      "2018-03-19 13:45:34.608740 EDT | fitted\n",
      "2018-03-19 13:45:35.017612 EDT | computing loss before\n",
      "2018-03-19 13:45:35.216302 EDT | performing update\n",
      "2018-03-19 13:45:35.220224 EDT | computing descent direction\n",
      "2018-03-19 13:45:38.531024 EDT | descent direction computed\n",
      "2018-03-19 13:45:38.745082 EDT | backtrack iters: 0\n",
      "2018-03-19 13:45:38.748064 EDT | computing loss after\n",
      "2018-03-19 13:45:38.750787 EDT | optimization finished\n",
      "2018-03-19 13:45:39.098001 EDT | Advers Reward: -470.639738239147\n",
      "2018-03-19 13:45:42.246504 EDT | \n",
      "\n",
      "Experiment: 0 Iteration: 142\n",
      "\n",
      "2018-03-19 13:45:42.247780 EDT | itr #0 | \n"
     ]
    },
    {
     "name": "stderr",
     "output_type": "stream",
     "text": [
      "0% [##############################] 100% | ETA: 00:00:00\n",
      "Total time elapsed: 00:00:04\n"
     ]
    },
    {
     "name": "stdout",
     "output_type": "stream",
     "text": [
      "2018-03-19 13:45:47.189767 EDT | fitting baseline...\n",
      "2018-03-19 13:45:47.224958 EDT | fitted\n",
      "2018-03-19 13:45:47.610086 EDT | computing loss before\n",
      "2018-03-19 13:45:47.803171 EDT | performing update\n",
      "2018-03-19 13:45:47.806393 EDT | computing descent direction\n",
      "2018-03-19 13:45:51.137437 EDT | descent direction computed\n",
      "2018-03-19 13:45:51.311960 EDT | backtrack iters: 0\n",
      "2018-03-19 13:45:51.315192 EDT | computing loss after\n",
      "2018-03-19 13:45:51.318358 EDT | optimization finished\n",
      "2018-03-19 13:45:51.692676 EDT | Protag Reward: 490.5767985813788\n",
      "2018-03-19 13:45:51.694083 EDT | itr #0 | \n"
     ]
    },
    {
     "name": "stderr",
     "output_type": "stream",
     "text": [
      "0% [##############################] 100% | ETA: 00:00:00"
     ]
    },
    {
     "name": "stdout",
     "output_type": "stream",
     "text": [
      "2018-03-19 13:45:56.748582 EDT | fitting baseline...\n",
      "2018-03-19 13:45:56.769298 EDT | fitted\n"
     ]
    },
    {
     "name": "stderr",
     "output_type": "stream",
     "text": [
      "\n",
      "Total time elapsed: 00:00:04\n"
     ]
    },
    {
     "name": "stdout",
     "output_type": "stream",
     "text": [
      "2018-03-19 13:45:57.194119 EDT | computing loss before\n",
      "2018-03-19 13:45:57.381710 EDT | performing update\n",
      "2018-03-19 13:45:57.384782 EDT | computing descent direction\n",
      "2018-03-19 13:46:00.545147 EDT | descent direction computed\n",
      "2018-03-19 13:46:00.748594 EDT | backtrack iters: 0\n",
      "2018-03-19 13:46:00.751685 EDT | computing loss after\n",
      "2018-03-19 13:46:00.754583 EDT | optimization finished\n",
      "2018-03-19 13:46:01.130035 EDT | Advers Reward: -503.75071914619554\n",
      "2018-03-19 13:46:04.350901 EDT | \n",
      "\n",
      "Experiment: 0 Iteration: 143\n",
      "\n",
      "2018-03-19 13:46:04.351993 EDT | itr #0 | \n"
     ]
    },
    {
     "name": "stderr",
     "output_type": "stream",
     "text": [
      "0% [##############################] 100% | ETA: 00:00:00\n",
      "Total time elapsed: 00:00:06\n"
     ]
    },
    {
     "name": "stdout",
     "output_type": "stream",
     "text": [
      "2018-03-19 13:46:10.847629 EDT | fitting baseline...\n",
      "2018-03-19 13:46:10.881924 EDT | fitted\n",
      "2018-03-19 13:46:11.347842 EDT | computing loss before\n",
      "2018-03-19 13:46:11.585599 EDT | performing update\n",
      "2018-03-19 13:46:11.586636 EDT | computing descent direction\n",
      "2018-03-19 13:46:15.866298 EDT | descent direction computed\n",
      "2018-03-19 13:46:16.293526 EDT | backtrack iters: 1\n",
      "2018-03-19 13:46:16.299793 EDT | computing loss after\n",
      "2018-03-19 13:46:16.301365 EDT | optimization finished\n",
      "2018-03-19 13:46:16.777263 EDT | Protag Reward: 496.4116546629181\n",
      "2018-03-19 13:46:16.778674 EDT | itr #0 | \n"
     ]
    },
    {
     "name": "stderr",
     "output_type": "stream",
     "text": [
      "0% [##############################] 100% | ETA: 00:00:00\n",
      "Total time elapsed: 00:00:08\n"
     ]
    },
    {
     "name": "stdout",
     "output_type": "stream",
     "text": [
      "2018-03-19 13:46:25.347647 EDT | fitting baseline...\n",
      "2018-03-19 13:46:25.372596 EDT | fitted\n",
      "2018-03-19 13:46:25.757409 EDT | computing loss before\n",
      "2018-03-19 13:46:25.931822 EDT | performing update\n",
      "2018-03-19 13:46:25.935470 EDT | computing descent direction\n",
      "2018-03-19 13:46:30.400045 EDT | descent direction computed\n",
      "2018-03-19 13:46:30.568192 EDT | backtrack iters: 0\n",
      "2018-03-19 13:46:30.569170 EDT | computing loss after\n",
      "2018-03-19 13:46:30.572845 EDT | optimization finished\n",
      "2018-03-19 13:46:30.912584 EDT | Advers Reward: -504.51102226558845\n",
      "2018-03-19 13:46:34.841330 EDT | \n",
      "\n",
      "Experiment: 0 Iteration: 144\n",
      "\n",
      "2018-03-19 13:46:34.842347 EDT | itr #0 | \n"
     ]
    },
    {
     "name": "stderr",
     "output_type": "stream",
     "text": [
      "0% [##############################] 100% | ETA: 00:00:00"
     ]
    },
    {
     "name": "stdout",
     "output_type": "stream",
     "text": [
      "2018-03-19 13:46:40.635986 EDT | fitting baseline...\n",
      "2018-03-19 13:46:40.658934 EDT | fitted\n"
     ]
    },
    {
     "name": "stderr",
     "output_type": "stream",
     "text": [
      "\n",
      "Total time elapsed: 00:00:05\n"
     ]
    },
    {
     "name": "stdout",
     "output_type": "stream",
     "text": [
      "2018-03-19 13:46:41.118288 EDT | computing loss before\n",
      "2018-03-19 13:46:41.318935 EDT | performing update\n",
      "2018-03-19 13:46:41.320458 EDT | computing descent direction\n",
      "2018-03-19 13:46:47.952923 EDT | descent direction computed\n",
      "2018-03-19 13:46:48.418351 EDT | backtrack iters: 1\n",
      "2018-03-19 13:46:48.419800 EDT | computing loss after\n",
      "2018-03-19 13:46:48.421045 EDT | optimization finished\n",
      "2018-03-19 13:46:48.925123 EDT | Protag Reward: 508.63159168822494\n",
      "2018-03-19 13:46:48.930544 EDT | itr #0 | \n"
     ]
    },
    {
     "name": "stderr",
     "output_type": "stream",
     "text": [
      "0% [##############################] 100% | ETA: 00:00:00\n",
      "Total time elapsed: 00:00:05\n"
     ]
    },
    {
     "name": "stdout",
     "output_type": "stream",
     "text": [
      "2018-03-19 13:46:55.150239 EDT | fitting baseline...\n",
      "2018-03-19 13:46:55.183387 EDT | fitted\n",
      "2018-03-19 13:46:55.728155 EDT | computing loss before\n",
      "2018-03-19 13:46:55.909266 EDT | performing update\n",
      "2018-03-19 13:46:55.910554 EDT | computing descent direction\n",
      "2018-03-19 13:47:00.203418 EDT | descent direction computed\n",
      "2018-03-19 13:47:00.385559 EDT | backtrack iters: 0\n",
      "2018-03-19 13:47:00.388831 EDT | computing loss after\n",
      "2018-03-19 13:47:00.391903 EDT | optimization finished\n",
      "2018-03-19 13:47:00.765116 EDT | Advers Reward: -518.4052507909527\n",
      "2018-03-19 13:47:05.384693 EDT | \n",
      "\n",
      "Experiment: 0 Iteration: 145\n",
      "\n",
      "2018-03-19 13:47:05.386013 EDT | itr #0 | \n"
     ]
    },
    {
     "name": "stderr",
     "output_type": "stream",
     "text": [
      "0% [##############################] 100% | ETA: 00:00:00\n",
      "Total time elapsed: 00:00:04\n"
     ]
    },
    {
     "name": "stdout",
     "output_type": "stream",
     "text": [
      "2018-03-19 13:47:10.206069 EDT | fitting baseline...\n",
      "2018-03-19 13:47:10.226648 EDT | fitted\n",
      "2018-03-19 13:47:10.595656 EDT | computing loss before\n",
      "2018-03-19 13:47:10.766904 EDT | performing update\n",
      "2018-03-19 13:47:10.770049 EDT | computing descent direction\n",
      "2018-03-19 13:47:14.222079 EDT | descent direction computed\n",
      "2018-03-19 13:47:14.389741 EDT | backtrack iters: 0\n",
      "2018-03-19 13:47:14.392631 EDT | computing loss after\n",
      "2018-03-19 13:47:14.395173 EDT | optimization finished\n",
      "2018-03-19 13:47:14.726431 EDT | Protag Reward: 510.2748570495492\n",
      "2018-03-19 13:47:14.727745 EDT | itr #0 | \n"
     ]
    },
    {
     "name": "stderr",
     "output_type": "stream",
     "text": [
      "0% [##############################] 100% | ETA: 00:00:00"
     ]
    },
    {
     "name": "stdout",
     "output_type": "stream",
     "text": [
      "2018-03-19 13:47:19.386130 EDT | fitting baseline...\n",
      "2018-03-19 13:47:19.410776 EDT | fitted\n"
     ]
    },
    {
     "name": "stderr",
     "output_type": "stream",
     "text": [
      "\n",
      "Total time elapsed: 00:00:04\n"
     ]
    },
    {
     "name": "stdout",
     "output_type": "stream",
     "text": [
      "2018-03-19 13:47:19.765007 EDT | computing loss before\n",
      "2018-03-19 13:47:19.915678 EDT | performing update\n",
      "2018-03-19 13:47:19.918547 EDT | computing descent direction\n",
      "2018-03-19 13:47:24.563922 EDT | descent direction computed\n",
      "2018-03-19 13:47:24.716969 EDT | backtrack iters: 0\n",
      "2018-03-19 13:47:24.719776 EDT | computing loss after\n",
      "2018-03-19 13:47:24.722214 EDT | optimization finished\n",
      "2018-03-19 13:47:25.039671 EDT | Advers Reward: -510.5788138299641\n",
      "2018-03-19 13:47:28.608366 EDT | \n",
      "\n",
      "Experiment: 0 Iteration: 146\n",
      "\n",
      "2018-03-19 13:47:28.609590 EDT | itr #0 | \n"
     ]
    },
    {
     "name": "stderr",
     "output_type": "stream",
     "text": [
      "0% [##############################] 100% | ETA: 00:00:00\n",
      "Total time elapsed: 00:00:08\n"
     ]
    },
    {
     "name": "stdout",
     "output_type": "stream",
     "text": [
      "2018-03-19 13:47:37.489400 EDT | fitting baseline...\n",
      "2018-03-19 13:47:37.507769 EDT | fitted\n",
      "2018-03-19 13:47:37.865328 EDT | computing loss before\n",
      "2018-03-19 13:47:38.021316 EDT | performing update\n",
      "2018-03-19 13:47:38.024187 EDT | computing descent direction\n",
      "2018-03-19 13:47:42.229534 EDT | descent direction computed\n",
      "2018-03-19 13:47:42.687018 EDT | backtrack iters: 1\n",
      "2018-03-19 13:47:42.688377 EDT | computing loss after\n",
      "2018-03-19 13:47:42.689431 EDT | optimization finished\n",
      "2018-03-19 13:47:43.047233 EDT | Protag Reward: 526.8427086698267\n",
      "2018-03-19 13:47:43.048750 EDT | itr #0 | \n"
     ]
    },
    {
     "name": "stderr",
     "output_type": "stream",
     "text": [
      "0% [##############################] 100% | ETA: 00:00:00"
     ]
    },
    {
     "name": "stdout",
     "output_type": "stream",
     "text": [
      "2018-03-19 13:47:49.226584 EDT | fitting baseline...\n"
     ]
    },
    {
     "name": "stderr",
     "output_type": "stream",
     "text": [
      "\n",
      "Total time elapsed: 00:00:06\n"
     ]
    },
    {
     "name": "stdout",
     "output_type": "stream",
     "text": [
      "2018-03-19 13:47:49.245930 EDT | fitted\n",
      "2018-03-19 13:47:49.607545 EDT | computing loss before\n",
      "2018-03-19 13:47:49.802909 EDT | performing update\n",
      "2018-03-19 13:47:49.806115 EDT | computing descent direction\n",
      "2018-03-19 13:47:53.122993 EDT | descent direction computed\n",
      "2018-03-19 13:47:53.387408 EDT | backtrack iters: 0\n",
      "2018-03-19 13:47:53.398914 EDT | computing loss after\n",
      "2018-03-19 13:47:53.404567 EDT | optimization finished\n",
      "2018-03-19 13:47:53.816090 EDT | Advers Reward: -542.3168453643162\n",
      "2018-03-19 13:47:58.682496 EDT | \n",
      "\n",
      "Experiment: 0 Iteration: 147\n",
      "\n",
      "2018-03-19 13:47:58.683756 EDT | itr #0 | \n"
     ]
    },
    {
     "name": "stderr",
     "output_type": "stream",
     "text": [
      "0% [##############################] 100% | ETA: 00:00:00"
     ]
    },
    {
     "name": "stdout",
     "output_type": "stream",
     "text": [
      "2018-03-19 13:48:03.521034 EDT | fitting baseline...\n",
      "2018-03-19 13:48:03.545353 EDT | fitted\n"
     ]
    },
    {
     "name": "stderr",
     "output_type": "stream",
     "text": [
      "\n",
      "Total time elapsed: 00:00:04\n"
     ]
    },
    {
     "name": "stdout",
     "output_type": "stream",
     "text": [
      "2018-03-19 13:48:03.941670 EDT | computing loss before\n",
      "2018-03-19 13:48:04.124588 EDT | performing update\n",
      "2018-03-19 13:48:04.129108 EDT | computing descent direction\n",
      "2018-03-19 13:48:07.562615 EDT | descent direction computed\n",
      "2018-03-19 13:48:07.997085 EDT | backtrack iters: 1\n",
      "2018-03-19 13:48:08.000330 EDT | computing loss after\n",
      "2018-03-19 13:48:08.003285 EDT | optimization finished\n",
      "2018-03-19 13:48:08.389735 EDT | Protag Reward: 538.0494300832794\n",
      "2018-03-19 13:48:08.394723 EDT | itr #0 | \n"
     ]
    },
    {
     "name": "stderr",
     "output_type": "stream",
     "text": [
      "0% [##############################] 100% | ETA: 00:00:00"
     ]
    },
    {
     "name": "stdout",
     "output_type": "stream",
     "text": [
      "2018-03-19 13:48:13.415289 EDT | fitting baseline...\n",
      "2018-03-19 13:48:13.435116 EDT | fitted\n"
     ]
    },
    {
     "name": "stderr",
     "output_type": "stream",
     "text": [
      "\n",
      "Total time elapsed: 00:00:04\n"
     ]
    },
    {
     "name": "stdout",
     "output_type": "stream",
     "text": [
      "2018-03-19 13:48:13.813958 EDT | computing loss before\n",
      "2018-03-19 13:48:13.981688 EDT | performing update\n",
      "2018-03-19 13:48:13.984806 EDT | computing descent direction\n",
      "2018-03-19 13:48:17.269383 EDT | descent direction computed\n",
      "2018-03-19 13:48:17.635536 EDT | backtrack iters: 1\n",
      "2018-03-19 13:48:17.638917 EDT | computing loss after\n",
      "2018-03-19 13:48:17.642004 EDT | optimization finished\n",
      "2018-03-19 13:48:18.004569 EDT | Advers Reward: -546.1555359524768\n",
      "2018-03-19 13:48:24.068508 EDT | \n",
      "\n",
      "Experiment: 0 Iteration: 148\n",
      "\n",
      "2018-03-19 13:48:24.069849 EDT | itr #0 | \n"
     ]
    },
    {
     "name": "stderr",
     "output_type": "stream",
     "text": [
      "0% [##############################] 100% | ETA: 00:00:00"
     ]
    },
    {
     "name": "stdout",
     "output_type": "stream",
     "text": [
      "2018-03-19 13:48:29.203140 EDT | fitting baseline...\n",
      "2018-03-19 13:48:29.226510 EDT | fitted\n"
     ]
    },
    {
     "name": "stderr",
     "output_type": "stream",
     "text": [
      "\n",
      "Total time elapsed: 00:00:05\n"
     ]
    },
    {
     "name": "stdout",
     "output_type": "stream",
     "text": [
      "2018-03-19 13:48:29.632814 EDT | computing loss before\n",
      "2018-03-19 13:48:29.815841 EDT | performing update\n",
      "2018-03-19 13:48:29.818977 EDT | computing descent direction\n",
      "2018-03-19 13:48:33.591629 EDT | descent direction computed\n",
      "2018-03-19 13:48:33.779449 EDT | backtrack iters: 0\n",
      "2018-03-19 13:48:33.782630 EDT | computing loss after\n",
      "2018-03-19 13:48:33.785441 EDT | optimization finished\n",
      "2018-03-19 13:48:34.141406 EDT | Protag Reward: 526.7151353729539\n",
      "2018-03-19 13:48:34.142841 EDT | itr #0 | \n"
     ]
    },
    {
     "name": "stderr",
     "output_type": "stream",
     "text": [
      "0% [##############################] 100% | ETA: 00:00:00\n",
      "Total time elapsed: 00:00:05\n"
     ]
    },
    {
     "name": "stdout",
     "output_type": "stream",
     "text": [
      "2018-03-19 13:48:39.558745 EDT | fitting baseline...\n",
      "2018-03-19 13:48:39.580524 EDT | fitted\n",
      "2018-03-19 13:48:39.925042 EDT | computing loss before\n",
      "2018-03-19 13:48:40.079490 EDT | performing update\n",
      "2018-03-19 13:48:40.082510 EDT | computing descent direction\n",
      "2018-03-19 13:48:43.345262 EDT | descent direction computed\n",
      "2018-03-19 13:48:43.518553 EDT | backtrack iters: 0\n",
      "2018-03-19 13:48:43.519816 EDT | computing loss after\n",
      "2018-03-19 13:48:43.520978 EDT | optimization finished\n",
      "2018-03-19 13:48:43.861267 EDT | Advers Reward: -555.583668488074\n",
      "2018-03-19 13:48:47.925743 EDT | \n",
      "\n",
      "Experiment: 0 Iteration: 149\n",
      "\n",
      "2018-03-19 13:48:47.926995 EDT | itr #0 | \n"
     ]
    },
    {
     "name": "stderr",
     "output_type": "stream",
     "text": [
      "0% [##############################] 100% | ETA: 00:00:00\n",
      "Total time elapsed: 00:00:05\n"
     ]
    },
    {
     "name": "stdout",
     "output_type": "stream",
     "text": [
      "2018-03-19 13:48:53.684010 EDT | fitting baseline...\n",
      "2018-03-19 13:48:53.706819 EDT | fitted\n",
      "2018-03-19 13:48:54.139363 EDT | computing loss before\n",
      "2018-03-19 13:48:54.341459 EDT | performing update\n",
      "2018-03-19 13:48:54.342504 EDT | computing descent direction\n",
      "2018-03-19 13:48:58.265680 EDT | descent direction computed\n",
      "2018-03-19 13:48:58.655842 EDT | backtrack iters: 1\n",
      "2018-03-19 13:48:58.657044 EDT | computing loss after\n",
      "2018-03-19 13:48:58.660188 EDT | optimization finished\n",
      "2018-03-19 13:48:59.052885 EDT | Protag Reward: 553.3398744085636\n",
      "2018-03-19 13:48:59.054406 EDT | itr #0 | \n"
     ]
    },
    {
     "name": "stderr",
     "output_type": "stream",
     "text": [
      "0% [##############################] 100% | ETA: 00:00:00\n",
      "Total time elapsed: 00:00:07\n"
     ]
    },
    {
     "name": "stdout",
     "output_type": "stream",
     "text": [
      "2018-03-19 13:49:06.955189 EDT | fitting baseline...\n",
      "2018-03-19 13:49:06.972560 EDT | fitted\n",
      "2018-03-19 13:49:07.304001 EDT | computing loss before\n",
      "2018-03-19 13:49:07.497899 EDT | performing update\n",
      "2018-03-19 13:49:07.499160 EDT | computing descent direction\n",
      "2018-03-19 13:49:10.842092 EDT | descent direction computed\n",
      "2018-03-19 13:49:11.018431 EDT | backtrack iters: 0\n",
      "2018-03-19 13:49:11.021466 EDT | computing loss after\n",
      "2018-03-19 13:49:11.024042 EDT | optimization finished\n",
      "2018-03-19 13:49:11.356631 EDT | Advers Reward: -565.1707772003884\n",
      "2018-03-19 13:49:16.675194 EDT | \n",
      "\n",
      "Experiment: 0 Iteration: 150\n",
      "\n",
      "2018-03-19 13:49:16.676448 EDT | itr #0 | \n"
     ]
    },
    {
     "name": "stderr",
     "output_type": "stream",
     "text": [
      "0% [##############################] 100% | ETA: 00:00:00\n",
      "Total time elapsed: 00:00:05\n"
     ]
    },
    {
     "name": "stdout",
     "output_type": "stream",
     "text": [
      "2018-03-19 13:49:22.480397 EDT | fitting baseline...\n",
      "2018-03-19 13:49:22.514415 EDT | fitted\n",
      "2018-03-19 13:49:22.858315 EDT | computing loss before\n",
      "2018-03-19 13:49:23.015722 EDT | performing update\n",
      "2018-03-19 13:49:23.018581 EDT | computing descent direction\n",
      "2018-03-19 13:49:26.249810 EDT | descent direction computed\n",
      "2018-03-19 13:49:26.577695 EDT | backtrack iters: 1\n",
      "2018-03-19 13:49:26.581787 EDT | computing loss after\n",
      "2018-03-19 13:49:26.585570 EDT | optimization finished\n",
      "2018-03-19 13:49:26.917623 EDT | Protag Reward: 565.767421905721\n",
      "2018-03-19 13:49:26.920685 EDT | itr #0 | \n"
     ]
    },
    {
     "name": "stderr",
     "output_type": "stream",
     "text": [
      "0% [##############################] 100% | ETA: 00:00:00\n",
      "Total time elapsed: 00:00:05\n"
     ]
    },
    {
     "name": "stdout",
     "output_type": "stream",
     "text": [
      "2018-03-19 13:49:32.816350 EDT | fitting baseline...\n",
      "2018-03-19 13:49:32.833210 EDT | fitted\n",
      "2018-03-19 13:49:33.172065 EDT | computing loss before\n",
      "2018-03-19 13:49:33.325407 EDT | performing update\n",
      "2018-03-19 13:49:33.328208 EDT | computing descent direction\n",
      "2018-03-19 13:49:37.702216 EDT | descent direction computed\n",
      "2018-03-19 13:49:37.859716 EDT | backtrack iters: 0\n",
      "2018-03-19 13:49:37.862647 EDT | computing loss after\n",
      "2018-03-19 13:49:37.865359 EDT | optimization finished\n",
      "2018-03-19 13:49:38.210474 EDT | Advers Reward: -578.611558809408\n",
      "2018-03-19 13:49:43.764393 EDT | \n",
      "\n",
      "Experiment: 0 Iteration: 151\n",
      "\n",
      "2018-03-19 13:49:43.765993 EDT | itr #0 | \n"
     ]
    },
    {
     "name": "stderr",
     "output_type": "stream",
     "text": [
      "0% [##############################] 100% | ETA: 00:00:00\n",
      "Total time elapsed: 00:00:05\n"
     ]
    },
    {
     "name": "stdout",
     "output_type": "stream",
     "text": [
      "2018-03-19 13:49:49.428350 EDT | fitting baseline...\n",
      "2018-03-19 13:49:49.451655 EDT | fitted\n",
      "2018-03-19 13:49:49.801647 EDT | computing loss before\n",
      "2018-03-19 13:49:49.957538 EDT | performing update\n",
      "2018-03-19 13:49:49.960467 EDT | computing descent direction\n",
      "2018-03-19 13:49:53.082635 EDT | descent direction computed\n",
      "2018-03-19 13:49:53.397530 EDT | backtrack iters: 1\n",
      "2018-03-19 13:49:53.398668 EDT | computing loss after\n",
      "2018-03-19 13:49:53.399764 EDT | optimization finished\n",
      "2018-03-19 13:49:53.715558 EDT | Protag Reward: 590.2715627422099\n",
      "2018-03-19 13:49:53.718508 EDT | itr #0 | \n"
     ]
    },
    {
     "name": "stderr",
     "output_type": "stream",
     "text": [
      "0% [##############################] 100% | ETA: 00:00:00"
     ]
    },
    {
     "name": "stdout",
     "output_type": "stream",
     "text": [
      "2018-03-19 13:49:59.673534 EDT | fitting baseline...\n"
     ]
    },
    {
     "name": "stderr",
     "output_type": "stream",
     "text": [
      "\n",
      "Total time elapsed: 00:00:05\n"
     ]
    },
    {
     "name": "stdout",
     "output_type": "stream",
     "text": [
      "2018-03-19 13:49:59.746340 EDT | fitted\n",
      "2018-03-19 13:50:00.728627 EDT | computing loss before\n",
      "2018-03-19 13:50:01.199806 EDT | performing update\n",
      "2018-03-19 13:50:01.202732 EDT | computing descent direction\n",
      "2018-03-19 13:50:04.427315 EDT | descent direction computed\n",
      "2018-03-19 13:50:04.585412 EDT | backtrack iters: 0\n",
      "2018-03-19 13:50:04.589439 EDT | computing loss after\n",
      "2018-03-19 13:50:04.591994 EDT | optimization finished\n",
      "2018-03-19 13:50:04.896822 EDT | Advers Reward: -593.8757490996851\n",
      "2018-03-19 13:50:11.956826 EDT | \n",
      "\n",
      "Experiment: 0 Iteration: 152\n",
      "\n",
      "2018-03-19 13:50:11.958417 EDT | itr #0 | \n"
     ]
    },
    {
     "name": "stderr",
     "output_type": "stream",
     "text": [
      "0% [##############################] 100% | ETA: 00:00:00\n",
      "Total time elapsed: 00:00:05\n"
     ]
    },
    {
     "name": "stdout",
     "output_type": "stream",
     "text": [
      "2018-03-19 13:50:17.852240 EDT | fitting baseline...\n",
      "2018-03-19 13:50:17.875367 EDT | fitted\n",
      "2018-03-19 13:50:18.228810 EDT | computing loss before\n",
      "2018-03-19 13:50:18.387457 EDT | performing update\n",
      "2018-03-19 13:50:18.388556 EDT | computing descent direction\n",
      "2018-03-19 13:50:21.520999 EDT | descent direction computed\n",
      "2018-03-19 13:50:21.841673 EDT | backtrack iters: 1\n",
      "2018-03-19 13:50:21.842859 EDT | computing loss after\n",
      "2018-03-19 13:50:21.843946 EDT | optimization finished\n",
      "2018-03-19 13:50:22.163466 EDT | Protag Reward: 589.0826132300174\n",
      "2018-03-19 13:50:22.167531 EDT | itr #0 | \n"
     ]
    },
    {
     "name": "stderr",
     "output_type": "stream",
     "text": [
      "0% [##############################] 100% | ETA: 00:00:00\n",
      "Total time elapsed: 00:00:05\n"
     ]
    },
    {
     "name": "stdout",
     "output_type": "stream",
     "text": [
      "2018-03-19 13:50:27.900253 EDT | fitting baseline...\n",
      "2018-03-19 13:50:27.921435 EDT | fitted\n",
      "2018-03-19 13:50:28.254719 EDT | computing loss before\n",
      "2018-03-19 13:50:28.407474 EDT | performing update\n",
      "2018-03-19 13:50:28.410342 EDT | computing descent direction\n",
      "2018-03-19 13:50:32.772359 EDT | descent direction computed\n",
      "2018-03-19 13:50:32.927262 EDT | backtrack iters: 0\n",
      "2018-03-19 13:50:32.930028 EDT | computing loss after\n",
      "2018-03-19 13:50:32.932534 EDT | optimization finished\n",
      "2018-03-19 13:50:33.241279 EDT | Advers Reward: -580.8185278721202\n",
      "2018-03-19 13:50:37.246121 EDT | \n",
      "\n",
      "Experiment: 0 Iteration: 153\n",
      "\n",
      "2018-03-19 13:50:37.247500 EDT | itr #0 | \n"
     ]
    },
    {
     "name": "stderr",
     "output_type": "stream",
     "text": [
      "0% [##############################] 100% | ETA: 00:00:00\n",
      "Total time elapsed: 00:00:05\n"
     ]
    },
    {
     "name": "stdout",
     "output_type": "stream",
     "text": [
      "2018-03-19 13:50:42.912062 EDT | fitting baseline...\n",
      "2018-03-19 13:50:42.933914 EDT | fitted\n",
      "2018-03-19 13:50:43.279141 EDT | computing loss before\n",
      "2018-03-19 13:50:43.435214 EDT | performing update\n",
      "2018-03-19 13:50:43.439185 EDT | computing descent direction\n",
      "2018-03-19 13:50:47.965278 EDT | descent direction computed\n",
      "2018-03-19 13:50:48.125223 EDT | backtrack iters: 0\n",
      "2018-03-19 13:50:48.128174 EDT | computing loss after\n",
      "2018-03-19 13:50:48.130646 EDT | optimization finished\n",
      "2018-03-19 13:50:48.443863 EDT | Protag Reward: 603.6811658666741\n",
      "2018-03-19 13:50:48.445141 EDT | itr #0 | \n"
     ]
    },
    {
     "name": "stderr",
     "output_type": "stream",
     "text": [
      "0% [##############################] 100% | ETA: 00:00:00"
     ]
    },
    {
     "name": "stdout",
     "output_type": "stream",
     "text": [
      "2018-03-19 13:50:54.310507 EDT | fitting baseline...\n",
      "2018-03-19 13:50:54.329440 EDT | fitted\n"
     ]
    },
    {
     "name": "stderr",
     "output_type": "stream",
     "text": [
      "\n",
      "Total time elapsed: 00:00:05\n"
     ]
    },
    {
     "name": "stdout",
     "output_type": "stream",
     "text": [
      "2018-03-19 13:50:55.180063 EDT | computing loss before\n",
      "2018-03-19 13:50:55.647329 EDT | performing update\n",
      "2018-03-19 13:50:55.649866 EDT | computing descent direction\n",
      "2018-03-19 13:50:59.288256 EDT | descent direction computed\n",
      "2018-03-19 13:50:59.448606 EDT | backtrack iters: 0\n",
      "2018-03-19 13:50:59.451414 EDT | computing loss after\n",
      "2018-03-19 13:50:59.453801 EDT | optimization finished\n",
      "2018-03-19 13:50:59.757096 EDT | Advers Reward: -667.5199964665412\n",
      "2018-03-19 13:51:06.838836 EDT | \n",
      "\n",
      "Experiment: 0 Iteration: 154\n",
      "\n",
      "2018-03-19 13:51:06.844521 EDT | itr #0 | \n"
     ]
    },
    {
     "name": "stderr",
     "output_type": "stream",
     "text": [
      "0% [##############################] 100% | ETA: 00:00:00"
     ]
    },
    {
     "name": "stdout",
     "output_type": "stream",
     "text": [
      "2018-03-19 13:51:12.566243 EDT | fitting baseline...\n",
      "2018-03-19 13:51:12.591743 EDT | fitted\n"
     ]
    },
    {
     "name": "stderr",
     "output_type": "stream",
     "text": [
      "\n",
      "Total time elapsed: 00:00:05\n"
     ]
    },
    {
     "name": "stdout",
     "output_type": "stream",
     "text": [
      "2018-03-19 13:51:13.002487 EDT | computing loss before\n",
      "2018-03-19 13:51:13.177345 EDT | performing update\n",
      "2018-03-19 13:51:13.180347 EDT | computing descent direction\n",
      "2018-03-19 13:51:16.332045 EDT | descent direction computed\n",
      "2018-03-19 13:51:16.669565 EDT | backtrack iters: 1\n",
      "2018-03-19 13:51:16.670776 EDT | computing loss after\n",
      "2018-03-19 13:51:16.671880 EDT | optimization finished\n",
      "2018-03-19 13:51:17.008971 EDT | Protag Reward: 621.812333942965\n",
      "2018-03-19 13:51:17.011981 EDT | itr #0 | \n"
     ]
    },
    {
     "name": "stderr",
     "output_type": "stream",
     "text": [
      "0% [##############################] 100% | ETA: 00:00:00\n",
      "Total time elapsed: 00:00:05\n"
     ]
    },
    {
     "name": "stdout",
     "output_type": "stream",
     "text": [
      "2018-03-19 13:51:23.227254 EDT | fitting baseline...\n",
      "2018-03-19 13:51:23.247722 EDT | fitted\n",
      "2018-03-19 13:51:23.599044 EDT | computing loss before\n",
      "2018-03-19 13:51:23.767896 EDT | performing update\n",
      "2018-03-19 13:51:23.770691 EDT | computing descent direction\n",
      "2018-03-19 13:51:28.057421 EDT | descent direction computed\n",
      "2018-03-19 13:51:28.388019 EDT | backtrack iters: 1\n",
      "2018-03-19 13:51:28.390747 EDT | computing loss after\n",
      "2018-03-19 13:51:28.393302 EDT | optimization finished\n",
      "2018-03-19 13:51:28.714088 EDT | Advers Reward: -666.0299778212988\n",
      "2018-03-19 13:51:35.510038 EDT | \n",
      "\n",
      "Experiment: 0 Iteration: 155\n",
      "\n",
      "2018-03-19 13:51:35.511090 EDT | itr #0 | \n"
     ]
    },
    {
     "name": "stderr",
     "output_type": "stream",
     "text": [
      "0% [##############################] 100% | ETA: 00:00:00\n",
      "Total time elapsed: 00:00:04\n"
     ]
    },
    {
     "name": "stdout",
     "output_type": "stream",
     "text": [
      "2018-03-19 13:51:40.227180 EDT | fitting baseline...\n",
      "2018-03-19 13:51:40.290857 EDT | fitted\n",
      "2018-03-19 13:51:41.327834 EDT | computing loss before\n",
      "2018-03-19 13:51:41.806820 EDT | performing update\n",
      "2018-03-19 13:51:41.809342 EDT | computing descent direction\n",
      "2018-03-19 13:51:45.182949 EDT | descent direction computed\n",
      "2018-03-19 13:51:45.869394 EDT | backtrack iters: 1\n",
      "2018-03-19 13:51:45.872998 EDT | computing loss after\n",
      "2018-03-19 13:51:45.875845 EDT | optimization finished\n",
      "2018-03-19 13:51:46.832556 EDT | Protag Reward: 655.9967598491786\n",
      "2018-03-19 13:51:46.835698 EDT | itr #0 | \n"
     ]
    },
    {
     "name": "stderr",
     "output_type": "stream",
     "text": [
      "0% [##############################] 100% | ETA: 00:00:00\n",
      "Total time elapsed: 00:00:04\n"
     ]
    },
    {
     "name": "stdout",
     "output_type": "stream",
     "text": [
      "2018-03-19 13:51:52.125576 EDT | fitting baseline...\n",
      "2018-03-19 13:51:52.148497 EDT | fitted\n",
      "2018-03-19 13:51:52.531597 EDT | computing loss before\n",
      "2018-03-19 13:51:52.708213 EDT | performing update\n",
      "2018-03-19 13:51:52.711161 EDT | computing descent direction\n",
      "2018-03-19 13:51:57.191591 EDT | descent direction computed\n",
      "2018-03-19 13:51:57.377761 EDT | backtrack iters: 0\n",
      "2018-03-19 13:51:57.380560 EDT | computing loss after\n",
      "2018-03-19 13:51:57.383160 EDT | optimization finished\n",
      "2018-03-19 13:51:57.718314 EDT | Advers Reward: -697.1766248922796\n",
      "2018-03-19 13:52:04.550852 EDT | \n",
      "\n",
      "Experiment: 0 Iteration: 156\n",
      "\n",
      "2018-03-19 13:52:04.552629 EDT | itr #0 | \n"
     ]
    },
    {
     "name": "stderr",
     "output_type": "stream",
     "text": [
      "0% [##############################] 100% | ETA: 00:00:00\n",
      "Total time elapsed: 00:00:06\n"
     ]
    },
    {
     "name": "stdout",
     "output_type": "stream",
     "text": [
      "2018-03-19 13:52:11.054478 EDT | fitting baseline...\n",
      "2018-03-19 13:52:11.080884 EDT | fitted\n",
      "2018-03-19 13:52:11.465623 EDT | computing loss before\n",
      "2018-03-19 13:52:11.643634 EDT | performing update\n",
      "2018-03-19 13:52:11.646419 EDT | computing descent direction\n",
      "2018-03-19 13:52:16.332612 EDT | descent direction computed\n",
      "2018-03-19 13:52:16.520001 EDT | backtrack iters: 0\n",
      "2018-03-19 13:52:16.522798 EDT | computing loss after\n",
      "2018-03-19 13:52:16.525400 EDT | optimization finished\n",
      "2018-03-19 13:52:16.853889 EDT | Protag Reward: 689.9957877498329\n",
      "2018-03-19 13:52:16.855189 EDT | itr #0 | \n"
     ]
    },
    {
     "name": "stderr",
     "output_type": "stream",
     "text": [
      "0% [##############################] 100% | ETA: 00:00:00\n",
      "Total time elapsed: 00:00:05\n"
     ]
    },
    {
     "name": "stdout",
     "output_type": "stream",
     "text": [
      "2018-03-19 13:52:23.385725 EDT | fitting baseline...\n",
      "2018-03-19 13:52:23.460672 EDT | fitted\n",
      "2018-03-19 13:52:24.462780 EDT | computing loss before\n",
      "2018-03-19 13:52:24.828364 EDT | performing update\n",
      "2018-03-19 13:52:24.829535 EDT | computing descent direction\n",
      "2018-03-19 13:52:29.230038 EDT | descent direction computed\n",
      "2018-03-19 13:52:29.409456 EDT | backtrack iters: 0\n",
      "2018-03-19 13:52:29.410627 EDT | computing loss after\n",
      "2018-03-19 13:52:29.411540 EDT | optimization finished\n",
      "2018-03-19 13:52:29.756309 EDT | Advers Reward: -758.4486727711258\n",
      "2018-03-19 13:52:39.435414 EDT | \n",
      "\n",
      "Experiment: 0 Iteration: 157\n",
      "\n",
      "2018-03-19 13:52:39.436583 EDT | itr #0 | \n"
     ]
    },
    {
     "name": "stderr",
     "output_type": "stream",
     "text": [
      "0% [##############################] 100% | ETA: 00:00:00\n",
      "Total time elapsed: 00:00:04\n"
     ]
    },
    {
     "name": "stdout",
     "output_type": "stream",
     "text": [
      "2018-03-19 13:52:44.097549 EDT | fitting baseline...\n",
      "2018-03-19 13:52:44.121787 EDT | fitted\n",
      "2018-03-19 13:52:44.483869 EDT | computing loss before\n",
      "2018-03-19 13:52:44.658099 EDT | performing update\n",
      "2018-03-19 13:52:44.660997 EDT | computing descent direction\n",
      "2018-03-19 13:52:49.234976 EDT | descent direction computed\n",
      "2018-03-19 13:52:49.578594 EDT | backtrack iters: 1\n",
      "2018-03-19 13:52:49.581386 EDT | computing loss after\n",
      "2018-03-19 13:52:49.584031 EDT | optimization finished\n",
      "2018-03-19 13:52:50.432922 EDT | Protag Reward: 721.451385735811\n",
      "2018-03-19 13:52:50.436249 EDT | itr #0 | \n"
     ]
    },
    {
     "name": "stderr",
     "output_type": "stream",
     "text": [
      "0% [##############################] 100% | ETA: 00:00:00"
     ]
    },
    {
     "name": "stdout",
     "output_type": "stream",
     "text": [
      "2018-03-19 13:52:57.973724 EDT | fitting baseline...\n"
     ]
    },
    {
     "name": "stderr",
     "output_type": "stream",
     "text": [
      "\n",
      "Total time elapsed: 00:00:07\n"
     ]
    },
    {
     "name": "stdout",
     "output_type": "stream",
     "text": [
      "2018-03-19 13:52:57.998344 EDT | fitted\n",
      "2018-03-19 13:52:58.385850 EDT | computing loss before\n",
      "2018-03-19 13:52:58.558550 EDT | performing update\n",
      "2018-03-19 13:52:58.561395 EDT | computing descent direction\n",
      "2018-03-19 13:53:02.954865 EDT | descent direction computed\n",
      "2018-03-19 13:53:03.129872 EDT | backtrack iters: 0\n",
      "2018-03-19 13:53:03.132646 EDT | computing loss after\n",
      "2018-03-19 13:53:03.135472 EDT | optimization finished\n",
      "2018-03-19 13:53:03.462362 EDT | Advers Reward: -738.6755107221439\n",
      "2018-03-19 13:53:13.001195 EDT | \n",
      "\n",
      "Experiment: 0 Iteration: 158\n",
      "\n",
      "2018-03-19 13:53:13.002907 EDT | itr #0 | \n"
     ]
    },
    {
     "name": "stderr",
     "output_type": "stream",
     "text": [
      "0% [##############################] 100% | ETA: 00:00:00\n",
      "Total time elapsed: 00:00:06\n"
     ]
    },
    {
     "name": "stdout",
     "output_type": "stream",
     "text": [
      "2018-03-19 13:53:19.312279 EDT | fitting baseline...\n",
      "2018-03-19 13:53:19.334558 EDT | fitted\n",
      "2018-03-19 13:53:19.747062 EDT | computing loss before\n",
      "2018-03-19 13:53:19.930911 EDT | performing update\n",
      "2018-03-19 13:53:19.933802 EDT | computing descent direction\n",
      "2018-03-19 13:53:24.553693 EDT | descent direction computed\n",
      "2018-03-19 13:53:24.903650 EDT | backtrack iters: 1\n",
      "2018-03-19 13:53:24.906540 EDT | computing loss after\n",
      "2018-03-19 13:53:24.909314 EDT | optimization finished\n",
      "2018-03-19 13:53:25.892266 EDT | Protag Reward: 774.389583384529\n",
      "2018-03-19 13:53:25.895475 EDT | itr #0 | \n"
     ]
    },
    {
     "name": "stderr",
     "output_type": "stream",
     "text": [
      "0% [##############################] 100% | ETA: 00:00:00\n",
      "Total time elapsed: 00:00:05\n"
     ]
    },
    {
     "name": "stdout",
     "output_type": "stream",
     "text": [
      "2018-03-19 13:53:31.640783 EDT | fitting baseline...\n",
      "2018-03-19 13:53:31.732687 EDT | fitted\n",
      "2018-03-19 13:53:32.767856 EDT | computing loss before\n",
      "2018-03-19 13:53:33.237009 EDT | performing update\n",
      "2018-03-19 13:53:33.238597 EDT | computing descent direction\n",
      "2018-03-19 13:53:36.285471 EDT | descent direction computed\n",
      "2018-03-19 13:53:36.707467 EDT | backtrack iters: 0\n",
      "2018-03-19 13:53:36.710992 EDT | computing loss after\n",
      "2018-03-19 13:53:36.714524 EDT | optimization finished\n",
      "2018-03-19 13:53:37.645825 EDT | Advers Reward: -798.6749570472219\n",
      "2018-03-19 13:53:48.052252 EDT | \n",
      "\n",
      "Experiment: 0 Iteration: 159\n",
      "\n",
      "2018-03-19 13:53:48.053636 EDT | itr #0 | \n"
     ]
    },
    {
     "name": "stderr",
     "output_type": "stream",
     "text": [
      "0% [##############################] 100% | ETA: 00:00:00\n",
      "Total time elapsed: 00:00:06\n"
     ]
    },
    {
     "name": "stdout",
     "output_type": "stream",
     "text": [
      "2018-03-19 13:53:55.346096 EDT | fitting baseline...\n",
      "2018-03-19 13:53:55.364532 EDT | fitted\n",
      "2018-03-19 13:53:55.727540 EDT | computing loss before\n",
      "2018-03-19 13:53:55.910227 EDT | performing update\n",
      "2018-03-19 13:53:55.913169 EDT | computing descent direction\n",
      "2018-03-19 13:54:00.592456 EDT | descent direction computed\n",
      "2018-03-19 13:54:00.924965 EDT | backtrack iters: 1\n",
      "2018-03-19 13:54:00.926125 EDT | computing loss after\n",
      "2018-03-19 13:54:00.927025 EDT | optimization finished\n",
      "2018-03-19 13:54:01.273302 EDT | Protag Reward: 785.777197803491\n",
      "2018-03-19 13:54:01.274986 EDT | itr #0 | \n"
     ]
    },
    {
     "name": "stderr",
     "output_type": "stream",
     "text": [
      "0% [##############################] 100% | ETA: 00:00:00"
     ]
    },
    {
     "name": "stdout",
     "output_type": "stream",
     "text": [
      "2018-03-19 13:54:07.422570 EDT | fitting baseline...\n",
      "2018-03-19 13:54:07.443565 EDT | fitted\n"
     ]
    },
    {
     "name": "stderr",
     "output_type": "stream",
     "text": [
      "\n",
      "Total time elapsed: 00:00:05\n"
     ]
    },
    {
     "name": "stdout",
     "output_type": "stream",
     "text": [
      "2018-03-19 13:54:07.816415 EDT | computing loss before\n",
      "2018-03-19 13:54:07.991356 EDT | performing update\n",
      "2018-03-19 13:54:07.994237 EDT | computing descent direction\n",
      "2018-03-19 13:54:12.731497 EDT | descent direction computed\n",
      "2018-03-19 13:54:13.068418 EDT | backtrack iters: 1\n",
      "2018-03-19 13:54:13.069576 EDT | computing loss after\n",
      "2018-03-19 13:54:13.070490 EDT | optimization finished\n",
      "2018-03-19 13:54:13.400016 EDT | Advers Reward: -831.5917130505323\n",
      "2018-03-19 13:54:29.872609 EDT | \n",
      "\n",
      "Experiment: 0 Iteration: 160\n",
      "\n",
      "2018-03-19 13:54:29.874028 EDT | itr #0 | \n"
     ]
    },
    {
     "name": "stderr",
     "output_type": "stream",
     "text": [
      "0% [##############################] 100% | ETA: 00:00:00\n",
      "Total time elapsed: 00:00:05\n"
     ]
    },
    {
     "name": "stdout",
     "output_type": "stream",
     "text": [
      "2018-03-19 13:54:36.381078 EDT | fitting baseline...\n",
      "2018-03-19 13:54:36.406443 EDT | fitted\n",
      "2018-03-19 13:54:36.769058 EDT | computing loss before\n",
      "2018-03-19 13:54:36.953342 EDT | performing update\n",
      "2018-03-19 13:54:36.956175 EDT | computing descent direction\n",
      "2018-03-19 13:54:41.633368 EDT | descent direction computed\n",
      "2018-03-19 13:54:41.821067 EDT | backtrack iters: 0\n",
      "2018-03-19 13:54:41.822202 EDT | computing loss after\n",
      "2018-03-19 13:54:41.823218 EDT | optimization finished\n",
      "2018-03-19 13:54:42.173606 EDT | Protag Reward: 965.7351734082283\n",
      "2018-03-19 13:54:42.174867 EDT | itr #0 | \n"
     ]
    },
    {
     "name": "stderr",
     "output_type": "stream",
     "text": [
      "0% [##############################] 100% | ETA: 00:00:00"
     ]
    },
    {
     "name": "stdout",
     "output_type": "stream",
     "text": [
      "2018-03-19 13:54:48.229663 EDT | fitting baseline...\n",
      "2018-03-19 13:54:48.249560 EDT | fitted\n"
     ]
    },
    {
     "name": "stderr",
     "output_type": "stream",
     "text": [
      "\n",
      "Total time elapsed: 00:00:05\n"
     ]
    },
    {
     "name": "stdout",
     "output_type": "stream",
     "text": [
      "2018-03-19 13:54:48.628000 EDT | computing loss before\n",
      "2018-03-19 13:54:48.814063 EDT | performing update\n",
      "2018-03-19 13:54:48.816991 EDT | computing descent direction\n",
      "2018-03-19 13:54:53.256379 EDT | descent direction computed\n",
      "2018-03-19 13:54:53.595016 EDT | backtrack iters: 1\n",
      "2018-03-19 13:54:53.596201 EDT | computing loss after\n",
      "2018-03-19 13:54:53.597330 EDT | optimization finished\n",
      "2018-03-19 13:54:53.931712 EDT | Advers Reward: -846.0599687618886\n",
      "2018-03-19 13:55:11.004191 EDT | \n",
      "\n",
      "Experiment: 0 Iteration: 161\n",
      "\n",
      "2018-03-19 13:55:11.005044 EDT | itr #0 | \n"
     ]
    },
    {
     "name": "stderr",
     "output_type": "stream",
     "text": [
      "0% [##############################] 100% | ETA: 00:00:00\n",
      "Total time elapsed: 00:00:06\n"
     ]
    },
    {
     "name": "stdout",
     "output_type": "stream",
     "text": [
      "2018-03-19 13:55:19.185491 EDT | fitting baseline...\n",
      "2018-03-19 13:55:19.207262 EDT | fitted\n",
      "2018-03-19 13:55:19.580148 EDT | computing loss before\n",
      "2018-03-19 13:55:19.765525 EDT | performing update\n",
      "2018-03-19 13:55:19.766751 EDT | computing descent direction\n",
      "2018-03-19 13:55:23.016314 EDT | descent direction computed\n",
      "2018-03-19 13:55:23.359978 EDT | backtrack iters: 1\n",
      "2018-03-19 13:55:23.361136 EDT | computing loss after\n",
      "2018-03-19 13:55:23.362212 EDT | optimization finished\n",
      "2018-03-19 13:55:23.713875 EDT | Protag Reward: 795.3277176402122\n",
      "2018-03-19 13:55:23.716831 EDT | itr #0 | \n"
     ]
    },
    {
     "name": "stderr",
     "output_type": "stream",
     "text": [
      "0% [##############################] 100% | ETA: 00:00:00\n",
      "Total time elapsed: 00:00:06\n"
     ]
    },
    {
     "name": "stdout",
     "output_type": "stream",
     "text": [
      "2018-03-19 13:55:30.469145 EDT | fitting baseline...\n",
      "2018-03-19 13:55:30.485782 EDT | fitted\n",
      "2018-03-19 13:55:30.885988 EDT | computing loss before\n",
      "2018-03-19 13:55:31.061947 EDT | performing update\n",
      "2018-03-19 13:55:31.064896 EDT | computing descent direction\n",
      "2018-03-19 13:55:35.735827 EDT | descent direction computed\n",
      "2018-03-19 13:55:35.907208 EDT | backtrack iters: 0\n",
      "2018-03-19 13:55:35.910108 EDT | computing loss after\n",
      "2018-03-19 13:55:35.912849 EDT | optimization finished\n",
      "2018-03-19 13:55:36.244036 EDT | Advers Reward: -976.3819586977942\n",
      "2018-03-19 13:55:50.316914 EDT | \n",
      "\n",
      "Experiment: 0 Iteration: 162\n",
      "\n",
      "2018-03-19 13:55:50.318386 EDT | itr #0 | \n"
     ]
    },
    {
     "name": "stderr",
     "output_type": "stream",
     "text": [
      "0% [##############################] 100% | ETA: 00:00:00\n",
      "Total time elapsed: 00:00:06\n"
     ]
    },
    {
     "name": "stdout",
     "output_type": "stream",
     "text": [
      "2018-03-19 13:55:56.711784 EDT | fitting baseline...\n",
      "2018-03-19 13:55:56.732896 EDT | fitted\n",
      "2018-03-19 13:55:57.110878 EDT | computing loss before\n",
      "2018-03-19 13:55:57.285376 EDT | performing update\n",
      "2018-03-19 13:55:57.288228 EDT | computing descent direction\n",
      "2018-03-19 13:56:02.463681 EDT | descent direction computed\n",
      "2018-03-19 13:56:03.450231 EDT | backtrack iters: 1\n",
      "2018-03-19 13:56:03.452780 EDT | computing loss after\n",
      "2018-03-19 13:56:03.455701 EDT | optimization finished\n",
      "2018-03-19 13:56:03.926721 EDT | Protag Reward: 1005.4574467554316\n",
      "2018-03-19 13:56:03.928067 EDT | itr #0 | \n"
     ]
    },
    {
     "name": "stderr",
     "output_type": "stream",
     "text": [
      "0% [##############################] 100% | ETA: 00:00:00\n",
      "Total time elapsed: 00:00:09\n"
     ]
    },
    {
     "name": "stdout",
     "output_type": "stream",
     "text": [
      "2018-03-19 13:56:13.331226 EDT | fitting baseline...\n",
      "2018-03-19 13:56:13.368798 EDT | fitted\n",
      "2018-03-19 13:56:13.791164 EDT | computing loss before\n",
      "2018-03-19 13:56:14.040602 EDT | performing update\n",
      "2018-03-19 13:56:14.041589 EDT | computing descent direction\n",
      "2018-03-19 13:56:19.342304 EDT | descent direction computed\n",
      "2018-03-19 13:56:19.531920 EDT | backtrack iters: 0\n",
      "2018-03-19 13:56:19.535309 EDT | computing loss after\n",
      "2018-03-19 13:56:19.538528 EDT | optimization finished\n",
      "2018-03-19 13:56:19.891865 EDT | Advers Reward: -960.9185329971264\n",
      "2018-03-19 13:56:32.571351 EDT | \n",
      "\n",
      "Experiment: 0 Iteration: 163\n",
      "\n",
      "2018-03-19 13:56:32.572575 EDT | itr #0 | \n"
     ]
    },
    {
     "name": "stderr",
     "output_type": "stream",
     "text": [
      "0% [##############################] 100% | ETA: 00:00:00\n",
      "Total time elapsed: 00:00:05\n"
     ]
    },
    {
     "name": "stdout",
     "output_type": "stream",
     "text": [
      "2018-03-19 13:56:38.735134 EDT | fitting baseline...\n",
      "2018-03-19 13:56:38.758782 EDT | fitted\n",
      "2018-03-19 13:56:39.139227 EDT | computing loss before\n",
      "2018-03-19 13:56:39.334969 EDT | performing update\n",
      "2018-03-19 13:56:39.337829 EDT | computing descent direction\n",
      "2018-03-19 13:56:44.022303 EDT | descent direction computed\n",
      "2018-03-19 13:56:44.389578 EDT | backtrack iters: 1\n",
      "2018-03-19 13:56:44.390868 EDT | computing loss after\n",
      "2018-03-19 13:56:44.392024 EDT | optimization finished\n",
      "2018-03-19 13:56:44.747461 EDT | Protag Reward: 881.9226004800998\n",
      "2018-03-19 13:56:44.766486 EDT | itr #0 | \n"
     ]
    },
    {
     "name": "stderr",
     "output_type": "stream",
     "text": [
      "0% [##############################] 100% | ETA: 00:00:00\n",
      "Total time elapsed: 00:00:07\n"
     ]
    },
    {
     "name": "stdout",
     "output_type": "stream",
     "text": [
      "2018-03-19 13:56:52.920179 EDT | fitting baseline...\n",
      "2018-03-19 13:56:52.946488 EDT | fitted\n",
      "2018-03-19 13:56:53.314863 EDT | computing loss before\n",
      "2018-03-19 13:56:53.501986 EDT | performing update\n",
      "2018-03-19 13:56:53.503114 EDT | computing descent direction\n",
      "2018-03-19 13:56:58.146380 EDT | descent direction computed\n",
      "2018-03-19 13:56:58.342043 EDT | backtrack iters: 0\n",
      "2018-03-19 13:56:58.344928 EDT | computing loss after\n",
      "2018-03-19 13:56:58.349064 EDT | optimization finished\n",
      "2018-03-19 13:56:58.721031 EDT | Advers Reward: -947.9970143446686\n",
      "2018-03-19 13:57:15.683247 EDT | \n",
      "\n",
      "Experiment: 0 Iteration: 164\n",
      "\n",
      "2018-03-19 13:57:15.684900 EDT | itr #0 | \n"
     ]
    },
    {
     "name": "stderr",
     "output_type": "stream",
     "text": [
      "0% [##############################] 100% | ETA: 00:00:00"
     ]
    },
    {
     "name": "stdout",
     "output_type": "stream",
     "text": [
      "2018-03-19 13:57:22.993804 EDT | fitting baseline...\n",
      "2018-03-19 13:57:23.012878 EDT | fitted\n"
     ]
    },
    {
     "name": "stderr",
     "output_type": "stream",
     "text": [
      "\n",
      "Total time elapsed: 00:00:07\n"
     ]
    },
    {
     "name": "stdout",
     "output_type": "stream",
     "text": [
      "2018-03-19 13:57:23.380232 EDT | computing loss before\n",
      "2018-03-19 13:57:23.563175 EDT | performing update\n",
      "2018-03-19 13:57:23.566104 EDT | computing descent direction\n",
      "2018-03-19 13:57:28.120946 EDT | descent direction computed\n",
      "2018-03-19 13:57:28.460137 EDT | backtrack iters: 1\n",
      "2018-03-19 13:57:28.479976 EDT | computing loss after\n",
      "2018-03-19 13:57:28.484273 EDT | optimization finished\n",
      "2018-03-19 13:57:28.820453 EDT | Protag Reward: 963.7095999832185\n",
      "2018-03-19 13:57:28.822183 EDT | itr #0 | \n"
     ]
    },
    {
     "name": "stderr",
     "output_type": "stream",
     "text": [
      "0% [##############################] 100% | ETA: 00:00:00\n",
      "Total time elapsed: 00:00:06\n"
     ]
    },
    {
     "name": "stdout",
     "output_type": "stream",
     "text": [
      "2018-03-19 13:57:35.237907 EDT | fitting baseline...\n",
      "2018-03-19 13:57:35.254499 EDT | fitted\n",
      "2018-03-19 13:57:35.615698 EDT | computing loss before\n",
      "2018-03-19 13:57:35.797266 EDT | performing update\n",
      "2018-03-19 13:57:35.800124 EDT | computing descent direction\n",
      "2018-03-19 13:57:40.271404 EDT | descent direction computed\n",
      "2018-03-19 13:57:40.459179 EDT | backtrack iters: 0\n",
      "2018-03-19 13:57:40.462053 EDT | computing loss after\n",
      "2018-03-19 13:57:40.464747 EDT | optimization finished\n",
      "2018-03-19 13:57:40.798605 EDT | Advers Reward: -945.153681976054\n",
      "2018-03-19 13:57:57.408380 EDT | \n",
      "\n",
      "Experiment: 0 Iteration: 165\n",
      "\n",
      "2018-03-19 13:57:57.409684 EDT | itr #0 | \n"
     ]
    },
    {
     "name": "stderr",
     "output_type": "stream",
     "text": [
      "0% [##############################] 100% | ETA: 00:00:00\n",
      "Total time elapsed: 00:00:05\n"
     ]
    },
    {
     "name": "stdout",
     "output_type": "stream",
     "text": [
      "2018-03-19 13:58:03.673784 EDT | fitting baseline...\n",
      "2018-03-19 13:58:03.699656 EDT | fitted\n",
      "2018-03-19 13:58:04.083829 EDT | computing loss before\n",
      "2018-03-19 13:58:04.272158 EDT | performing update\n",
      "2018-03-19 13:58:04.275050 EDT | computing descent direction\n",
      "2018-03-19 13:58:08.984655 EDT | descent direction computed\n",
      "2018-03-19 13:58:09.336123 EDT | backtrack iters: 1\n",
      "2018-03-19 13:58:09.338960 EDT | computing loss after\n",
      "2018-03-19 13:58:09.341562 EDT | optimization finished\n",
      "2018-03-19 13:58:09.689170 EDT | Protag Reward: 898.3641479410421\n",
      "2018-03-19 13:58:09.690391 EDT | itr #0 | \n"
     ]
    },
    {
     "name": "stderr",
     "output_type": "stream",
     "text": [
      "0% [##############################] 100% | ETA: 00:00:00\n",
      "Total time elapsed: 00:00:06\n"
     ]
    },
    {
     "name": "stdout",
     "output_type": "stream",
     "text": [
      "2018-03-19 13:58:16.508614 EDT | fitting baseline...\n",
      "2018-03-19 13:58:16.538596 EDT | fitted\n",
      "2018-03-19 13:58:17.023121 EDT | computing loss before\n",
      "2018-03-19 13:58:17.255351 EDT | performing update\n",
      "2018-03-19 13:58:17.256510 EDT | computing descent direction\n",
      "2018-03-19 13:58:21.154185 EDT | descent direction computed\n",
      "2018-03-19 13:58:21.583965 EDT | backtrack iters: 1\n",
      "2018-03-19 13:58:21.585417 EDT | computing loss after\n",
      "2018-03-19 13:58:21.586591 EDT | optimization finished\n",
      "2018-03-19 13:58:22.010228 EDT | Advers Reward: -1078.8137477507457\n",
      "2018-03-19 13:58:38.527928 EDT | \n",
      "\n",
      "Experiment: 0 Iteration: 166\n",
      "\n",
      "2018-03-19 13:58:38.529351 EDT | itr #0 | \n"
     ]
    },
    {
     "name": "stderr",
     "output_type": "stream",
     "text": [
      "0% [##############################] 100% | ETA: 00:00:00\n",
      "Total time elapsed: 00:00:06\n"
     ]
    },
    {
     "name": "stdout",
     "output_type": "stream",
     "text": [
      "2018-03-19 13:58:45.345043 EDT | fitting baseline...\n",
      "2018-03-19 13:58:45.368447 EDT | fitted\n",
      "2018-03-19 13:58:45.766128 EDT | computing loss before\n",
      "2018-03-19 13:58:45.952938 EDT | performing update\n",
      "2018-03-19 13:58:45.955975 EDT | computing descent direction\n",
      "2018-03-19 13:58:50.706304 EDT | descent direction computed\n",
      "2018-03-19 13:58:51.059190 EDT | backtrack iters: 1\n",
      "2018-03-19 13:58:51.060381 EDT | computing loss after\n",
      "2018-03-19 13:58:51.061486 EDT | optimization finished\n",
      "2018-03-19 13:58:51.414715 EDT | Protag Reward: 1079.9335809116546\n",
      "2018-03-19 13:58:51.417850 EDT | itr #0 | \n"
     ]
    },
    {
     "name": "stderr",
     "output_type": "stream",
     "text": [
      "0% [##############################] 100% | ETA: 00:00:00\n",
      "Total time elapsed: 00:00:06\n"
     ]
    },
    {
     "name": "stdout",
     "output_type": "stream",
     "text": [
      "2018-03-19 13:58:57.850978 EDT | fitting baseline...\n",
      "2018-03-19 13:58:57.871449 EDT | fitted\n",
      "2018-03-19 13:58:58.241361 EDT | computing loss before\n",
      "2018-03-19 13:58:58.422493 EDT | performing update\n",
      "2018-03-19 13:58:58.425352 EDT | computing descent direction\n",
      "2018-03-19 13:59:03.017272 EDT | descent direction computed\n",
      "2018-03-19 13:59:03.228551 EDT | backtrack iters: 0\n",
      "2018-03-19 13:59:03.232266 EDT | computing loss after\n",
      "2018-03-19 13:59:03.235831 EDT | optimization finished\n",
      "2018-03-19 13:59:04.236136 EDT | Advers Reward: -987.3862594098056\n",
      "2018-03-19 13:59:20.880554 EDT | \n",
      "\n",
      "Experiment: 0 Iteration: 167\n",
      "\n",
      "2018-03-19 13:59:20.882151 EDT | itr #0 | \n"
     ]
    },
    {
     "name": "stderr",
     "output_type": "stream",
     "text": [
      "0% [##############################] 100% | ETA: 00:00:00\n",
      "Total time elapsed: 00:00:06\n"
     ]
    },
    {
     "name": "stdout",
     "output_type": "stream",
     "text": [
      "2018-03-19 13:59:27.359706 EDT | fitting baseline...\n",
      "2018-03-19 13:59:27.393612 EDT | fitted\n",
      "2018-03-19 13:59:27.771425 EDT | computing loss before\n",
      "2018-03-19 13:59:27.961571 EDT | performing update\n",
      "2018-03-19 13:59:27.964377 EDT | computing descent direction\n",
      "2018-03-19 13:59:32.619569 EDT | descent direction computed\n",
      "2018-03-19 13:59:32.974153 EDT | backtrack iters: 1\n",
      "2018-03-19 13:59:32.975364 EDT | computing loss after\n",
      "2018-03-19 13:59:32.976296 EDT | optimization finished\n",
      "2018-03-19 13:59:33.329610 EDT | Protag Reward: 1025.4867375516133\n",
      "2018-03-19 13:59:33.330941 EDT | itr #0 | \n"
     ]
    },
    {
     "name": "stderr",
     "output_type": "stream",
     "text": [
      "0% [##############################] 100% | ETA: 00:00:00\n",
      "Total time elapsed: 00:00:06\n"
     ]
    },
    {
     "name": "stdout",
     "output_type": "stream",
     "text": [
      "2018-03-19 13:59:40.027659 EDT | fitting baseline...\n",
      "2018-03-19 13:59:40.053562 EDT | fitted\n",
      "2018-03-19 13:59:40.416295 EDT | computing loss before\n",
      "2018-03-19 13:59:40.711291 EDT | performing update\n",
      "2018-03-19 13:59:40.713988 EDT | computing descent direction\n",
      "2018-03-19 13:59:45.223456 EDT | descent direction computed\n",
      "2018-03-19 13:59:45.415896 EDT | backtrack iters: 0\n",
      "2018-03-19 13:59:45.417140 EDT | computing loss after\n",
      "2018-03-19 13:59:45.418283 EDT | optimization finished\n",
      "2018-03-19 13:59:45.890606 EDT | Advers Reward: -1210.9927758889849\n",
      "2018-03-19 14:00:00.354775 EDT | \n",
      "\n",
      "Experiment: 0 Iteration: 168\n",
      "\n",
      "2018-03-19 14:00:00.356021 EDT | itr #0 | \n"
     ]
    },
    {
     "name": "stderr",
     "output_type": "stream",
     "text": [
      "0% [##############################] 100% | ETA: 00:00:00\n",
      "Total time elapsed: 00:00:06\n"
     ]
    },
    {
     "name": "stdout",
     "output_type": "stream",
     "text": [
      "2018-03-19 14:00:06.678770 EDT | fitting baseline...\n",
      "2018-03-19 14:00:06.699636 EDT | fitted\n",
      "2018-03-19 14:00:07.109004 EDT | computing loss before\n",
      "2018-03-19 14:00:07.297352 EDT | performing update\n",
      "2018-03-19 14:00:07.300262 EDT | computing descent direction\n",
      "2018-03-19 14:00:13.148906 EDT | descent direction computed\n",
      "2018-03-19 14:00:13.847411 EDT | backtrack iters: 1\n",
      "2018-03-19 14:00:13.848986 EDT | computing loss after\n",
      "2018-03-19 14:00:13.850289 EDT | optimization finished\n",
      "2018-03-19 14:00:14.380323 EDT | Protag Reward: 1061.51734919843\n",
      "2018-03-19 14:00:14.381644 EDT | itr #0 | \n"
     ]
    },
    {
     "name": "stderr",
     "output_type": "stream",
     "text": [
      "0% [##############################] 100% | ETA: 00:00:00\n",
      "Total time elapsed: 00:00:06\n"
     ]
    },
    {
     "name": "stdout",
     "output_type": "stream",
     "text": [
      "2018-03-19 14:00:21.041049 EDT | fitting baseline...\n",
      "2018-03-19 14:00:21.081918 EDT | fitted\n",
      "2018-03-19 14:00:21.450150 EDT | computing loss before\n",
      "2018-03-19 14:00:21.646050 EDT | performing update\n",
      "2018-03-19 14:00:21.649101 EDT | computing descent direction\n",
      "2018-03-19 14:00:26.634474 EDT | descent direction computed\n",
      "2018-03-19 14:00:26.830947 EDT | backtrack iters: 0\n",
      "2018-03-19 14:00:26.832300 EDT | computing loss after\n",
      "2018-03-19 14:00:26.833252 EDT | optimization finished\n",
      "2018-03-19 14:00:27.246833 EDT | Advers Reward: -1088.4950691718407\n",
      "2018-03-19 14:00:44.955660 EDT | \n",
      "\n",
      "Experiment: 0 Iteration: 169\n",
      "\n",
      "2018-03-19 14:00:44.957193 EDT | itr #0 | \n"
     ]
    },
    {
     "name": "stderr",
     "output_type": "stream",
     "text": [
      "0% [##############################] 100% | ETA: 00:00:00\n",
      "Total time elapsed: 00:00:06\n"
     ]
    },
    {
     "name": "stdout",
     "output_type": "stream",
     "text": [
      "2018-03-19 14:00:51.682708 EDT | fitting baseline...\n",
      "2018-03-19 14:00:51.706173 EDT | fitted\n",
      "2018-03-19 14:00:52.079388 EDT | computing loss before\n",
      "2018-03-19 14:00:52.258908 EDT | performing update\n",
      "2018-03-19 14:00:52.261827 EDT | computing descent direction\n",
      "2018-03-19 14:00:57.015479 EDT | descent direction computed\n",
      "2018-03-19 14:00:57.373607 EDT | backtrack iters: 1\n",
      "2018-03-19 14:00:57.376468 EDT | computing loss after\n",
      "2018-03-19 14:00:57.379170 EDT | optimization finished\n",
      "2018-03-19 14:00:57.745068 EDT | Protag Reward: 1087.838207011377\n",
      "2018-03-19 14:00:57.746306 EDT | itr #0 | \n"
     ]
    },
    {
     "name": "stderr",
     "output_type": "stream",
     "text": [
      "0% [##############################] 100% | ETA: 00:00:00\n",
      "Total time elapsed: 00:00:06\n"
     ]
    },
    {
     "name": "stdout",
     "output_type": "stream",
     "text": [
      "2018-03-19 14:01:05.813139 EDT | fitting baseline...\n",
      "2018-03-19 14:01:05.835464 EDT | fitted\n",
      "2018-03-19 14:01:06.212851 EDT | computing loss before\n",
      "2018-03-19 14:01:06.404429 EDT | performing update\n",
      "2018-03-19 14:01:06.405548 EDT | computing descent direction\n",
      "2018-03-19 14:01:11.049682 EDT | descent direction computed\n",
      "2018-03-19 14:01:11.229183 EDT | backtrack iters: 0\n",
      "2018-03-19 14:01:11.231971 EDT | computing loss after\n",
      "2018-03-19 14:01:11.234588 EDT | optimization finished\n",
      "2018-03-19 14:01:11.580656 EDT | Advers Reward: -1266.7927353846687\n",
      "2018-03-19 14:01:28.819718 EDT | \n",
      "\n",
      "Experiment: 0 Iteration: 170\n",
      "\n",
      "2018-03-19 14:01:28.823247 EDT | itr #0 | \n"
     ]
    },
    {
     "name": "stderr",
     "output_type": "stream",
     "text": [
      "0% [##############################] 100% | ETA: 00:00:00\n",
      "Total time elapsed: 00:00:06\n"
     ]
    },
    {
     "name": "stdout",
     "output_type": "stream",
     "text": [
      "2018-03-19 14:01:36.110247 EDT | fitting baseline...\n",
      "2018-03-19 14:01:36.130878 EDT | fitted\n",
      "2018-03-19 14:01:36.503868 EDT | computing loss before\n",
      "2018-03-19 14:01:36.688771 EDT | performing update\n",
      "2018-03-19 14:01:36.691669 EDT | computing descent direction\n",
      "2018-03-19 14:01:41.364872 EDT | descent direction computed\n",
      "2018-03-19 14:01:41.717583 EDT | backtrack iters: 1\n",
      "2018-03-19 14:01:41.718765 EDT | computing loss after\n",
      "2018-03-19 14:01:41.719847 EDT | optimization finished\n",
      "2018-03-19 14:01:42.301681 EDT | Protag Reward: 1063.2841930805503\n",
      "2018-03-19 14:01:42.305075 EDT | itr #0 | \n"
     ]
    },
    {
     "name": "stderr",
     "output_type": "stream",
     "text": [
      "0% [##############################] 100% | ETA: 00:00:00\n",
      "Total time elapsed: 00:00:06\n"
     ]
    },
    {
     "name": "stdout",
     "output_type": "stream",
     "text": [
      "2018-03-19 14:01:49.004530 EDT | fitting baseline...\n",
      "2018-03-19 14:01:49.073954 EDT | fitted\n",
      "2018-03-19 14:01:50.098878 EDT | computing loss before\n",
      "2018-03-19 14:01:50.365897 EDT | performing update\n",
      "2018-03-19 14:01:50.366996 EDT | computing descent direction\n",
      "2018-03-19 14:01:54.874839 EDT | descent direction computed\n",
      "2018-03-19 14:01:55.048858 EDT | backtrack iters: 0\n",
      "2018-03-19 14:01:55.051676 EDT | computing loss after\n",
      "2018-03-19 14:01:55.054517 EDT | optimization finished\n",
      "2018-03-19 14:01:55.395879 EDT | Advers Reward: -1077.937230362049\n",
      "2018-03-19 14:02:12.725974 EDT | \n",
      "\n",
      "Experiment: 0 Iteration: 171\n",
      "\n",
      "2018-03-19 14:02:12.727753 EDT | itr #0 | \n"
     ]
    },
    {
     "name": "stderr",
     "output_type": "stream",
     "text": [
      "0% [##############################] 100% | ETA: 00:00:00\n",
      "Total time elapsed: 00:00:05\n"
     ]
    },
    {
     "name": "stdout",
     "output_type": "stream",
     "text": [
      "2018-03-19 14:02:18.511206 EDT | fitting baseline...\n",
      "2018-03-19 14:02:18.533763 EDT | fitted\n",
      "2018-03-19 14:02:18.914193 EDT | computing loss before\n",
      "2018-03-19 14:02:19.095666 EDT | performing update\n",
      "2018-03-19 14:02:19.096942 EDT | computing descent direction\n",
      "2018-03-19 14:02:24.778193 EDT | descent direction computed\n",
      "2018-03-19 14:02:25.630590 EDT | backtrack iters: 1\n",
      "2018-03-19 14:02:25.631773 EDT | computing loss after\n",
      "2018-03-19 14:02:25.632640 EDT | optimization finished\n",
      "2018-03-19 14:02:26.014804 EDT | Protag Reward: 1216.0900526961364\n",
      "2018-03-19 14:02:26.016137 EDT | itr #0 | \n"
     ]
    },
    {
     "name": "stderr",
     "output_type": "stream",
     "text": [
      "0% [##############################] 100% | ETA: 00:00:00\n",
      "Total time elapsed: 00:00:07\n"
     ]
    },
    {
     "name": "stdout",
     "output_type": "stream",
     "text": [
      "2018-03-19 14:02:33.396121 EDT | fitting baseline...\n",
      "2018-03-19 14:02:33.444415 EDT | fitted\n",
      "2018-03-19 14:02:34.076017 EDT | computing loss before\n",
      "2018-03-19 14:02:34.365994 EDT | performing update\n",
      "2018-03-19 14:02:34.367707 EDT | computing descent direction\n",
      "2018-03-19 14:02:38.721265 EDT | descent direction computed\n",
      "2018-03-19 14:02:39.099828 EDT | backtrack iters: 0\n",
      "2018-03-19 14:02:39.101808 EDT | computing loss after\n",
      "2018-03-19 14:02:39.102782 EDT | optimization finished\n",
      "2018-03-19 14:02:39.423674 EDT | Advers Reward: -1072.2819953894807\n",
      "2018-03-19 14:02:54.506681 EDT | \n",
      "\n",
      "Experiment: 0 Iteration: 172\n",
      "\n",
      "2018-03-19 14:02:54.509640 EDT | itr #0 | \n"
     ]
    },
    {
     "name": "stderr",
     "output_type": "stream",
     "text": [
      "0% [##############################] 100% | ETA: 00:00:00"
     ]
    },
    {
     "name": "stdout",
     "output_type": "stream",
     "text": [
      "2018-03-19 14:03:00.867794 EDT | fitting baseline...\n",
      "2018-03-19 14:03:00.891725 EDT | fitted\n"
     ]
    },
    {
     "name": "stderr",
     "output_type": "stream",
     "text": [
      "\n",
      "Total time elapsed: 00:00:06\n"
     ]
    },
    {
     "name": "stdout",
     "output_type": "stream",
     "text": [
      "2018-03-19 14:03:01.288956 EDT | computing loss before\n",
      "2018-03-19 14:03:01.474219 EDT | performing update\n",
      "2018-03-19 14:03:01.494701 EDT | computing descent direction\n",
      "2018-03-19 14:03:06.539956 EDT | descent direction computed\n",
      "2018-03-19 14:03:07.076869 EDT | backtrack iters: 0\n",
      "2018-03-19 14:03:07.079365 EDT | computing loss after\n",
      "2018-03-19 14:03:07.082576 EDT | optimization finished\n",
      "2018-03-19 14:03:08.077427 EDT | Protag Reward: 1192.1031536839705\n",
      "2018-03-19 14:03:08.079441 EDT | itr #0 | \n"
     ]
    },
    {
     "name": "stderr",
     "output_type": "stream",
     "text": [
      "0% [##############################] 100% | ETA: 00:00:00\n",
      "Total time elapsed: 00:00:06\n"
     ]
    },
    {
     "name": "stdout",
     "output_type": "stream",
     "text": [
      "2018-03-19 14:03:14.603971 EDT | fitting baseline...\n",
      "2018-03-19 14:03:14.622838 EDT | fitted\n",
      "2018-03-19 14:03:14.986493 EDT | computing loss before\n",
      "2018-03-19 14:03:15.160255 EDT | performing update\n",
      "2018-03-19 14:03:15.163090 EDT | computing descent direction\n",
      "2018-03-19 14:03:19.621222 EDT | descent direction computed\n",
      "2018-03-19 14:03:19.811331 EDT | backtrack iters: 0\n",
      "2018-03-19 14:03:19.814180 EDT | computing loss after\n",
      "2018-03-19 14:03:19.816866 EDT | optimization finished\n",
      "2018-03-19 14:03:20.144251 EDT | Advers Reward: -1172.8993931939917\n",
      "2018-03-19 14:03:34.017874 EDT | \n",
      "\n",
      "Experiment: 0 Iteration: 173\n",
      "\n",
      "2018-03-19 14:03:34.018997 EDT | itr #0 | \n"
     ]
    },
    {
     "name": "stderr",
     "output_type": "stream",
     "text": [
      "0% [##############################] 100% | ETA: 00:00:00\n",
      "Total time elapsed: 00:00:05\n"
     ]
    },
    {
     "name": "stdout",
     "output_type": "stream",
     "text": [
      "2018-03-19 14:03:40.960232 EDT | fitting baseline...\n",
      "2018-03-19 14:03:41.035364 EDT | fitted\n",
      "2018-03-19 14:03:42.130755 EDT | computing loss before\n",
      "2018-03-19 14:03:42.430770 EDT | performing update\n",
      "2018-03-19 14:03:42.431851 EDT | computing descent direction\n",
      "2018-03-19 14:03:47.231602 EDT | descent direction computed\n",
      "2018-03-19 14:03:47.595797 EDT | backtrack iters: 1\n",
      "2018-03-19 14:03:47.597000 EDT | computing loss after\n",
      "2018-03-19 14:03:47.598153 EDT | optimization finished\n",
      "2018-03-19 14:03:47.973568 EDT | Protag Reward: 1211.0935524000179\n",
      "2018-03-19 14:03:47.974860 EDT | itr #0 | \n"
     ]
    },
    {
     "name": "stderr",
     "output_type": "stream",
     "text": [
      "0% [##############################] 100% | ETA: 00:00:00\n",
      "Total time elapsed: 00:00:07\n"
     ]
    },
    {
     "name": "stdout",
     "output_type": "stream",
     "text": [
      "2018-03-19 14:03:55.932699 EDT | fitting baseline...\n",
      "2018-03-19 14:03:55.954640 EDT | fitted\n",
      "2018-03-19 14:03:56.329365 EDT | computing loss before\n",
      "2018-03-19 14:03:56.528455 EDT | performing update\n",
      "2018-03-19 14:03:56.534470 EDT | computing descent direction\n",
      "2018-03-19 14:04:01.232635 EDT | descent direction computed\n",
      "2018-03-19 14:04:01.424059 EDT | backtrack iters: 0\n",
      "2018-03-19 14:04:01.425267 EDT | computing loss after\n",
      "2018-03-19 14:04:01.426421 EDT | optimization finished\n",
      "2018-03-19 14:04:01.785470 EDT | Advers Reward: -1254.5573840023858\n",
      "2018-03-19 14:04:15.863483 EDT | \n",
      "\n",
      "Experiment: 0 Iteration: 174\n",
      "\n",
      "2018-03-19 14:04:15.864833 EDT | itr #0 | \n"
     ]
    },
    {
     "name": "stderr",
     "output_type": "stream",
     "text": [
      "0% [##############################] 100% | ETA: 00:00:00\n",
      "Total time elapsed: 00:00:06\n"
     ]
    },
    {
     "name": "stdout",
     "output_type": "stream",
     "text": [
      "2018-03-19 14:04:22.551811 EDT | fitting baseline...\n",
      "2018-03-19 14:04:22.570867 EDT | fitted\n",
      "2018-03-19 14:04:23.313318 EDT | computing loss before\n",
      "2018-03-19 14:04:23.843668 EDT | performing update\n",
      "2018-03-19 14:04:23.846287 EDT | computing descent direction\n",
      "2018-03-19 14:04:29.339340 EDT | descent direction computed\n",
      "2018-03-19 14:04:29.527026 EDT | backtrack iters: 0\n",
      "2018-03-19 14:04:29.528262 EDT | computing loss after\n",
      "2018-03-19 14:04:29.529226 EDT | optimization finished\n",
      "2018-03-19 14:04:29.896694 EDT | Protag Reward: 1307.7667594920686\n",
      "2018-03-19 14:04:29.897970 EDT | itr #0 | \n"
     ]
    },
    {
     "name": "stderr",
     "output_type": "stream",
     "text": [
      "0% [##############################] 100% | ETA: 00:00:00\n",
      "Total time elapsed: 00:00:06\n"
     ]
    },
    {
     "name": "stdout",
     "output_type": "stream",
     "text": [
      "2018-03-19 14:04:36.695698 EDT | fitting baseline...\n",
      "2018-03-19 14:04:36.776477 EDT | fitted\n",
      "2018-03-19 14:04:37.878216 EDT | computing loss before\n",
      "2018-03-19 14:04:38.365312 EDT | performing update\n",
      "2018-03-19 14:04:38.366374 EDT | computing descent direction\n",
      "2018-03-19 14:04:43.094399 EDT | descent direction computed\n",
      "2018-03-19 14:04:43.291979 EDT | backtrack iters: 0\n",
      "2018-03-19 14:04:43.295052 EDT | computing loss after\n",
      "2018-03-19 14:04:43.297721 EDT | optimization finished\n",
      "2018-03-19 14:04:43.681729 EDT | Advers Reward: -1347.2629821766786\n",
      "2018-03-19 14:05:02.403801 EDT | \n",
      "\n",
      "Experiment: 0 Iteration: 175\n",
      "\n",
      "2018-03-19 14:05:02.405070 EDT | itr #0 | \n"
     ]
    },
    {
     "name": "stderr",
     "output_type": "stream",
     "text": [
      "0% [##############################] 100% | ETA: 00:00:00"
     ]
    },
    {
     "name": "stdout",
     "output_type": "stream",
     "text": [
      "2018-03-19 14:05:08.839273 EDT | fitting baseline...\n"
     ]
    },
    {
     "name": "stderr",
     "output_type": "stream",
     "text": [
      "\n",
      "Total time elapsed: 00:00:06\n"
     ]
    },
    {
     "name": "stdout",
     "output_type": "stream",
     "text": [
      "2018-03-19 14:05:08.872374 EDT | fitted\n",
      "2018-03-19 14:05:09.274115 EDT | computing loss before\n",
      "2018-03-19 14:05:09.475204 EDT | performing update\n",
      "2018-03-19 14:05:09.493171 EDT | computing descent direction\n",
      "2018-03-19 14:05:15.648400 EDT | descent direction computed\n",
      "2018-03-19 14:05:16.048973 EDT | backtrack iters: 1\n",
      "2018-03-19 14:05:16.050042 EDT | computing loss after\n",
      "2018-03-19 14:05:16.050972 EDT | optimization finished\n",
      "2018-03-19 14:05:16.424140 EDT | Protag Reward: 1271.1828570712964\n",
      "2018-03-19 14:05:16.425521 EDT | itr #0 | \n"
     ]
    },
    {
     "name": "stderr",
     "output_type": "stream",
     "text": [
      "0% [##############################] 100% | ETA: 00:00:00\n",
      "Total time elapsed: 00:00:06\n"
     ]
    },
    {
     "name": "stdout",
     "output_type": "stream",
     "text": [
      "2018-03-19 14:05:23.836063 EDT | fitting baseline...\n",
      "2018-03-19 14:05:23.906469 EDT | fitted\n",
      "2018-03-19 14:05:24.998536 EDT | computing loss before\n",
      "2018-03-19 14:05:25.199604 EDT | performing update\n",
      "2018-03-19 14:05:25.202589 EDT | computing descent direction\n",
      "2018-03-19 14:05:29.917535 EDT | descent direction computed\n",
      "2018-03-19 14:05:30.114653 EDT | backtrack iters: 0\n",
      "2018-03-19 14:05:30.115856 EDT | computing loss after\n",
      "2018-03-19 14:05:30.116781 EDT | optimization finished\n",
      "2018-03-19 14:05:30.476541 EDT | Advers Reward: -1346.5840370297494\n",
      "2018-03-19 14:05:45.920537 EDT | \n",
      "\n",
      "Experiment: 0 Iteration: 176\n",
      "\n",
      "2018-03-19 14:05:45.922150 EDT | itr #0 | \n"
     ]
    },
    {
     "name": "stderr",
     "output_type": "stream",
     "text": [
      "0% [##############################] 100% | ETA: 00:00:00\n",
      "Total time elapsed: 00:00:06\n"
     ]
    },
    {
     "name": "stdout",
     "output_type": "stream",
     "text": [
      "2018-03-19 14:05:52.818382 EDT | fitting baseline...\n",
      "2018-03-19 14:05:52.845105 EDT | fitted\n",
      "2018-03-19 14:05:53.558219 EDT | computing loss before\n",
      "2018-03-19 14:05:54.077868 EDT | performing update\n",
      "2018-03-19 14:05:54.080871 EDT | computing descent direction\n",
      "2018-03-19 14:05:58.239613 EDT | descent direction computed\n",
      "2018-03-19 14:05:58.799750 EDT | backtrack iters: 0\n",
      "2018-03-19 14:05:58.803122 EDT | computing loss after\n",
      "2018-03-19 14:05:58.806288 EDT | optimization finished\n",
      "2018-03-19 14:05:59.865641 EDT | Protag Reward: 1268.027401499469\n",
      "2018-03-19 14:05:59.868619 EDT | itr #0 | \n"
     ]
    },
    {
     "name": "stderr",
     "output_type": "stream",
     "text": [
      "0% [##############################] 100% | ETA: 00:00:00\n",
      "Total time elapsed: 00:00:06\n"
     ]
    },
    {
     "name": "stdout",
     "output_type": "stream",
     "text": [
      "2018-03-19 14:06:06.787075 EDT | fitting baseline...\n",
      "2018-03-19 14:06:06.808805 EDT | fitted\n",
      "2018-03-19 14:06:07.186699 EDT | computing loss before\n",
      "2018-03-19 14:06:07.362434 EDT | performing update\n",
      "2018-03-19 14:06:07.365339 EDT | computing descent direction\n",
      "2018-03-19 14:06:12.221420 EDT | descent direction computed\n",
      "2018-03-19 14:06:12.395465 EDT | backtrack iters: 0\n",
      "2018-03-19 14:06:12.416161 EDT | computing loss after\n",
      "2018-03-19 14:06:12.419230 EDT | optimization finished\n",
      "2018-03-19 14:06:12.759041 EDT | Advers Reward: -1290.3878994244099\n",
      "2018-03-19 14:06:31.934472 EDT | \n",
      "\n",
      "Experiment: 0 Iteration: 177\n",
      "\n",
      "2018-03-19 14:06:31.935824 EDT | itr #0 | \n"
     ]
    },
    {
     "name": "stderr",
     "output_type": "stream",
     "text": [
      "0% [##############################] 100% | ETA: 00:00:00\n",
      "Total time elapsed: 00:00:09\n"
     ]
    },
    {
     "name": "stdout",
     "output_type": "stream",
     "text": [
      "2018-03-19 14:06:42.152202 EDT | fitting baseline...\n",
      "2018-03-19 14:06:42.190612 EDT | fitted\n",
      "2018-03-19 14:06:42.629414 EDT | computing loss before\n",
      "2018-03-19 14:06:42.854894 EDT | performing update\n",
      "2018-03-19 14:06:42.856451 EDT | computing descent direction\n",
      "2018-03-19 14:06:48.042177 EDT | descent direction computed\n",
      "2018-03-19 14:06:48.405199 EDT | backtrack iters: 1\n",
      "2018-03-19 14:06:48.406387 EDT | computing loss after\n",
      "2018-03-19 14:06:48.407365 EDT | optimization finished\n",
      "2018-03-19 14:06:48.760646 EDT | Protag Reward: 1299.6040430455225\n",
      "2018-03-19 14:06:48.761911 EDT | itr #0 | \n"
     ]
    },
    {
     "name": "stderr",
     "output_type": "stream",
     "text": [
      "0% [##############################] 100% | ETA: 00:00:00\n",
      "Total time elapsed: 00:00:08\n"
     ]
    },
    {
     "name": "stdout",
     "output_type": "stream",
     "text": [
      "2018-03-19 14:06:57.609297 EDT | fitting baseline...\n",
      "2018-03-19 14:06:57.638889 EDT | fitted\n",
      "2018-03-19 14:06:58.066501 EDT | computing loss before\n",
      "2018-03-19 14:06:58.263175 EDT | performing update\n",
      "2018-03-19 14:06:58.284135 EDT | computing descent direction\n",
      "2018-03-19 14:07:02.985614 EDT | descent direction computed\n",
      "2018-03-19 14:07:03.184142 EDT | backtrack iters: 0\n",
      "2018-03-19 14:07:03.188026 EDT | computing loss after\n",
      "2018-03-19 14:07:03.190919 EDT | optimization finished\n",
      "2018-03-19 14:07:03.569792 EDT | Advers Reward: -1312.3077843894334\n",
      "2018-03-19 14:07:17.222321 EDT | \n",
      "\n",
      "Experiment: 0 Iteration: 178\n",
      "\n",
      "2018-03-19 14:07:17.223588 EDT | itr #0 | \n"
     ]
    },
    {
     "name": "stderr",
     "output_type": "stream",
     "text": [
      "0% [##############################] 100% | ETA: 00:00:00\n",
      "Total time elapsed: 00:00:06\n"
     ]
    },
    {
     "name": "stdout",
     "output_type": "stream",
     "text": [
      "2018-03-19 14:07:23.911615 EDT | fitting baseline...\n",
      "2018-03-19 14:07:23.930512 EDT | fitted\n",
      "2018-03-19 14:07:24.309439 EDT | computing loss before\n",
      "2018-03-19 14:07:24.761888 EDT | performing update\n",
      "2018-03-19 14:07:24.765421 EDT | computing descent direction\n",
      "2018-03-19 14:07:30.710621 EDT | descent direction computed\n",
      "2018-03-19 14:07:31.060993 EDT | backtrack iters: 1\n",
      "2018-03-19 14:07:31.062218 EDT | computing loss after\n",
      "2018-03-19 14:07:31.063332 EDT | optimization finished\n",
      "2018-03-19 14:07:31.418482 EDT | Protag Reward: 1408.7780497845488\n",
      "2018-03-19 14:07:31.419804 EDT | itr #0 | \n"
     ]
    },
    {
     "name": "stderr",
     "output_type": "stream",
     "text": [
      "0% [##############################] 100% | ETA: 00:00:00\n",
      "Total time elapsed: 00:00:06\n"
     ]
    },
    {
     "name": "stdout",
     "output_type": "stream",
     "text": [
      "2018-03-19 14:07:38.208263 EDT | fitting baseline...\n",
      "2018-03-19 14:07:38.296724 EDT | fitted\n",
      "2018-03-19 14:07:39.355006 EDT | computing loss before\n",
      "2018-03-19 14:07:39.870853 EDT | performing update\n",
      "2018-03-19 14:07:39.873625 EDT | computing descent direction\n",
      "2018-03-19 14:07:44.598409 EDT | descent direction computed\n",
      "2018-03-19 14:07:44.800946 EDT | backtrack iters: 0\n",
      "2018-03-19 14:07:44.803741 EDT | computing loss after\n",
      "2018-03-19 14:07:44.806493 EDT | optimization finished\n",
      "2018-03-19 14:07:45.152246 EDT | Advers Reward: -1445.6676012122414\n",
      "2018-03-19 14:08:03.368930 EDT | \n",
      "\n",
      "Experiment: 0 Iteration: 179\n",
      "\n",
      "2018-03-19 14:08:03.370456 EDT | itr #0 | \n"
     ]
    },
    {
     "name": "stderr",
     "output_type": "stream",
     "text": [
      "0% [##############################] 100% | ETA: 00:00:00\n",
      "Total time elapsed: 00:00:05\n"
     ]
    },
    {
     "name": "stdout",
     "output_type": "stream",
     "text": [
      "2018-03-19 14:08:10.309166 EDT | fitting baseline...\n",
      "2018-03-19 14:08:10.329729 EDT | fitted\n",
      "2018-03-19 14:08:10.724481 EDT | computing loss before\n",
      "2018-03-19 14:08:10.900588 EDT | performing update\n",
      "2018-03-19 14:08:10.901808 EDT | computing descent direction\n",
      "2018-03-19 14:08:15.832684 EDT | descent direction computed\n",
      "2018-03-19 14:08:16.193973 EDT | backtrack iters: 1\n",
      "2018-03-19 14:08:16.195161 EDT | computing loss after\n",
      "2018-03-19 14:08:16.196101 EDT | optimization finished\n",
      "2018-03-19 14:08:17.183617 EDT | Protag Reward: 1254.3110419746195\n",
      "2018-03-19 14:08:17.187117 EDT | itr #0 | \n"
     ]
    },
    {
     "name": "stderr",
     "output_type": "stream",
     "text": [
      "0% [##############################] 100% | ETA: 00:00:00\n",
      "Total time elapsed: 00:00:06\n"
     ]
    },
    {
     "name": "stdout",
     "output_type": "stream",
     "text": [
      "2018-03-19 14:08:24.393140 EDT | fitting baseline...\n",
      "2018-03-19 14:08:24.413421 EDT | fitted\n",
      "2018-03-19 14:08:25.249181 EDT | computing loss before\n",
      "2018-03-19 14:08:25.758248 EDT | performing update\n",
      "2018-03-19 14:08:25.760862 EDT | computing descent direction\n",
      "2018-03-19 14:08:30.901813 EDT | descent direction computed\n",
      "2018-03-19 14:08:31.088720 EDT | backtrack iters: 0\n",
      "2018-03-19 14:08:31.091650 EDT | computing loss after\n",
      "2018-03-19 14:08:31.094790 EDT | optimization finished\n",
      "2018-03-19 14:08:31.435204 EDT | Advers Reward: -1465.002249525198\n",
      "2018-03-19 14:08:42.693198 EDT | \n",
      "\n",
      "Experiment: 0 Iteration: 180\n",
      "\n",
      "2018-03-19 14:08:42.694579 EDT | itr #0 | \n"
     ]
    },
    {
     "name": "stderr",
     "output_type": "stream",
     "text": [
      "0% [##############################] 100% | ETA: 00:00:00\n",
      "Total time elapsed: 00:00:05\n"
     ]
    },
    {
     "name": "stdout",
     "output_type": "stream",
     "text": [
      "2018-03-19 14:08:49.099431 EDT | fitting baseline...\n",
      "2018-03-19 14:08:49.120723 EDT | fitted\n",
      "2018-03-19 14:08:49.512712 EDT | computing loss before\n",
      "2018-03-19 14:08:49.712321 EDT | performing update\n",
      "2018-03-19 14:08:49.717638 EDT | computing descent direction\n",
      "2018-03-19 14:08:54.527876 EDT | descent direction computed\n",
      "2018-03-19 14:08:55.384147 EDT | backtrack iters: 1\n",
      "2018-03-19 14:08:55.386849 EDT | computing loss after\n",
      "2018-03-19 14:08:55.390087 EDT | optimization finished\n",
      "2018-03-19 14:08:56.393130 EDT | Protag Reward: 1255.414064861949\n",
      "2018-03-19 14:08:56.396866 EDT | itr #0 | \n"
     ]
    },
    {
     "name": "stderr",
     "output_type": "stream",
     "text": [
      "0% [##############################] 100% | ETA: 00:00:00\n",
      "Total time elapsed: 00:00:06\n"
     ]
    },
    {
     "name": "stdout",
     "output_type": "stream",
     "text": [
      "2018-03-19 14:09:03.665100 EDT | fitting baseline...\n",
      "2018-03-19 14:09:03.738434 EDT | fitted\n",
      "2018-03-19 14:09:04.797846 EDT | computing loss before\n",
      "2018-03-19 14:09:05.109485 EDT | performing update\n",
      "2018-03-19 14:09:05.110569 EDT | computing descent direction\n",
      "2018-03-19 14:09:10.118073 EDT | descent direction computed\n",
      "2018-03-19 14:09:10.469538 EDT | backtrack iters: 0\n",
      "2018-03-19 14:09:10.471066 EDT | computing loss after\n",
      "2018-03-19 14:09:10.472325 EDT | optimization finished\n",
      "2018-03-19 14:09:11.092757 EDT | Advers Reward: -1432.4279064674386\n",
      "2018-03-19 14:09:24.500696 EDT | \n",
      "\n",
      "Experiment: 0 Iteration: 181\n",
      "\n",
      "2018-03-19 14:09:24.501494 EDT | itr #0 | \n"
     ]
    },
    {
     "name": "stderr",
     "output_type": "stream",
     "text": [
      "0% [##############################] 100% | ETA: 00:00:00\n",
      "Total time elapsed: 00:00:06\n"
     ]
    },
    {
     "name": "stdout",
     "output_type": "stream",
     "text": [
      "2018-03-19 14:09:31.431013 EDT | fitting baseline...\n",
      "2018-03-19 14:09:31.451241 EDT | fitted\n",
      "2018-03-19 14:09:31.917973 EDT | computing loss before\n",
      "2018-03-19 14:09:32.143753 EDT | performing update\n",
      "2018-03-19 14:09:32.144772 EDT | computing descent direction\n",
      "2018-03-19 14:09:36.246073 EDT | descent direction computed\n",
      "2018-03-19 14:09:36.693074 EDT | backtrack iters: 1\n",
      "2018-03-19 14:09:36.694453 EDT | computing loss after\n",
      "2018-03-19 14:09:36.695543 EDT | optimization finished\n",
      "2018-03-19 14:09:37.144259 EDT | Protag Reward: 1427.9777804387616\n",
      "2018-03-19 14:09:37.145487 EDT | itr #0 | \n"
     ]
    },
    {
     "name": "stderr",
     "output_type": "stream",
     "text": [
      "0% [##############################] 100% | ETA: 00:00:00\n",
      "Total time elapsed: 00:00:05\n"
     ]
    },
    {
     "name": "stdout",
     "output_type": "stream",
     "text": [
      "2018-03-19 14:09:42.585838 EDT | fitting baseline...\n",
      "2018-03-19 14:09:42.608057 EDT | fitted\n",
      "2018-03-19 14:09:42.999907 EDT | computing loss before\n",
      "2018-03-19 14:09:43.203252 EDT | performing update\n",
      "2018-03-19 14:09:43.206237 EDT | computing descent direction\n",
      "2018-03-19 14:09:46.766327 EDT | descent direction computed\n",
      "2018-03-19 14:09:47.167569 EDT | backtrack iters: 1\n",
      "2018-03-19 14:09:47.168885 EDT | computing loss after\n",
      "2018-03-19 14:09:47.170152 EDT | optimization finished\n",
      "2018-03-19 14:09:47.572139 EDT | Advers Reward: -1407.8923772173396\n",
      "2018-03-19 14:10:05.226498 EDT | \n",
      "\n",
      "Experiment: 0 Iteration: 182\n",
      "\n",
      "2018-03-19 14:10:05.228143 EDT | itr #0 | \n"
     ]
    },
    {
     "name": "stderr",
     "output_type": "stream",
     "text": [
      "0% [##############################] 100% | ETA: 00:00:00\n",
      "Total time elapsed: 00:00:06\n"
     ]
    },
    {
     "name": "stdout",
     "output_type": "stream",
     "text": [
      "2018-03-19 14:10:12.247133 EDT | fitting baseline...\n",
      "2018-03-19 14:10:12.269788 EDT | fitted\n",
      "2018-03-19 14:10:12.645135 EDT | computing loss before\n",
      "2018-03-19 14:10:12.844991 EDT | performing update\n",
      "2018-03-19 14:10:12.846845 EDT | computing descent direction\n",
      "2018-03-19 14:10:17.721237 EDT | descent direction computed\n",
      "2018-03-19 14:10:18.077459 EDT | backtrack iters: 1\n",
      "2018-03-19 14:10:18.078649 EDT | computing loss after\n",
      "2018-03-19 14:10:18.079604 EDT | optimization finished\n",
      "2018-03-19 14:10:18.461499 EDT | Protag Reward: 1520.9063026925762\n",
      "2018-03-19 14:10:18.462854 EDT | itr #0 | \n"
     ]
    },
    {
     "name": "stderr",
     "output_type": "stream",
     "text": [
      "0% [##############################] 100% | ETA: 00:00:00\n",
      "Total time elapsed: 00:00:07\n"
     ]
    },
    {
     "name": "stdout",
     "output_type": "stream",
     "text": [
      "2018-03-19 14:10:26.443581 EDT | fitting baseline...\n",
      "2018-03-19 14:10:26.467761 EDT | fitted\n",
      "2018-03-19 14:10:26.871051 EDT | computing loss before\n",
      "2018-03-19 14:10:27.056298 EDT | performing update\n",
      "2018-03-19 14:10:27.059228 EDT | computing descent direction\n",
      "2018-03-19 14:10:31.720800 EDT | descent direction computed\n",
      "2018-03-19 14:10:31.916073 EDT | backtrack iters: 0\n",
      "2018-03-19 14:10:31.917182 EDT | computing loss after\n",
      "2018-03-19 14:10:31.918239 EDT | optimization finished\n",
      "2018-03-19 14:10:32.470382 EDT | Advers Reward: -1391.881442999367\n",
      "2018-03-19 14:10:52.224396 EDT | \n",
      "\n",
      "Experiment: 0 Iteration: 183\n",
      "\n",
      "2018-03-19 14:10:52.225670 EDT | itr #0 | \n"
     ]
    },
    {
     "name": "stderr",
     "output_type": "stream",
     "text": [
      "0% [##############################] 100% | ETA: 00:00:00\n",
      "Total time elapsed: 00:00:06\n"
     ]
    },
    {
     "name": "stdout",
     "output_type": "stream",
     "text": [
      "2018-03-19 14:11:00.017623 EDT | fitting baseline...\n",
      "2018-03-19 14:11:00.122767 EDT | fitted\n",
      "2018-03-19 14:11:00.551875 EDT | computing loss before\n",
      "2018-03-19 14:11:00.735590 EDT | performing update\n",
      "2018-03-19 14:11:00.738407 EDT | computing descent direction\n",
      "2018-03-19 14:11:05.581672 EDT | descent direction computed\n",
      "2018-03-19 14:11:05.773009 EDT | backtrack iters: 0\n",
      "2018-03-19 14:11:05.774206 EDT | computing loss after\n",
      "2018-03-19 14:11:05.775348 EDT | optimization finished\n",
      "2018-03-19 14:11:06.140950 EDT | Protag Reward: 1450.6528853164955\n",
      "2018-03-19 14:11:06.144079 EDT | itr #0 | \n"
     ]
    },
    {
     "name": "stderr",
     "output_type": "stream",
     "text": [
      "0% [##############################] 100% | ETA: 00:00:00\n",
      "Total time elapsed: 00:00:07\n"
     ]
    },
    {
     "name": "stdout",
     "output_type": "stream",
     "text": [
      "2018-03-19 14:11:14.735983 EDT | fitting baseline...\n",
      "2018-03-19 14:11:14.798493 EDT | fitted\n",
      "2018-03-19 14:11:15.302128 EDT | computing loss before\n",
      "2018-03-19 14:11:15.518904 EDT | performing update\n",
      "2018-03-19 14:11:15.520016 EDT | computing descent direction\n",
      "2018-03-19 14:11:19.616478 EDT | descent direction computed\n",
      "2018-03-19 14:11:20.160378 EDT | backtrack iters: 1\n",
      "2018-03-19 14:11:20.164060 EDT | computing loss after\n",
      "2018-03-19 14:11:20.166511 EDT | optimization finished\n",
      "2018-03-19 14:11:21.226740 EDT | Advers Reward: -1409.9717574001918\n",
      "2018-03-19 14:11:39.362732 EDT | \n",
      "\n",
      "Experiment: 0 Iteration: 184\n",
      "\n",
      "2018-03-19 14:11:39.364091 EDT | itr #0 | \n"
     ]
    },
    {
     "name": "stderr",
     "output_type": "stream",
     "text": [
      "0% [##############################] 100% | ETA: 00:00:00\n",
      "Total time elapsed: 00:00:06\n"
     ]
    },
    {
     "name": "stdout",
     "output_type": "stream",
     "text": [
      "2018-03-19 14:11:45.735123 EDT | fitting baseline...\n",
      "2018-03-19 14:11:45.778852 EDT | fitted\n",
      "2018-03-19 14:11:46.144506 EDT | computing loss before\n",
      "2018-03-19 14:11:46.335952 EDT | performing update\n",
      "2018-03-19 14:11:46.338792 EDT | computing descent direction\n",
      "2018-03-19 14:11:51.396772 EDT | descent direction computed\n",
      "2018-03-19 14:11:51.615053 EDT | backtrack iters: 0\n",
      "2018-03-19 14:11:51.619282 EDT | computing loss after\n",
      "2018-03-19 14:11:51.622204 EDT | optimization finished\n",
      "2018-03-19 14:11:52.016386 EDT | Protag Reward: 1467.1770892701604\n",
      "2018-03-19 14:11:52.020022 EDT | itr #0 | \n"
     ]
    },
    {
     "name": "stderr",
     "output_type": "stream",
     "text": [
      "0% [##############################] 100% | ETA: 00:00:00"
     ]
    },
    {
     "name": "stdout",
     "output_type": "stream",
     "text": [
      "2018-03-19 14:12:02.039870 EDT | fitting baseline...\n",
      "2018-03-19 14:12:02.061655 EDT | fitted\n"
     ]
    },
    {
     "name": "stderr",
     "output_type": "stream",
     "text": [
      "\n",
      "Total time elapsed: 00:00:09\n"
     ]
    },
    {
     "name": "stdout",
     "output_type": "stream",
     "text": [
      "2018-03-19 14:12:02.459336 EDT | computing loss before\n",
      "2018-03-19 14:12:02.692429 EDT | performing update\n",
      "2018-03-19 14:12:02.693745 EDT | computing descent direction\n",
      "2018-03-19 14:12:07.422749 EDT | descent direction computed\n",
      "2018-03-19 14:12:07.618899 EDT | backtrack iters: 0\n",
      "2018-03-19 14:12:07.620173 EDT | computing loss after\n",
      "2018-03-19 14:12:07.621164 EDT | optimization finished\n",
      "2018-03-19 14:12:08.625778 EDT | Advers Reward: -1463.4992863487546\n",
      "2018-03-19 14:12:22.821518 EDT | \n",
      "\n",
      "Experiment: 0 Iteration: 185\n",
      "\n",
      "2018-03-19 14:12:22.822776 EDT | itr #0 | \n"
     ]
    },
    {
     "name": "stderr",
     "output_type": "stream",
     "text": [
      "0% [##############################] 100% | ETA: 00:00:00\n",
      "Total time elapsed: 00:00:06\n"
     ]
    },
    {
     "name": "stdout",
     "output_type": "stream",
     "text": [
      "2018-03-19 14:12:29.114635 EDT | fitting baseline...\n",
      "2018-03-19 14:12:29.136052 EDT | fitted\n",
      "2018-03-19 14:12:29.785809 EDT | computing loss before\n",
      "2018-03-19 14:12:30.290663 EDT | performing update\n",
      "2018-03-19 14:12:30.293491 EDT | computing descent direction\n",
      "2018-03-19 14:12:35.901722 EDT | descent direction computed\n",
      "2018-03-19 14:12:36.251278 EDT | backtrack iters: 1\n",
      "2018-03-19 14:12:36.252458 EDT | computing loss after\n",
      "2018-03-19 14:12:36.253403 EDT | optimization finished\n",
      "2018-03-19 14:12:36.615877 EDT | Protag Reward: 1466.5149595743433\n",
      "2018-03-19 14:12:36.617154 EDT | itr #0 | \n"
     ]
    },
    {
     "name": "stderr",
     "output_type": "stream",
     "text": [
      "0% [##############################] 100% | ETA: 00:00:00\n",
      "Total time elapsed: 00:00:06\n"
     ]
    },
    {
     "name": "stdout",
     "output_type": "stream",
     "text": [
      "2018-03-19 14:12:44.696890 EDT | fitting baseline...\n",
      "2018-03-19 14:12:44.785507 EDT | fitted\n",
      "2018-03-19 14:12:45.283704 EDT | computing loss before\n",
      "2018-03-19 14:12:45.464214 EDT | performing update\n",
      "2018-03-19 14:12:45.465380 EDT | computing descent direction\n",
      "2018-03-19 14:12:50.217017 EDT | descent direction computed\n",
      "2018-03-19 14:12:50.418622 EDT | backtrack iters: 0\n",
      "2018-03-19 14:12:50.421525 EDT | computing loss after\n",
      "2018-03-19 14:12:50.424224 EDT | optimization finished\n",
      "2018-03-19 14:12:50.807362 EDT | Advers Reward: -1401.0103215308775\n",
      "2018-03-19 14:13:09.406323 EDT | \n",
      "\n",
      "Experiment: 0 Iteration: 186\n",
      "\n",
      "2018-03-19 14:13:09.408049 EDT | itr #0 | \n"
     ]
    },
    {
     "name": "stderr",
     "output_type": "stream",
     "text": [
      "0% [##############################] 100% | ETA: 00:00:00"
     ]
    },
    {
     "name": "stdout",
     "output_type": "stream",
     "text": [
      "2018-03-19 14:13:16.442453 EDT | fitting baseline...\n"
     ]
    },
    {
     "name": "stderr",
     "output_type": "stream",
     "text": [
      "\n",
      "Total time elapsed: 00:00:06\n"
     ]
    },
    {
     "name": "stdout",
     "output_type": "stream",
     "text": [
      "2018-03-19 14:13:16.461164 EDT | fitted\n",
      "2018-03-19 14:13:16.856313 EDT | computing loss before\n",
      "2018-03-19 14:13:17.054298 EDT | performing update\n",
      "2018-03-19 14:13:17.057318 EDT | computing descent direction\n",
      "2018-03-19 14:13:23.132399 EDT | descent direction computed\n",
      "2018-03-19 14:13:23.666319 EDT | backtrack iters: 1\n",
      "2018-03-19 14:13:23.667438 EDT | computing loss after\n",
      "2018-03-19 14:13:23.668275 EDT | optimization finished\n",
      "2018-03-19 14:13:24.046146 EDT | Protag Reward: 1664.4750788574847\n",
      "2018-03-19 14:13:24.047387 EDT | itr #0 | \n"
     ]
    },
    {
     "name": "stderr",
     "output_type": "stream",
     "text": [
      "0% [##############################] 100% | ETA: 00:00:00\n",
      "Total time elapsed: 00:00:06\n"
     ]
    },
    {
     "name": "stdout",
     "output_type": "stream",
     "text": [
      "2018-03-19 14:13:30.678035 EDT | fitting baseline...\n",
      "2018-03-19 14:13:30.763124 EDT | fitted\n",
      "2018-03-19 14:13:31.862323 EDT | computing loss before\n",
      "2018-03-19 14:13:32.395933 EDT | performing update\n",
      "2018-03-19 14:13:32.398475 EDT | computing descent direction\n",
      "2018-03-19 14:13:37.417152 EDT | descent direction computed\n",
      "2018-03-19 14:13:37.613186 EDT | backtrack iters: 0\n",
      "2018-03-19 14:13:37.615996 EDT | computing loss after\n",
      "2018-03-19 14:13:37.619532 EDT | optimization finished\n",
      "2018-03-19 14:13:37.971172 EDT | Advers Reward: -1523.1406218824748\n",
      "2018-03-19 14:13:54.658325 EDT | \n",
      "\n",
      "Experiment: 0 Iteration: 187\n",
      "\n",
      "2018-03-19 14:13:54.659939 EDT | itr #0 | \n"
     ]
    },
    {
     "name": "stderr",
     "output_type": "stream",
     "text": [
      "0% [##############################] 100% | ETA: 00:00:00\n",
      "Total time elapsed: 00:00:05\n"
     ]
    },
    {
     "name": "stdout",
     "output_type": "stream",
     "text": [
      "2018-03-19 14:14:01.292127 EDT | fitting baseline...\n",
      "2018-03-19 14:14:01.368285 EDT | fitted\n",
      "2018-03-19 14:14:02.476199 EDT | computing loss before\n",
      "2018-03-19 14:14:02.881618 EDT | performing update\n",
      "2018-03-19 14:14:02.882495 EDT | computing descent direction\n",
      "2018-03-19 14:14:07.722282 EDT | descent direction computed\n",
      "2018-03-19 14:14:08.083979 EDT | backtrack iters: 1\n",
      "2018-03-19 14:14:08.085140 EDT | computing loss after\n",
      "2018-03-19 14:14:08.086057 EDT | optimization finished\n",
      "2018-03-19 14:14:08.450050 EDT | Protag Reward: 1694.2179212697004\n",
      "2018-03-19 14:14:08.451587 EDT | itr #0 | \n"
     ]
    },
    {
     "name": "stderr",
     "output_type": "stream",
     "text": [
      "0% [##############################] 100% | ETA: 00:00:00\n",
      "Total time elapsed: 00:00:08\n"
     ]
    },
    {
     "name": "stdout",
     "output_type": "stream",
     "text": [
      "2018-03-19 14:14:17.215724 EDT | fitting baseline...\n",
      "2018-03-19 14:14:17.238274 EDT | fitted\n",
      "2018-03-19 14:14:17.616566 EDT | computing loss before\n",
      "2018-03-19 14:14:17.814656 EDT | performing update\n",
      "2018-03-19 14:14:17.815988 EDT | computing descent direction\n",
      "2018-03-19 14:14:22.520856 EDT | descent direction computed\n",
      "2018-03-19 14:14:22.887571 EDT | backtrack iters: 1\n",
      "2018-03-19 14:14:22.890463 EDT | computing loss after\n",
      "2018-03-19 14:14:22.893098 EDT | optimization finished\n",
      "2018-03-19 14:14:23.251698 EDT | Advers Reward: -1367.9146878376612\n",
      "2018-03-19 14:14:40.977412 EDT | \n",
      "\n",
      "Experiment: 0 Iteration: 188\n",
      "\n",
      "2018-03-19 14:14:40.979030 EDT | itr #0 | \n"
     ]
    },
    {
     "name": "stderr",
     "output_type": "stream",
     "text": [
      "0% [##############################] 100% | ETA: 00:00:00\n",
      "Total time elapsed: 00:00:06\n"
     ]
    },
    {
     "name": "stdout",
     "output_type": "stream",
     "text": [
      "2018-03-19 14:14:47.840165 EDT | fitting baseline...\n",
      "2018-03-19 14:14:47.864619 EDT | fitted\n",
      "2018-03-19 14:14:48.251975 EDT | computing loss before\n",
      "2018-03-19 14:14:48.449136 EDT | performing update\n",
      "2018-03-19 14:14:48.452567 EDT | computing descent direction\n",
      "2018-03-19 14:14:53.336808 EDT | descent direction computed\n",
      "2018-03-19 14:14:53.709474 EDT | backtrack iters: 1\n",
      "2018-03-19 14:14:53.710706 EDT | computing loss after\n",
      "2018-03-19 14:14:53.711887 EDT | optimization finished\n",
      "2018-03-19 14:14:54.080959 EDT | Protag Reward: 1505.3050495775844\n",
      "2018-03-19 14:14:54.082310 EDT | itr #0 | \n"
     ]
    },
    {
     "name": "stderr",
     "output_type": "stream",
     "text": [
      "0% [##############################] 100% | ETA: 00:00:00\n",
      "Total time elapsed: 00:00:07\n"
     ]
    },
    {
     "name": "stdout",
     "output_type": "stream",
     "text": [
      "2018-03-19 14:15:02.280150 EDT | fitting baseline...\n",
      "2018-03-19 14:15:02.302241 EDT | fitted\n",
      "2018-03-19 14:15:02.675320 EDT | computing loss before\n",
      "2018-03-19 14:15:02.866178 EDT | performing update\n",
      "2018-03-19 14:15:02.869058 EDT | computing descent direction\n",
      "2018-03-19 14:15:07.675392 EDT | descent direction computed\n",
      "2018-03-19 14:15:07.882758 EDT | backtrack iters: 0\n",
      "2018-03-19 14:15:07.904087 EDT | computing loss after\n",
      "2018-03-19 14:15:07.904906 EDT | optimization finished\n",
      "2018-03-19 14:15:08.349526 EDT | Advers Reward: -1517.5770004066028\n",
      "2018-03-19 14:15:25.644976 EDT | \n",
      "\n",
      "Experiment: 0 Iteration: 189\n",
      "\n",
      "2018-03-19 14:15:25.646659 EDT | itr #0 | \n"
     ]
    },
    {
     "name": "stderr",
     "output_type": "stream",
     "text": [
      "0% [##############################] 100% | ETA: 00:00:00\n",
      "Total time elapsed: 00:00:06\n"
     ]
    },
    {
     "name": "stdout",
     "output_type": "stream",
     "text": [
      "2018-03-19 14:15:32.868853 EDT | fitting baseline...\n",
      "2018-03-19 14:15:32.891255 EDT | fitted\n",
      "2018-03-19 14:15:33.307710 EDT | computing loss before\n",
      "2018-03-19 14:15:33.507520 EDT | performing update\n",
      "2018-03-19 14:15:33.513572 EDT | computing descent direction\n",
      "2018-03-19 14:15:38.784099 EDT | descent direction computed\n",
      "2018-03-19 14:15:39.322979 EDT | backtrack iters: 0\n",
      "2018-03-19 14:15:39.325464 EDT | computing loss after\n",
      "2018-03-19 14:15:39.328266 EDT | optimization finished\n",
      "2018-03-19 14:15:40.377148 EDT | Protag Reward: 1478.930985463238\n",
      "2018-03-19 14:15:40.378385 EDT | itr #0 | \n"
     ]
    },
    {
     "name": "stderr",
     "output_type": "stream",
     "text": [
      "0% [##############################] 100% | ETA: 00:00:00\n",
      "Total time elapsed: 00:00:04\n"
     ]
    },
    {
     "name": "stdout",
     "output_type": "stream",
     "text": [
      "2018-03-19 14:15:45.454647 EDT | fitting baseline...\n",
      "2018-03-19 14:15:45.477055 EDT | fitted\n",
      "2018-03-19 14:15:45.855452 EDT | computing loss before\n",
      "2018-03-19 14:15:46.050379 EDT | performing update\n",
      "2018-03-19 14:15:46.053394 EDT | computing descent direction\n",
      "2018-03-19 14:15:50.719796 EDT | descent direction computed\n",
      "2018-03-19 14:15:51.068226 EDT | backtrack iters: 1\n",
      "2018-03-19 14:15:51.069305 EDT | computing loss after\n",
      "2018-03-19 14:15:51.070253 EDT | optimization finished\n",
      "2018-03-19 14:15:51.411097 EDT | Advers Reward: -1519.0231592578457\n",
      "2018-03-19 14:16:06.199700 EDT | \n",
      "\n",
      "Experiment: 0 Iteration: 190\n",
      "\n",
      "2018-03-19 14:16:06.201262 EDT | itr #0 | \n"
     ]
    },
    {
     "name": "stderr",
     "output_type": "stream",
     "text": [
      "0% [##############################] 100% | ETA: 00:00:00\n",
      "Total time elapsed: 00:00:06\n"
     ]
    },
    {
     "name": "stdout",
     "output_type": "stream",
     "text": [
      "2018-03-19 14:16:13.323925 EDT | fitting baseline...\n",
      "2018-03-19 14:16:13.354095 EDT | fitted\n",
      "2018-03-19 14:16:14.101648 EDT | computing loss before\n",
      "2018-03-19 14:16:14.623457 EDT | performing update\n",
      "2018-03-19 14:16:14.626025 EDT | computing descent direction\n",
      "2018-03-19 14:16:20.144857 EDT | descent direction computed\n",
      "2018-03-19 14:16:20.509500 EDT | backtrack iters: 1\n",
      "2018-03-19 14:16:20.510697 EDT | computing loss after\n",
      "2018-03-19 14:16:20.511650 EDT | optimization finished\n",
      "2018-03-19 14:16:20.880871 EDT | Protag Reward: 1469.8030914887433\n",
      "2018-03-19 14:16:20.882237 EDT | itr #0 | \n"
     ]
    },
    {
     "name": "stderr",
     "output_type": "stream",
     "text": [
      "0% [##############################] 100% | ETA: 00:00:00\n",
      "Total time elapsed: 00:00:07\n"
     ]
    },
    {
     "name": "stdout",
     "output_type": "stream",
     "text": [
      "2018-03-19 14:16:29.137364 EDT | fitting baseline...\n",
      "2018-03-19 14:16:29.159146 EDT | fitted\n",
      "2018-03-19 14:16:29.528902 EDT | computing loss before\n",
      "2018-03-19 14:16:29.722835 EDT | performing update\n",
      "2018-03-19 14:16:29.725747 EDT | computing descent direction\n",
      "2018-03-19 14:16:34.473983 EDT | descent direction computed\n",
      "2018-03-19 14:16:34.846895 EDT | backtrack iters: 1\n",
      "2018-03-19 14:16:34.848110 EDT | computing loss after\n",
      "2018-03-19 14:16:34.849243 EDT | optimization finished\n",
      "2018-03-19 14:16:35.214273 EDT | Advers Reward: -1628.5747323444314\n",
      "2018-03-19 14:16:48.879220 EDT | \n",
      "\n",
      "Experiment: 0 Iteration: 191\n",
      "\n",
      "2018-03-19 14:16:48.880541 EDT | itr #0 | \n"
     ]
    },
    {
     "name": "stderr",
     "output_type": "stream",
     "text": [
      "0% [##############################] 100% | ETA: 00:00:00\n",
      "Total time elapsed: 00:00:07\n"
     ]
    },
    {
     "name": "stdout",
     "output_type": "stream",
     "text": [
      "2018-03-19 14:16:57.070860 EDT | fitting baseline...\n",
      "2018-03-19 14:16:57.119662 EDT | fitted\n",
      "2018-03-19 14:16:57.781148 EDT | computing loss before\n",
      "2018-03-19 14:16:58.083024 EDT | performing update\n",
      "2018-03-19 14:16:58.084573 EDT | computing descent direction\n",
      "2018-03-19 14:17:02.640188 EDT | descent direction computed\n",
      "2018-03-19 14:17:03.473031 EDT | backtrack iters: 1\n",
      "2018-03-19 14:17:03.474369 EDT | computing loss after\n",
      "2018-03-19 14:17:03.475315 EDT | optimization finished\n",
      "2018-03-19 14:17:03.824267 EDT | Protag Reward: 1542.2066237536144\n",
      "2018-03-19 14:17:03.825629 EDT | itr #0 | \n"
     ]
    },
    {
     "name": "stderr",
     "output_type": "stream",
     "text": [
      "0% [##############################] 100% | ETA: 00:00:00\n",
      "Total time elapsed: 00:00:06\n"
     ]
    },
    {
     "name": "stdout",
     "output_type": "stream",
     "text": [
      "2018-03-19 14:17:11.684978 EDT | fitting baseline...\n",
      "2018-03-19 14:17:11.704266 EDT | fitted\n",
      "2018-03-19 14:17:12.077329 EDT | computing loss before\n",
      "2018-03-19 14:17:12.253775 EDT | performing update\n",
      "2018-03-19 14:17:12.256756 EDT | computing descent direction\n",
      "2018-03-19 14:17:16.802186 EDT | descent direction computed\n",
      "2018-03-19 14:17:16.998991 EDT | backtrack iters: 0\n",
      "2018-03-19 14:17:17.002706 EDT | computing loss after\n",
      "2018-03-19 14:17:17.005417 EDT | optimization finished\n",
      "2018-03-19 14:17:17.366702 EDT | Advers Reward: -1496.6972837304668\n",
      "2018-03-19 14:17:36.572561 EDT | \n",
      "\n",
      "Experiment: 0 Iteration: 192\n",
      "\n",
      "2018-03-19 14:17:36.573949 EDT | itr #0 | \n"
     ]
    },
    {
     "name": "stderr",
     "output_type": "stream",
     "text": [
      "0% [##############################] 100% | ETA: 00:00:00\n",
      "Total time elapsed: 00:00:06\n"
     ]
    },
    {
     "name": "stdout",
     "output_type": "stream",
     "text": [
      "2018-03-19 14:17:44.762830 EDT | fitting baseline...\n",
      "2018-03-19 14:17:44.840877 EDT | fitted\n",
      "2018-03-19 14:17:45.256950 EDT | computing loss before\n",
      "2018-03-19 14:17:45.454105 EDT | performing update\n",
      "2018-03-19 14:17:45.469014 EDT | computing descent direction\n",
      "2018-03-19 14:17:50.326327 EDT | descent direction computed\n",
      "2018-03-19 14:17:50.705368 EDT | backtrack iters: 1\n",
      "2018-03-19 14:17:50.706552 EDT | computing loss after\n",
      "2018-03-19 14:17:50.707491 EDT | optimization finished\n",
      "2018-03-19 14:17:51.088348 EDT | Protag Reward: 1357.1813622583295\n",
      "2018-03-19 14:17:51.089656 EDT | itr #0 | \n"
     ]
    },
    {
     "name": "stderr",
     "output_type": "stream",
     "text": [
      "0% [##############################] 100% | ETA: 00:00:00\n",
      "Total time elapsed: 00:00:08\n"
     ]
    },
    {
     "name": "stdout",
     "output_type": "stream",
     "text": [
      "2018-03-19 14:17:59.577153 EDT | fitting baseline...\n",
      "2018-03-19 14:17:59.616032 EDT | fitted\n",
      "2018-03-19 14:18:00.245813 EDT | computing loss before\n",
      "2018-03-19 14:18:00.541121 EDT | performing update\n",
      "2018-03-19 14:18:00.542512 EDT | computing descent direction\n",
      "2018-03-19 14:18:06.038015 EDT | descent direction computed\n",
      "2018-03-19 14:18:06.630234 EDT | backtrack iters: 1\n",
      "2018-03-19 14:18:06.631809 EDT | computing loss after\n",
      "2018-03-19 14:18:06.633510 EDT | optimization finished\n",
      "2018-03-19 14:18:06.971776 EDT | Advers Reward: -1469.7354438968275\n",
      "2018-03-19 14:18:20.778117 EDT | \n",
      "\n",
      "Experiment: 0 Iteration: 193\n",
      "\n",
      "2018-03-19 14:18:20.779313 EDT | itr #0 | \n"
     ]
    },
    {
     "name": "stderr",
     "output_type": "stream",
     "text": [
      "0% [##############################] 100% | ETA: 00:00:00"
     ]
    },
    {
     "name": "stdout",
     "output_type": "stream",
     "text": [
      "2018-03-19 14:18:27.211270 EDT | fitting baseline...\n"
     ]
    },
    {
     "name": "stderr",
     "output_type": "stream",
     "text": [
      "\n",
      "Total time elapsed: 00:00:06\n"
     ]
    },
    {
     "name": "stdout",
     "output_type": "stream",
     "text": [
      "2018-03-19 14:18:27.238545 EDT | fitted\n",
      "2018-03-19 14:18:28.025108 EDT | computing loss before\n",
      "2018-03-19 14:18:28.523991 EDT | performing update\n",
      "2018-03-19 14:18:28.526880 EDT | computing descent direction\n",
      "2018-03-19 14:18:33.593982 EDT | descent direction computed\n",
      "2018-03-19 14:18:33.940014 EDT | backtrack iters: 0\n",
      "2018-03-19 14:18:33.941745 EDT | computing loss after\n",
      "2018-03-19 14:18:33.943046 EDT | optimization finished\n",
      "2018-03-19 14:18:34.522002 EDT | Protag Reward: 1696.5968068169034\n",
      "2018-03-19 14:18:34.523469 EDT | itr #0 | \n"
     ]
    },
    {
     "name": "stderr",
     "output_type": "stream",
     "text": [
      "0% [##############################] 100% | ETA: 00:00:00\n",
      "Total time elapsed: 00:00:06\n"
     ]
    },
    {
     "name": "stdout",
     "output_type": "stream",
     "text": [
      "2018-03-19 14:18:42.203688 EDT | fitting baseline...\n",
      "2018-03-19 14:18:42.283891 EDT | fitted\n",
      "2018-03-19 14:18:43.108791 EDT | computing loss before\n",
      "2018-03-19 14:18:43.289078 EDT | performing update\n",
      "2018-03-19 14:18:43.290138 EDT | computing descent direction\n",
      "2018-03-19 14:18:47.834336 EDT | descent direction computed\n",
      "2018-03-19 14:18:48.021367 EDT | backtrack iters: 0\n",
      "2018-03-19 14:18:48.022532 EDT | computing loss after\n",
      "2018-03-19 14:18:48.023458 EDT | optimization finished\n",
      "2018-03-19 14:18:48.368964 EDT | Advers Reward: -1525.4211564403267\n",
      "2018-03-19 14:19:01.045154 EDT | \n",
      "\n",
      "Experiment: 0 Iteration: 194\n",
      "\n",
      "2018-03-19 14:19:01.046431 EDT | itr #0 | \n"
     ]
    },
    {
     "name": "stderr",
     "output_type": "stream",
     "text": [
      "0% [##############################] 100% | ETA: 00:00:00\n",
      "Total time elapsed: 00:00:06\n"
     ]
    },
    {
     "name": "stdout",
     "output_type": "stream",
     "text": [
      "2018-03-19 14:19:08.553058 EDT | fitting baseline...\n",
      "2018-03-19 14:19:08.624995 EDT | fitted\n",
      "2018-03-19 14:19:09.192025 EDT | computing loss before\n",
      "2018-03-19 14:19:09.377586 EDT | performing update\n",
      "2018-03-19 14:19:09.380291 EDT | computing descent direction\n",
      "2018-03-19 14:19:14.123425 EDT | descent direction computed\n",
      "2018-03-19 14:19:14.316004 EDT | backtrack iters: 0\n",
      "2018-03-19 14:19:14.317080 EDT | computing loss after\n",
      "2018-03-19 14:19:14.318078 EDT | optimization finished\n",
      "2018-03-19 14:19:14.695857 EDT | Protag Reward: 1423.8541988278807\n",
      "2018-03-19 14:19:14.697109 EDT | itr #0 | \n"
     ]
    },
    {
     "name": "stderr",
     "output_type": "stream",
     "text": [
      "0% [##############################] 100% | ETA: 00:00:00\n",
      "Total time elapsed: 00:00:07\n"
     ]
    },
    {
     "name": "stdout",
     "output_type": "stream",
     "text": [
      "2018-03-19 14:19:22.636097 EDT | fitting baseline...\n",
      "2018-03-19 14:19:22.657325 EDT | fitted\n",
      "2018-03-19 14:19:23.038955 EDT | computing loss before\n",
      "2018-03-19 14:19:23.242455 EDT | performing update\n",
      "2018-03-19 14:19:23.243616 EDT | computing descent direction\n",
      "2018-03-19 14:19:28.951392 EDT | descent direction computed\n",
      "2018-03-19 14:19:29.255330 EDT | backtrack iters: 0\n",
      "2018-03-19 14:19:29.257135 EDT | computing loss after\n",
      "2018-03-19 14:19:29.258397 EDT | optimization finished\n",
      "2018-03-19 14:19:29.847791 EDT | Advers Reward: -1666.4768563863872\n",
      "2018-03-19 14:19:46.101805 EDT | \n",
      "\n",
      "Experiment: 0 Iteration: 195\n",
      "\n",
      "2018-03-19 14:19:46.103195 EDT | itr #0 | \n"
     ]
    },
    {
     "name": "stderr",
     "output_type": "stream",
     "text": [
      "0% [##############################] 100% | ETA: 00:00:00\n",
      "Total time elapsed: 00:00:05\n"
     ]
    },
    {
     "name": "stdout",
     "output_type": "stream",
     "text": [
      "2018-03-19 14:19:52.368861 EDT | fitting baseline...\n",
      "2018-03-19 14:19:52.400652 EDT | fitted\n",
      "2018-03-19 14:19:52.765039 EDT | computing loss before\n",
      "2018-03-19 14:19:52.949342 EDT | performing update\n",
      "2018-03-19 14:19:52.952040 EDT | computing descent direction\n",
      "2018-03-19 14:19:57.650723 EDT | descent direction computed\n",
      "2018-03-19 14:19:57.835140 EDT | backtrack iters: 0\n",
      "2018-03-19 14:19:57.838034 EDT | computing loss after\n",
      "2018-03-19 14:19:57.840883 EDT | optimization finished\n",
      "2018-03-19 14:19:58.197562 EDT | Protag Reward: 1599.7989685465027\n",
      "2018-03-19 14:19:58.198771 EDT | itr #0 | \n"
     ]
    },
    {
     "name": "stderr",
     "output_type": "stream",
     "text": [
      "0% [##############################] 100% | ETA: 00:00:00\n",
      "Total time elapsed: 00:00:07\n"
     ]
    },
    {
     "name": "stdout",
     "output_type": "stream",
     "text": [
      "2018-03-19 14:20:06.293059 EDT | fitting baseline...\n",
      "2018-03-19 14:20:06.312789 EDT | fitted\n",
      "2018-03-19 14:20:06.691891 EDT | computing loss before\n",
      "2018-03-19 14:20:06.882005 EDT | performing update\n",
      "2018-03-19 14:20:06.884859 EDT | computing descent direction\n",
      "2018-03-19 14:20:12.656482 EDT | descent direction computed\n",
      "2018-03-19 14:20:13.201334 EDT | backtrack iters: 0\n",
      "2018-03-19 14:20:13.204365 EDT | computing loss after\n",
      "2018-03-19 14:20:13.206676 EDT | optimization finished\n",
      "2018-03-19 14:20:13.585018 EDT | Advers Reward: -1396.4899391922256\n",
      "2018-03-19 14:20:31.829960 EDT | \n",
      "\n",
      "Experiment: 0 Iteration: 196\n",
      "\n",
      "2018-03-19 14:20:31.831559 EDT | itr #0 | \n"
     ]
    },
    {
     "name": "stderr",
     "output_type": "stream",
     "text": [
      "0% [##############################] 100% | ETA: 00:00:00\n",
      "Total time elapsed: 00:00:06\n"
     ]
    },
    {
     "name": "stdout",
     "output_type": "stream",
     "text": [
      "2018-03-19 14:20:38.929918 EDT | fitting baseline...\n",
      "2018-03-19 14:20:38.956058 EDT | fitted\n",
      "2018-03-19 14:20:39.349055 EDT | computing loss before\n",
      "2018-03-19 14:20:39.559777 EDT | performing update\n",
      "2018-03-19 14:20:39.561146 EDT | computing descent direction\n",
      "2018-03-19 14:20:44.738264 EDT | descent direction computed\n",
      "2018-03-19 14:20:45.118015 EDT | backtrack iters: 1\n",
      "2018-03-19 14:20:45.119287 EDT | computing loss after\n",
      "2018-03-19 14:20:45.120248 EDT | optimization finished\n",
      "2018-03-19 14:20:45.600469 EDT | Protag Reward: 1395.3964837809888\n",
      "2018-03-19 14:20:45.603391 EDT | itr #0 | \n"
     ]
    },
    {
     "name": "stderr",
     "output_type": "stream",
     "text": [
      "0% [##############################] 100% | ETA: 00:00:00\n",
      "Total time elapsed: 00:00:07\n"
     ]
    },
    {
     "name": "stdout",
     "output_type": "stream",
     "text": [
      "2018-03-19 14:20:53.369465 EDT | fitting baseline...\n",
      "2018-03-19 14:20:53.391879 EDT | fitted\n",
      "2018-03-19 14:20:53.847329 EDT | computing loss before\n",
      "2018-03-19 14:20:54.359236 EDT | performing update\n",
      "2018-03-19 14:20:54.362423 EDT | computing descent direction\n",
      "2018-03-19 14:20:59.800364 EDT | descent direction computed\n",
      "2018-03-19 14:21:00.252403 EDT | backtrack iters: 1\n",
      "2018-03-19 14:21:00.253624 EDT | computing loss after\n",
      "2018-03-19 14:21:00.254550 EDT | optimization finished\n",
      "2018-03-19 14:21:00.604511 EDT | Advers Reward: -1490.499188132637\n",
      "2018-03-19 14:21:11.530509 EDT | \n",
      "\n",
      "Experiment: 0 Iteration: 197\n",
      "\n",
      "2018-03-19 14:21:11.531774 EDT | itr #0 | \n"
     ]
    },
    {
     "name": "stderr",
     "output_type": "stream",
     "text": [
      "0% [##############################] 100% | ETA: 00:00:00\n",
      "Total time elapsed: 00:00:06\n"
     ]
    },
    {
     "name": "stdout",
     "output_type": "stream",
     "text": [
      "2018-03-19 14:21:19.300447 EDT | fitting baseline...\n",
      "2018-03-19 14:21:19.373742 EDT | fitted\n",
      "2018-03-19 14:21:19.939957 EDT | computing loss before\n",
      "2018-03-19 14:21:20.138493 EDT | performing update\n",
      "2018-03-19 14:21:20.140693 EDT | computing descent direction\n",
      "2018-03-19 14:21:24.993746 EDT | descent direction computed\n",
      "2018-03-19 14:21:25.365547 EDT | backtrack iters: 1\n",
      "2018-03-19 14:21:25.368580 EDT | computing loss after\n",
      "2018-03-19 14:21:25.371280 EDT | optimization finished\n",
      "2018-03-19 14:21:25.732533 EDT | Protag Reward: 1602.2244818167155\n",
      "2018-03-19 14:21:25.735719 EDT | itr #0 | \n"
     ]
    },
    {
     "name": "stderr",
     "output_type": "stream",
     "text": [
      "0% [##############################] 100% | ETA: 00:00:00\n",
      "Total time elapsed: 00:00:07\n"
     ]
    },
    {
     "name": "stdout",
     "output_type": "stream",
     "text": [
      "2018-03-19 14:21:33.801910 EDT | fitting baseline...\n",
      "2018-03-19 14:21:33.823555 EDT | fitted\n",
      "2018-03-19 14:21:34.221508 EDT | computing loss before\n",
      "2018-03-19 14:21:34.407058 EDT | performing update\n",
      "2018-03-19 14:21:34.410039 EDT | computing descent direction\n",
      "2018-03-19 14:21:38.966270 EDT | descent direction computed\n",
      "2018-03-19 14:21:39.165369 EDT | backtrack iters: 0\n",
      "2018-03-19 14:21:39.167967 EDT | computing loss after\n",
      "2018-03-19 14:21:39.169096 EDT | optimization finished\n",
      "2018-03-19 14:21:39.793689 EDT | Advers Reward: -1477.4778616723963\n",
      "2018-03-19 14:21:56.932609 EDT | \n",
      "\n",
      "Experiment: 0 Iteration: 198\n",
      "\n",
      "2018-03-19 14:21:56.934115 EDT | itr #0 | \n"
     ]
    },
    {
     "name": "stderr",
     "output_type": "stream",
     "text": [
      "0% [##############################] 100% | ETA: 00:00:00\n",
      "Total time elapsed: 00:00:06\n"
     ]
    },
    {
     "name": "stdout",
     "output_type": "stream",
     "text": [
      "2018-03-19 14:22:03.971800 EDT | fitting baseline...\n",
      "2018-03-19 14:22:03.992496 EDT | fitted\n",
      "2018-03-19 14:22:04.367629 EDT | computing loss before\n",
      "2018-03-19 14:22:04.562294 EDT | performing update\n",
      "2018-03-19 14:22:04.565166 EDT | computing descent direction\n",
      "2018-03-19 14:22:09.311856 EDT | descent direction computed\n",
      "2018-03-19 14:22:10.018645 EDT | backtrack iters: 1\n",
      "2018-03-19 14:22:10.021293 EDT | computing loss after\n",
      "2018-03-19 14:22:10.024570 EDT | optimization finished\n",
      "2018-03-19 14:22:11.034867 EDT | Protag Reward: 1397.6577311366275\n",
      "2018-03-19 14:22:11.037877 EDT | itr #0 | \n"
     ]
    },
    {
     "name": "stderr",
     "output_type": "stream",
     "text": [
      "0% [##############################] 100% | ETA: 00:00:00\n",
      "Total time elapsed: 00:00:06\n"
     ]
    },
    {
     "name": "stdout",
     "output_type": "stream",
     "text": [
      "2018-03-19 14:22:18.275209 EDT | fitting baseline...\n",
      "2018-03-19 14:22:18.297290 EDT | fitted\n",
      "2018-03-19 14:22:18.667452 EDT | computing loss before\n",
      "2018-03-19 14:22:18.955527 EDT | performing update\n",
      "2018-03-19 14:22:18.958820 EDT | computing descent direction\n",
      "2018-03-19 14:22:24.395500 EDT | descent direction computed\n",
      "2018-03-19 14:22:24.925530 EDT | backtrack iters: 0\n",
      "2018-03-19 14:22:24.928054 EDT | computing loss after\n",
      "2018-03-19 14:22:24.931526 EDT | optimization finished\n",
      "2018-03-19 14:22:25.327681 EDT | Advers Reward: -1628.594049224893\n",
      "2018-03-19 14:22:41.530996 EDT | \n",
      "\n",
      "Experiment: 0 Iteration: 199\n",
      "\n",
      "2018-03-19 14:22:41.532140 EDT | itr #0 | \n"
     ]
    },
    {
     "name": "stderr",
     "output_type": "stream",
     "text": [
      "0% [##############################] 100% | ETA: 00:00:00\n",
      "Total time elapsed: 00:00:06\n"
     ]
    },
    {
     "name": "stdout",
     "output_type": "stream",
     "text": [
      "2018-03-19 14:22:48.007025 EDT | fitting baseline...\n",
      "2018-03-19 14:22:48.028255 EDT | fitted\n",
      "2018-03-19 14:22:48.410195 EDT | computing loss before\n",
      "2018-03-19 14:22:48.600546 EDT | performing update\n",
      "2018-03-19 14:22:48.603438 EDT | computing descent direction\n",
      "2018-03-19 14:22:53.794444 EDT | descent direction computed\n",
      "2018-03-19 14:22:54.098901 EDT | backtrack iters: 0\n",
      "2018-03-19 14:22:54.100743 EDT | computing loss after\n",
      "2018-03-19 14:22:54.102568 EDT | optimization finished\n",
      "2018-03-19 14:22:54.691945 EDT | Protag Reward: 1544.3653323335013\n",
      "2018-03-19 14:22:54.693667 EDT | itr #0 | \n"
     ]
    },
    {
     "name": "stderr",
     "output_type": "stream",
     "text": [
      "0% [##############################] 100% | ETA: 00:00:00\n",
      "Total time elapsed: 00:00:07\n"
     ]
    },
    {
     "name": "stdout",
     "output_type": "stream",
     "text": [
      "2018-03-19 14:23:03.510610 EDT | fitting baseline...\n",
      "2018-03-19 14:23:03.542334 EDT | fitted\n",
      "2018-03-19 14:23:03.911379 EDT | computing loss before\n",
      "2018-03-19 14:23:04.108047 EDT | performing update\n",
      "2018-03-19 14:23:04.109330 EDT | computing descent direction\n",
      "2018-03-19 14:23:08.729721 EDT | descent direction computed\n",
      "2018-03-19 14:23:08.929898 EDT | backtrack iters: 0\n",
      "2018-03-19 14:23:08.931081 EDT | computing loss after\n",
      "2018-03-19 14:23:08.932156 EDT | optimization finished\n",
      "2018-03-19 14:23:09.294882 EDT | Advers Reward: -1429.2653850231102\n",
      "2018-03-19 14:23:29.560452 EDT | \n",
      "\n",
      "Experiment: 0 Iteration: 200\n",
      "\n",
      "2018-03-19 14:23:29.561751 EDT | itr #0 | \n"
     ]
    },
    {
     "name": "stderr",
     "output_type": "stream",
     "text": [
      "0% [##############################] 100% | ETA: 00:00:00\n",
      "Total time elapsed: 00:00:06\n"
     ]
    },
    {
     "name": "stdout",
     "output_type": "stream",
     "text": [
      "2018-03-19 14:23:37.603401 EDT | fitting baseline...\n",
      "2018-03-19 14:23:37.680315 EDT | fitted\n",
      "2018-03-19 14:23:38.088273 EDT | computing loss before\n",
      "2018-03-19 14:23:38.284119 EDT | performing update\n",
      "2018-03-19 14:23:38.285255 EDT | computing descent direction\n",
      "2018-03-19 14:23:43.152549 EDT | descent direction computed\n",
      "2018-03-19 14:23:43.342202 EDT | backtrack iters: 0\n",
      "2018-03-19 14:23:43.345074 EDT | computing loss after\n",
      "2018-03-19 14:23:43.347816 EDT | optimization finished\n",
      "2018-03-19 14:23:43.742887 EDT | Protag Reward: 1479.1674579378068\n",
      "2018-03-19 14:23:43.744219 EDT | itr #0 | \n"
     ]
    },
    {
     "name": "stderr",
     "output_type": "stream",
     "text": [
      "0% [##############################] 100% | ETA: 00:00:00\n",
      "Total time elapsed: 00:00:07\n"
     ]
    },
    {
     "name": "stdout",
     "output_type": "stream",
     "text": [
      "2018-03-19 14:23:51.797171 EDT | fitting baseline...\n",
      "2018-03-19 14:23:51.844953 EDT | fitted\n",
      "2018-03-19 14:23:52.382309 EDT | computing loss before\n",
      "2018-03-19 14:23:52.877922 EDT | performing update\n",
      "2018-03-19 14:23:52.881021 EDT | computing descent direction\n",
      "2018-03-19 14:23:57.376394 EDT | descent direction computed\n",
      "2018-03-19 14:23:57.996785 EDT | backtrack iters: 1\n",
      "2018-03-19 14:23:57.998249 EDT | computing loss after\n",
      "2018-03-19 14:23:57.999635 EDT | optimization finished\n",
      "2018-03-19 14:23:58.579451 EDT | Advers Reward: -1456.225013330813\n",
      "2018-03-19 14:24:15.248960 EDT | \n",
      "\n",
      "Experiment: 0 Iteration: 201\n",
      "\n",
      "2018-03-19 14:24:15.250038 EDT | itr #0 | \n"
     ]
    },
    {
     "name": "stderr",
     "output_type": "stream",
     "text": [
      "0% [##############################] 100% | ETA: 00:00:00\n",
      "Total time elapsed: 00:00:06\n"
     ]
    },
    {
     "name": "stdout",
     "output_type": "stream",
     "text": [
      "2018-03-19 14:24:22.166334 EDT | fitting baseline...\n",
      "2018-03-19 14:24:22.189411 EDT | fitted\n",
      "2018-03-19 14:24:23.185594 EDT | computing loss before\n",
      "2018-03-19 14:24:23.691032 EDT | performing update\n",
      "2018-03-19 14:24:23.693757 EDT | computing descent direction\n",
      "2018-03-19 14:24:28.801934 EDT | descent direction computed\n",
      "2018-03-19 14:24:28.985865 EDT | backtrack iters: 0\n",
      "2018-03-19 14:24:28.988824 EDT | computing loss after\n",
      "2018-03-19 14:24:28.991392 EDT | optimization finished\n",
      "2018-03-19 14:24:29.345139 EDT | Protag Reward: 1348.8060162032602\n",
      "2018-03-19 14:24:29.346194 EDT | itr #0 | \n"
     ]
    },
    {
     "name": "stderr",
     "output_type": "stream",
     "text": [
      "0% [##############################] 100% | ETA: 00:00:00\n",
      "Total time elapsed: 00:00:06\n"
     ]
    },
    {
     "name": "stdout",
     "output_type": "stream",
     "text": [
      "2018-03-19 14:24:35.852716 EDT | fitting baseline...\n",
      "2018-03-19 14:24:35.874967 EDT | fitted\n",
      "2018-03-19 14:24:36.246006 EDT | computing loss before\n",
      "2018-03-19 14:24:36.427472 EDT | performing update\n",
      "2018-03-19 14:24:36.430403 EDT | computing descent direction\n",
      "2018-03-19 14:24:41.018993 EDT | descent direction computed\n",
      "2018-03-19 14:24:41.209416 EDT | backtrack iters: 0\n",
      "2018-03-19 14:24:41.212207 EDT | computing loss after\n",
      "2018-03-19 14:24:41.214970 EDT | optimization finished\n",
      "2018-03-19 14:24:41.557916 EDT | Advers Reward: -1585.3450932643725\n",
      "2018-03-19 14:24:58.105806 EDT | \n",
      "\n",
      "Experiment: 0 Iteration: 202\n",
      "\n",
      "2018-03-19 14:24:58.107077 EDT | itr #0 | \n"
     ]
    },
    {
     "name": "stderr",
     "output_type": "stream",
     "text": [
      "0% [##############################] 100% | ETA: 00:00:00\n",
      "Total time elapsed: 00:00:07\n"
     ]
    },
    {
     "name": "stdout",
     "output_type": "stream",
     "text": [
      "2018-03-19 14:25:06.127218 EDT | fitting baseline...\n",
      "2018-03-19 14:25:06.146487 EDT | fitted\n",
      "2018-03-19 14:25:06.520690 EDT | computing loss before\n",
      "2018-03-19 14:25:06.714169 EDT | performing update\n",
      "2018-03-19 14:25:06.717091 EDT | computing descent direction\n",
      "2018-03-19 14:25:11.543954 EDT | descent direction computed\n",
      "2018-03-19 14:25:11.741563 EDT | backtrack iters: 0\n",
      "2018-03-19 14:25:11.744644 EDT | computing loss after\n",
      "2018-03-19 14:25:11.747852 EDT | optimization finished\n",
      "2018-03-19 14:25:12.182636 EDT | Protag Reward: 1437.6731126931597\n",
      "2018-03-19 14:25:12.186099 EDT | itr #0 | \n"
     ]
    },
    {
     "name": "stderr",
     "output_type": "stream",
     "text": [
      "0% [##############################] 100% | ETA: 00:00:00\n",
      "Total time elapsed: 00:00:07\n"
     ]
    },
    {
     "name": "stdout",
     "output_type": "stream",
     "text": [
      "2018-03-19 14:25:20.524130 EDT | fitting baseline...\n",
      "2018-03-19 14:25:20.629963 EDT | fitted\n",
      "2018-03-19 14:25:21.679820 EDT | computing loss before\n",
      "2018-03-19 14:25:22.174194 EDT | performing update\n",
      "2018-03-19 14:25:22.177258 EDT | computing descent direction\n",
      "2018-03-19 14:25:27.048186 EDT | descent direction computed\n",
      "2018-03-19 14:25:27.238626 EDT | backtrack iters: 0\n",
      "2018-03-19 14:25:27.239898 EDT | computing loss after\n",
      "2018-03-19 14:25:27.240852 EDT | optimization finished\n",
      "2018-03-19 14:25:27.664464 EDT | Advers Reward: -1288.9401756807308\n",
      "2018-03-19 14:25:45.006550 EDT | \n",
      "\n",
      "Experiment: 0 Iteration: 203\n",
      "\n",
      "2018-03-19 14:25:45.008656 EDT | itr #0 | \n"
     ]
    },
    {
     "name": "stderr",
     "output_type": "stream",
     "text": [
      "0% [##############################] 100% | ETA: 00:00:00"
     ]
    },
    {
     "name": "stdout",
     "output_type": "stream",
     "text": [
      "2018-03-19 14:25:54.346346 EDT | fitting baseline...\n"
     ]
    },
    {
     "name": "stderr",
     "output_type": "stream",
     "text": [
      "\n",
      "Total time elapsed: 00:00:09\n"
     ]
    },
    {
     "name": "stdout",
     "output_type": "stream",
     "text": [
      "2018-03-19 14:25:54.369488 EDT | fitted\n",
      "2018-03-19 14:25:54.806603 EDT | computing loss before\n",
      "2018-03-19 14:25:55.002708 EDT | performing update\n",
      "2018-03-19 14:25:55.005765 EDT | computing descent direction\n",
      "2018-03-19 14:26:01.164882 EDT | descent direction computed\n",
      "2018-03-19 14:26:02.018559 EDT | backtrack iters: 1\n",
      "2018-03-19 14:26:02.019675 EDT | computing loss after\n",
      "2018-03-19 14:26:02.020533 EDT | optimization finished\n",
      "2018-03-19 14:26:02.405517 EDT | Protag Reward: 1446.0444809725589\n",
      "2018-03-19 14:26:02.406783 EDT | itr #0 | \n"
     ]
    },
    {
     "name": "stderr",
     "output_type": "stream",
     "text": [
      "0% [##############################] 100% | ETA: 00:00:00\n",
      "Total time elapsed: 00:00:07\n"
     ]
    },
    {
     "name": "stdout",
     "output_type": "stream",
     "text": [
      "2018-03-19 14:26:10.558742 EDT | fitting baseline...\n",
      "2018-03-19 14:26:10.580103 EDT | fitted\n",
      "2018-03-19 14:26:10.963529 EDT | computing loss before\n",
      "2018-03-19 14:26:11.156053 EDT | performing update\n",
      "2018-03-19 14:26:11.157219 EDT | computing descent direction\n",
      "2018-03-19 14:26:15.858024 EDT | descent direction computed\n",
      "2018-03-19 14:26:16.226035 EDT | backtrack iters: 1\n",
      "2018-03-19 14:26:16.227176 EDT | computing loss after\n",
      "2018-03-19 14:26:16.228133 EDT | optimization finished\n",
      "2018-03-19 14:26:16.979683 EDT | Advers Reward: -1269.138324477086\n",
      "2018-03-19 14:26:30.337538 EDT | \n",
      "\n",
      "Experiment: 0 Iteration: 204\n",
      "\n",
      "2018-03-19 14:26:30.338808 EDT | itr #0 | \n"
     ]
    },
    {
     "name": "stderr",
     "output_type": "stream",
     "text": [
      "0% [##############################] 100% | ETA: 00:00:00\n",
      "Total time elapsed: 00:00:06\n"
     ]
    },
    {
     "name": "stdout",
     "output_type": "stream",
     "text": [
      "2018-03-19 14:26:37.600209 EDT | fitting baseline...\n",
      "2018-03-19 14:26:37.622295 EDT | fitted\n",
      "2018-03-19 14:26:38.130497 EDT | computing loss before\n",
      "2018-03-19 14:26:38.360547 EDT | performing update\n",
      "2018-03-19 14:26:38.361838 EDT | computing descent direction\n",
      "2018-03-19 14:26:42.604111 EDT | descent direction computed\n",
      "2018-03-19 14:26:43.047081 EDT | backtrack iters: 1\n",
      "2018-03-19 14:26:43.048494 EDT | computing loss after\n",
      "2018-03-19 14:26:43.049814 EDT | optimization finished\n",
      "2018-03-19 14:26:43.492865 EDT | Protag Reward: 1369.7584149963684\n",
      "2018-03-19 14:26:43.494011 EDT | itr #0 | \n"
     ]
    },
    {
     "name": "stderr",
     "output_type": "stream",
     "text": [
      "0% [##############################] 100% | ETA: 00:00:00\n",
      "Total time elapsed: 00:00:05\n"
     ]
    },
    {
     "name": "stdout",
     "output_type": "stream",
     "text": [
      "2018-03-19 14:26:49.799231 EDT | fitting baseline...\n",
      "2018-03-19 14:26:49.819181 EDT | fitted\n",
      "2018-03-19 14:26:50.296742 EDT | computing loss before\n",
      "2018-03-19 14:26:50.524091 EDT | performing update\n",
      "2018-03-19 14:26:50.525367 EDT | computing descent direction\n",
      "2018-03-19 14:26:54.484383 EDT | descent direction computed\n",
      "2018-03-19 14:26:54.716591 EDT | backtrack iters: 0\n",
      "2018-03-19 14:26:54.717807 EDT | computing loss after\n",
      "2018-03-19 14:26:54.718780 EDT | optimization finished\n",
      "2018-03-19 14:26:55.117193 EDT | Advers Reward: -1616.4264404545809\n",
      "2018-03-19 14:27:12.516872 EDT | \n",
      "\n",
      "Experiment: 0 Iteration: 205\n",
      "\n",
      "2018-03-19 14:27:12.518523 EDT | itr #0 | \n"
     ]
    },
    {
     "name": "stderr",
     "output_type": "stream",
     "text": [
      "0% [##############################] 100% | ETA: 00:00:00\n",
      "Total time elapsed: 00:00:06\n"
     ]
    },
    {
     "name": "stdout",
     "output_type": "stream",
     "text": [
      "2018-03-19 14:27:20.143188 EDT | fitting baseline...\n",
      "2018-03-19 14:27:20.210359 EDT | fitted\n",
      "2018-03-19 14:27:20.939719 EDT | computing loss before\n",
      "2018-03-19 14:27:21.126085 EDT | performing update\n",
      "2018-03-19 14:27:21.128986 EDT | computing descent direction\n",
      "2018-03-19 14:27:25.935615 EDT | descent direction computed\n",
      "2018-03-19 14:27:26.293155 EDT | backtrack iters: 1\n",
      "2018-03-19 14:27:26.295981 EDT | computing loss after\n",
      "2018-03-19 14:27:26.298611 EDT | optimization finished\n",
      "2018-03-19 14:27:26.658735 EDT | Protag Reward: 1513.0860851136208\n",
      "2018-03-19 14:27:26.661719 EDT | itr #0 | \n"
     ]
    },
    {
     "name": "stderr",
     "output_type": "stream",
     "text": [
      "0% [##############################] 100% | ETA: 00:00:00\n",
      "Total time elapsed: 00:00:07\n"
     ]
    },
    {
     "name": "stdout",
     "output_type": "stream",
     "text": [
      "2018-03-19 14:27:34.347564 EDT | fitting baseline...\n",
      "2018-03-19 14:27:34.392606 EDT | fitted\n",
      "2018-03-19 14:27:34.786943 EDT | computing loss before\n",
      "2018-03-19 14:27:34.964682 EDT | performing update\n",
      "2018-03-19 14:27:34.967594 EDT | computing descent direction\n",
      "2018-03-19 14:27:39.632534 EDT | descent direction computed\n",
      "2018-03-19 14:27:39.866367 EDT | backtrack iters: 0\n",
      "2018-03-19 14:27:39.875614 EDT | computing loss after\n",
      "2018-03-19 14:27:39.876670 EDT | optimization finished\n",
      "2018-03-19 14:27:40.278320 EDT | Advers Reward: -1332.1252558928654\n",
      "2018-03-19 14:27:55.737379 EDT | \n",
      "\n",
      "Experiment: 0 Iteration: 206\n",
      "\n",
      "2018-03-19 14:27:55.738898 EDT | itr #0 | \n"
     ]
    },
    {
     "name": "stderr",
     "output_type": "stream",
     "text": [
      "0% [##############################] 100% | ETA: 00:00:00\n",
      "Total time elapsed: 00:00:07\n"
     ]
    },
    {
     "name": "stdout",
     "output_type": "stream",
     "text": [
      "2018-03-19 14:28:03.691886 EDT | fitting baseline...\n",
      "2018-03-19 14:28:03.710088 EDT | fitted\n",
      "2018-03-19 14:28:04.112984 EDT | computing loss before\n",
      "2018-03-19 14:28:04.306507 EDT | performing update\n",
      "2018-03-19 14:28:04.309403 EDT | computing descent direction\n",
      "2018-03-19 14:28:09.072612 EDT | descent direction computed\n",
      "2018-03-19 14:28:09.433913 EDT | backtrack iters: 1\n",
      "2018-03-19 14:28:09.435010 EDT | computing loss after\n",
      "2018-03-19 14:28:09.436086 EDT | optimization finished\n",
      "2018-03-19 14:28:10.334780 EDT | Protag Reward: 1323.865763553918\n",
      "2018-03-19 14:28:10.338085 EDT | itr #0 | \n"
     ]
    },
    {
     "name": "stderr",
     "output_type": "stream",
     "text": [
      "0% [##############################] 100% | ETA: 00:00:00\n",
      "Total time elapsed: 00:00:07\n"
     ]
    },
    {
     "name": "stdout",
     "output_type": "stream",
     "text": [
      "2018-03-19 14:28:18.036488 EDT | fitting baseline...\n",
      "2018-03-19 14:28:18.058944 EDT | fitted\n",
      "2018-03-19 14:28:18.430314 EDT | computing loss before\n",
      "2018-03-19 14:28:18.627342 EDT | performing update\n",
      "2018-03-19 14:28:18.630823 EDT | computing descent direction\n",
      "2018-03-19 14:28:23.742551 EDT | descent direction computed\n",
      "2018-03-19 14:28:24.275046 EDT | backtrack iters: 0\n",
      "2018-03-19 14:28:24.277532 EDT | computing loss after\n",
      "2018-03-19 14:28:24.281287 EDT | optimization finished\n",
      "2018-03-19 14:28:25.151963 EDT | Advers Reward: -1436.1551460478588\n",
      "2018-03-19 14:28:41.507555 EDT | \n",
      "\n",
      "Experiment: 0 Iteration: 207\n",
      "\n",
      "2018-03-19 14:28:41.509146 EDT | itr #0 | \n"
     ]
    },
    {
     "name": "stderr",
     "output_type": "stream",
     "text": [
      "0% [##############################] 100% | ETA: 00:00:00\n",
      "Total time elapsed: 00:00:06\n"
     ]
    },
    {
     "name": "stdout",
     "output_type": "stream",
     "text": [
      "2018-03-19 14:28:48.559662 EDT | fitting baseline...\n",
      "2018-03-19 14:28:48.579744 EDT | fitted\n",
      "2018-03-19 14:28:48.988829 EDT | computing loss before\n",
      "2018-03-19 14:28:49.191743 EDT | performing update\n",
      "2018-03-19 14:28:49.194611 EDT | computing descent direction\n",
      "2018-03-19 14:28:54.063504 EDT | descent direction computed\n",
      "2018-03-19 14:28:54.512431 EDT | backtrack iters: 0\n",
      "2018-03-19 14:28:54.515066 EDT | computing loss after\n",
      "2018-03-19 14:28:54.518179 EDT | optimization finished\n",
      "2018-03-19 14:28:55.548645 EDT | Protag Reward: 1528.8511185349835\n",
      "2018-03-19 14:28:55.552134 EDT | itr #0 | \n"
     ]
    },
    {
     "name": "stderr",
     "output_type": "stream",
     "text": [
      "0% [##############################] 100% | ETA: 00:00:00\n",
      "Total time elapsed: 00:00:06\n"
     ]
    },
    {
     "name": "stdout",
     "output_type": "stream",
     "text": [
      "2018-03-19 14:29:02.370037 EDT | fitting baseline...\n",
      "2018-03-19 14:29:02.391487 EDT | fitted\n",
      "2018-03-19 14:29:03.388411 EDT | computing loss before\n",
      "2018-03-19 14:29:03.896133 EDT | performing update\n",
      "2018-03-19 14:29:03.899007 EDT | computing descent direction\n",
      "2018-03-19 14:29:08.938293 EDT | descent direction computed\n",
      "2018-03-19 14:29:09.129489 EDT | backtrack iters: 0\n",
      "2018-03-19 14:29:09.132292 EDT | computing loss after\n",
      "2018-03-19 14:29:09.134871 EDT | optimization finished\n",
      "2018-03-19 14:29:09.498074 EDT | Advers Reward: -1555.0673047000403\n",
      "2018-03-19 14:29:28.702253 EDT | \n",
      "\n",
      "Experiment: 0 Iteration: 208\n",
      "\n",
      "2018-03-19 14:29:28.706648 EDT | itr #0 | \n"
     ]
    },
    {
     "name": "stderr",
     "output_type": "stream",
     "text": [
      "0% [##############################] 100% | ETA: 00:00:00\n",
      "Total time elapsed: 00:00:05\n"
     ]
    },
    {
     "name": "stdout",
     "output_type": "stream",
     "text": [
      "2018-03-19 14:29:35.171480 EDT | fitting baseline...\n",
      "2018-03-19 14:29:35.198359 EDT | fitted\n",
      "2018-03-19 14:29:35.712415 EDT | computing loss before\n",
      "2018-03-19 14:29:36.007671 EDT | performing update\n",
      "2018-03-19 14:29:36.009203 EDT | computing descent direction\n",
      "2018-03-19 14:29:40.684660 EDT | descent direction computed\n",
      "2018-03-19 14:29:41.488200 EDT | backtrack iters: 1\n",
      "2018-03-19 14:29:41.490670 EDT | computing loss after\n",
      "2018-03-19 14:29:41.493484 EDT | optimization finished\n",
      "2018-03-19 14:29:42.499875 EDT | Protag Reward: 1614.9905890146874\n",
      "2018-03-19 14:29:42.503213 EDT | itr #0 | \n"
     ]
    },
    {
     "name": "stderr",
     "output_type": "stream",
     "text": [
      "0% [##############################] 100% | ETA: 00:00:00"
     ]
    },
    {
     "name": "stdout",
     "output_type": "stream",
     "text": [
      "2018-03-19 14:29:49.116237 EDT | fitting baseline...\n"
     ]
    },
    {
     "name": "stderr",
     "output_type": "stream",
     "text": [
      "\n",
      "Total time elapsed: 00:00:06\n"
     ]
    },
    {
     "name": "stdout",
     "output_type": "stream",
     "text": [
      "2018-03-19 14:29:49.209607 EDT | fitted\n",
      "2018-03-19 14:29:50.256784 EDT | computing loss before\n",
      "2018-03-19 14:29:50.761578 EDT | performing update\n",
      "2018-03-19 14:29:50.764104 EDT | computing descent direction\n",
      "2018-03-19 14:29:55.585206 EDT | descent direction computed\n",
      "2018-03-19 14:29:55.932234 EDT | backtrack iters: 1\n",
      "2018-03-19 14:29:55.933418 EDT | computing loss after\n",
      "2018-03-19 14:29:55.934369 EDT | optimization finished\n",
      "2018-03-19 14:29:56.266293 EDT | Advers Reward: -1381.338062895182\n",
      "2018-03-19 14:30:12.568570 EDT | \n",
      "\n",
      "Experiment: 0 Iteration: 209\n",
      "\n",
      "2018-03-19 14:30:12.569857 EDT | itr #0 | \n"
     ]
    },
    {
     "name": "stderr",
     "output_type": "stream",
     "text": [
      "0% [##############################] 100% | ETA: 00:00:00\n",
      "Total time elapsed: 00:00:06\n"
     ]
    },
    {
     "name": "stdout",
     "output_type": "stream",
     "text": [
      "2018-03-19 14:30:19.114965 EDT | fitting baseline...\n",
      "2018-03-19 14:30:19.137394 EDT | fitted\n",
      "2018-03-19 14:30:19.512754 EDT | computing loss before\n",
      "2018-03-19 14:30:19.702584 EDT | performing update\n",
      "2018-03-19 14:30:19.705431 EDT | computing descent direction\n",
      "2018-03-19 14:30:24.544189 EDT | descent direction computed\n",
      "2018-03-19 14:30:24.919826 EDT | backtrack iters: 1\n",
      "2018-03-19 14:30:24.921060 EDT | computing loss after\n",
      "2018-03-19 14:30:24.922013 EDT | optimization finished\n",
      "2018-03-19 14:30:25.301778 EDT | Protag Reward: 1452.3350030635513\n",
      "2018-03-19 14:30:25.319681 EDT | itr #0 | \n"
     ]
    },
    {
     "name": "stderr",
     "output_type": "stream",
     "text": [
      "0% [##############################] 100% | ETA: 00:00:00"
     ]
    },
    {
     "name": "stdout",
     "output_type": "stream",
     "text": [
      "2018-03-19 14:30:33.328865 EDT | fitting baseline...\n"
     ]
    },
    {
     "name": "stderr",
     "output_type": "stream",
     "text": [
      "\n",
      "Total time elapsed: 00:00:07\n"
     ]
    },
    {
     "name": "stdout",
     "output_type": "stream",
     "text": [
      "2018-03-19 14:30:33.354568 EDT | fitted\n",
      "2018-03-19 14:30:33.780120 EDT | computing loss before\n",
      "2018-03-19 14:30:33.966690 EDT | performing update\n",
      "2018-03-19 14:30:33.969729 EDT | computing descent direction\n",
      "2018-03-19 14:30:38.592338 EDT | descent direction computed\n",
      "2018-03-19 14:30:38.977218 EDT | backtrack iters: 1\n",
      "2018-03-19 14:30:38.979754 EDT | computing loss after\n",
      "2018-03-19 14:30:38.982838 EDT | optimization finished\n",
      "2018-03-19 14:30:39.962969 EDT | Advers Reward: -1539.007328036339\n",
      "2018-03-19 14:30:59.324516 EDT | \n",
      "\n",
      "Experiment: 0 Iteration: 210\n",
      "\n",
      "2018-03-19 14:30:59.326215 EDT | itr #0 | \n"
     ]
    },
    {
     "name": "stderr",
     "output_type": "stream",
     "text": [
      "0% [##############################] 100% | ETA: 00:00:00\n",
      "Total time elapsed: 00:00:06\n"
     ]
    },
    {
     "name": "stdout",
     "output_type": "stream",
     "text": [
      "2018-03-19 14:31:06.149503 EDT | fitting baseline...\n",
      "2018-03-19 14:31:06.186857 EDT | fitted\n",
      "2018-03-19 14:31:06.856334 EDT | computing loss before\n",
      "2018-03-19 14:31:07.034640 EDT | performing update\n",
      "2018-03-19 14:31:07.037538 EDT | computing descent direction\n",
      "2018-03-19 14:31:11.939787 EDT | descent direction computed\n",
      "2018-03-19 14:31:12.308321 EDT | backtrack iters: 1\n",
      "2018-03-19 14:31:12.309438 EDT | computing loss after\n",
      "2018-03-19 14:31:12.310463 EDT | optimization finished\n",
      "2018-03-19 14:31:12.683533 EDT | Protag Reward: 1435.8725816578697\n",
      "2018-03-19 14:31:12.686578 EDT | itr #0 | \n"
     ]
    },
    {
     "name": "stderr",
     "output_type": "stream",
     "text": [
      "0% [##############################] 100% | ETA: 00:00:00\n",
      "Total time elapsed: 00:00:07\n"
     ]
    },
    {
     "name": "stdout",
     "output_type": "stream",
     "text": [
      "2018-03-19 14:31:20.989987 EDT | fitting baseline...\n",
      "2018-03-19 14:31:21.012207 EDT | fitted\n",
      "2018-03-19 14:31:21.391378 EDT | computing loss before\n",
      "2018-03-19 14:31:21.590319 EDT | performing update\n",
      "2018-03-19 14:31:21.592641 EDT | computing descent direction\n",
      "2018-03-19 14:31:26.300124 EDT | descent direction computed\n",
      "2018-03-19 14:31:26.668245 EDT | backtrack iters: 1\n",
      "2018-03-19 14:31:26.669411 EDT | computing loss after\n",
      "2018-03-19 14:31:26.670344 EDT | optimization finished\n",
      "2018-03-19 14:31:27.701299 EDT | Advers Reward: -1359.037262984954\n",
      "2018-03-19 14:31:47.072930 EDT | \n",
      "\n",
      "Experiment: 0 Iteration: 211\n",
      "\n",
      "2018-03-19 14:31:47.074257 EDT | itr #0 | \n"
     ]
    },
    {
     "name": "stderr",
     "output_type": "stream",
     "text": [
      "0% [##############################] 100% | ETA: 00:00:00\n",
      "Total time elapsed: 00:00:06\n"
     ]
    },
    {
     "name": "stdout",
     "output_type": "stream",
     "text": [
      "2018-03-19 14:31:53.853569 EDT | fitting baseline...\n",
      "2018-03-19 14:31:53.924300 EDT | fitted\n",
      "2018-03-19 14:31:55.054378 EDT | computing loss before\n",
      "2018-03-19 14:31:55.571248 EDT | performing update\n",
      "2018-03-19 14:31:55.573791 EDT | computing descent direction\n",
      "2018-03-19 14:32:00.533186 EDT | descent direction computed\n",
      "2018-03-19 14:32:00.901074 EDT | backtrack iters: 1\n",
      "2018-03-19 14:32:00.902265 EDT | computing loss after\n",
      "2018-03-19 14:32:00.903203 EDT | optimization finished\n",
      "2018-03-19 14:32:01.272100 EDT | Protag Reward: 1478.9750140073163\n",
      "2018-03-19 14:32:01.273427 EDT | itr #0 | \n"
     ]
    },
    {
     "name": "stderr",
     "output_type": "stream",
     "text": [
      "0% [##############################] 100% | ETA: 00:00:00\n",
      "Total time elapsed: 00:00:07\n"
     ]
    },
    {
     "name": "stdout",
     "output_type": "stream",
     "text": [
      "2018-03-19 14:32:09.475893 EDT | fitting baseline...\n",
      "2018-03-19 14:32:09.494721 EDT | fitted\n",
      "2018-03-19 14:32:09.869378 EDT | computing loss before\n",
      "2018-03-19 14:32:10.057796 EDT | performing update\n",
      "2018-03-19 14:32:10.060831 EDT | computing descent direction\n",
      "2018-03-19 14:32:15.156377 EDT | descent direction computed\n",
      "2018-03-19 14:32:15.366398 EDT | backtrack iters: 0\n",
      "2018-03-19 14:32:15.369376 EDT | computing loss after\n",
      "2018-03-19 14:32:15.372265 EDT | optimization finished\n",
      "2018-03-19 14:32:16.366372 EDT | Advers Reward: -1634.7195988102303\n",
      "2018-03-19 14:32:35.467847 EDT | \n",
      "\n",
      "Experiment: 0 Iteration: 212\n",
      "\n",
      "2018-03-19 14:32:35.469362 EDT | itr #0 | \n"
     ]
    },
    {
     "name": "stderr",
     "output_type": "stream",
     "text": [
      "0% [##############################] 100% | ETA: 00:00:00\n",
      "Total time elapsed: 00:00:07\n"
     ]
    },
    {
     "name": "stdout",
     "output_type": "stream",
     "text": [
      "2018-03-19 14:32:43.405659 EDT | fitting baseline...\n",
      "2018-03-19 14:32:43.424688 EDT | fitted\n",
      "2018-03-19 14:32:43.827483 EDT | computing loss before\n",
      "2018-03-19 14:32:44.006038 EDT | performing update\n",
      "2018-03-19 14:32:44.008879 EDT | computing descent direction\n",
      "2018-03-19 14:32:48.819911 EDT | descent direction computed\n",
      "2018-03-19 14:32:49.193529 EDT | backtrack iters: 1\n",
      "2018-03-19 14:32:49.194675 EDT | computing loss after\n",
      "2018-03-19 14:32:49.195702 EDT | optimization finished\n",
      "2018-03-19 14:32:49.573830 EDT | Protag Reward: 1774.5884979084312\n",
      "2018-03-19 14:32:49.575144 EDT | itr #0 | \n"
     ]
    },
    {
     "name": "stderr",
     "output_type": "stream",
     "text": [
      "0% [##############################] 100% | ETA: 00:00:00"
     ]
    },
    {
     "name": "stdout",
     "output_type": "stream",
     "text": [
      "2018-03-19 14:32:57.282128 EDT | fitting baseline...\n",
      "2018-03-19 14:32:57.313385 EDT | fitted\n"
     ]
    },
    {
     "name": "stderr",
     "output_type": "stream",
     "text": [
      "\n",
      "Total time elapsed: 00:00:07\n"
     ]
    },
    {
     "name": "stdout",
     "output_type": "stream",
     "text": [
      "2018-03-19 14:32:57.722729 EDT | computing loss before\n",
      "2018-03-19 14:32:57.913191 EDT | performing update\n",
      "2018-03-19 14:32:57.916084 EDT | computing descent direction\n",
      "2018-03-19 14:33:03.356924 EDT | descent direction computed\n",
      "2018-03-19 14:33:03.886136 EDT | backtrack iters: 0\n",
      "2018-03-19 14:33:03.888650 EDT | computing loss after\n",
      "2018-03-19 14:33:03.891724 EDT | optimization finished\n",
      "2018-03-19 14:33:04.436895 EDT | Advers Reward: -1498.081059519944\n",
      "2018-03-19 14:33:23.790048 EDT | \n",
      "\n",
      "Experiment: 0 Iteration: 213\n",
      "\n",
      "2018-03-19 14:33:23.794206 EDT | itr #0 | \n"
     ]
    },
    {
     "name": "stderr",
     "output_type": "stream",
     "text": [
      "0% [##############################] 100% | ETA: 00:00:00\n",
      "Total time elapsed: 00:00:07\n"
     ]
    },
    {
     "name": "stdout",
     "output_type": "stream",
     "text": [
      "2018-03-19 14:33:31.595660 EDT | fitting baseline...\n",
      "2018-03-19 14:33:31.617239 EDT | fitted\n",
      "2018-03-19 14:33:32.009280 EDT | computing loss before\n",
      "2018-03-19 14:33:32.189270 EDT | performing update\n",
      "2018-03-19 14:33:32.192276 EDT | computing descent direction\n",
      "2018-03-19 14:33:37.070623 EDT | descent direction computed\n",
      "2018-03-19 14:33:37.272801 EDT | backtrack iters: 0\n",
      "2018-03-19 14:33:37.275636 EDT | computing loss after\n",
      "2018-03-19 14:33:37.278281 EDT | optimization finished\n",
      "2018-03-19 14:33:38.071240 EDT | Protag Reward: 1643.5079928709297\n",
      "2018-03-19 14:33:38.074070 EDT | itr #0 | \n"
     ]
    },
    {
     "name": "stderr",
     "output_type": "stream",
     "text": [
      "0% [##############################] 100% | ETA: 00:00:00\n",
      "Total time elapsed: 00:00:07\n"
     ]
    },
    {
     "name": "stdout",
     "output_type": "stream",
     "text": [
      "2018-03-19 14:33:46.021928 EDT | fitting baseline...\n",
      "2018-03-19 14:33:46.044588 EDT | fitted\n",
      "2018-03-19 14:33:46.434945 EDT | computing loss before\n",
      "2018-03-19 14:33:46.627452 EDT | performing update\n",
      "2018-03-19 14:33:46.633516 EDT | computing descent direction\n",
      "2018-03-19 14:33:51.363630 EDT | descent direction computed\n",
      "2018-03-19 14:33:51.567312 EDT | backtrack iters: 0\n",
      "2018-03-19 14:33:51.570263 EDT | computing loss after\n",
      "2018-03-19 14:33:51.573347 EDT | optimization finished\n",
      "2018-03-19 14:33:51.933398 EDT | Advers Reward: -1518.7450949603144\n",
      "2018-03-19 14:34:05.278240 EDT | \n",
      "\n",
      "Experiment: 0 Iteration: 214\n",
      "\n",
      "2018-03-19 14:34:05.279511 EDT | itr #0 | \n"
     ]
    },
    {
     "name": "stderr",
     "output_type": "stream",
     "text": [
      "0% [##############################] 100% | ETA: 00:00:00\n",
      "Total time elapsed: 00:00:07\n"
     ]
    },
    {
     "name": "stdout",
     "output_type": "stream",
     "text": [
      "2018-03-19 14:34:13.447948 EDT | fitting baseline...\n",
      "2018-03-19 14:34:13.483564 EDT | fitted\n",
      "2018-03-19 14:34:14.168945 EDT | computing loss before\n",
      "2018-03-19 14:34:14.469262 EDT | performing update\n",
      "2018-03-19 14:34:14.470879 EDT | computing descent direction\n",
      "2018-03-19 14:34:18.260607 EDT | descent direction computed\n",
      "2018-03-19 14:34:19.241148 EDT | backtrack iters: 1\n",
      "2018-03-19 14:34:19.244225 EDT | computing loss after\n",
      "2018-03-19 14:34:19.246728 EDT | optimization finished\n",
      "2018-03-19 14:34:20.055627 EDT | Protag Reward: 1519.9670769913366\n",
      "2018-03-19 14:34:20.056869 EDT | itr #0 | \n"
     ]
    },
    {
     "name": "stderr",
     "output_type": "stream",
     "text": [
      "0% [##############################] 100% | ETA: 00:00:00\n",
      "Total time elapsed: 00:00:05\n"
     ]
    },
    {
     "name": "stdout",
     "output_type": "stream",
     "text": [
      "2018-03-19 14:34:26.309303 EDT | fitting baseline...\n",
      "2018-03-19 14:34:26.392117 EDT | fitted\n",
      "2018-03-19 14:34:27.413051 EDT | computing loss before\n",
      "2018-03-19 14:34:27.894720 EDT | performing update\n",
      "2018-03-19 14:34:27.897897 EDT | computing descent direction\n",
      "2018-03-19 14:34:32.667630 EDT | descent direction computed\n",
      "2018-03-19 14:34:33.014821 EDT | backtrack iters: 1\n",
      "2018-03-19 14:34:33.015902 EDT | computing loss after\n",
      "2018-03-19 14:34:33.016896 EDT | optimization finished\n",
      "2018-03-19 14:34:33.366275 EDT | Advers Reward: -1668.6368645699763\n",
      "2018-03-19 14:34:52.029558 EDT | \n",
      "\n",
      "Experiment: 0 Iteration: 215\n",
      "\n",
      "2018-03-19 14:34:52.030782 EDT | itr #0 | \n"
     ]
    },
    {
     "name": "stderr",
     "output_type": "stream",
     "text": [
      "0% [##############################] 100% | ETA: 00:00:00\n",
      "Total time elapsed: 00:00:06\n"
     ]
    },
    {
     "name": "stdout",
     "output_type": "stream",
     "text": [
      "2018-03-19 14:34:59.245668 EDT | fitting baseline...\n",
      "2018-03-19 14:34:59.269941 EDT | fitted\n",
      "2018-03-19 14:34:59.735237 EDT | computing loss before\n",
      "2018-03-19 14:34:59.965280 EDT | performing update\n",
      "2018-03-19 14:34:59.966396 EDT | computing descent direction\n",
      "2018-03-19 14:35:04.513984 EDT | descent direction computed\n",
      "2018-03-19 14:35:04.870320 EDT | backtrack iters: 1\n",
      "2018-03-19 14:35:04.871531 EDT | computing loss after\n",
      "2018-03-19 14:35:04.876440 EDT | optimization finished\n",
      "2018-03-19 14:35:05.209681 EDT | Protag Reward: 1624.4473764270112\n",
      "2018-03-19 14:35:05.210885 EDT | itr #0 | \n"
     ]
    },
    {
     "name": "stderr",
     "output_type": "stream",
     "text": [
      "0% [##############################] 100% | ETA: 00:00:00\n",
      "Total time elapsed: 00:00:07\n"
     ]
    },
    {
     "name": "stdout",
     "output_type": "stream",
     "text": [
      "2018-03-19 14:35:12.962745 EDT | fitting baseline...\n",
      "2018-03-19 14:35:12.992167 EDT | fitted\n",
      "2018-03-19 14:35:13.404931 EDT | computing loss before\n",
      "2018-03-19 14:35:13.577495 EDT | performing update\n",
      "2018-03-19 14:35:13.580454 EDT | computing descent direction\n",
      "2018-03-19 14:35:18.303020 EDT | descent direction computed\n",
      "2018-03-19 14:35:18.486387 EDT | backtrack iters: 0\n",
      "2018-03-19 14:35:18.487543 EDT | computing loss after\n",
      "2018-03-19 14:35:18.489039 EDT | optimization finished\n",
      "2018-03-19 14:35:18.842015 EDT | Advers Reward: -1559.0429827857686\n",
      "2018-03-19 14:35:38.914096 EDT | \n",
      "\n",
      "Experiment: 0 Iteration: 216\n",
      "\n",
      "2018-03-19 14:35:38.915529 EDT | itr #0 | \n"
     ]
    },
    {
     "name": "stderr",
     "output_type": "stream",
     "text": [
      "0% [##############################] 100% | ETA: 00:00:00\n",
      "Total time elapsed: 00:00:05\n"
     ]
    },
    {
     "name": "stdout",
     "output_type": "stream",
     "text": [
      "2018-03-19 14:35:45.391618 EDT | fitting baseline...\n",
      "2018-03-19 14:35:45.455483 EDT | fitted\n",
      "2018-03-19 14:35:46.109628 EDT | computing loss before\n",
      "2018-03-19 14:35:46.431530 EDT | performing update\n",
      "2018-03-19 14:35:46.432875 EDT | computing descent direction\n",
      "2018-03-19 14:35:51.650675 EDT | descent direction computed\n",
      "2018-03-19 14:35:52.007208 EDT | backtrack iters: 1\n",
      "2018-03-19 14:35:52.008443 EDT | computing loss after\n",
      "2018-03-19 14:35:52.009403 EDT | optimization finished\n",
      "2018-03-19 14:35:52.406980 EDT | Protag Reward: 1505.2437846603075\n",
      "2018-03-19 14:35:52.410014 EDT | itr #0 | \n"
     ]
    },
    {
     "name": "stderr",
     "output_type": "stream",
     "text": [
      "0% [##############################] 100% | ETA: 00:00:00\n",
      "Total time elapsed: 00:00:07\n"
     ]
    },
    {
     "name": "stdout",
     "output_type": "stream",
     "text": [
      "2018-03-19 14:36:00.909483 EDT | fitting baseline...\n",
      "2018-03-19 14:36:00.929548 EDT | fitted\n",
      "2018-03-19 14:36:01.349535 EDT | computing loss before\n",
      "2018-03-19 14:36:01.541397 EDT | performing update\n",
      "2018-03-19 14:36:01.542576 EDT | computing descent direction\n",
      "2018-03-19 14:36:06.785623 EDT | descent direction computed\n",
      "2018-03-19 14:36:07.865308 EDT | backtrack iters: 1\n",
      "2018-03-19 14:36:07.869435 EDT | computing loss after\n",
      "2018-03-19 14:36:07.873412 EDT | optimization finished\n",
      "2018-03-19 14:36:08.915193 EDT | Advers Reward: -1506.8918577633633\n",
      "2018-03-19 14:36:27.348439 EDT | \n",
      "\n",
      "Experiment: 0 Iteration: 217\n",
      "\n",
      "2018-03-19 14:36:27.352534 EDT | itr #0 | \n"
     ]
    },
    {
     "name": "stderr",
     "output_type": "stream",
     "text": [
      "0% [##############################] 100% | ETA: 00:00:00\n",
      "Total time elapsed: 00:00:06\n"
     ]
    },
    {
     "name": "stdout",
     "output_type": "stream",
     "text": [
      "2018-03-19 14:36:33.923845 EDT | fitting baseline...\n",
      "2018-03-19 14:36:33.996970 EDT | fitted\n",
      "2018-03-19 14:36:35.067542 EDT | computing loss before\n",
      "2018-03-19 14:36:35.577117 EDT | performing update\n",
      "2018-03-19 14:36:35.579665 EDT | computing descent direction\n",
      "2018-03-19 14:36:40.556793 EDT | descent direction computed\n",
      "2018-03-19 14:36:40.919153 EDT | backtrack iters: 1\n",
      "2018-03-19 14:36:40.920366 EDT | computing loss after\n",
      "2018-03-19 14:36:40.921328 EDT | optimization finished\n",
      "2018-03-19 14:36:41.274740 EDT | Protag Reward: 1491.6827592594723\n",
      "2018-03-19 14:36:41.276086 EDT | itr #0 | \n"
     ]
    },
    {
     "name": "stderr",
     "output_type": "stream",
     "text": [
      "0% [##############################] 100% | ETA: 00:00:00\n",
      "Total time elapsed: 00:00:07\n"
     ]
    },
    {
     "name": "stdout",
     "output_type": "stream",
     "text": [
      "2018-03-19 14:36:49.426773 EDT | fitting baseline...\n",
      "2018-03-19 14:36:49.484082 EDT | fitted\n",
      "2018-03-19 14:36:49.872520 EDT | computing loss before\n",
      "2018-03-19 14:36:50.074300 EDT | performing update\n",
      "2018-03-19 14:36:50.077427 EDT | computing descent direction\n",
      "2018-03-19 14:36:54.778579 EDT | descent direction computed\n",
      "2018-03-19 14:36:55.158543 EDT | backtrack iters: 1\n",
      "2018-03-19 14:36:55.159820 EDT | computing loss after\n",
      "2018-03-19 14:36:55.160996 EDT | optimization finished\n",
      "2018-03-19 14:36:55.553332 EDT | Advers Reward: -1562.5716884251524\n",
      "2018-03-19 14:37:15.404483 EDT | \n",
      "\n",
      "Experiment: 0 Iteration: 218\n",
      "\n",
      "2018-03-19 14:37:15.406111 EDT | itr #0 | \n"
     ]
    },
    {
     "name": "stderr",
     "output_type": "stream",
     "text": [
      "0% [##############################] 100% | ETA: 00:00:00\n",
      "Total time elapsed: 00:00:07\n"
     ]
    },
    {
     "name": "stdout",
     "output_type": "stream",
     "text": [
      "2018-03-19 14:37:23.695505 EDT | fitting baseline...\n",
      "2018-03-19 14:37:23.714539 EDT | fitted\n",
      "2018-03-19 14:37:24.118634 EDT | computing loss before\n",
      "2018-03-19 14:37:24.290386 EDT | performing update\n",
      "2018-03-19 14:37:24.293407 EDT | computing descent direction\n",
      "2018-03-19 14:37:29.175773 EDT | descent direction computed\n",
      "2018-03-19 14:37:29.547359 EDT | backtrack iters: 1\n",
      "2018-03-19 14:37:29.548593 EDT | computing loss after\n",
      "2018-03-19 14:37:29.549724 EDT | optimization finished\n",
      "2018-03-19 14:37:30.082736 EDT | Protag Reward: 1468.4401415138673\n",
      "2018-03-19 14:37:30.085939 EDT | itr #0 | \n"
     ]
    },
    {
     "name": "stderr",
     "output_type": "stream",
     "text": [
      "0% [##############################] 100% | ETA: 00:00:00\n",
      "Total time elapsed: 00:00:07\n"
     ]
    },
    {
     "name": "stdout",
     "output_type": "stream",
     "text": [
      "2018-03-19 14:37:38.045497 EDT | fitting baseline...\n",
      "2018-03-19 14:37:38.067276 EDT | fitted\n",
      "2018-03-19 14:37:39.026911 EDT | computing loss before\n",
      "2018-03-19 14:37:39.527506 EDT | performing update\n",
      "2018-03-19 14:37:39.530601 EDT | computing descent direction\n",
      "2018-03-19 14:37:44.553356 EDT | descent direction computed\n",
      "2018-03-19 14:37:44.895996 EDT | backtrack iters: 1\n",
      "2018-03-19 14:37:44.897193 EDT | computing loss after\n",
      "2018-03-19 14:37:44.898145 EDT | optimization finished\n",
      "2018-03-19 14:37:45.243589 EDT | Advers Reward: -1443.163675472179\n",
      "2018-03-19 14:37:57.100845 EDT | \n",
      "\n",
      "Experiment: 0 Iteration: 219\n",
      "\n",
      "2018-03-19 14:37:57.102275 EDT | itr #0 | \n"
     ]
    },
    {
     "name": "stderr",
     "output_type": "stream",
     "text": [
      "0% [##############################] 100% | ETA: 00:00:00\n",
      "Total time elapsed: 00:00:06\n"
     ]
    },
    {
     "name": "stdout",
     "output_type": "stream",
     "text": [
      "2018-03-19 14:38:05.198773 EDT | fitting baseline...\n",
      "2018-03-19 14:38:05.217680 EDT | fitted\n",
      "2018-03-19 14:38:05.600967 EDT | computing loss before\n",
      "2018-03-19 14:38:05.794753 EDT | performing update\n",
      "2018-03-19 14:38:05.797769 EDT | computing descent direction\n",
      "2018-03-19 14:38:10.796616 EDT | descent direction computed\n",
      "2018-03-19 14:38:10.979585 EDT | backtrack iters: 0\n",
      "2018-03-19 14:38:10.980815 EDT | computing loss after\n",
      "2018-03-19 14:38:10.981781 EDT | optimization finished\n",
      "2018-03-19 14:38:11.422281 EDT | Protag Reward: 1588.652667478334\n",
      "2018-03-19 14:38:11.425959 EDT | itr #0 | \n"
     ]
    },
    {
     "name": "stderr",
     "output_type": "stream",
     "text": [
      "0% [##############################] 100% | ETA: 00:00:00\n",
      "Total time elapsed: 00:00:07\n"
     ]
    },
    {
     "name": "stdout",
     "output_type": "stream",
     "text": [
      "2018-03-19 14:38:19.557516 EDT | fitting baseline...\n",
      "2018-03-19 14:38:19.582634 EDT | fitted\n",
      "2018-03-19 14:38:19.958029 EDT | computing loss before\n",
      "2018-03-19 14:38:20.154843 EDT | performing update\n",
      "2018-03-19 14:38:20.156104 EDT | computing descent direction\n",
      "2018-03-19 14:38:24.813219 EDT | descent direction computed\n",
      "2018-03-19 14:38:25.009637 EDT | backtrack iters: 0\n",
      "2018-03-19 14:38:25.012603 EDT | computing loss after\n",
      "2018-03-19 14:38:25.018528 EDT | optimization finished\n",
      "2018-03-19 14:38:25.356510 EDT | Advers Reward: -1330.3007231877657\n",
      "2018-03-19 14:38:43.487902 EDT | \n",
      "\n",
      "Experiment: 0 Iteration: 220\n",
      "\n",
      "2018-03-19 14:38:43.489212 EDT | itr #0 | \n"
     ]
    },
    {
     "name": "stderr",
     "output_type": "stream",
     "text": [
      "0% [##############################] 100% | ETA: 00:00:00\n",
      "Total time elapsed: 00:00:07\n"
     ]
    },
    {
     "name": "stdout",
     "output_type": "stream",
     "text": [
      "2018-03-19 14:38:51.557934 EDT | fitting baseline...\n",
      "2018-03-19 14:38:51.586108 EDT | fitted\n",
      "2018-03-19 14:38:52.403998 EDT | computing loss before\n",
      "2018-03-19 14:38:52.904975 EDT | performing update\n",
      "2018-03-19 14:38:52.907538 EDT | computing descent direction\n",
      "2018-03-19 14:38:58.418854 EDT | descent direction computed\n",
      "2018-03-19 14:38:58.611636 EDT | backtrack iters: 0\n",
      "2018-03-19 14:38:58.614508 EDT | computing loss after\n",
      "2018-03-19 14:38:58.617262 EDT | optimization finished\n",
      "2018-03-19 14:38:59.000973 EDT | Protag Reward: 1565.0802084182637\n",
      "2018-03-19 14:38:59.003901 EDT | itr #0 | \n"
     ]
    },
    {
     "name": "stderr",
     "output_type": "stream",
     "text": [
      "0% [##############################] 100% | ETA: 00:00:00\n",
      "Total time elapsed: 00:00:06\n"
     ]
    },
    {
     "name": "stdout",
     "output_type": "stream",
     "text": [
      "2018-03-19 14:39:06.244964 EDT | fitting baseline...\n",
      "2018-03-19 14:39:06.282256 EDT | fitted\n",
      "2018-03-19 14:39:06.917983 EDT | computing loss before\n",
      "2018-03-19 14:39:07.208693 EDT | performing update\n",
      "2018-03-19 14:39:07.210098 EDT | computing descent direction\n",
      "2018-03-19 14:39:12.832529 EDT | descent direction computed\n",
      "2018-03-19 14:39:13.181664 EDT | backtrack iters: 0\n",
      "2018-03-19 14:39:13.183977 EDT | computing loss after\n",
      "2018-03-19 14:39:13.185405 EDT | optimization finished\n",
      "2018-03-19 14:39:13.793588 EDT | Advers Reward: -1393.1455341978185\n",
      "2018-03-19 14:39:31.013249 EDT | \n",
      "\n",
      "Experiment: 0 Iteration: 221\n",
      "\n",
      "2018-03-19 14:39:31.014312 EDT | itr #0 | \n"
     ]
    },
    {
     "name": "stderr",
     "output_type": "stream",
     "text": [
      "0% [##############################] 100% | ETA: 00:00:00"
     ]
    },
    {
     "name": "stdout",
     "output_type": "stream",
     "text": [
      "2018-03-19 14:39:39.907946 EDT | fitting baseline...\n",
      "2018-03-19 14:39:39.935441 EDT | fitted\n"
     ]
    },
    {
     "name": "stderr",
     "output_type": "stream",
     "text": [
      "\n",
      "Total time elapsed: 00:00:08\n"
     ]
    },
    {
     "name": "stdout",
     "output_type": "stream",
     "text": [
      "2018-03-19 14:39:40.318405 EDT | computing loss before\n",
      "2018-03-19 14:39:40.503767 EDT | performing update\n",
      "2018-03-19 14:39:40.506719 EDT | computing descent direction\n",
      "2018-03-19 14:39:45.368539 EDT | descent direction computed\n",
      "2018-03-19 14:39:45.739565 EDT | backtrack iters: 1\n",
      "2018-03-19 14:39:45.740793 EDT | computing loss after\n",
      "2018-03-19 14:39:45.741891 EDT | optimization finished\n",
      "2018-03-19 14:39:46.811813 EDT | Protag Reward: 1398.9911793861888\n",
      "2018-03-19 14:39:46.814991 EDT | itr #0 | \n"
     ]
    },
    {
     "name": "stderr",
     "output_type": "stream",
     "text": [
      "0% [##############################] 100% | ETA: 00:00:00\n",
      "Total time elapsed: 00:00:06\n"
     ]
    },
    {
     "name": "stdout",
     "output_type": "stream",
     "text": [
      "2018-03-19 14:39:55.027699 EDT | fitting baseline...\n",
      "2018-03-19 14:39:55.136821 EDT | fitted\n",
      "2018-03-19 14:39:56.147629 EDT | computing loss before\n",
      "2018-03-19 14:39:56.319449 EDT | performing update\n",
      "2018-03-19 14:39:56.322265 EDT | computing descent direction\n",
      "2018-03-19 14:40:01.024356 EDT | descent direction computed\n",
      "2018-03-19 14:40:01.218449 EDT | backtrack iters: 0\n",
      "2018-03-19 14:40:01.221323 EDT | computing loss after\n",
      "2018-03-19 14:40:01.224881 EDT | optimization finished\n",
      "2018-03-19 14:40:01.578249 EDT | Advers Reward: -1429.026842380781\n",
      "2018-03-19 14:40:22.561124 EDT | \n",
      "\n",
      "Experiment: 0 Iteration: 222\n",
      "\n",
      "2018-03-19 14:40:22.562359 EDT | itr #0 | \n"
     ]
    },
    {
     "name": "stderr",
     "output_type": "stream",
     "text": [
      "0% [##############################] 100% | ETA: 00:00:00\n",
      "Total time elapsed: 00:00:06\n"
     ]
    },
    {
     "name": "stdout",
     "output_type": "stream",
     "text": [
      "2018-03-19 14:40:29.182141 EDT | fitting baseline...\n",
      "2018-03-19 14:40:29.204479 EDT | fitted\n",
      "2018-03-19 14:40:30.110183 EDT | computing loss before\n",
      "2018-03-19 14:40:30.608337 EDT | performing update\n",
      "2018-03-19 14:40:30.610858 EDT | computing descent direction\n",
      "2018-03-19 14:40:36.231971 EDT | descent direction computed\n",
      "2018-03-19 14:40:36.598166 EDT | backtrack iters: 1\n",
      "2018-03-19 14:40:36.599376 EDT | computing loss after\n",
      "2018-03-19 14:40:36.600294 EDT | optimization finished\n",
      "2018-03-19 14:40:36.968923 EDT | Protag Reward: 1489.0960213257122\n",
      "2018-03-19 14:40:36.970265 EDT | itr #0 | \n"
     ]
    },
    {
     "name": "stderr",
     "output_type": "stream",
     "text": [
      "0% [##############################] 100% | ETA: 00:00:00\n",
      "Total time elapsed: 00:00:07\n"
     ]
    },
    {
     "name": "stdout",
     "output_type": "stream",
     "text": [
      "2018-03-19 14:40:45.194051 EDT | fitting baseline...\n",
      "2018-03-19 14:40:45.216016 EDT | fitted\n",
      "2018-03-19 14:40:45.597745 EDT | computing loss before\n",
      "2018-03-19 14:40:45.774539 EDT | performing update\n",
      "2018-03-19 14:40:45.777429 EDT | computing descent direction\n",
      "2018-03-19 14:40:50.540591 EDT | descent direction computed\n",
      "2018-03-19 14:40:50.736156 EDT | backtrack iters: 0\n",
      "2018-03-19 14:40:50.737297 EDT | computing loss after\n",
      "2018-03-19 14:40:50.738240 EDT | optimization finished\n",
      "2018-03-19 14:40:51.105839 EDT | Advers Reward: -1342.2324034263595\n",
      "2018-03-19 14:41:08.981907 EDT | \n",
      "\n",
      "Experiment: 0 Iteration: 223\n",
      "\n",
      "2018-03-19 14:41:08.983317 EDT | itr #0 | \n"
     ]
    },
    {
     "name": "stderr",
     "output_type": "stream",
     "text": [
      "0% [##############################] 100% | ETA: 00:00:00\n",
      "Total time elapsed: 00:00:06\n"
     ]
    },
    {
     "name": "stdout",
     "output_type": "stream",
     "text": [
      "2018-03-19 14:41:16.590256 EDT | fitting baseline...\n",
      "2018-03-19 14:41:16.665986 EDT | fitted\n",
      "2018-03-19 14:41:17.301616 EDT | computing loss before\n",
      "2018-03-19 14:41:17.494072 EDT | performing update\n",
      "2018-03-19 14:41:17.496986 EDT | computing descent direction\n",
      "2018-03-19 14:41:22.360421 EDT | descent direction computed\n",
      "2018-03-19 14:41:22.560091 EDT | backtrack iters: 0\n",
      "2018-03-19 14:41:22.565333 EDT | computing loss after\n",
      "2018-03-19 14:41:22.567915 EDT | optimization finished\n",
      "2018-03-19 14:41:22.939257 EDT | Protag Reward: 1607.6768924633927\n",
      "2018-03-19 14:41:22.940530 EDT | itr #0 | \n"
     ]
    },
    {
     "name": "stderr",
     "output_type": "stream",
     "text": [
      "0% [##############################] 100% | ETA: 00:00:00\n",
      "Total time elapsed: 00:00:07\n"
     ]
    },
    {
     "name": "stdout",
     "output_type": "stream",
     "text": [
      "2018-03-19 14:41:30.976980 EDT | fitting baseline...\n",
      "2018-03-19 14:41:30.998599 EDT | fitted\n",
      "2018-03-19 14:41:31.370951 EDT | computing loss before\n",
      "2018-03-19 14:41:31.563062 EDT | performing update\n",
      "2018-03-19 14:41:31.585575 EDT | computing descent direction\n",
      "2018-03-19 14:41:37.116098 EDT | descent direction computed\n",
      "2018-03-19 14:41:37.672637 EDT | backtrack iters: 0\n",
      "2018-03-19 14:41:37.676064 EDT | computing loss after\n",
      "2018-03-19 14:41:37.679358 EDT | optimization finished\n",
      "2018-03-19 14:41:38.098478 EDT | Advers Reward: -1546.5928519791325\n",
      "2018-03-19 14:41:56.481730 EDT | \n",
      "\n",
      "Experiment: 0 Iteration: 224\n",
      "\n",
      "2018-03-19 14:41:56.483223 EDT | itr #0 | \n"
     ]
    },
    {
     "name": "stderr",
     "output_type": "stream",
     "text": [
      "0% [##############################] 100% | ETA: 00:00:00\n",
      "Total time elapsed: 00:00:07\n"
     ]
    },
    {
     "name": "stdout",
     "output_type": "stream",
     "text": [
      "2018-03-19 14:42:04.310772 EDT | fitting baseline...\n",
      "2018-03-19 14:42:04.332010 EDT | fitted\n",
      "2018-03-19 14:42:04.723380 EDT | computing loss before\n",
      "2018-03-19 14:42:04.928241 EDT | performing update\n",
      "2018-03-19 14:42:04.930998 EDT | computing descent direction\n",
      "2018-03-19 14:42:09.853571 EDT | descent direction computed\n",
      "2018-03-19 14:42:10.158155 EDT | backtrack iters: 0\n",
      "2018-03-19 14:42:10.161566 EDT | computing loss after\n",
      "2018-03-19 14:42:10.165286 EDT | optimization finished\n",
      "2018-03-19 14:42:11.253553 EDT | Protag Reward: 1546.988082344817\n",
      "2018-03-19 14:42:11.257083 EDT | itr #0 | \n"
     ]
    },
    {
     "name": "stderr",
     "output_type": "stream",
     "text": [
      "0% [##############################] 100% | ETA: 00:00:00\n",
      "Total time elapsed: 00:00:07\n"
     ]
    },
    {
     "name": "stdout",
     "output_type": "stream",
     "text": [
      "2018-03-19 14:42:18.913127 EDT | fitting baseline...\n",
      "2018-03-19 14:42:18.935590 EDT | fitted\n",
      "2018-03-19 14:42:19.321547 EDT | computing loss before\n",
      "2018-03-19 14:42:19.862212 EDT | performing update\n",
      "2018-03-19 14:42:19.864758 EDT | computing descent direction\n",
      "2018-03-19 14:42:25.673733 EDT | descent direction computed\n",
      "2018-03-19 14:42:25.867323 EDT | backtrack iters: 0\n",
      "2018-03-19 14:42:25.870236 EDT | computing loss after\n",
      "2018-03-19 14:42:25.873095 EDT | optimization finished\n",
      "2018-03-19 14:42:26.260710 EDT | Advers Reward: -1604.9518561477219\n",
      "2018-03-19 14:42:46.458548 EDT | \n",
      "\n",
      "Experiment: 0 Iteration: 225\n",
      "\n",
      "2018-03-19 14:42:46.459892 EDT | itr #0 | \n"
     ]
    },
    {
     "name": "stderr",
     "output_type": "stream",
     "text": [
      "0% [##############################] 100% | ETA: 00:00:00\n",
      "Total time elapsed: 00:00:05\n"
     ]
    },
    {
     "name": "stdout",
     "output_type": "stream",
     "text": [
      "2018-03-19 14:42:52.394181 EDT | fitting baseline...\n",
      "2018-03-19 14:42:52.424383 EDT | fitted\n",
      "2018-03-19 14:42:53.092728 EDT | computing loss before\n",
      "2018-03-19 14:42:53.414584 EDT | performing update\n",
      "2018-03-19 14:42:53.416033 EDT | computing descent direction\n",
      "2018-03-19 14:42:58.224493 EDT | descent direction computed\n",
      "2018-03-19 14:42:59.289319 EDT | backtrack iters: 1\n",
      "2018-03-19 14:42:59.292237 EDT | computing loss after\n",
      "2018-03-19 14:42:59.296362 EDT | optimization finished\n",
      "2018-03-19 14:42:59.985231 EDT | Protag Reward: 1481.7993050083562\n",
      "2018-03-19 14:42:59.986538 EDT | itr #0 | \n"
     ]
    },
    {
     "name": "stderr",
     "output_type": "stream",
     "text": [
      "0% [##############################] 100% | ETA: 00:00:00\n",
      "Total time elapsed: 00:00:06\n"
     ]
    },
    {
     "name": "stdout",
     "output_type": "stream",
     "text": [
      "2018-03-19 14:43:08.122857 EDT | fitting baseline...\n",
      "2018-03-19 14:43:08.158116 EDT | fitted\n",
      "2018-03-19 14:43:08.515050 EDT | computing loss before\n",
      "2018-03-19 14:43:08.689265 EDT | performing update\n",
      "2018-03-19 14:43:08.690403 EDT | computing descent direction\n",
      "2018-03-19 14:43:13.301058 EDT | descent direction computed\n",
      "2018-03-19 14:43:13.496539 EDT | backtrack iters: 0\n",
      "2018-03-19 14:43:13.518538 EDT | computing loss after\n",
      "2018-03-19 14:43:13.521665 EDT | optimization finished\n",
      "2018-03-19 14:43:13.868645 EDT | Advers Reward: -1516.3598377561432\n",
      "2018-03-19 14:43:33.675869 EDT | \n",
      "\n",
      "Experiment: 0 Iteration: 226\n",
      "\n",
      "2018-03-19 14:43:33.677065 EDT | itr #0 | \n"
     ]
    },
    {
     "name": "stderr",
     "output_type": "stream",
     "text": [
      "0% [##############################] 100% | ETA: 00:00:00\n",
      "Total time elapsed: 00:00:06\n"
     ]
    },
    {
     "name": "stdout",
     "output_type": "stream",
     "text": [
      "2018-03-19 14:43:40.588207 EDT | fitting baseline...\n",
      "2018-03-19 14:43:40.615211 EDT | fitted\n",
      "2018-03-19 14:43:40.982936 EDT | computing loss before\n",
      "2018-03-19 14:43:41.163919 EDT | performing update\n",
      "2018-03-19 14:43:41.166934 EDT | computing descent direction\n",
      "2018-03-19 14:43:45.935608 EDT | descent direction computed\n",
      "2018-03-19 14:43:46.278929 EDT | backtrack iters: 1\n",
      "2018-03-19 14:43:46.281770 EDT | computing loss after\n",
      "2018-03-19 14:43:46.284458 EDT | optimization finished\n",
      "2018-03-19 14:43:46.999525 EDT | Protag Reward: 1450.0139094357871\n",
      "2018-03-19 14:43:47.002811 EDT | itr #0 | \n"
     ]
    },
    {
     "name": "stderr",
     "output_type": "stream",
     "text": [
      "0% [##############################] 100% | ETA: 00:00:00\n",
      "Total time elapsed: 00:00:07\n"
     ]
    },
    {
     "name": "stdout",
     "output_type": "stream",
     "text": [
      "2018-03-19 14:43:54.893400 EDT | fitting baseline...\n",
      "2018-03-19 14:43:54.914160 EDT | fitted\n",
      "2018-03-19 14:43:55.323975 EDT | computing loss before\n",
      "2018-03-19 14:43:55.520613 EDT | performing update\n",
      "2018-03-19 14:43:55.526444 EDT | computing descent direction\n",
      "2018-03-19 14:44:01.013175 EDT | descent direction computed\n",
      "2018-03-19 14:44:01.569796 EDT | backtrack iters: 0\n",
      "2018-03-19 14:44:01.572308 EDT | computing loss after\n",
      "2018-03-19 14:44:01.575373 EDT | optimization finished\n",
      "2018-03-19 14:44:02.233087 EDT | Advers Reward: -1562.9864133338574\n",
      "2018-03-19 14:44:18.370242 EDT | \n",
      "\n",
      "Experiment: 0 Iteration: 227\n",
      "\n",
      "2018-03-19 14:44:18.371844 EDT | itr #0 | \n"
     ]
    },
    {
     "name": "stderr",
     "output_type": "stream",
     "text": [
      "0% [##############################] 100% | ETA: 00:00:00\n",
      "Total time elapsed: 00:00:07\n"
     ]
    },
    {
     "name": "stdout",
     "output_type": "stream",
     "text": [
      "2018-03-19 14:44:26.019199 EDT | fitting baseline...\n",
      "2018-03-19 14:44:26.042827 EDT | fitted\n",
      "2018-03-19 14:44:26.450318 EDT | computing loss before\n",
      "2018-03-19 14:44:26.649864 EDT | performing update\n",
      "2018-03-19 14:44:26.655710 EDT | computing descent direction\n",
      "2018-03-19 14:44:31.764852 EDT | descent direction computed\n",
      "2018-03-19 14:44:32.162067 EDT | backtrack iters: 1\n",
      "2018-03-19 14:44:32.166821 EDT | computing loss after\n",
      "2018-03-19 14:44:32.169198 EDT | optimization finished\n",
      "2018-03-19 14:44:33.243237 EDT | Protag Reward: 1605.1271096433732\n",
      "2018-03-19 14:44:33.247882 EDT | itr #0 | \n"
     ]
    },
    {
     "name": "stderr",
     "output_type": "stream",
     "text": [
      "0% [##############################] 100% | ETA: 00:00:00\n",
      "Total time elapsed: 00:00:06\n"
     ]
    },
    {
     "name": "stdout",
     "output_type": "stream",
     "text": [
      "2018-03-19 14:44:40.072259 EDT | fitting baseline...\n",
      "2018-03-19 14:44:40.094093 EDT | fitted\n",
      "2018-03-19 14:44:40.547736 EDT | computing loss before\n",
      "2018-03-19 14:44:40.756579 EDT | performing update\n",
      "2018-03-19 14:44:40.757801 EDT | computing descent direction\n",
      "2018-03-19 14:44:50.129946 EDT | descent direction computed\n",
      "2018-03-19 14:44:50.339393 EDT | backtrack iters: 0\n",
      "2018-03-19 14:44:50.345009 EDT | computing loss after\n",
      "2018-03-19 14:44:50.346678 EDT | optimization finished\n",
      "2018-03-19 14:44:50.823650 EDT | Advers Reward: -1570.9991694330527\n",
      "2018-03-19 14:45:10.354859 EDT | \n",
      "\n",
      "Experiment: 0 Iteration: 228\n",
      "\n",
      "2018-03-19 14:45:10.356367 EDT | itr #0 | \n"
     ]
    },
    {
     "name": "stderr",
     "output_type": "stream",
     "text": [
      "0% [##############################] 100% | ETA: 00:00:00\n",
      "Total time elapsed: 00:00:05\n"
     ]
    },
    {
     "name": "stdout",
     "output_type": "stream",
     "text": [
      "2018-03-19 14:45:16.828438 EDT | fitting baseline...\n",
      "2018-03-19 14:45:16.901239 EDT | fitted\n",
      "2018-03-19 14:45:17.855203 EDT | computing loss before\n",
      "2018-03-19 14:45:18.023003 EDT | performing update\n",
      "2018-03-19 14:45:18.025913 EDT | computing descent direction\n",
      "2018-03-19 14:45:23.043329 EDT | descent direction computed\n",
      "2018-03-19 14:45:23.410413 EDT | backtrack iters: 1\n",
      "2018-03-19 14:45:23.411632 EDT | computing loss after\n",
      "2018-03-19 14:45:23.412772 EDT | optimization finished\n",
      "2018-03-19 14:45:23.776309 EDT | Protag Reward: 1315.1749837448272\n",
      "2018-03-19 14:45:23.777693 EDT | itr #0 | \n"
     ]
    },
    {
     "name": "stderr",
     "output_type": "stream",
     "text": [
      "0% [##############################] 100% | ETA: 00:00:00\n",
      "Total time elapsed: 00:00:09\n"
     ]
    },
    {
     "name": "stdout",
     "output_type": "stream",
     "text": [
      "2018-03-19 14:45:33.530309 EDT | fitting baseline...\n",
      "2018-03-19 14:45:33.553052 EDT | fitted\n",
      "2018-03-19 14:45:33.979739 EDT | computing loss before\n",
      "2018-03-19 14:45:34.152323 EDT | performing update\n",
      "2018-03-19 14:45:34.154059 EDT | computing descent direction\n",
      "2018-03-19 14:45:41.940312 EDT | descent direction computed\n",
      "2018-03-19 14:45:42.217106 EDT | backtrack iters: 0\n",
      "2018-03-19 14:45:42.217994 EDT | computing loss after\n",
      "2018-03-19 14:45:42.219033 EDT | optimization finished\n",
      "2018-03-19 14:45:42.580932 EDT | Advers Reward: -1406.61577784444\n",
      "2018-03-19 14:46:01.532807 EDT | \n",
      "\n",
      "Experiment: 0 Iteration: 229\n",
      "\n",
      "2018-03-19 14:46:01.534283 EDT | itr #0 | \n"
     ]
    },
    {
     "name": "stderr",
     "output_type": "stream",
     "text": [
      "0% [##############################] 100% | ETA: 00:00:00\n",
      "Total time elapsed: 00:00:07\n"
     ]
    },
    {
     "name": "stdout",
     "output_type": "stream",
     "text": [
      "2018-03-19 14:46:10.052998 EDT | fitting baseline...\n",
      "2018-03-19 14:46:10.142019 EDT | fitted\n",
      "2018-03-19 14:46:11.326260 EDT | computing loss before\n",
      "2018-03-19 14:46:11.502501 EDT | performing update\n",
      "2018-03-19 14:46:11.503628 EDT | computing descent direction\n",
      "2018-03-19 14:46:18.617410 EDT | descent direction computed\n",
      "2018-03-19 14:46:18.795745 EDT | backtrack iters: 0\n",
      "2018-03-19 14:46:18.798767 EDT | computing loss after\n",
      "2018-03-19 14:46:18.801460 EDT | optimization finished\n",
      "2018-03-19 14:46:19.183640 EDT | Protag Reward: 1294.5881061937991\n",
      "2018-03-19 14:46:19.186224 EDT | itr #0 | \n"
     ]
    },
    {
     "name": "stderr",
     "output_type": "stream",
     "text": [
      "0% [##############################] 100% | ETA: 00:00:00\n",
      "Total time elapsed: 00:00:09\n"
     ]
    },
    {
     "name": "stdout",
     "output_type": "stream",
     "text": [
      "2018-03-19 14:46:29.968069 EDT | fitting baseline...\n",
      "2018-03-19 14:46:30.039582 EDT | fitted\n",
      "2018-03-19 14:46:31.102319 EDT | computing loss before\n",
      "2018-03-19 14:46:31.366667 EDT | performing update\n",
      "2018-03-19 14:46:31.369330 EDT | computing descent direction\n",
      "2018-03-19 14:46:37.578589 EDT | descent direction computed\n",
      "2018-03-19 14:46:38.142532 EDT | backtrack iters: 0\n",
      "2018-03-19 14:46:38.145909 EDT | computing loss after\n",
      "2018-03-19 14:46:38.148806 EDT | optimization finished\n",
      "2018-03-19 14:46:39.190607 EDT | Advers Reward: -1473.6836388486745\n",
      "2018-03-19 14:46:57.135231 EDT | \n",
      "\n",
      "Experiment: 0 Iteration: 230\n",
      "\n",
      "2018-03-19 14:46:57.136417 EDT | itr #0 | \n"
     ]
    },
    {
     "name": "stderr",
     "output_type": "stream",
     "text": [
      "0% [##############################] 100% | ETA: 00:00:00\n",
      "Total time elapsed: 00:00:05\n"
     ]
    },
    {
     "name": "stdout",
     "output_type": "stream",
     "text": [
      "2018-03-19 14:47:03.301934 EDT | fitting baseline...\n",
      "2018-03-19 14:47:03.321405 EDT | fitted\n",
      "2018-03-19 14:47:03.738242 EDT | computing loss before\n",
      "2018-03-19 14:47:03.912728 EDT | performing update\n",
      "2018-03-19 14:47:03.915846 EDT | computing descent direction\n",
      "2018-03-19 14:47:09.448696 EDT | descent direction computed\n",
      "2018-03-19 14:47:10.383532 EDT | backtrack iters: 1\n",
      "2018-03-19 14:47:10.386985 EDT | computing loss after\n",
      "2018-03-19 14:47:10.388325 EDT | optimization finished\n",
      "2018-03-19 14:47:10.856196 EDT | Protag Reward: 1426.4696842047415\n",
      "2018-03-19 14:47:10.861893 EDT | itr #0 | \n"
     ]
    },
    {
     "name": "stderr",
     "output_type": "stream",
     "text": [
      "0% [##############################] 100% | ETA: 00:00:00\n",
      "Total time elapsed: 00:00:06\n"
     ]
    },
    {
     "name": "stdout",
     "output_type": "stream",
     "text": [
      "2018-03-19 14:47:17.765994 EDT | fitting baseline...\n",
      "2018-03-19 14:47:17.799625 EDT | fitted\n",
      "2018-03-19 14:47:18.237620 EDT | computing loss before\n",
      "2018-03-19 14:47:18.631355 EDT | performing update\n",
      "2018-03-19 14:47:18.637913 EDT | computing descent direction\n",
      "2018-03-19 14:47:24.650197 EDT | descent direction computed\n",
      "2018-03-19 14:47:24.823690 EDT | backtrack iters: 0\n",
      "2018-03-19 14:47:24.827928 EDT | computing loss after\n",
      "2018-03-19 14:47:24.828922 EDT | optimization finished\n",
      "2018-03-19 14:47:25.165899 EDT | Advers Reward: -1560.691144399417\n",
      "2018-03-19 14:47:45.847212 EDT | \n",
      "\n",
      "Experiment: 0 Iteration: 231\n",
      "\n",
      "2018-03-19 14:47:45.848360 EDT | itr #0 | \n"
     ]
    },
    {
     "name": "stderr",
     "output_type": "stream",
     "text": [
      "0% [##############################] 100% | ETA: 00:00:00\n",
      "Total time elapsed: 00:00:08\n"
     ]
    },
    {
     "name": "stdout",
     "output_type": "stream",
     "text": [
      "2018-03-19 14:47:55.726503 EDT | fitting baseline...\n",
      "2018-03-19 14:47:55.786679 EDT | fitted\n",
      "2018-03-19 14:47:56.312748 EDT | computing loss before\n",
      "2018-03-19 14:47:56.473915 EDT | performing update\n",
      "2018-03-19 14:47:56.475205 EDT | computing descent direction\n",
      "2018-03-19 14:48:02.065732 EDT | descent direction computed\n",
      "2018-03-19 14:48:02.448890 EDT | backtrack iters: 1\n",
      "2018-03-19 14:48:02.450034 EDT | computing loss after\n",
      "2018-03-19 14:48:02.450919 EDT | optimization finished\n",
      "2018-03-19 14:48:02.856851 EDT | Protag Reward: 1667.9996196180969\n",
      "2018-03-19 14:48:02.858057 EDT | itr #0 | \n"
     ]
    },
    {
     "name": "stderr",
     "output_type": "stream",
     "text": [
      "0% [##############################] 100% | ETA: 00:00:00\n",
      "Total time elapsed: 00:00:07\n"
     ]
    },
    {
     "name": "stdout",
     "output_type": "stream",
     "text": [
      "2018-03-19 14:48:11.464099 EDT | fitting baseline...\n",
      "2018-03-19 14:48:11.483789 EDT | fitted\n",
      "2018-03-19 14:48:11.939545 EDT | computing loss before\n",
      "2018-03-19 14:48:12.116740 EDT | performing update\n",
      "2018-03-19 14:48:12.128341 EDT | computing descent direction\n",
      "2018-03-19 14:48:17.497723 EDT | descent direction computed\n",
      "2018-03-19 14:48:17.989675 EDT | backtrack iters: 0\n",
      "2018-03-19 14:48:17.993046 EDT | computing loss after\n",
      "2018-03-19 14:48:17.996098 EDT | optimization finished\n",
      "2018-03-19 14:48:19.033703 EDT | Advers Reward: -1423.042528537654\n",
      "2018-03-19 14:48:34.585353 EDT | \n",
      "\n",
      "Experiment: 0 Iteration: 232\n",
      "\n",
      "2018-03-19 14:48:34.586715 EDT | itr #0 | \n"
     ]
    },
    {
     "name": "stderr",
     "output_type": "stream",
     "text": [
      "0% [##############################] 100% | ETA: 00:00:00\n",
      "Total time elapsed: 00:00:05\n"
     ]
    },
    {
     "name": "stdout",
     "output_type": "stream",
     "text": [
      "2018-03-19 14:48:40.451153 EDT | fitting baseline...\n",
      "2018-03-19 14:48:40.473479 EDT | fitted\n",
      "2018-03-19 14:48:40.845143 EDT | computing loss before\n",
      "2018-03-19 14:48:41.014128 EDT | performing update\n",
      "2018-03-19 14:48:41.016991 EDT | computing descent direction\n",
      "2018-03-19 14:48:46.274855 EDT | descent direction computed\n",
      "2018-03-19 14:48:46.689032 EDT | backtrack iters: 1\n",
      "2018-03-19 14:48:46.692150 EDT | computing loss after\n",
      "2018-03-19 14:48:46.694970 EDT | optimization finished\n",
      "2018-03-19 14:48:47.490071 EDT | Protag Reward: 1543.0176864932284\n",
      "2018-03-19 14:48:47.493301 EDT | itr #0 | \n"
     ]
    },
    {
     "name": "stderr",
     "output_type": "stream",
     "text": [
      "0% [##############################] 100% | ETA: 00:00:00\n",
      "Total time elapsed: 00:00:06\n"
     ]
    },
    {
     "name": "stdout",
     "output_type": "stream",
     "text": [
      "2018-03-19 14:48:54.672211 EDT | fitting baseline...\n",
      "2018-03-19 14:48:54.689629 EDT | fitted\n",
      "2018-03-19 14:48:55.063093 EDT | computing loss before\n",
      "2018-03-19 14:48:55.454817 EDT | performing update\n",
      "2018-03-19 14:48:55.457803 EDT | computing descent direction\n",
      "2018-03-19 14:49:01.940802 EDT | descent direction computed\n",
      "2018-03-19 14:49:02.600422 EDT | backtrack iters: 1\n",
      "2018-03-19 14:49:02.602151 EDT | computing loss after\n",
      "2018-03-19 14:49:02.604154 EDT | optimization finished\n",
      "2018-03-19 14:49:02.988208 EDT | Advers Reward: -1582.4595996130518\n",
      "2018-03-19 14:49:16.479936 EDT | \n",
      "\n",
      "Experiment: 0 Iteration: 233\n",
      "\n",
      "2018-03-19 14:49:16.480963 EDT | itr #0 | \n"
     ]
    },
    {
     "name": "stderr",
     "output_type": "stream",
     "text": [
      "0% [##############################] 100% | ETA: 00:00:00\n",
      "Total time elapsed: 00:00:08\n"
     ]
    },
    {
     "name": "stdout",
     "output_type": "stream",
     "text": [
      "2018-03-19 14:49:25.147243 EDT | fitting baseline...\n",
      "2018-03-19 14:49:25.172029 EDT | fitted\n",
      "2018-03-19 14:49:25.551332 EDT | computing loss before\n",
      "2018-03-19 14:49:25.727477 EDT | performing update\n",
      "2018-03-19 14:49:25.732697 EDT | computing descent direction\n",
      "2018-03-19 14:49:31.893348 EDT | descent direction computed\n",
      "2018-03-19 14:49:32.362970 EDT | backtrack iters: 1\n",
      "2018-03-19 14:49:32.364304 EDT | computing loss after\n",
      "2018-03-19 14:49:32.365516 EDT | optimization finished\n",
      "2018-03-19 14:49:32.792361 EDT | Protag Reward: 1498.1496427234526\n",
      "2018-03-19 14:49:32.793954 EDT | itr #0 | \n"
     ]
    },
    {
     "name": "stderr",
     "output_type": "stream",
     "text": [
      "0% [##############################] 100% | ETA: 00:00:00\n",
      "Total time elapsed: 00:00:07\n"
     ]
    },
    {
     "name": "stdout",
     "output_type": "stream",
     "text": [
      "2018-03-19 14:49:40.286342 EDT | fitting baseline...\n",
      "2018-03-19 14:49:40.305358 EDT | fitted\n",
      "2018-03-19 14:49:40.658900 EDT | computing loss before\n",
      "2018-03-19 14:49:40.821339 EDT | performing update\n",
      "2018-03-19 14:49:40.825629 EDT | computing descent direction\n",
      "2018-03-19 14:49:46.154439 EDT | descent direction computed\n",
      "2018-03-19 14:49:46.388804 EDT | backtrack iters: 0\n",
      "2018-03-19 14:49:46.395635 EDT | computing loss after\n",
      "2018-03-19 14:49:46.400030 EDT | optimization finished\n",
      "2018-03-19 14:49:46.804304 EDT | Advers Reward: -1420.6541609660499\n",
      "2018-03-19 14:50:07.831284 EDT | \n",
      "\n",
      "Experiment: 0 Iteration: 234\n",
      "\n",
      "2018-03-19 14:50:07.832622 EDT | itr #0 | \n"
     ]
    },
    {
     "name": "stderr",
     "output_type": "stream",
     "text": [
      "0% [##############################] 100% | ETA: 00:00:00\n",
      "Total time elapsed: 00:00:07\n"
     ]
    },
    {
     "name": "stdout",
     "output_type": "stream",
     "text": [
      "2018-03-19 14:50:15.452021 EDT | fitting baseline...\n",
      "2018-03-19 14:50:15.472945 EDT | fitted\n",
      "2018-03-19 14:50:15.918155 EDT | computing loss before\n",
      "2018-03-19 14:50:16.104349 EDT | performing update\n",
      "2018-03-19 14:50:16.109466 EDT | computing descent direction\n",
      "2018-03-19 14:50:21.957461 EDT | descent direction computed\n",
      "2018-03-19 14:50:22.310565 EDT | backtrack iters: 1\n",
      "2018-03-19 14:50:22.313518 EDT | computing loss after\n",
      "2018-03-19 14:50:22.316125 EDT | optimization finished\n",
      "2018-03-19 14:50:22.871147 EDT | Protag Reward: 1338.3689460204414\n",
      "2018-03-19 14:50:22.874848 EDT | itr #0 | \n"
     ]
    },
    {
     "name": "stderr",
     "output_type": "stream",
     "text": [
      "0% [##############################] 100% | ETA: 00:00:00Process ForkPoolWorker-49:\n",
      "  File \"/home/mihir/anaconda3/lib/python3.5/multiprocessing/pool.py\", line 44, in mapstar\n",
      "    return list(map(*args))\n",
      "Process ForkPoolWorker-48:\n",
      "Process ForkPoolWorker-50:\n",
      "Process ForkPoolWorker-47:\n",
      "Traceback (most recent call last):\n",
      "Traceback (most recent call last):\n",
      "Traceback (most recent call last):\n",
      "  File \"/home/mihir/anaconda3/lib/python3.5/multiprocessing/process.py\", line 249, in _bootstrap\n",
      "    self.run()\n",
      "Traceback (most recent call last):\n",
      "  File \"/home/mihir/anaconda3/lib/python3.5/multiprocessing/process.py\", line 249, in _bootstrap\n",
      "    self.run()\n",
      "  File \"/home/mihir/anaconda3/lib/python3.5/multiprocessing/process.py\", line 249, in _bootstrap\n",
      "    self.run()\n",
      "  File \"/home/mihir/anaconda3/lib/python3.5/multiprocessing/process.py\", line 93, in run\n",
      "    self._target(*self._args, **self._kwargs)\n",
      "  File \"/home/mihir/anaconda3/lib/python3.5/multiprocessing/pool.py\", line 108, in worker\n",
      "    task = get()\n",
      "  File \"/home/mihir/anaconda3/lib/python3.5/multiprocessing/process.py\", line 249, in _bootstrap\n",
      "    self.run()\n",
      "  File \"/home/mihir/anaconda3/lib/python3.5/multiprocessing/process.py\", line 93, in run\n",
      "    self._target(*self._args, **self._kwargs)\n",
      "  File \"/home/mihir/anaconda3/lib/python3.5/site-packages/joblib/pool.py\", line 360, in get\n",
      "    racquire()\n",
      "  File \"/home/mihir/anaconda3/lib/python3.5/multiprocessing/process.py\", line 93, in run\n",
      "    self._target(*self._args, **self._kwargs)\n",
      "  File \"/home/mihir/anaconda3/lib/python3.5/multiprocessing/process.py\", line 93, in run\n",
      "    self._target(*self._args, **self._kwargs)\n",
      "  File \"/home/mihir/anaconda3/lib/python3.5/multiprocessing/pool.py\", line 108, in worker\n",
      "    task = get()\n",
      "  File \"/home/mihir/anaconda3/lib/python3.5/site-packages/joblib/pool.py\", line 362, in get\n",
      "    return recv()\n",
      "  File \"/home/mihir/anaconda3/lib/python3.5/multiprocessing/pool.py\", line 119, in worker\n",
      "    result = (True, func(*args, **kwds))\n",
      "  File \"/home/mihir/anaconda3/lib/python3.5/multiprocessing/pool.py\", line 119, in worker\n",
      "    result = (True, func(*args, **kwds))\n",
      "KeyboardInterrupt\n",
      "  File \"/home/mihir/anaconda3/lib/python3.5/multiprocessing/connection.py\", line 250, in recv\n",
      "    buf = self._recv_bytes()\n",
      "  File \"/home/mihir/anaconda3/lib/python3.5/multiprocessing/pool.py\", line 44, in mapstar\n",
      "    return list(map(*args))\n",
      "  File \"/home/mihir/anaconda3/lib/python3.5/multiprocessing/connection.py\", line 407, in _recv_bytes\n",
      "    buf = self._recv(4)\n",
      "  File \"/home/mihir/anaconda3/lib/python3.5/multiprocessing/connection.py\", line 379, in _recv\n",
      "    chunk = read(handle, remaining)\n",
      "KeyboardInterrupt\n",
      "  File \"/home/mihir/Downloads/rllab/rllab/sampler/stateful_pool.py\", line 183, in _worker_run_collect\n",
      "    result, inc = collect_once(singleton_pool.G, *args)\n",
      "  File \"/home/mihir/Downloads/rllab/rllab/sampler/stateful_pool.py\", line 183, in _worker_run_collect\n",
      "    result, inc = collect_once(singleton_pool.G, *args)\n",
      "  File \"/home/mihir/Downloads/rllab/rllab/sampler/parallel_sampler.py\", line 113, in _worker_collect_one_path\n",
      "    path = rollout(G.env, G.pro_policy, max_path_length, adv_agent=G.adv_policy)\n",
      "  File \"/home/mihir/Downloads/rllab/rllab/sampler/parallel_sampler.py\", line 113, in _worker_collect_one_path\n",
      "    path = rollout(G.env, G.pro_policy, max_path_length, adv_agent=G.adv_policy)\n",
      "  File \"/home/mihir/Downloads/rllab/rllab/policies/gaussian_mlp_policy.py\", line 131, in get_action\n",
      "    mean, log_std = [x[0] for x in self._f_dist([flat_obs])]\n",
      "  File \"/home/mihir/Downloads/rllab/rllab/sampler/utils.py\", line 20, in rollout\n",
      "    pro_a, pro_agent_info = pro_agent.get_action(o)\n",
      "  File \"/home/mihir/Downloads/rllab/rllab/sampler/utils.py\", line 20, in rollout\n",
      "    pro_a, pro_agent_info = pro_agent.get_action(o)\n",
      "  File \"/home/mihir/Downloads/rllab/rllab/policies/gaussian_mlp_policy.py\", line 131, in get_action\n",
      "    mean, log_std = [x[0] for x in self._f_dist([flat_obs])]\n",
      "  File \"/home/mihir/anaconda3/lib/python3.5/site-packages/theano/compile/function_module.py\", line 940, in __call__\n",
      "    if getattr(self.fn, 'allow_gc', False):\n",
      "KeyboardInterrupt\n",
      "  File \"/home/mihir/anaconda3/lib/python3.5/site-packages/theano/compile/function_module.py\", line 794, in __call__\n",
      "    c.provided = 0\n",
      "KeyboardInterrupt\n",
      "\n",
      "Total time elapsed: 00:00:09\n"
     ]
    },
    {
     "ename": "KeyboardInterrupt",
     "evalue": "",
     "output_type": "error",
     "traceback": [
      "\u001b[0;31m---------------------------------------------------------------------------\u001b[0m",
      "\u001b[0;31mKeyboardInterrupt\u001b[0m                         Traceback (most recent call last)",
      "\u001b[0;32m<ipython-input-9-ab49c8f19722>\u001b[0m in \u001b[0;36m<module>\u001b[0;34m()\u001b[0m\n\u001b[1;32m    101\u001b[0m \u001b[0;34m\u001b[0m\u001b[0m\n\u001b[1;32m    102\u001b[0m         \u001b[0;31m## Train Adversary\u001b[0m\u001b[0;34m\u001b[0m\u001b[0;34m\u001b[0m\u001b[0m\n\u001b[0;32m--> 103\u001b[0;31m         \u001b[0madv_algo\u001b[0m\u001b[0;34m.\u001b[0m\u001b[0mtrain\u001b[0m\u001b[0;34m(\u001b[0m\u001b[0;34m)\u001b[0m\u001b[0;34m\u001b[0m\u001b[0m\n\u001b[0m\u001b[1;32m    104\u001b[0m         \u001b[0madv_rews\u001b[0m \u001b[0;34m+=\u001b[0m \u001b[0madv_algo\u001b[0m\u001b[0;34m.\u001b[0m\u001b[0mrews\u001b[0m\u001b[0;34m;\u001b[0m \u001b[0mall_rews\u001b[0m \u001b[0;34m+=\u001b[0m \u001b[0madv_algo\u001b[0m\u001b[0;34m.\u001b[0m\u001b[0mrews\u001b[0m\u001b[0;34m;\u001b[0m\u001b[0;34m\u001b[0m\u001b[0m\n\u001b[1;32m    105\u001b[0m         \u001b[0mlogger\u001b[0m\u001b[0;34m.\u001b[0m\u001b[0mlog\u001b[0m\u001b[0;34m(\u001b[0m\u001b[0;34m'Advers Reward: {}'\u001b[0m\u001b[0;34m.\u001b[0m\u001b[0mformat\u001b[0m\u001b[0;34m(\u001b[0m\u001b[0mnp\u001b[0m\u001b[0;34m.\u001b[0m\u001b[0marray\u001b[0m\u001b[0;34m(\u001b[0m\u001b[0madv_algo\u001b[0m\u001b[0;34m.\u001b[0m\u001b[0mrews\u001b[0m\u001b[0;34m)\u001b[0m\u001b[0;34m.\u001b[0m\u001b[0mmean\u001b[0m\u001b[0;34m(\u001b[0m\u001b[0;34m)\u001b[0m\u001b[0;34m)\u001b[0m\u001b[0;34m)\u001b[0m\u001b[0;34m\u001b[0m\u001b[0m\n",
      "\u001b[0;32m~/Downloads/rllab/rllab/algos/batch_polopt.py\u001b[0m in \u001b[0;36mtrain\u001b[0;34m(self)\u001b[0m\n\u001b[1;32m    136\u001b[0m             \u001b[0;32mwith\u001b[0m \u001b[0mlogger\u001b[0m\u001b[0;34m.\u001b[0m\u001b[0mprefix\u001b[0m\u001b[0;34m(\u001b[0m\u001b[0;34m''\u001b[0m\u001b[0;34m)\u001b[0m\u001b[0;34m:\u001b[0m\u001b[0;34m\u001b[0m\u001b[0m\n\u001b[1;32m    137\u001b[0m                 \u001b[0mlogger\u001b[0m\u001b[0;34m.\u001b[0m\u001b[0mlog\u001b[0m\u001b[0;34m(\u001b[0m\u001b[0;34m'itr #%d | '\u001b[0m \u001b[0;34m%\u001b[0m \u001b[0mitr\u001b[0m\u001b[0;34m)\u001b[0m\u001b[0;34m\u001b[0m\u001b[0m\n\u001b[0;32m--> 138\u001b[0;31m                 \u001b[0mall_paths\u001b[0m \u001b[0;34m=\u001b[0m \u001b[0mself\u001b[0m\u001b[0;34m.\u001b[0m\u001b[0msampler\u001b[0m\u001b[0;34m.\u001b[0m\u001b[0mobtain_samples\u001b[0m\u001b[0;34m(\u001b[0m\u001b[0mitr\u001b[0m\u001b[0;34m)\u001b[0m\u001b[0;34m\u001b[0m\u001b[0m\n\u001b[0m\u001b[1;32m    139\u001b[0m                 \u001b[0mpaths\u001b[0m \u001b[0;34m=\u001b[0m \u001b[0mself\u001b[0m\u001b[0;34m.\u001b[0m\u001b[0mget_agent_paths\u001b[0m\u001b[0;34m(\u001b[0m\u001b[0mall_paths\u001b[0m\u001b[0;34m,\u001b[0m \u001b[0mis_protagonist\u001b[0m\u001b[0;34m=\u001b[0m\u001b[0mself\u001b[0m\u001b[0;34m.\u001b[0m\u001b[0mis_protagonist\u001b[0m\u001b[0;34m)\u001b[0m\u001b[0;34m\u001b[0m\u001b[0m\n\u001b[1;32m    140\u001b[0m                 \u001b[0;31m#from IPython import embed; embed()\u001b[0m\u001b[0;34m\u001b[0m\u001b[0;34m\u001b[0m\u001b[0m\n",
      "\u001b[0;32m~/Downloads/rllab/rllab/algos/batch_polopt.py\u001b[0m in \u001b[0;36mobtain_samples\u001b[0;34m(self, itr)\u001b[0m\n\u001b[1;32m     29\u001b[0m             \u001b[0mmax_path_length\u001b[0m\u001b[0;34m=\u001b[0m\u001b[0mself\u001b[0m\u001b[0;34m.\u001b[0m\u001b[0malgo\u001b[0m\u001b[0;34m.\u001b[0m\u001b[0mmax_path_length\u001b[0m\u001b[0;34m,\u001b[0m\u001b[0;34m\u001b[0m\u001b[0m\n\u001b[1;32m     30\u001b[0m             \u001b[0mscope\u001b[0m\u001b[0;34m=\u001b[0m\u001b[0mself\u001b[0m\u001b[0;34m.\u001b[0m\u001b[0malgo\u001b[0m\u001b[0;34m.\u001b[0m\u001b[0mscope\u001b[0m\u001b[0;34m,\u001b[0m\u001b[0;34m\u001b[0m\u001b[0m\n\u001b[0;32m---> 31\u001b[0;31m             \u001b[0madv_policy_params\u001b[0m\u001b[0;34m=\u001b[0m\u001b[0mcur_adv_params\u001b[0m\u001b[0;34m\u001b[0m\u001b[0m\n\u001b[0m\u001b[1;32m     32\u001b[0m         )\n\u001b[1;32m     33\u001b[0m         \u001b[0;32mif\u001b[0m \u001b[0mself\u001b[0m\u001b[0;34m.\u001b[0m\u001b[0malgo\u001b[0m\u001b[0;34m.\u001b[0m\u001b[0mwhole_paths\u001b[0m\u001b[0;34m:\u001b[0m\u001b[0;34m\u001b[0m\u001b[0m\n",
      "\u001b[0;32m~/Downloads/rllab/rllab/sampler/parallel_sampler.py\u001b[0m in \u001b[0;36msample_paths\u001b[0;34m(pro_policy_params, max_samples, max_path_length, env_params, scope, adv_policy_params)\u001b[0m\n\u001b[1;32m    143\u001b[0m         \u001b[0mthreshold\u001b[0m\u001b[0;34m=\u001b[0m\u001b[0mmax_samples\u001b[0m\u001b[0;34m,\u001b[0m\u001b[0;34m\u001b[0m\u001b[0m\n\u001b[1;32m    144\u001b[0m         \u001b[0margs\u001b[0m\u001b[0;34m=\u001b[0m\u001b[0;34m(\u001b[0m\u001b[0mmax_path_length\u001b[0m\u001b[0;34m,\u001b[0m \u001b[0mscope\u001b[0m\u001b[0;34m)\u001b[0m\u001b[0;34m,\u001b[0m\u001b[0;34m\u001b[0m\u001b[0m\n\u001b[0;32m--> 145\u001b[0;31m         \u001b[0mshow_prog_bar\u001b[0m\u001b[0;34m=\u001b[0m\u001b[0;32mTrue\u001b[0m\u001b[0;34m\u001b[0m\u001b[0m\n\u001b[0m\u001b[1;32m    146\u001b[0m     )\n\u001b[1;32m    147\u001b[0m \u001b[0;34m\u001b[0m\u001b[0m\n",
      "\u001b[0;32m~/Downloads/rllab/rllab/sampler/stateful_pool.py\u001b[0m in \u001b[0;36mrun_collect\u001b[0;34m(self, collect_once, threshold, args, show_prog_bar)\u001b[0m\n\u001b[1;32m    141\u001b[0m                         \u001b[0mpbar\u001b[0m\u001b[0;34m.\u001b[0m\u001b[0minc\u001b[0m\u001b[0;34m(\u001b[0m\u001b[0mcounter\u001b[0m\u001b[0;34m.\u001b[0m\u001b[0mvalue\u001b[0m \u001b[0;34m-\u001b[0m \u001b[0mlast_value\u001b[0m\u001b[0;34m)\u001b[0m\u001b[0;34m\u001b[0m\u001b[0m\n\u001b[1;32m    142\u001b[0m                     \u001b[0mlast_value\u001b[0m \u001b[0;34m=\u001b[0m \u001b[0mcounter\u001b[0m\u001b[0;34m.\u001b[0m\u001b[0mvalue\u001b[0m\u001b[0;34m\u001b[0m\u001b[0m\n\u001b[0;32m--> 143\u001b[0;31m             \u001b[0;32mreturn\u001b[0m \u001b[0msum\u001b[0m\u001b[0;34m(\u001b[0m\u001b[0mresults\u001b[0m\u001b[0;34m.\u001b[0m\u001b[0mget\u001b[0m\u001b[0;34m(\u001b[0m\u001b[0;34m)\u001b[0m\u001b[0;34m,\u001b[0m \u001b[0;34m[\u001b[0m\u001b[0;34m]\u001b[0m\u001b[0;34m)\u001b[0m\u001b[0;34m\u001b[0m\u001b[0m\n\u001b[0m\u001b[1;32m    144\u001b[0m         \u001b[0;32melse\u001b[0m\u001b[0;34m:\u001b[0m\u001b[0;34m\u001b[0m\u001b[0m\n\u001b[1;32m    145\u001b[0m             \u001b[0mcount\u001b[0m \u001b[0;34m=\u001b[0m \u001b[0;36m0\u001b[0m\u001b[0;34m\u001b[0m\u001b[0m\n",
      "\u001b[0;32m~/anaconda3/lib/python3.5/multiprocessing/pool.py\u001b[0m in \u001b[0;36mget\u001b[0;34m(self, timeout)\u001b[0m\n\u001b[1;32m    600\u001b[0m \u001b[0;34m\u001b[0m\u001b[0m\n\u001b[1;32m    601\u001b[0m     \u001b[0;32mdef\u001b[0m \u001b[0mget\u001b[0m\u001b[0;34m(\u001b[0m\u001b[0mself\u001b[0m\u001b[0;34m,\u001b[0m \u001b[0mtimeout\u001b[0m\u001b[0;34m=\u001b[0m\u001b[0;32mNone\u001b[0m\u001b[0;34m)\u001b[0m\u001b[0;34m:\u001b[0m\u001b[0;34m\u001b[0m\u001b[0m\n\u001b[0;32m--> 602\u001b[0;31m         \u001b[0mself\u001b[0m\u001b[0;34m.\u001b[0m\u001b[0mwait\u001b[0m\u001b[0;34m(\u001b[0m\u001b[0mtimeout\u001b[0m\u001b[0;34m)\u001b[0m\u001b[0;34m\u001b[0m\u001b[0m\n\u001b[0m\u001b[1;32m    603\u001b[0m         \u001b[0;32mif\u001b[0m \u001b[0;32mnot\u001b[0m \u001b[0mself\u001b[0m\u001b[0;34m.\u001b[0m\u001b[0mready\u001b[0m\u001b[0;34m(\u001b[0m\u001b[0;34m)\u001b[0m\u001b[0;34m:\u001b[0m\u001b[0;34m\u001b[0m\u001b[0m\n\u001b[1;32m    604\u001b[0m             \u001b[0;32mraise\u001b[0m \u001b[0mTimeoutError\u001b[0m\u001b[0;34m\u001b[0m\u001b[0m\n",
      "\u001b[0;32m~/anaconda3/lib/python3.5/multiprocessing/pool.py\u001b[0m in \u001b[0;36mwait\u001b[0;34m(self, timeout)\u001b[0m\n\u001b[1;32m    597\u001b[0m \u001b[0;34m\u001b[0m\u001b[0m\n\u001b[1;32m    598\u001b[0m     \u001b[0;32mdef\u001b[0m \u001b[0mwait\u001b[0m\u001b[0;34m(\u001b[0m\u001b[0mself\u001b[0m\u001b[0;34m,\u001b[0m \u001b[0mtimeout\u001b[0m\u001b[0;34m=\u001b[0m\u001b[0;32mNone\u001b[0m\u001b[0;34m)\u001b[0m\u001b[0;34m:\u001b[0m\u001b[0;34m\u001b[0m\u001b[0m\n\u001b[0;32m--> 599\u001b[0;31m         \u001b[0mself\u001b[0m\u001b[0;34m.\u001b[0m\u001b[0m_event\u001b[0m\u001b[0;34m.\u001b[0m\u001b[0mwait\u001b[0m\u001b[0;34m(\u001b[0m\u001b[0mtimeout\u001b[0m\u001b[0;34m)\u001b[0m\u001b[0;34m\u001b[0m\u001b[0m\n\u001b[0m\u001b[1;32m    600\u001b[0m \u001b[0;34m\u001b[0m\u001b[0m\n\u001b[1;32m    601\u001b[0m     \u001b[0;32mdef\u001b[0m \u001b[0mget\u001b[0m\u001b[0;34m(\u001b[0m\u001b[0mself\u001b[0m\u001b[0;34m,\u001b[0m \u001b[0mtimeout\u001b[0m\u001b[0;34m=\u001b[0m\u001b[0;32mNone\u001b[0m\u001b[0;34m)\u001b[0m\u001b[0;34m:\u001b[0m\u001b[0;34m\u001b[0m\u001b[0m\n",
      "\u001b[0;32m~/anaconda3/lib/python3.5/threading.py\u001b[0m in \u001b[0;36mwait\u001b[0;34m(self, timeout)\u001b[0m\n\u001b[1;32m    547\u001b[0m             \u001b[0msignaled\u001b[0m \u001b[0;34m=\u001b[0m \u001b[0mself\u001b[0m\u001b[0;34m.\u001b[0m\u001b[0m_flag\u001b[0m\u001b[0;34m\u001b[0m\u001b[0m\n\u001b[1;32m    548\u001b[0m             \u001b[0;32mif\u001b[0m \u001b[0;32mnot\u001b[0m \u001b[0msignaled\u001b[0m\u001b[0;34m:\u001b[0m\u001b[0;34m\u001b[0m\u001b[0m\n\u001b[0;32m--> 549\u001b[0;31m                 \u001b[0msignaled\u001b[0m \u001b[0;34m=\u001b[0m \u001b[0mself\u001b[0m\u001b[0;34m.\u001b[0m\u001b[0m_cond\u001b[0m\u001b[0;34m.\u001b[0m\u001b[0mwait\u001b[0m\u001b[0;34m(\u001b[0m\u001b[0mtimeout\u001b[0m\u001b[0;34m)\u001b[0m\u001b[0;34m\u001b[0m\u001b[0m\n\u001b[0m\u001b[1;32m    550\u001b[0m             \u001b[0;32mreturn\u001b[0m \u001b[0msignaled\u001b[0m\u001b[0;34m\u001b[0m\u001b[0m\n\u001b[1;32m    551\u001b[0m \u001b[0;34m\u001b[0m\u001b[0m\n",
      "\u001b[0;32m~/anaconda3/lib/python3.5/threading.py\u001b[0m in \u001b[0;36mwait\u001b[0;34m(self, timeout)\u001b[0m\n\u001b[1;32m    291\u001b[0m         \u001b[0;32mtry\u001b[0m\u001b[0;34m:\u001b[0m    \u001b[0;31m# restore state no matter what (e.g., KeyboardInterrupt)\u001b[0m\u001b[0;34m\u001b[0m\u001b[0m\n\u001b[1;32m    292\u001b[0m             \u001b[0;32mif\u001b[0m \u001b[0mtimeout\u001b[0m \u001b[0;32mis\u001b[0m \u001b[0;32mNone\u001b[0m\u001b[0;34m:\u001b[0m\u001b[0;34m\u001b[0m\u001b[0m\n\u001b[0;32m--> 293\u001b[0;31m                 \u001b[0mwaiter\u001b[0m\u001b[0;34m.\u001b[0m\u001b[0macquire\u001b[0m\u001b[0;34m(\u001b[0m\u001b[0;34m)\u001b[0m\u001b[0;34m\u001b[0m\u001b[0m\n\u001b[0m\u001b[1;32m    294\u001b[0m                 \u001b[0mgotit\u001b[0m \u001b[0;34m=\u001b[0m \u001b[0;32mTrue\u001b[0m\u001b[0;34m\u001b[0m\u001b[0m\n\u001b[1;32m    295\u001b[0m             \u001b[0;32melse\u001b[0m\u001b[0;34m:\u001b[0m\u001b[0;34m\u001b[0m\u001b[0m\n",
      "\u001b[0;31mKeyboardInterrupt\u001b[0m: "
     ]
    }
   ],
   "source": [
    "## Initializing summaries for the tests ##\n",
    "const_test_rew_summary = []\n",
    "rand_test_rew_summary = []\n",
    "step_test_rew_summary = []\n",
    "rand_step_test_rew_summary = []\n",
    "adv_test_rew_summary = []\n",
    "\n",
    "## Preparing file to save results in ##\n",
    "save_prefix = 'env-{}_Exp{}_Itr{}_BS{}_Adv{}_stp{}_lam{}_{}'.format(env_name, n_exps, n_itr, batch_size, adv_fraction, step_size, gae_lambda, random.randint(0,1000000))\n",
    "save_name = save_dir+'/'+save_prefix\n",
    "\n",
    "## Looping over experiments to carry out ##\n",
    "for ne in range(n_exps):\n",
    "    ## Environment definition ##\n",
    "    ## The second argument in GymEnv defines the relative magnitude of adversary. For testing we set this to 1.0.\n",
    "    env = normalize(GymEnv(env_name, adv_fraction))\n",
    "    env_orig = normalize(GymEnv(env_name, 1.0))\n",
    "\n",
    "    ## Protagonist policy definition ##\n",
    "    pro_policy = GaussianMLPPolicy(\n",
    "        env_spec=env.spec,\n",
    "        hidden_sizes=layer_size,\n",
    "        is_protagonist=True\n",
    "    )\n",
    "    pro_baseline = LinearFeatureBaseline(env_spec=env.spec)\n",
    "\n",
    "    ## Zero Adversary for the protagonist training ##\n",
    "    zero_adv_policy = ConstantControlPolicy(\n",
    "        env_spec=env.spec,\n",
    "        is_protagonist=False,\n",
    "        constant_val = 0.0\n",
    "    )\n",
    "\n",
    "    ## Adversary policy definition ##\n",
    "    adv_policy = GaussianMLPPolicy(\n",
    "        env_spec=env.spec,\n",
    "        hidden_sizes=layer_size,\n",
    "        is_protagonist=False\n",
    "    )\n",
    "    adv_baseline = LinearFeatureBaseline(env_spec=env.spec)\n",
    "\n",
    "    ## Initializing the parallel sampler ##\n",
    "    parallel_sampler.initialize(n_process)\n",
    "\n",
    "    ## Optimizer for the Protagonist ##\n",
    "    pro_algo = TRPO(\n",
    "        env=env,\n",
    "        pro_policy=pro_policy,\n",
    "        adv_policy=adv_policy,\n",
    "        pro_baseline=pro_baseline,\n",
    "        adv_baseline=adv_baseline,\n",
    "        batch_size=batch_size,\n",
    "        max_path_length=path_length,\n",
    "        n_itr=n_pro_itr,\n",
    "        discount=0.995,\n",
    "        gae_lambda=gae_lambda,\n",
    "        step_size=step_size,\n",
    "        is_protagonist=True\n",
    "    )\n",
    "\n",
    "    ## Optimizer for the Adversary ##\n",
    "    adv_algo = TRPO(\n",
    "        env=env,\n",
    "        pro_policy=pro_policy,\n",
    "        adv_policy=adv_policy,\n",
    "        pro_baseline=pro_baseline,\n",
    "        adv_baseline=adv_baseline,\n",
    "        batch_size=batch_size,\n",
    "        max_path_length=path_length,\n",
    "        n_itr=n_adv_itr,\n",
    "        discount=0.995,\n",
    "        gae_lambda=gae_lambda,\n",
    "        step_size=step_size,\n",
    "        is_protagonist=False,\n",
    "        scope='adversary_optim'\n",
    "    )\n",
    "\n",
    "    ## Setting up summaries for testing for a specific training instance ##\n",
    "    pro_rews = []\n",
    "    adv_rews = []\n",
    "    all_rews = []\n",
    "    const_testing_rews = []\n",
    "    const_testing_rews.append(test_const_adv(env_orig, pro_policy, path_length=path_length))\n",
    "    rand_testing_rews = []\n",
    "    rand_testing_rews.append(test_rand_adv(env_orig, pro_policy, path_length=path_length))\n",
    "    step_testing_rews = []\n",
    "    step_testing_rews.append(test_step_adv(env_orig, pro_policy, path_length=path_length))\n",
    "    rand_step_testing_rews = []\n",
    "    rand_step_testing_rews.append(test_rand_step_adv(env_orig, pro_policy, path_length=path_length))\n",
    "    adv_testing_rews = []\n",
    "    adv_testing_rews.append(test_learnt_adv(env, pro_policy, adv_policy, path_length=path_length))\n",
    "\n",
    "    ## Beginning alternating optimization ##\n",
    "    for ni in range(n_itr):\n",
    "        logger.log('\\n\\nExperiment: {} Iteration: {}\\n'.format(ne,ni,))\n",
    "        \n",
    "        ## Train Protagonist\n",
    "        pro_algo.train()\n",
    "        pro_rews += pro_algo.rews; all_rews += pro_algo.rews;\n",
    "        logger.log('Protag Reward: {}'.format(np.array(pro_algo.rews).mean()))\n",
    "        \n",
    "        ## Train Adversary\n",
    "        adv_algo.train()\n",
    "        adv_rews += adv_algo.rews; all_rews += adv_algo.rews;\n",
    "        logger.log('Advers Reward: {}'.format(np.array(adv_algo.rews).mean()))\n",
    "        \n",
    "        ## Test the learnt policies\n",
    "        const_testing_rews.append(test_const_adv(env, pro_policy, path_length=path_length))\n",
    "        rand_testing_rews.append(test_rand_adv(env, pro_policy, path_length=path_length))\n",
    "        step_testing_rews.append(test_step_adv(env, pro_policy, path_length=path_length))\n",
    "        rand_step_testing_rews.append(test_rand_step_adv(env, pro_policy, path_length=path_length))\n",
    "        adv_testing_rews.append(test_learnt_adv(env, pro_policy, adv_policy, path_length=path_length))\n",
    "\n",
    "        if ni%afterRender==0 and ifRender==True:\n",
    "            test_const_adv(env, pro_policy, path_length=path_length, n_traj=1, render=True);\n",
    "\n",
    "        if ni!=0 and ni%save_every==0:\n",
    "            ## SAVING CHECKPOINT INFO ##\n",
    "            pickle.dump({'args': args,\n",
    "                         'pro_policy': pro_policy,\n",
    "                         'adv_policy': adv_policy,\n",
    "                         'zero_test': [const_testing_rews],\n",
    "                         'rand_test': [rand_testing_rews],\n",
    "                         'step_test': [step_testing_rews],\n",
    "                         'rand_step_test': [rand_step_testing_rews],\n",
    "                         'iter_save': ni,\n",
    "                         'exp_save': ne,\n",
    "                         'adv_test': [adv_testing_rews]}, open(save_name+'_'+str(ni)+'.p','wb'))\n",
    "\n",
    "    ## Shutting down the optimizer ##\n",
    "    pro_algo.shutdown_worker()\n",
    "    adv_algo.shutdown_worker()\n",
    "\n",
    "    ## Updating the test summaries over all training instances\n",
    "    const_test_rew_summary.append(const_testing_rews)\n",
    "    rand_test_rew_summary.append(rand_testing_rews)\n",
    "    step_test_rew_summary.append(step_testing_rews)\n",
    "    rand_step_test_rew_summary.append(rand_step_testing_rews)\n",
    "    adv_test_rew_summary.append(adv_testing_rews)"
   ]
  },
  {
   "cell_type": "markdown",
   "metadata": {},
   "source": [
    "### Save"
   ]
  },
  {
   "cell_type": "code",
   "execution_count": 7,
   "metadata": {
    "collapsed": true
   },
   "outputs": [],
   "source": [
    "## SAVING INFO ##\n",
    "with open(save_name+'.p','wb') as f:\n",
    "\tpickle.dump({'args': args,\n",
    "\t             'pro_policy': pro_policy,\n",
    "\t             'adv_policy': adv_policy,\n",
    "\t             'zero_test': const_test_rew_summary,\n",
    "\t             'rand_test': rand_test_rew_summary,\n",
    "\t             'step_test': step_test_rew_summary,\n",
    "\t             'rand_step_test': rand_step_test_rew_summary,\n",
    "\t             'adv_test': adv_test_rew_summary}, f)"
   ]
  }
 ],
 "metadata": {
  "kernelspec": {
   "display_name": "Python [default]",
   "language": "python",
   "name": "python3"
  },
  "language_info": {
   "codemirror_mode": {
    "name": "ipython",
    "version": 3
   },
   "file_extension": ".py",
   "mimetype": "text/x-python",
   "name": "python",
   "nbconvert_exporter": "python",
   "pygments_lexer": "ipython3",
   "version": "3.5.3"
  },
  "widgets": {
   "state": {},
   "version": "1.1.2"
  }
 },
 "nbformat": 4,
 "nbformat_minor": 2
}
