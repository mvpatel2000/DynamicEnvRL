{
 "cells": [
  {
   "cell_type": "code",
   "execution_count": 11,
   "metadata": {
    "collapsed": true
   },
   "outputs": [],
   "source": [
    "from rllab.algos.trpo import TRPO\n",
    "from rllab.baselines.linear_feature_baseline import LinearFeatureBaseline\n",
    "from rllab.envs.gym_env import GymEnv\n",
    "from rllab.envs.normalized_env import normalize\n",
    "from rllab.policies.gaussian_mlp_policy import GaussianMLPPolicy\n",
    "from rllab.policies.constant_control_policy import ConstantControlPolicy\n",
    "import rllab.misc.logger as logger\n",
    "from rllab.sampler import parallel_sampler\n",
    "from test import test_const_adv, test_rand_adv, test_learnt_adv, test_rand_step_adv, test_step_adv\n",
    "import numpy as np\n",
    "import matplotlib.pyplot as plt\n",
    "import matplotlib.patches as mpatches\n",
    "import os\n",
    "import gym\n",
    "import random\n",
    "import pickle\n",
    "import scipy\n",
    "import argparse"
   ]
  },
  {
   "cell_type": "code",
   "execution_count": 13,
   "metadata": {},
   "outputs": [
    {
     "name": "stdout",
     "output_type": "stream",
     "text": [
      "2018-04-08 18:24:21.073182 EDT | Warning: skipping Gym environment monitoring since snapshot_dir not configured.\n"
     ]
    },
    {
     "name": "stderr",
     "output_type": "stream",
     "text": [
      "[2018-04-08 18:24:21,074] Making new env: Walker2dAdv-v1\n"
     ]
    },
    {
     "name": "stdout",
     "output_type": "stream",
     "text": [
      "2018-04-08 18:24:21.424627 EDT | Warning: skipping Gym environment monitoring since snapshot_dir not configured.\n"
     ]
    },
    {
     "name": "stderr",
     "output_type": "stream",
     "text": [
      "[2018-04-08 18:24:21,425] Making new env: Walker2dAdv-v1\n"
     ]
    },
    {
     "data": {
      "text/plain": [
       "891.4665402261769"
      ]
     },
     "execution_count": 13,
     "metadata": {},
     "output_type": "execute_result"
    }
   ],
   "source": [
    "filepath = 'results/StaticSwimmer/static_swimmer.p'\n",
    "#filepath = 'results/StaticHopper/static_hopper.p'\n",
    "#filepath = 'results/StaticCheetah/static_cheetah.p'\n",
    "filepath = 'initial_results/Walker/env-Walker2dAdv-v1_Exp1_Itr500_BS25000_Adv0.25_stp0.01_lam0.97_414604.p'\n",
    "\n",
    "filtercheck = 0\n",
    "\n",
    "savename = filepath #filepath to results\n",
    "if_filtering = bool(filtercheck) #0 for no filtering. 1 for filtering\n",
    "\n",
    "res_D = pickle.load(open(savename,'rb'))\n",
    "args = res_D['args']\n",
    "pro_policy = res_D['pro_policy']\n",
    "adv_policy = res_D['adv_policy']\n",
    "const_test_rew_summary = res_D['zero_test']\n",
    "rand_test_rew_summary = res_D['rand_test']\n",
    "adv_test_rew_summary = res_D['adv_test']\n",
    "\n",
    "env_name = args[0]\n",
    "adv_fraction = args[12]\n",
    "env = normalize(GymEnv(env_name, 3.0))\n",
    "env_orig = normalize(GymEnv(env_name, 1.0))"
   ]
  },
  {
   "cell_type": "code",
   "execution_count": 7,
   "metadata": {},
   "outputs": [
    {
     "data": {
      "image/png": "[encoded data removed]",
      "text/plain": [
       "<matplotlib.figure.Figure at 0x7f85bc7825c0>"
      ]
     },
     "metadata": {},
     "output_type": "display_data"
    }
   ],
   "source": [
    "plot_tests = [const_test_rew_summary, rand_test_rew_summary, adv_test_rew_summary]\n",
    "plot_names = ['zero_test_rew_summary', 'rand_test_rew_summary', 'adv_test_rew_summary']\n",
    "plot_colors = [(0.5,0.1,0.1), (0.1,0.5,0.1), (0.1,0.1,0.5)]\n",
    "all_patches = []\n",
    "for i in range(len(plot_tests)):\n",
    "    con_rew = np.array(plot_tests[i])\n",
    "    mean_con = con_rew.mean(0)\n",
    "    std_con = con_rew.std(0)\n",
    "    if if_filtering==True:\n",
    "        mean_window_size = 15\n",
    "        mean_order = 3\n",
    "        std_window_size = 45\n",
    "        std_order = 2\n",
    "        mean_con = scipy.signal.savgol_filter(mean_con, mean_window_size, mean_order)\n",
    "        std_con = scipy.signal.savgol_filter(std_con, std_window_size, std_order)\n",
    "    x = [i for i in range(len(mean_con))]\n",
    "    plt.plot(x,mean_con,color=plot_colors[i], linewidth=2.0)\n",
    "    plt.fill_between(x, mean_con-std_con, mean_con+std_con,color=plot_colors[i], alpha=0.5)\n",
    "    all_patches.append(mpatches.Patch(color=plot_colors[i], label=plot_names[i]))\n",
    "\n",
    "plt.legend(handles=all_patches)\n",
    "axes = plt.gca()\n",
    "axes.set_ylim([-100,5500])\n",
    "plt.title(\"Cheetah Static\")\n",
    "plt.show()"
   ]
  },
  {
   "cell_type": "code",
   "execution_count": 9,
   "metadata": {},
   "outputs": [
    {
     "name": "stdout",
     "output_type": "stream",
     "text": [
      "1757.38808342\n",
      "1762.46409656\n",
      "1769.21363454\n"
     ]
    }
   ],
   "source": [
    "print(np.average(const_test_rew_summary[len(const_test_rew_summary)-1]))\n",
    "print(np.average(rand_test_rew_summary[len(const_test_rew_summary)-1]))\n",
    "print(np.average(adv_test_rew_summary[len(const_test_rew_summary)-1]))"
   ]
  },
  {
   "cell_type": "code",
   "execution_count": null,
   "metadata": {
    "collapsed": true
   },
   "outputs": [],
   "source": [
    "test_const_adv(env_orig, pro_policy, path_length=300, n_traj=1, render=True)"
   ]
  },
  {
   "cell_type": "code",
   "execution_count": 14,
   "metadata": {},
   "outputs": [
    {
     "data": {
      "text/plain": [
       "3697.1530181755179"
      ]
     },
     "execution_count": 14,
     "metadata": {},
     "output_type": "execute_result"
    }
   ],
   "source": [
    "test_learnt_adv(env, pro_policy, adv_policy, path_length=1000, n_traj=1, render=True)"
   ]
  }
 ],
 "metadata": {
  "anaconda-cloud": {},
  "kernelspec": {
   "display_name": "Python [default]",
   "language": "python",
   "name": "python3"
  },
  "language_info": {
   "codemirror_mode": {
    "name": "ipython",
    "version": 3
   },
   "file_extension": ".py",
   "mimetype": "text/x-python",
   "name": "python",
   "nbconvert_exporter": "python",
   "pygments_lexer": "ipython3",
   "version": "3.5.3"
  }
 },
 "nbformat": 4,
 "nbformat_minor": 2
}
